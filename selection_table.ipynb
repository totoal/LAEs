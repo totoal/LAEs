{
 "cells": [
  {
   "cell_type": "code",
   "execution_count": null,
   "metadata": {},
   "outputs": [],
   "source": [
    "import pickle\n",
    "import matplotlib.pyplot as plt\n",
    "import pandas as pd\n",
    "from my_functions import z_NB\n",
    "import numpy as np"
   ]
  },
  {
   "cell_type": "code",
   "execution_count": null,
   "metadata": {},
   "outputs": [],
   "source": [
    "with open('npy/selection.npy', 'rb') as f:\n",
    "    selection = pickle.load(f)\n",
    "selection.keys()"
   ]
  },
  {
   "cell_type": "code",
   "execution_count": null,
   "metadata": {},
   "outputs": [],
   "source": [
    "# Make DataFrame\n",
    "df = pd.DataFrame(data=selection)\n",
    "\n",
    "# Drop some columns\n",
    "for col in ['src', 'x_im', 'y_im']:\n",
    "    df = df.drop(col, axis=1)\n",
    "\n",
    "# Convert tile_id into tile names\n",
    "tile_dict = {\n",
    "    2241: 'AEGIS001',\n",
    "    2243: 'AEGIS002',\n",
    "    2406: 'AEGIS003',\n",
    "    2470: 'AEGIS004',\n",
    "    2520: 'J-NEP'\n",
    "}\n",
    "\n",
    "def tile_id_to_name(id):\n",
    "    return tile_dict[int(id)]\n",
    "\n",
    "def dec_to_sex(alpha):\n",
    "    alpha = alpha * 60 * 60\n",
    "    m, s = divmod(alpha, 60)\n",
    "    d, m = divmod(m, 60)\n",
    "    return f'{d:0.0f}º{m:0.0f}``{s:0.1f}\\''\n",
    "\n",
    "def redshift(nb):\n",
    "    return f'{z_NB(nb)[0]:0.2f}'\n",
    "\n",
    "def substitute_nans_zspec(what):\n",
    "    if np.isnan(what):\n",
    "        return '-'\n",
    "    else:\n",
    "        return f'{np.abs(what):0.2f}'\n",
    "\n",
    "def substitute_nans_spcl(what):\n",
    "    if what == 'nan':\n",
    "        return '-'\n",
    "    else:\n",
    "        return what\n",
    "\n",
    "df['tile_id'] = df['tile_id'].astype(int).apply(tile_id_to_name)\n",
    "df['RA'] = df['RA'].apply(dec_to_sex)\n",
    "df['DEC'] = df['DEC'].apply(dec_to_sex)\n",
    "df['nb_sel'] = df['nb_sel'].apply(redshift)\n",
    "df['SDSS_spCl'] = df['SDSS_spCl'].astype(str).apply(substitute_nans_spcl)\n",
    "df['SDSS_zspec'] = df['SDSS_zspec'].apply(substitute_nans_zspec)\n",
    "\n",
    "ew_np = df['EW_lya'].to_numpy()\n",
    "ew_err_np = df['EW_lya_err'].to_numpy()\n",
    "ew_str = np.zeros(ew_np.shape).astype(str)\n",
    "for i, (ew, err) in enumerate(zip(ew_np, ew_err_np)):\n",
    "    ew_str[i] = f'{ew:0.0f}$\\pm${err:0.0f}'\n",
    "df['EW_lya'] = ew_str\n",
    "df = df.drop('EW_lya_err', axis=1)\n",
    "\n",
    "L_np = df['L_lya'].to_numpy()\n",
    "L_err_np = df['L_lya_err'].to_numpy()\n",
    "L_str = np.zeros(L_np.shape).astype(str)\n",
    "for i, (L, err) in enumerate(zip(L_np, L_err_np)):\n",
    "    L_str[i] = f'{L:0.2f}$\\pm${err:0.2f}'\n",
    "df['L_lya'] = L_str\n",
    "df = df.drop('L_lya_err', axis=1)\n",
    "\n",
    "# Sort by tile_id\n",
    "df = df.sort_values('tile_id')\n",
    "df.head()"
   ]
  },
  {
   "cell_type": "code",
   "execution_count": null,
   "metadata": {},
   "outputs": [],
   "source": [
    "df.to_csv('csv/selection_table.csv')"
   ]
  }
 ],
 "metadata": {
  "kernelspec": {
   "display_name": "Python 3.9.12 ('base')",
   "language": "python",
   "name": "python3"
  },
  "language_info": {
   "codemirror_mode": {
    "name": "ipython",
    "version": 3
   },
   "file_extension": ".py",
   "mimetype": "text/x-python",
   "name": "python",
   "nbconvert_exporter": "python",
   "pygments_lexer": "ipython3",
   "version": "3.9.12"
  },
  "orig_nbformat": 4,
  "vscode": {
   "interpreter": {
    "hash": "ade4bca3e0042e0da78fecdb82351169c0f2ccedb06a0d7cf7342df8f7e47af7"
   }
  }
 },
 "nbformat": 4,
 "nbformat_minor": 2
}
