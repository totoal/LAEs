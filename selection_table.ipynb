{
 "cells": [
  {
   "cell_type": "code",
   "execution_count": null,
   "metadata": {},
   "outputs": [],
   "source": [
    "import pickle\n",
    "import matplotlib.pyplot as plt\n",
    "import pandas as pd\n",
    "from my_functions import z_NB\n",
    "import numpy as np"
   ]
  },
  {
   "cell_type": "code",
   "execution_count": null,
   "metadata": {},
   "outputs": [],
   "source": [
    "with open('npy/selection.npy', 'rb') as f:\n",
    "    selection = pickle.load(f)\n",
    "selection.keys()"
   ]
  },
  {
   "cell_type": "code",
   "execution_count": null,
   "metadata": {},
   "outputs": [],
   "source": [
    "selection['puri'].shape"
   ]
  },
  {
   "cell_type": "code",
   "execution_count": null,
   "metadata": {},
   "outputs": [],
   "source": [
    "# Make DataFrame\n",
    "df = pd.DataFrame(data=selection)\n",
    "\n",
    "# Drop some columns\n",
    "for col in ['src', 'x_im', 'y_im']:\n",
    "    df = df.drop(col, axis=1)\n",
    "\n",
    "# Convert tile_id into tile names\n",
    "tile_dict = {\n",
    "    2241: 'AEGIS001',\n",
    "    2243: 'AEGIS002',\n",
    "    2406: 'AEGIS003',\n",
    "    2470: 'AEGIS004',\n",
    "    2520: 'J-NEP'\n",
    "}\n",
    "\n",
    "def tile_id_to_name(id):\n",
    "    return tile_dict[int(id)]\n",
    "\n",
    "def dec_to_sex(alpha):\n",
    "    alpha = alpha * 60 * 60\n",
    "    m, s = divmod(alpha, 60)\n",
    "    d, m = divmod(m, 60)\n",
    "    return f'{d:0.0f}º{m:0.0f}``{s:0.1f}\\''\n",
    "\n",
    "def redshift(nb):\n",
    "    return f'{z_NB(nb)[0]:0.2f}'\n",
    "\n",
    "def substitute_nans_zspec(what):\n",
    "    if np.isnan(what):\n",
    "        return '-'\n",
    "    else:\n",
    "        return f'{np.abs(what):0.2f}'\n",
    "\n",
    "def substitute_nans_spcl(what):\n",
    "    if what == 'nan':\n",
    "        return '-'\n",
    "    else:\n",
    "        return what\n",
    "\n",
    "def format_puri(p):\n",
    "    return f'{p:0.2f}'\n",
    "\n",
    "df['tile_id'] = df['tile_id'].astype(int).apply(tile_id_to_name)\n",
    "df['RA'] = df['RA'].apply(dec_to_sex)\n",
    "df['DEC'] = df['DEC'].apply(dec_to_sex)\n",
    "df['nb_sel'] = df['nb_sel'].apply(redshift)\n",
    "df['SDSS_spCl'] = df['SDSS_spCl'].astype(str).apply(substitute_nans_spcl)\n",
    "df['SDSS_zspec'] = df['SDSS_zspec'].apply(substitute_nans_zspec)\n",
    "df['puri'] = df['puri'].apply(format_puri)\n",
    "\n",
    "ew_np = df['EW_lya'].to_numpy()\n",
    "ew_err_np = df['EW_lya_err'].to_numpy()\n",
    "ew_str = np.zeros(ew_np.shape).astype(str)\n",
    "for i, (ew, err) in enumerate(zip(ew_np, ew_err_np)):\n",
    "    ew_str[i] = f'{ew:0.0f}$\\pm${err:0.0f}'\n",
    "df['EW_lya'] = ew_str\n",
    "df = df.drop('EW_lya_err', axis=1)\n",
    "\n",
    "L_np = df['L_lya'].to_numpy()\n",
    "L_err_np = df['L_lya_err'].to_numpy()\n",
    "L_str = np.zeros(L_np.shape).astype(str)\n",
    "for i, (L, err) in enumerate(zip(L_np, L_err_np)):\n",
    "    L_str[i] = f'{L:0.2f}$\\pm${err:0.2f}'\n",
    "df['L_lya'] = L_str\n",
    "df = df.drop('L_lya_err', axis=1)\n",
    "\n",
    "mag = df['r']\n",
    "df = df.drop('r', axis=1)\n",
    "\n",
    "# Sort by tile_id\n",
    "df = df.sort_values(['tile_id', 'L_lya'])\n",
    "df.head()"
   ]
  },
  {
   "cell_type": "code",
   "execution_count": null,
   "metadata": {},
   "outputs": [],
   "source": [
    "df.to_csv('csv/selection_table.csv')"
   ]
  },
  {
   "cell_type": "code",
   "execution_count": null,
   "metadata": {},
   "outputs": [],
   "source": [
    "L_lya = np.array([L_text[:5] for L_text in df['L_lya']]).astype(float)\n",
    "zspec = np.array([0 if item == '-' else float(item) for item in df['SDSS_zspec']])\n",
    "z_Arr = df['nb_sel'].to_numpy().astype(float)\n",
    "EW_Arr = ew_np\n",
    "puri = df['puri'].to_numpy().astype(float)\n",
    "df.keys()"
   ]
  },
  {
   "cell_type": "code",
   "execution_count": null,
   "metadata": {},
   "outputs": [],
   "source": [
    "xmsdss = pd.read_csv('csv/xmatch_sdss_dr12.csv', sep=',', header=1)\n",
    "zph = xmsdss['zph'].to_numpy()\n",
    "e_zph = xmsdss['e_zph'].to_numpy()\n",
    "xmsdss"
   ]
  },
  {
   "cell_type": "code",
   "execution_count": null,
   "metadata": {},
   "outputs": [],
   "source": [
    "from my_functions import count_true\n",
    "sdss_mask = (df['SDSS_spCl'] != '-') \n",
    "puri_mask = (puri > 0)\n",
    "L_mask = (L_lya > 44)\n",
    "cont_mask = sdss_mask & L_mask & puri_mask & (np.abs(zspec - z_Arr) > 0.3)\n",
    "conf_mask = sdss_mask & L_mask & puri_mask & ~(np.abs(zspec - z_Arr) > 0.3)\n",
    "N_cont = count_true(cont_mask)\n",
    "N_confirmed = count_true(conf_mask)\n",
    "\n",
    "perc = N_confirmed / (N_confirmed + N_cont)\n",
    "perc_e = ((N_confirmed + N_cont)**-4 * (N_cont**2 * N_confirmed + N_confirmed**2 * N_cont))**0.5\n",
    "print(f'Confirmed sources: {N_confirmed} / {(N_confirmed + N_cont)} ; p = {perc:0.2f}({perc_e:0.2f})')\n",
    "\n",
    "avgpuri_total = np.mean(puri[L_mask])\n",
    "avgpuri_sdss = np.mean(puri[sdss_mask & L_mask])\n",
    "print(f'Average Total purity = {avgpuri_total:0.3f}')\n",
    "print(f'Average SDSS purity = {avgpuri_sdss:0.3f}')"
   ]
  },
  {
   "cell_type": "code",
   "execution_count": null,
   "metadata": {},
   "outputs": [],
   "source": [
    "fig, ax = plt.subplots(figsize=(7, 6))\n",
    "\n",
    "ax.scatter(mag[conf_mask], L_lya[conf_mask], color='green')\n",
    "ax.scatter(mag[cont_mask], L_lya[cont_mask], color='red')\n",
    "\n",
    "# ax.set_yscale('log')\n",
    "# ax.set_ylim(0, 200)\n",
    "ax.set_xlabel('r')\n",
    "ax.set_ylabel('L_lya')\n",
    "\n",
    "plt.show()"
   ]
  },
  {
   "cell_type": "code",
   "execution_count": null,
   "metadata": {},
   "outputs": [],
   "source": [
    "def do_this():\n",
    "        fig, ax = plt.subplots(figsize=(6, 3.5))\n",
    "\n",
    "        bins = np.linspace(1, 4, 15 + 1)\n",
    "        bins_c = [bins[i: i + 2].sum() * 0.5 for i in range(len(bins) - 1)]\n",
    "        bins_sep = bins_c[1] - bins_c[0]\n",
    "        EW_mock_good_h = np.load(f'npy/Expected_EW_hist.npy')\n",
    "        EW_mock_cont_h = np.load(f'npy/Cont_EW_hist.npy')\n",
    "\n",
    "        EW_this_h = np.histogram(np.log10(EW_Arr), bins=bins)[0] / count_true(EW_Arr)\n",
    "\n",
    "        ax.plot(bins_c + bins_sep * 0.5, EW_this_h, drawstyle='steps', color='dimgray',\n",
    "                zorder=99, label='miniJPAS + J-NEP')\n",
    "\n",
    "        ax.plot(bins_c, EW_mock_good_h + EW_mock_cont_h, color='orange', ls='--',\n",
    "                label='Mock (full selection)')\n",
    "        ax.plot(bins_c, EW_mock_good_h, color='red', ls=':', label='Mock (only LAEs)')\n",
    "\n",
    "        ax.set_ylabel('Fraction of sources', fontsize=12)\n",
    "        ax.set_xlabel(r'log EW$_0^{\\mathrm{Ly}\\alpha}$ ($\\AA$)', fontsize=12)\n",
    "\n",
    "        ax.legend(fontsize=12)\n",
    "\n",
    "        fig.savefig(f'figures/EW_hist.pdf', bbox_inches='tight',\n",
    "                facecolor='w', edgecolor='w')\n",
    "        plt.show()\n",
    "\n",
    "do_this()"
   ]
  }
 ],
 "metadata": {
  "kernelspec": {
   "display_name": "Python 3.9.12 ('base')",
   "language": "python",
   "name": "python3"
  },
  "language_info": {
   "codemirror_mode": {
    "name": "ipython",
    "version": 3
   },
   "file_extension": ".py",
   "mimetype": "text/x-python",
   "name": "python",
   "nbconvert_exporter": "python",
   "pygments_lexer": "ipython3",
   "version": "3.9.12"
  },
  "orig_nbformat": 4,
  "vscode": {
   "interpreter": {
    "hash": "ade4bca3e0042e0da78fecdb82351169c0f2ccedb06a0d7cf7342df8f7e47af7"
   }
  }
 },
 "nbformat": 4,
 "nbformat_minor": 2
}
