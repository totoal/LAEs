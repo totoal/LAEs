{
 "cells": [
  {
   "cell_type": "code",
   "execution_count": null,
   "metadata": {},
   "outputs": [],
   "source": [
    "import numpy as np\n",
    "import matplotlib.pyplot as plt\n",
    "import pandas as pd\n",
    "\n",
    "from my_functions import *\n",
    "\n",
    "from scipy.optimize import curve_fit\n",
    "from scipy.integrate import simpson"
   ]
  },
  {
   "cell_type": "code",
   "execution_count": null,
   "metadata": {},
   "outputs": [],
   "source": [
    "w_central = central_wavelength()\n",
    "nb_fwhm_Arr = nb_fwhm(range(60))"
   ]
  },
  {
   "cell_type": "code",
   "execution_count": null,
   "metadata": {},
   "outputs": [],
   "source": [
    "## Load QSO catalog\n",
    "filename = ('/home/alberto/cosmos/JPAS_mocks_sep2021/'\n",
    "    'JPAS_mocks_classification_01sep_model11/Fluxes/Qso_jpas_mock_flam_train.cat')\n",
    "\n",
    "my_filter_order = np.arange(60)\n",
    "my_filter_order[[-4, -3, -2, -1]] = np.array([1, 12, 28, 43])\n",
    "my_filter_order[1:-4] += 1\n",
    "my_filter_order[12:-4] += 1\n",
    "my_filter_order[28:-4] += 1\n",
    "my_filter_order[43:-4] += 1\n",
    "\n",
    "pm_flx = pd.read_csv(\n",
    "    filename, sep=' ', usecols=range(2, 2 + 60)\n",
    ").to_numpy().T[my_filter_order]\n",
    "pm_err = pd.read_csv(\n",
    "    filename, sep=' ', usecols=range(2 + 60, 2 + 60 + 60)\n",
    ").to_numpy().T[my_filter_order]\n",
    "zspec = pd.read_csv(filename, sep=' ', usecols=[127]).to_numpy().reshape(-1, )\n",
    "\n",
    "# Apply errors\n",
    "np.random.seed(22)\n",
    "pm_flx += pm_err * np.random.normal(size=pm_err.shape)\n",
    "\n",
    "plate = pd.read_csv(filename, sep=' ', usecols=[122]).to_numpy().reshape(-1, )\n",
    "mjd = pd.read_csv(filename, sep=' ', usecols=[123]).to_numpy().reshape(-1, )\n",
    "fiber = pd.read_csv(filename, sep=' ', usecols=[124]).to_numpy().reshape(-1, )"
   ]
  },
  {
   "cell_type": "code",
   "execution_count": null,
   "metadata": {},
   "outputs": [],
   "source": [
    "Lya_fts = pd.read_csv('csv/Lya_fts.csv')\n",
    "EW_lya = np.abs(Lya_fts.LyaEW)\n",
    "w_lya = 1215.67 # A\n",
    "N_sources = pm_flx.shape[1]\n",
    "mag = flux_to_mag(pm_flx, w_central.reshape(-1, 1))\n",
    "mag[np.isnan(mag)] = 99.\n",
    "zspec_dist = cosmo.luminosity_distance(zspec).to(u.cm).value\n",
    "L = EW_lya * Lya_fts.LyaCont * 1e-17 * 4*np.pi * zspec_dist**2\n",
    "L = np.log10(L)\n",
    "L[np.isnan(L)] = -99"
   ]
  },
  {
   "cell_type": "code",
   "execution_count": null,
   "metadata": {},
   "outputs": [],
   "source": [
    "ew0min = 30\n",
    "ewobsmin = 100\n",
    "\n",
    "# Lya search\n",
    "cont_est_lya, cont_err_lya = estimate_continuum(pm_flx, pm_err)\n",
    "line = is_there_line(pm_flx, pm_err, cont_est_lya, cont_err_lya, ew0min)\n",
    "lya_lines, lya_cont_lines = identify_lines(line, pm_flx, pm_err, first=True)\n",
    "\n",
    "# Other lines\n",
    "cont_est_other, cont_err_other = estimate_continuum(pm_flx, pm_err, IGM_T_correct=False)\n",
    "line_other = is_there_line(\n",
    "    pm_flx, pm_err, cont_est_other, cont_err_other, ewobsmin, obs=True\n",
    ")\n",
    "other_lines = identify_lines(line_other, pm_flx, pm_err)\n",
    "\n",
    "line_zero = is_there_line(\n",
    "    pm_flx, pm_err, cont_est_other, cont_err_other, 0, obs=True\n",
    ")"
   ]
  },
  {
   "cell_type": "code",
   "execution_count": null,
   "metadata": {},
   "outputs": [],
   "source": [
    "z_Arr = np.zeros(N_sources)\n",
    "z_Arr[np.where(np.array(lya_lines) != -1)] =\\\n",
    "    z_NB(np.array(lya_cont_lines)[np.where(np.array(lya_lines) != -1)])\n",
    "nice_lya = nice_lya_select(lya_lines, other_lines, pm_flx, cont_est_other, z_Arr)"
   ]
  },
  {
   "cell_type": "code",
   "execution_count": null,
   "metadata": {},
   "outputs": [],
   "source": [
    "np.random.seed(22)\n",
    "selection = np.random.choice(np.where(nice_lya & (zspec > 2.5) & (mag[-2] < 22))[0], 15)\n",
    "for src in selection:\n",
    "    fig = plt.figure(figsize=(8, 6))\n",
    "    ax = plot_JPAS_source(pm_flx[:, src], pm_err[:, src])\n",
    "\n",
    "    ax.set_title('src{}'.format(src), fontsize=15)\n",
    "\n",
    "    plt.show()\n",
    "\n",
    "    print(plate[src], mjd[src], fiber[src])\n",
    "    print('z_spec = {}'.format(zspec[src]))\n",
    "    print('z_nb = {}'.format(z_Arr[src]))\n",
    "    print('Lya EW0 = {}'.format(EW_lya[src]))\n",
    "    print(src)"
   ]
  },
  {
   "cell_type": "code",
   "execution_count": null,
   "metadata": {},
   "outputs": [],
   "source": [
    "# GAUSSIAN curve\n",
    "def gauss(x, a, x0, sigma):\n",
    "    return a*np.exp(-(x-x0)**2/(2*sigma**2))"
   ]
  },
  {
   "cell_type": "code",
   "execution_count": null,
   "metadata": {},
   "outputs": [],
   "source": [
    "tcurves = load_tcurves(load_filter_tags())"
   ]
  },
  {
   "cell_type": "code",
   "execution_count": null,
   "metadata": {},
   "outputs": [],
   "source": [
    "for src in selection[:5]:\n",
    "    line_start = np.where(line_zero[:, src])[0][0]\n",
    "## TODO: START LOOKING AT LINES IN line_zero AT LYA POSITION\n",
    "    idx = line_start + 1\n",
    "    line_stop = line_start\n",
    "    while True:\n",
    "        if line[idx, src]:\n",
    "            line_stop = idx\n",
    "        else: break\n",
    "        idx += 1 ; continue\n",
    "    line_stop += 1 # So that the last index is included in everything\n",
    "\n",
    "    nb_fit_range = slice(line_start, line_stop)\n",
    "\n",
    "    s = (\n",
    "        w_central[line_stop]\n",
    "        - (w_central[line_start])\n",
    "    ) * 0.5\n",
    "\n",
    "    mu = (w_central[line_start] + w_central[line_stop]) / 2\n",
    "\n",
    "    popt = ((2 * np.pi) ** -0.5 * s ** -1, mu, s)\n",
    "\n",
    "    t_res = 10000 # Resolution for the t curve\n",
    "    x_t = np.linspace(w_central[line_start], w_central[line_stop], t_res)\n",
    "    composed_t = np.zeros(t_res)\n",
    "\n",
    "    t_Arr = []\n",
    "    for i in range(line_start, line_stop):\n",
    "        t_Arr.append(np.interp(x_t, tcurves['w'][i], tcurves['t'][i]))\n",
    "        composed_t += t_Arr[-1]\n",
    "    t_Arr = np.array(t_Arr)\n",
    "\n",
    "    lya_l = lya_lines[src]\n",
    "    # Compute the area under the gaussian covolved with the filter T\n",
    "    cvlvd_curve = gauss(x_t - cont_est_other[lya_l, src], *popt) * composed_t\n",
    "    cvlvd_area = simpson(cvlvd_curve, x_t)\n",
    "\n",
    "    nb_area = simpson(np.sum(t_Arr * pm_flx[nb_fit_range, src].reshape(-1,1), axis=0), x_t)\n",
    "\n",
    "    correct_factor = nb_area / cvlvd_area\n",
    "\n",
    "    fig = plt.figure(figsize=(10, 4))\n",
    "    ax = plot_JPAS_source(pm_flx[:, src], pm_err[:, src])\n",
    "\n",
    "    w_x = w_central[line_start - 2 : line_stop + 2]\n",
    "    ax.plot(w_x, gauss(w_x, *popt) * correct_factor, linestyle='--', linewidth=3, c='black')\n",
    "\n",
    "    plt.savefig('output/gauss_fit-src' + str(src) + '.pdf', bbox_inches='tight', dpi=600)\n",
    "    plt.show()"
   ]
  },
  {
   "cell_type": "code",
   "execution_count": null,
   "metadata": {},
   "outputs": [],
   "source": [
    "from astropy.table import Table"
   ]
  },
  {
   "cell_type": "code",
   "execution_count": null,
   "metadata": {},
   "outputs": [],
   "source": [
    "spec = Table.read('../SDSS_Spectra/spec-4806-55688-0888.fits')"
   ]
  },
  {
   "cell_type": "code",
   "execution_count": null,
   "metadata": {},
   "outputs": [],
   "source": [
    "fig = plt.figure(figsize=(10, 4))\n",
    "ax = plot_JPAS_source(pm_flx[:, src], pm_err[:, src])\n",
    "\n",
    "ax.plot(10 ** spec['loglam'], spec['flux'] * 1e-17, c='black', alpha=0.4, zorder=-99)\n",
    "ax.plot(10 ** spec['loglam'], spec['model'] * 1e-17, c='red', zorder=-100)\n",
    "\n",
    "w_x = w_central[line_start - 2 : line_stop + 2]\n",
    "ax.plot(w_x, gauss(w_x, *popt) * correct_factor, linestyle='--', linewidth=3, c='black')\n",
    "\n",
    "plt.savefig('output/gauss_fit-src' + str(src) + 's.pdf', bbox_inches='tight', dpi=600)\n",
    "plt.show()"
   ]
  }
 ],
 "metadata": {
  "interpreter": {
   "hash": "46cea94afe1f0d88e229837b28e72c2401fa9cb21844b20e15824a5f97d32088"
  },
  "kernelspec": {
   "display_name": "Python 3.9.7 64-bit ('py39': conda)",
   "language": "python",
   "name": "python3"
  },
  "language_info": {
   "codemirror_mode": {
    "name": "ipython",
    "version": 3
   },
   "file_extension": ".py",
   "mimetype": "text/x-python",
   "name": "python",
   "nbconvert_exporter": "python",
   "pygments_lexer": "ipython3",
   "version": "3.9.7"
  },
  "orig_nbformat": 4
 },
 "nbformat": 4,
 "nbformat_minor": 2
}
