{
 "cells": [
  {
   "cell_type": "markdown",
   "metadata": {
    "pycharm": {
     "name": "#%% md\n"
    }
   },
   "source": [
    "Preparation of catalogue `minijpas_cat_v1_HODsel_z0.1z0.4_imag21.csv` for use with correlation function code, including the generation (and preparation) of the associated random catalogue.\n",
    "\n",
    "We follow the scheme of `alh_preparecats_ccdregs.py`, adapted to the new regions, radial selection, etc. done for miniJPAS."
   ]
  },
  {
   "cell_type": "code",
   "execution_count": 1,
   "metadata": {
    "ExecuteTime": {
     "end_time": "2022-11-30T23:24:55.236526Z",
     "start_time": "2022-11-30T23:24:54.797855Z"
    },
    "pycharm": {
     "name": "#%%\n"
    }
   },
   "outputs": [],
   "source": [
    "%matplotlib inline"
   ]
  },
  {
   "cell_type": "code",
   "execution_count": 2,
   "metadata": {
    "ExecuteTime": {
     "end_time": "2022-11-30T23:24:55.788417Z",
     "start_time": "2022-11-30T23:24:55.238013Z"
    },
    "pycharm": {
     "name": "#%%\n"
    }
   },
   "outputs": [],
   "source": [
    "import matplotlib.pyplot as plt\n",
    "import pandas as pd\n",
    "import numpy as np\n",
    "import astropy.coordinates as coord\n",
    "import astropy.cosmology as asc\n",
    "import pymangle\n",
    "import dill"
   ]
  },
  {
   "cell_type": "code",
   "execution_count": 3,
   "metadata": {
    "ExecuteTime": {
     "end_time": "2022-11-30T23:24:55.792488Z",
     "start_time": "2022-11-30T23:24:55.790128Z"
    },
    "pycharm": {
     "name": "#%%\n"
    }
   },
   "outputs": [],
   "source": [
    "DEG2RAD = np.pi/180.\n",
    "RAD2DEG = 180./np.pi"
   ]
  },
  {
   "cell_type": "code",
   "execution_count": 4,
   "metadata": {
    "ExecuteTime": {
     "end_time": "2022-11-30T23:24:55.797737Z",
     "start_time": "2022-11-30T23:24:55.794528Z"
    },
    "pycharm": {
     "name": "#%%\n"
    }
   },
   "outputs": [],
   "source": [
    "plt.style.use('seaborn-talk')"
   ]
  },
  {
   "cell_type": "markdown",
   "metadata": {
    "pycharm": {
     "name": "#%% md\n"
    }
   },
   "source": [
    "## Define parameters"
   ]
  },
  {
   "cell_type": "markdown",
   "metadata": {
    "pycharm": {
     "name": "#%% md\n"
    }
   },
   "source": [
    "### $N_{rand}$ and output files"
   ]
  },
  {
   "cell_type": "code",
   "execution_count": 5,
   "metadata": {
    "ExecuteTime": {
     "end_time": "2022-11-30T23:24:55.802552Z",
     "start_time": "2022-11-30T23:24:55.799085Z"
    },
    "pycharm": {
     "name": "#%%\n"
    }
   },
   "outputs": [],
   "source": [
    "NRANDREL = 100\n",
    "out_data_name = \"data_v1_HODsel_z0.1z0.4_imag21\"\n",
    "out_rand_name = \"rand100_v1_HODsel_z0.1z0.4_imag21\"\n",
    "cat_suffix = \".xyz\"\n",
    "np_suffix = \".ngals\""
   ]
  },
  {
   "cell_type": "markdown",
   "metadata": {
    "pycharm": {
     "name": "#%% md\n"
    }
   },
   "source": [
    "### Input data"
   ]
  },
  {
   "cell_type": "code",
   "execution_count": 6,
   "metadata": {
    "ExecuteTime": {
     "end_time": "2022-11-30T23:24:55.806023Z",
     "start_time": "2022-11-30T23:24:55.803684Z"
    },
    "pycharm": {
     "name": "#%%\n"
    }
   },
   "outputs": [],
   "source": [
    "indatafile = \"../data/minijpas_cat_v1_HODsel_z0.1z0.4_imag21.csv\"\n",
    "ra_label  = 'ALPHA'\n",
    "dec_label = 'DELTA'\n",
    "z_label = 'PHOTOZ'"
   ]
  },
  {
   "cell_type": "markdown",
   "metadata": {
    "pycharm": {
     "name": "#%% md\n"
    }
   },
   "source": [
    "### Cosmology"
   ]
  },
  {
   "cell_type": "code",
   "execution_count": 7,
   "metadata": {
    "ExecuteTime": {
     "end_time": "2022-11-30T23:24:55.809704Z",
     "start_time": "2022-11-30T23:24:55.807123Z"
    },
    "pycharm": {
     "name": "#%%\n"
    }
   },
   "outputs": [],
   "source": [
    "# From JPAS Cosmology\n",
    "# http://www.j-pas.org/wiki/index.php/J-PAS_Parameter_Definition_Document\n",
    "mycosmo = asc.FlatLambdaCDM(H0=67.74, Om0=0.3089, Ob0=0.0486)\n",
    "\n",
    "# Will need to multiply manually in each case by 'h' to get 'Mpc/h' distances"
   ]
  },
  {
   "cell_type": "markdown",
   "metadata": {
    "pycharm": {
     "name": "#%% md\n"
    }
   },
   "source": [
    "### Selection functions"
   ]
  },
  {
   "cell_type": "code",
   "execution_count": 8,
   "metadata": {
    "ExecuteTime": {
     "end_time": "2022-11-30T23:24:55.814173Z",
     "start_time": "2022-11-30T23:24:55.810974Z"
    },
    "pycharm": {
     "name": "#%%\n"
    }
   },
   "outputs": [],
   "source": [
    "# Radial selection\n",
    "radsel_file = \"../get_radial_density/radsel_gausskde_v1_zall_imag21.pkl\"\n",
    "ZMIN = 0.1\n",
    "ZMAX = 0.4"
   ]
  },
  {
   "cell_type": "code",
   "execution_count": 9,
   "metadata": {
    "ExecuteTime": {
     "end_time": "2022-11-30T23:24:55.817417Z",
     "start_time": "2022-11-30T23:24:55.815166Z"
    },
    "pycharm": {
     "name": "#%%\n"
    }
   },
   "outputs": [],
   "source": [
    "# Angular mask\n",
    "angmask_file = \"../masks/miniJPAS-PDR-v201912_simplelix.ply\"\n",
    "\n",
    "# Rectangle that contains the mask (to speed up things in `pymangle`)\n",
    "RAMIN = 212\n",
    "RAMAX = 217\n",
    "DECMIN = 51\n",
    "DECMAX = 55"
   ]
  },
  {
   "cell_type": "markdown",
   "metadata": {
    "pycharm": {
     "name": "#%% md\n"
    }
   },
   "source": [
    "### Definition of regions"
   ]
  },
  {
   "cell_type": "code",
   "execution_count": 10,
   "metadata": {
    "ExecuteTime": {
     "end_time": "2022-11-30T23:24:55.821285Z",
     "start_time": "2022-11-30T23:24:55.819189Z"
    },
    "pycharm": {
     "name": "#%%\n"
    }
   },
   "outputs": [],
   "source": [
    "# Rotation\n",
    "alpha_c = 214.52\n",
    "delta_c = 52.65\n",
    "theta_deg = -45.0\n",
    "\n",
    "# Reg. file\n",
    "inregs_file = \"../create_subregs_minijpas/subregs_minijpas_2x8.dat\""
   ]
  },
  {
   "cell_type": "markdown",
   "metadata": {
    "pycharm": {
     "name": "#%% md\n"
    }
   },
   "source": [
    "## Work with data catalogue"
   ]
  },
  {
   "cell_type": "markdown",
   "metadata": {
    "pycharm": {
     "name": "#%% md\n"
    }
   },
   "source": [
    "### Read input data"
   ]
  },
  {
   "cell_type": "markdown",
   "metadata": {
    "pycharm": {
     "name": "#%% md\n"
    }
   },
   "source": [
    "Read in data and select only relevant columns"
   ]
  },
  {
   "cell_type": "code",
   "execution_count": 11,
   "metadata": {
    "ExecuteTime": {
     "end_time": "2022-11-30T23:24:55.836131Z",
     "start_time": "2022-11-30T23:24:55.822250Z"
    },
    "pycharm": {
     "name": "#%%\n"
    }
   },
   "outputs": [
    {
     "name": "stdout",
     "output_type": "stream",
     "text": [
      "957\n"
     ]
    }
   ],
   "source": [
    "dfdata = pd.read_csv(indatafile)[[ra_label, dec_label, z_label]]\n",
    "Ndata = len(dfdata)\n",
    "print(Ndata)"
   ]
  },
  {
   "cell_type": "code",
   "execution_count": 12,
   "metadata": {
    "ExecuteTime": {
     "end_time": "2022-11-30T23:24:55.845929Z",
     "start_time": "2022-11-30T23:24:55.837230Z"
    },
    "pycharm": {
     "name": "#%%\n"
    }
   },
   "outputs": [
    {
     "data": {
      "text/html": [
       "<div>\n",
       "<style scoped>\n",
       "    .dataframe tbody tr th:only-of-type {\n",
       "        vertical-align: middle;\n",
       "    }\n",
       "\n",
       "    .dataframe tbody tr th {\n",
       "        vertical-align: top;\n",
       "    }\n",
       "\n",
       "    .dataframe thead th {\n",
       "        text-align: right;\n",
       "    }\n",
       "</style>\n",
       "<table border=\"1\" class=\"dataframe\">\n",
       "  <thead>\n",
       "    <tr style=\"text-align: right;\">\n",
       "      <th></th>\n",
       "      <th>ALPHA</th>\n",
       "      <th>DELTA</th>\n",
       "      <th>PHOTOZ</th>\n",
       "    </tr>\n",
       "  </thead>\n",
       "  <tbody>\n",
       "    <tr>\n",
       "      <th>0</th>\n",
       "      <td>214.143996</td>\n",
       "      <td>52.241908</td>\n",
       "      <td>0.340</td>\n",
       "    </tr>\n",
       "    <tr>\n",
       "      <th>1</th>\n",
       "      <td>214.046558</td>\n",
       "      <td>52.303624</td>\n",
       "      <td>0.278</td>\n",
       "    </tr>\n",
       "    <tr>\n",
       "      <th>2</th>\n",
       "      <td>213.916553</td>\n",
       "      <td>52.374835</td>\n",
       "      <td>0.162</td>\n",
       "    </tr>\n",
       "    <tr>\n",
       "      <th>3</th>\n",
       "      <td>214.103429</td>\n",
       "      <td>52.273643</td>\n",
       "      <td>0.246</td>\n",
       "    </tr>\n",
       "    <tr>\n",
       "      <th>4</th>\n",
       "      <td>214.264547</td>\n",
       "      <td>52.184429</td>\n",
       "      <td>0.280</td>\n",
       "    </tr>\n",
       "  </tbody>\n",
       "</table>\n",
       "</div>"
      ],
      "text/plain": [
       "        ALPHA      DELTA  PHOTOZ\n",
       "0  214.143996  52.241908   0.340\n",
       "1  214.046558  52.303624   0.278\n",
       "2  213.916553  52.374835   0.162\n",
       "3  214.103429  52.273643   0.246\n",
       "4  214.264547  52.184429   0.280"
      ]
     },
     "execution_count": 12,
     "metadata": {},
     "output_type": "execute_result"
    }
   ],
   "source": [
    "dfdata.head()"
   ]
  },
  {
   "cell_type": "markdown",
   "metadata": {
    "pycharm": {
     "name": "#%% md\n"
    }
   },
   "source": [
    "Check that the data used matches the selection in redshift"
   ]
  },
  {
   "cell_type": "code",
   "execution_count": 13,
   "metadata": {
    "ExecuteTime": {
     "end_time": "2022-11-30T23:24:55.850423Z",
     "start_time": "2022-11-30T23:24:55.847027Z"
    },
    "pycharm": {
     "name": "#%%\n"
    }
   },
   "outputs": [],
   "source": [
    "assert dfdata[z_label].min() >= ZMIN\n",
    "assert dfdata[z_label].max() <= ZMAX"
   ]
  },
  {
   "cell_type": "markdown",
   "metadata": {
    "pycharm": {
     "name": "#%% md\n"
    }
   },
   "source": [
    "### Distances and Cartesian coordinates\n",
    "\n",
    "Work always in Mpc/h units!!"
   ]
  },
  {
   "cell_type": "code",
   "execution_count": 14,
   "metadata": {
    "ExecuteTime": {
     "end_time": "2022-11-30T23:24:55.878702Z",
     "start_time": "2022-11-30T23:24:55.852984Z"
    },
    "pycharm": {
     "name": "#%%\n"
    }
   },
   "outputs": [],
   "source": [
    "dfdata['dist'] = mycosmo.comoving_distance(dfdata[z_label])*mycosmo.h"
   ]
  },
  {
   "cell_type": "code",
   "execution_count": 15,
   "metadata": {
    "ExecuteTime": {
     "end_time": "2022-11-30T23:24:55.887681Z",
     "start_time": "2022-11-30T23:24:55.880428Z"
    },
    "pycharm": {
     "name": "#%%\n"
    }
   },
   "outputs": [
    {
     "data": {
      "text/html": [
       "<div>\n",
       "<style scoped>\n",
       "    .dataframe tbody tr th:only-of-type {\n",
       "        vertical-align: middle;\n",
       "    }\n",
       "\n",
       "    .dataframe tbody tr th {\n",
       "        vertical-align: top;\n",
       "    }\n",
       "\n",
       "    .dataframe thead th {\n",
       "        text-align: right;\n",
       "    }\n",
       "</style>\n",
       "<table border=\"1\" class=\"dataframe\">\n",
       "  <thead>\n",
       "    <tr style=\"text-align: right;\">\n",
       "      <th></th>\n",
       "      <th>ALPHA</th>\n",
       "      <th>DELTA</th>\n",
       "      <th>PHOTOZ</th>\n",
       "      <th>dist</th>\n",
       "    </tr>\n",
       "  </thead>\n",
       "  <tbody>\n",
       "    <tr>\n",
       "      <th>0</th>\n",
       "      <td>214.143996</td>\n",
       "      <td>52.241908</td>\n",
       "      <td>0.340</td>\n",
       "      <td>935.755772</td>\n",
       "    </tr>\n",
       "    <tr>\n",
       "      <th>1</th>\n",
       "      <td>214.046558</td>\n",
       "      <td>52.303624</td>\n",
       "      <td>0.278</td>\n",
       "      <td>777.754518</td>\n",
       "    </tr>\n",
       "    <tr>\n",
       "      <th>2</th>\n",
       "      <td>213.916553</td>\n",
       "      <td>52.374835</td>\n",
       "      <td>0.162</td>\n",
       "      <td>466.958469</td>\n",
       "    </tr>\n",
       "    <tr>\n",
       "      <th>3</th>\n",
       "      <td>214.103429</td>\n",
       "      <td>52.273643</td>\n",
       "      <td>0.246</td>\n",
       "      <td>693.999512</td>\n",
       "    </tr>\n",
       "    <tr>\n",
       "      <th>4</th>\n",
       "      <td>214.264547</td>\n",
       "      <td>52.184429</td>\n",
       "      <td>0.280</td>\n",
       "      <td>782.939199</td>\n",
       "    </tr>\n",
       "  </tbody>\n",
       "</table>\n",
       "</div>"
      ],
      "text/plain": [
       "        ALPHA      DELTA  PHOTOZ        dist\n",
       "0  214.143996  52.241908   0.340  935.755772\n",
       "1  214.046558  52.303624   0.278  777.754518\n",
       "2  213.916553  52.374835   0.162  466.958469\n",
       "3  214.103429  52.273643   0.246  693.999512\n",
       "4  214.264547  52.184429   0.280  782.939199"
      ]
     },
     "execution_count": 15,
     "metadata": {},
     "output_type": "execute_result"
    }
   ],
   "source": [
    "dfdata.head()"
   ]
  },
  {
   "cell_type": "code",
   "execution_count": 16,
   "metadata": {
    "ExecuteTime": {
     "end_time": "2022-11-30T23:24:55.917492Z",
     "start_time": "2022-11-30T23:24:55.888798Z"
    },
    "pycharm": {
     "name": "#%%\n"
    }
   },
   "outputs": [],
   "source": [
    "dfdata['x'], dfdata['y'], dfdata['z'] = \\\n",
    "    coord.spherical_to_cartesian(r=dfdata['dist'],\n",
    "                                 lat=dfdata[dec_label]*DEG2RAD,\n",
    "                                 lon=dfdata[ra_label]*DEG2RAD)"
   ]
  },
  {
   "cell_type": "code",
   "execution_count": 17,
   "metadata": {
    "ExecuteTime": {
     "end_time": "2022-11-30T23:24:55.925803Z",
     "start_time": "2022-11-30T23:24:55.918876Z"
    },
    "pycharm": {
     "name": "#%%\n"
    }
   },
   "outputs": [
    {
     "data": {
      "text/html": [
       "<div>\n",
       "<style scoped>\n",
       "    .dataframe tbody tr th:only-of-type {\n",
       "        vertical-align: middle;\n",
       "    }\n",
       "\n",
       "    .dataframe tbody tr th {\n",
       "        vertical-align: top;\n",
       "    }\n",
       "\n",
       "    .dataframe thead th {\n",
       "        text-align: right;\n",
       "    }\n",
       "</style>\n",
       "<table border=\"1\" class=\"dataframe\">\n",
       "  <thead>\n",
       "    <tr style=\"text-align: right;\">\n",
       "      <th></th>\n",
       "      <th>ALPHA</th>\n",
       "      <th>DELTA</th>\n",
       "      <th>PHOTOZ</th>\n",
       "      <th>dist</th>\n",
       "      <th>x</th>\n",
       "      <th>y</th>\n",
       "      <th>z</th>\n",
       "    </tr>\n",
       "  </thead>\n",
       "  <tbody>\n",
       "    <tr>\n",
       "      <th>0</th>\n",
       "      <td>214.143996</td>\n",
       "      <td>52.241908</td>\n",
       "      <td>0.340</td>\n",
       "      <td>935.755772</td>\n",
       "      <td>-474.223760</td>\n",
       "      <td>-321.604965</td>\n",
       "      <td>739.811420</td>\n",
       "    </tr>\n",
       "    <tr>\n",
       "      <th>1</th>\n",
       "      <td>214.046558</td>\n",
       "      <td>52.303624</td>\n",
       "      <td>0.278</td>\n",
       "      <td>777.754518</td>\n",
       "      <td>-394.056625</td>\n",
       "      <td>-266.260690</td>\n",
       "      <td>615.407760</td>\n",
       "    </tr>\n",
       "    <tr>\n",
       "      <th>2</th>\n",
       "      <td>213.916553</td>\n",
       "      <td>52.374835</td>\n",
       "      <td>0.162</td>\n",
       "      <td>466.958469</td>\n",
       "      <td>-236.569740</td>\n",
       "      <td>-159.067492</td>\n",
       "      <td>369.841186</td>\n",
       "    </tr>\n",
       "    <tr>\n",
       "      <th>3</th>\n",
       "      <td>214.103429</td>\n",
       "      <td>52.273643</td>\n",
       "      <td>0.246</td>\n",
       "      <td>693.999512</td>\n",
       "      <td>-351.623245</td>\n",
       "      <td>-238.097524</td>\n",
       "      <td>548.913459</td>\n",
       "    </tr>\n",
       "    <tr>\n",
       "      <th>4</th>\n",
       "      <td>214.264547</td>\n",
       "      <td>52.184429</td>\n",
       "      <td>0.280</td>\n",
       "      <td>782.939199</td>\n",
       "      <td>-396.725111</td>\n",
       "      <td>-270.267960</td>\n",
       "      <td>618.512898</td>\n",
       "    </tr>\n",
       "  </tbody>\n",
       "</table>\n",
       "</div>"
      ],
      "text/plain": [
       "        ALPHA      DELTA  PHOTOZ        dist           x           y  \\\n",
       "0  214.143996  52.241908   0.340  935.755772 -474.223760 -321.604965   \n",
       "1  214.046558  52.303624   0.278  777.754518 -394.056625 -266.260690   \n",
       "2  213.916553  52.374835   0.162  466.958469 -236.569740 -159.067492   \n",
       "3  214.103429  52.273643   0.246  693.999512 -351.623245 -238.097524   \n",
       "4  214.264547  52.184429   0.280  782.939199 -396.725111 -270.267960   \n",
       "\n",
       "            z  \n",
       "0  739.811420  \n",
       "1  615.407760  \n",
       "2  369.841186  \n",
       "3  548.913459  \n",
       "4  618.512898  "
      ]
     },
     "execution_count": 17,
     "metadata": {},
     "output_type": "execute_result"
    }
   ],
   "source": [
    "dfdata.head()"
   ]
  },
  {
   "cell_type": "markdown",
   "metadata": {
    "ExecuteTime": {
     "end_time": "2021-06-17T12:12:00.997008Z",
     "start_time": "2021-06-17T12:12:00.992241Z"
    },
    "pycharm": {
     "name": "#%% md\n"
    }
   },
   "source": [
    "### Assign galaxies in the catalogue to regions"
   ]
  },
  {
   "cell_type": "markdown",
   "metadata": {
    "pycharm": {
     "name": "#%% md\n"
    }
   },
   "source": [
    "#### Rotate coordinates\n",
    "\n",
    "First, have to obtain the rotated coordinates for the galaxies!"
   ]
  },
  {
   "cell_type": "code",
   "execution_count": 18,
   "metadata": {
    "ExecuteTime": {
     "end_time": "2022-11-30T23:24:55.931839Z",
     "start_time": "2022-11-30T23:24:55.926911Z"
    },
    "pycharm": {
     "name": "#%%\n"
    }
   },
   "outputs": [],
   "source": [
    "def rotate_coordinates(alpha_c, delta_c, theta, data_df,\n",
    "                      in_alpha_label='ALPHA', in_delta_label='DELTA',\n",
    "                      out_alpha_label='ALPHA_rot', out_delta_label='DELTA_rot'):\n",
    "    \n",
    "    DEG2RAD = np.pi/180.\n",
    "    RAD2DEG = 180./np.pi\n",
    "    \n",
    "    # Get Cartesian coordinates for the rotation axis\n",
    "    rotaxis_cart = np.array(coord.spherical_to_cartesian(r=1, \n",
    "                                                         lat=delta_c*DEG2RAD,\n",
    "                                                         lon=alpha_c*DEG2RAD\n",
    "                                                        )\n",
    "                           )\n",
    "    \n",
    "    # Get Cartesian coordinates for the data points\n",
    "    points_cartesian = \\\n",
    "        np.array(coord.spherical_to_cartesian(r=1,\n",
    "                                              lat=np.array(data_df[in_delta_label])*DEG2RAD,\n",
    "                                              lon=np.array(data_df[in_alpha_label])*DEG2RAD)\n",
    "                )\n",
    "    \n",
    "    # Do rotation of points using Rodrigues' formula\n",
    "    theta_rad = theta*DEG2RAD\n",
    "    term1 = points_cartesian*np.cos(theta_rad)\n",
    "    term2 = np.cross(rotaxis_cart, points_cartesian.T).T*np.sin(theta_rad)\n",
    "    term3 = np.outer(rotaxis_cart, np.dot(rotaxis_cart, points_cartesian))*(1. - np.cos(theta_rad))\n",
    "    \n",
    "    points_cart_new = term1 + term2 + term3\n",
    "    \n",
    "    # Convert back to 'new' spherical coordinates\n",
    "    points_spher_new = \\\n",
    "        np.array(coord.cartesian_to_spherical(x=points_cart_new[0],\n",
    "                                               y=points_cart_new[1],\n",
    "                                               z=points_cart_new[2]))\n",
    "    \n",
    "    data_df[out_alpha_label] = points_spher_new[2]*RAD2DEG\n",
    "    data_df[out_delta_label] = points_spher_new[1]*RAD2DEG"
   ]
  },
  {
   "cell_type": "code",
   "execution_count": 19,
   "metadata": {
    "ExecuteTime": {
     "end_time": "2022-11-30T23:24:55.937927Z",
     "start_time": "2022-11-30T23:24:55.932970Z"
    },
    "pycharm": {
     "name": "#%%\n"
    }
   },
   "outputs": [],
   "source": [
    "rotate_coordinates(alpha_c, delta_c, theta_deg, dfdata,\n",
    "                  ra_label, dec_label)"
   ]
  },
  {
   "cell_type": "code",
   "execution_count": 20,
   "metadata": {
    "ExecuteTime": {
     "end_time": "2022-11-30T23:24:55.947288Z",
     "start_time": "2022-11-30T23:24:55.939191Z"
    },
    "pycharm": {
     "name": "#%%\n"
    }
   },
   "outputs": [
    {
     "data": {
      "text/html": [
       "<div>\n",
       "<style scoped>\n",
       "    .dataframe tbody tr th:only-of-type {\n",
       "        vertical-align: middle;\n",
       "    }\n",
       "\n",
       "    .dataframe tbody tr th {\n",
       "        vertical-align: top;\n",
       "    }\n",
       "\n",
       "    .dataframe thead th {\n",
       "        text-align: right;\n",
       "    }\n",
       "</style>\n",
       "<table border=\"1\" class=\"dataframe\">\n",
       "  <thead>\n",
       "    <tr style=\"text-align: right;\">\n",
       "      <th></th>\n",
       "      <th>ALPHA</th>\n",
       "      <th>DELTA</th>\n",
       "      <th>PHOTOZ</th>\n",
       "      <th>dist</th>\n",
       "      <th>x</th>\n",
       "      <th>y</th>\n",
       "      <th>z</th>\n",
       "      <th>ALPHA_rot</th>\n",
       "      <th>DELTA_rot</th>\n",
       "    </tr>\n",
       "  </thead>\n",
       "  <tbody>\n",
       "    <tr>\n",
       "      <th>0</th>\n",
       "      <td>214.143996</td>\n",
       "      <td>52.241908</td>\n",
       "      <td>0.340</td>\n",
       "      <td>935.755772</td>\n",
       "      <td>-474.223760</td>\n",
       "      <td>-321.604965</td>\n",
       "      <td>739.811420</td>\n",
       "      <td>213.778854</td>\n",
       "      <td>52.522346</td>\n",
       "    </tr>\n",
       "    <tr>\n",
       "      <th>1</th>\n",
       "      <td>214.046558</td>\n",
       "      <td>52.303624</td>\n",
       "      <td>0.278</td>\n",
       "      <td>777.754518</td>\n",
       "      <td>-394.056625</td>\n",
       "      <td>-266.260690</td>\n",
       "      <td>615.407760</td>\n",
       "      <td>213.780670</td>\n",
       "      <td>52.608151</td>\n",
       "    </tr>\n",
       "    <tr>\n",
       "      <th>2</th>\n",
       "      <td>213.916553</td>\n",
       "      <td>52.374835</td>\n",
       "      <td>0.162</td>\n",
       "      <td>466.958469</td>\n",
       "      <td>-236.569740</td>\n",
       "      <td>-159.067492</td>\n",
       "      <td>369.841186</td>\n",
       "      <td>213.770582</td>\n",
       "      <td>52.714654</td>\n",
       "    </tr>\n",
       "    <tr>\n",
       "      <th>3</th>\n",
       "      <td>214.103429</td>\n",
       "      <td>52.273643</td>\n",
       "      <td>0.246</td>\n",
       "      <td>693.999512</td>\n",
       "      <td>-351.623245</td>\n",
       "      <td>-238.097524</td>\n",
       "      <td>548.913459</td>\n",
       "      <td>213.786569</td>\n",
       "      <td>52.562367</td>\n",
       "    </tr>\n",
       "    <tr>\n",
       "      <th>4</th>\n",
       "      <td>214.264547</td>\n",
       "      <td>52.184429</td>\n",
       "      <td>0.280</td>\n",
       "      <td>782.939199</td>\n",
       "      <td>-396.725111</td>\n",
       "      <td>-270.267960</td>\n",
       "      <td>618.512898</td>\n",
       "      <td>213.798755</td>\n",
       "      <td>52.429540</td>\n",
       "    </tr>\n",
       "  </tbody>\n",
       "</table>\n",
       "</div>"
      ],
      "text/plain": [
       "        ALPHA      DELTA  PHOTOZ        dist           x           y  \\\n",
       "0  214.143996  52.241908   0.340  935.755772 -474.223760 -321.604965   \n",
       "1  214.046558  52.303624   0.278  777.754518 -394.056625 -266.260690   \n",
       "2  213.916553  52.374835   0.162  466.958469 -236.569740 -159.067492   \n",
       "3  214.103429  52.273643   0.246  693.999512 -351.623245 -238.097524   \n",
       "4  214.264547  52.184429   0.280  782.939199 -396.725111 -270.267960   \n",
       "\n",
       "            z   ALPHA_rot  DELTA_rot  \n",
       "0  739.811420  213.778854  52.522346  \n",
       "1  615.407760  213.780670  52.608151  \n",
       "2  369.841186  213.770582  52.714654  \n",
       "3  548.913459  213.786569  52.562367  \n",
       "4  618.512898  213.798755  52.429540  "
      ]
     },
     "execution_count": 20,
     "metadata": {},
     "output_type": "execute_result"
    }
   ],
   "source": [
    "dfdata.head()"
   ]
  },
  {
   "cell_type": "markdown",
   "metadata": {
    "pycharm": {
     "name": "#%% md\n"
    }
   },
   "source": [
    "#### Assign regions\n",
    "\n",
    "Now, read in regions and assign regions to points"
   ]
  },
  {
   "cell_type": "code",
   "execution_count": 21,
   "metadata": {
    "ExecuteTime": {
     "end_time": "2022-11-30T23:24:55.952995Z",
     "start_time": "2022-11-30T23:24:55.948465Z"
    },
    "pycharm": {
     "name": "#%%\n"
    }
   },
   "outputs": [],
   "source": [
    "def assign_reg(ra_in,dec_in, dec_min_reg, dec_max_reg, ra_min_reg, ra_max_reg):\n",
    "\n",
    "    Ncat = len(ra_in)\n",
    "    if len(dec_in) != Ncat:\n",
    "        raise ValueError\n",
    "\n",
    "    Nreg = len(dec_min_reg)\n",
    "\n",
    "    if (len(dec_max_reg) != Nreg) or (len(ra_min_reg) != Nreg) or (len(ra_max_reg) != Nreg):\n",
    "        raise ValueError\n",
    "\n",
    "    ind_reg = np.empty((Nreg, Ncat), bool)\n",
    "\n",
    "    for i in range(Nreg):\n",
    "        ind_reg[i] = (dec_in > dec_min_reg[i])&(dec_in <= dec_max_reg[i])&(ra_in > ra_min_reg[i])&(ra_in <= ra_max_reg[i])\n",
    "\n",
    "    if ind_reg.sum() < Ncat:\n",
    "        raise Exception(\"Looks like there are points in the catalogue outside of the regions defined!!\")\n",
    "\n",
    "    elif ind_reg.sum() < Ncat:\n",
    "        raise Exception(\"Looks like there is some overlap between regions!!\")\n",
    "\n",
    "    ##Create the region ID array (each value shows what is the region that points is assigned to)\n",
    "    reg_id = [np.arange(Nreg)[ind_reg[:,x]] for x in range(Ncat)]\n",
    "    reg_id = np.array(list(reg_id))[:,0]\n",
    "    if len(reg_id) != Ncat:\n",
    "        raise Exception(\"Something went wrong when creating the region ID array, len(reg_id) = %d!\" % len(reg_id))\n",
    "\n",
    "    return reg_id"
   ]
  },
  {
   "cell_type": "code",
   "execution_count": 22,
   "metadata": {
    "ExecuteTime": {
     "end_time": "2022-11-30T23:24:55.956965Z",
     "start_time": "2022-11-30T23:24:55.954123Z"
    },
    "pycharm": {
     "name": "#%%\n"
    }
   },
   "outputs": [],
   "source": [
    "dec_min, dec_max, ra_min, ra_max = np.loadtxt(inregs_file, usecols=range(4), unpack=True)\n",
    "Nreg = len(dec_min)"
   ]
  },
  {
   "cell_type": "code",
   "execution_count": 23,
   "metadata": {
    "ExecuteTime": {
     "end_time": "2022-11-30T23:24:55.971835Z",
     "start_time": "2022-11-30T23:24:55.957978Z"
    },
    "pycharm": {
     "name": "#%%\n"
    }
   },
   "outputs": [],
   "source": [
    "dfdata['reg_id'] = assign_reg(ra_in=dfdata['ALPHA_rot'],\n",
    "                              dec_in=dfdata['DELTA_rot'],\n",
    "                              dec_min_reg=dec_min, dec_max_reg=dec_max,\n",
    "                              ra_min_reg=ra_min, ra_max_reg=ra_max)"
   ]
  },
  {
   "cell_type": "code",
   "execution_count": 24,
   "metadata": {
    "ExecuteTime": {
     "end_time": "2022-11-30T23:24:55.980790Z",
     "start_time": "2022-11-30T23:24:55.972928Z"
    },
    "pycharm": {
     "name": "#%%\n"
    }
   },
   "outputs": [
    {
     "data": {
      "text/html": [
       "<div>\n",
       "<style scoped>\n",
       "    .dataframe tbody tr th:only-of-type {\n",
       "        vertical-align: middle;\n",
       "    }\n",
       "\n",
       "    .dataframe tbody tr th {\n",
       "        vertical-align: top;\n",
       "    }\n",
       "\n",
       "    .dataframe thead th {\n",
       "        text-align: right;\n",
       "    }\n",
       "</style>\n",
       "<table border=\"1\" class=\"dataframe\">\n",
       "  <thead>\n",
       "    <tr style=\"text-align: right;\">\n",
       "      <th></th>\n",
       "      <th>ALPHA</th>\n",
       "      <th>DELTA</th>\n",
       "      <th>PHOTOZ</th>\n",
       "      <th>dist</th>\n",
       "      <th>x</th>\n",
       "      <th>y</th>\n",
       "      <th>z</th>\n",
       "      <th>ALPHA_rot</th>\n",
       "      <th>DELTA_rot</th>\n",
       "      <th>reg_id</th>\n",
       "    </tr>\n",
       "  </thead>\n",
       "  <tbody>\n",
       "    <tr>\n",
       "      <th>0</th>\n",
       "      <td>214.143996</td>\n",
       "      <td>52.241908</td>\n",
       "      <td>0.340</td>\n",
       "      <td>935.755772</td>\n",
       "      <td>-474.223760</td>\n",
       "      <td>-321.604965</td>\n",
       "      <td>739.811420</td>\n",
       "      <td>213.778854</td>\n",
       "      <td>52.522346</td>\n",
       "      <td>1</td>\n",
       "    </tr>\n",
       "    <tr>\n",
       "      <th>1</th>\n",
       "      <td>214.046558</td>\n",
       "      <td>52.303624</td>\n",
       "      <td>0.278</td>\n",
       "      <td>777.754518</td>\n",
       "      <td>-394.056625</td>\n",
       "      <td>-266.260690</td>\n",
       "      <td>615.407760</td>\n",
       "      <td>213.780670</td>\n",
       "      <td>52.608151</td>\n",
       "      <td>1</td>\n",
       "    </tr>\n",
       "    <tr>\n",
       "      <th>2</th>\n",
       "      <td>213.916553</td>\n",
       "      <td>52.374835</td>\n",
       "      <td>0.162</td>\n",
       "      <td>466.958469</td>\n",
       "      <td>-236.569740</td>\n",
       "      <td>-159.067492</td>\n",
       "      <td>369.841186</td>\n",
       "      <td>213.770582</td>\n",
       "      <td>52.714654</td>\n",
       "      <td>10</td>\n",
       "    </tr>\n",
       "    <tr>\n",
       "      <th>3</th>\n",
       "      <td>214.103429</td>\n",
       "      <td>52.273643</td>\n",
       "      <td>0.246</td>\n",
       "      <td>693.999512</td>\n",
       "      <td>-351.623245</td>\n",
       "      <td>-238.097524</td>\n",
       "      <td>548.913459</td>\n",
       "      <td>213.786569</td>\n",
       "      <td>52.562367</td>\n",
       "      <td>2</td>\n",
       "    </tr>\n",
       "    <tr>\n",
       "      <th>4</th>\n",
       "      <td>214.264547</td>\n",
       "      <td>52.184429</td>\n",
       "      <td>0.280</td>\n",
       "      <td>782.939199</td>\n",
       "      <td>-396.725111</td>\n",
       "      <td>-270.267960</td>\n",
       "      <td>618.512898</td>\n",
       "      <td>213.798755</td>\n",
       "      <td>52.429540</td>\n",
       "      <td>2</td>\n",
       "    </tr>\n",
       "  </tbody>\n",
       "</table>\n",
       "</div>"
      ],
      "text/plain": [
       "        ALPHA      DELTA  PHOTOZ        dist           x           y  \\\n",
       "0  214.143996  52.241908   0.340  935.755772 -474.223760 -321.604965   \n",
       "1  214.046558  52.303624   0.278  777.754518 -394.056625 -266.260690   \n",
       "2  213.916553  52.374835   0.162  466.958469 -236.569740 -159.067492   \n",
       "3  214.103429  52.273643   0.246  693.999512 -351.623245 -238.097524   \n",
       "4  214.264547  52.184429   0.280  782.939199 -396.725111 -270.267960   \n",
       "\n",
       "            z   ALPHA_rot  DELTA_rot  reg_id  \n",
       "0  739.811420  213.778854  52.522346       1  \n",
       "1  615.407760  213.780670  52.608151       1  \n",
       "2  369.841186  213.770582  52.714654      10  \n",
       "3  548.913459  213.786569  52.562367       2  \n",
       "4  618.512898  213.798755  52.429540       2  "
      ]
     },
     "execution_count": 24,
     "metadata": {},
     "output_type": "execute_result"
    }
   ],
   "source": [
    "dfdata.head()"
   ]
  },
  {
   "cell_type": "code",
   "execution_count": 25,
   "metadata": {
    "ExecuteTime": {
     "end_time": "2022-11-30T23:24:56.113416Z",
     "start_time": "2022-11-30T23:24:55.982153Z"
    },
    "pycharm": {
     "name": "#%%\n"
    }
   },
   "outputs": [
    {
     "data": {
      "text/plain": [
       "<matplotlib.collections.PathCollection at 0x7fc0d08bc460>"
      ]
     },
     "execution_count": 25,
     "metadata": {},
     "output_type": "execute_result"
    },
    {
     "data": {
      "image/png": "[encoded data removed]",
      "text/plain": [
       "<Figure size 748.8x514.8 with 1 Axes>"
      ]
     },
     "metadata": {
      "needs_background": "light"
     },
     "output_type": "display_data"
    }
   ],
   "source": [
    "f, ax = plt.subplots()\n",
    "ax.scatter(ra_label, dec_label, data=dfdata, s=5, c='reg_id',\n",
    "            cmap='tab20', vmin=0, vmax=19)\n"
   ]
  },
  {
   "cell_type": "markdown",
   "metadata": {
    "pycharm": {
     "name": "#%% md\n"
    }
   },
   "source": [
    "Also, count no. of galaxies per region"
   ]
  },
  {
   "cell_type": "code",
   "execution_count": 26,
   "metadata": {
    "ExecuteTime": {
     "end_time": "2022-11-30T23:24:56.122846Z",
     "start_time": "2022-11-30T23:24:56.115936Z"
    },
    "pycharm": {
     "name": "#%%\n"
    }
   },
   "outputs": [],
   "source": [
    "n_gals_per_region = dfdata.groupby('reg_id').count()['x']"
   ]
  },
  {
   "cell_type": "code",
   "execution_count": 27,
   "metadata": {
    "ExecuteTime": {
     "end_time": "2022-11-30T23:24:56.130988Z",
     "start_time": "2022-11-30T23:24:56.125595Z"
    },
    "pycharm": {
     "name": "#%%\n"
    }
   },
   "outputs": [
    {
     "data": {
      "text/plain": [
       "reg_id\n",
       "0     74\n",
       "1     54\n",
       "2     67\n",
       "3     52\n",
       "4     39\n",
       "5     72\n",
       "6     53\n",
       "7     53\n",
       "8     75\n",
       "9     72\n",
       "10    58\n",
       "11    53\n",
       "12    53\n",
       "13    78\n",
       "14    60\n",
       "15    44\n",
       "Name: x, dtype: int64"
      ]
     },
     "execution_count": 27,
     "metadata": {},
     "output_type": "execute_result"
    }
   ],
   "source": [
    "n_gals_per_region"
   ]
  },
  {
   "cell_type": "code",
   "execution_count": 28,
   "metadata": {
    "ExecuteTime": {
     "end_time": "2022-11-30T23:24:56.327311Z",
     "start_time": "2022-11-30T23:24:56.137603Z"
    },
    "pycharm": {
     "name": "#%%\n"
    }
   },
   "outputs": [
    {
     "data": {
      "text/plain": [
       "<AxesSubplot:xlabel='reg_id'>"
      ]
     },
     "execution_count": 28,
     "metadata": {},
     "output_type": "execute_result"
    },
    {
     "data": {
      "image/png": "[encoded data removed]",
      "text/plain": [
       "<Figure size 748.8x514.8 with 1 Axes>"
      ]
     },
     "metadata": {
      "needs_background": "light"
     },
     "output_type": "display_data"
    }
   ],
   "source": [
    "n_gals_per_region.plot(kind='bar')"
   ]
  },
  {
   "cell_type": "markdown",
   "metadata": {
    "pycharm": {
     "name": "#%% md\n"
    }
   },
   "source": [
    "### Save to files"
   ]
  },
  {
   "cell_type": "code",
   "execution_count": 29,
   "metadata": {
    "ExecuteTime": {
     "end_time": "2022-11-30T23:24:56.345191Z",
     "start_time": "2022-11-30T23:24:56.329625Z"
    },
    "pycharm": {
     "name": "#%%\n"
    }
   },
   "outputs": [],
   "source": [
    "out_cat_file = out_data_name + cat_suffix\n",
    "dfdata.to_csv(out_cat_file, sep='\\t', index=False, header=False,\n",
    "              columns=['x', 'y', 'z', 'reg_id'])"
   ]
  },
  {
   "cell_type": "code",
   "execution_count": 30,
   "metadata": {
    "ExecuteTime": {
     "end_time": "2022-11-30T23:24:56.350011Z",
     "start_time": "2022-11-30T23:24:56.346896Z"
    },
    "pycharm": {
     "name": "#%%\n"
    }
   },
   "outputs": [
    {
     "data": {
      "text/plain": [
       "'data_v1_HODsel_z0.1z0.4_imag21.xyz'"
      ]
     },
     "execution_count": 30,
     "metadata": {},
     "output_type": "execute_result"
    }
   ],
   "source": [
    "out_cat_file"
   ]
  },
  {
   "cell_type": "code",
   "execution_count": 31,
   "metadata": {
    "ExecuteTime": {
     "end_time": "2022-11-30T23:24:56.475730Z",
     "start_time": "2022-11-30T23:24:56.351369Z"
    },
    "pycharm": {
     "name": "#%%\n"
    }
   },
   "outputs": [
    {
     "name": "stdout",
     "output_type": "stream",
     "text": [
      "-474.2237596766912\t-321.60496476402426\t739.8114196344792\t1\r\n",
      "-394.05662515484715\t-266.26069045736074\t615.4077600800632\t1\r\n",
      "-236.5697399871982\t-159.0674921743598\t369.84118633952926\t10\r\n",
      "-351.62324489060194\t-238.09752371299578\t548.9134588848606\t2\r\n",
      "-396.72511086762563\t-270.2679597207523\t618.5128983860423\t2\r\n",
      "-372.7231374584352\t-251.25090561827244\t582.8745679464399\t10\r\n",
      "-401.6686738436345\t-270.7735383311943\t628.2153082892356\t10\r\n",
      "-511.63533721425046\t-347.1639534922117\t798.8805100102115\t2\r\n",
      "-526.3850902359434\t-355.7700771928388\t822.8871829331209\t2\r\n",
      "-383.0566218900054\t-257.51217860629015\t599.949268539341\t10\r\n"
     ]
    }
   ],
   "source": [
    "!head {out_cat_file}"
   ]
  },
  {
   "cell_type": "code",
   "execution_count": 32,
   "metadata": {
    "ExecuteTime": {
     "end_time": "2022-11-30T23:24:56.486404Z",
     "start_time": "2022-11-30T23:24:56.478723Z"
    },
    "pycharm": {
     "name": "#%%\n"
    }
   },
   "outputs": [],
   "source": [
    "out_np_file = out_data_name + np_suffix\n",
    "n_gals_per_region.to_csv(out_np_file, index=False, header=False)"
   ]
  },
  {
   "cell_type": "code",
   "execution_count": 33,
   "metadata": {
    "ExecuteTime": {
     "end_time": "2022-11-30T23:24:56.493541Z",
     "start_time": "2022-11-30T23:24:56.488687Z"
    },
    "pycharm": {
     "name": "#%%\n"
    }
   },
   "outputs": [
    {
     "data": {
      "text/plain": [
       "'data_v1_HODsel_z0.1z0.4_imag21.ngals'"
      ]
     },
     "execution_count": 33,
     "metadata": {},
     "output_type": "execute_result"
    }
   ],
   "source": [
    "out_np_file"
   ]
  },
  {
   "cell_type": "code",
   "execution_count": 34,
   "metadata": {
    "ExecuteTime": {
     "end_time": "2022-11-30T23:24:56.619006Z",
     "start_time": "2022-11-30T23:24:56.495579Z"
    },
    "pycharm": {
     "name": "#%%\n"
    }
   },
   "outputs": [
    {
     "name": "stdout",
     "output_type": "stream",
     "text": [
      "74\r\n",
      "54\r\n",
      "67\r\n",
      "52\r\n",
      "39\r\n",
      "72\r\n",
      "53\r\n",
      "53\r\n",
      "75\r\n",
      "72\r\n"
     ]
    }
   ],
   "source": [
    "!head {out_np_file}"
   ]
  },
  {
   "cell_type": "markdown",
   "metadata": {
    "pycharm": {
     "name": "#%% md\n"
    }
   },
   "source": [
    "## Work with random catalogue"
   ]
  },
  {
   "cell_type": "markdown",
   "metadata": {
    "pycharm": {
     "name": "#%% md\n"
    }
   },
   "source": [
    "Will define here **approximate** number of random points. For efficiency, we will get the actual number of random points when generating the distances (its a Poisson sampling), and use this to generate the angular positions."
   ]
  },
  {
   "cell_type": "code",
   "execution_count": 35,
   "metadata": {
    "ExecuteTime": {
     "end_time": "2022-11-30T23:24:56.626556Z",
     "start_time": "2022-11-30T23:24:56.621921Z"
    },
    "pycharm": {
     "name": "#%%\n"
    }
   },
   "outputs": [
    {
     "name": "stdout",
     "output_type": "stream",
     "text": [
      "95700\n"
     ]
    }
   ],
   "source": [
    "Nrand_0 = Ndata*NRANDREL\n",
    "print(Nrand_0)"
   ]
  },
  {
   "cell_type": "code",
   "execution_count": 36,
   "metadata": {
    "ExecuteTime": {
     "end_time": "2022-11-30T23:24:56.634277Z",
     "start_time": "2022-11-30T23:24:56.628902Z"
    },
    "pycharm": {
     "name": "#%%\n"
    }
   },
   "outputs": [],
   "source": [
    "dfrand = pd.DataFrame()"
   ]
  },
  {
   "cell_type": "markdown",
   "metadata": {
    "pycharm": {
     "name": "#%% md\n"
    }
   },
   "source": [
    "### Generate distances"
   ]
  },
  {
   "cell_type": "code",
   "execution_count": 37,
   "metadata": {
    "ExecuteTime": {
     "end_time": "2022-11-30T23:24:56.758529Z",
     "start_time": "2022-11-30T23:24:56.636815Z"
    },
    "pycharm": {
     "name": "#%%\n"
    }
   },
   "outputs": [],
   "source": [
    "with open(radsel_file, 'rb') as f:\n",
    "    radsel_kde = dill.load(f)"
   ]
  },
  {
   "cell_type": "code",
   "execution_count": 38,
   "metadata": {
    "ExecuteTime": {
     "end_time": "2022-11-30T23:24:56.763684Z",
     "start_time": "2022-11-30T23:24:56.760094Z"
    },
    "pycharm": {
     "name": "#%%\n"
    }
   },
   "outputs": [
    {
     "name": "stdout",
     "output_type": "stream",
     "text": [
      "292.72374768535246 Mpc\n",
      "1083.3477794183764 Mpc\n"
     ]
    }
   ],
   "source": [
    "distmin = mycosmo.comoving_distance(ZMIN)*mycosmo.h\n",
    "print(distmin)\n",
    "distmax = mycosmo.comoving_distance(ZMAX)*mycosmo.h\n",
    "print(distmax)"
   ]
  },
  {
   "cell_type": "code",
   "execution_count": 39,
   "metadata": {
    "ExecuteTime": {
     "end_time": "2022-11-30T23:24:56.767903Z",
     "start_time": "2022-11-30T23:24:56.764814Z"
    },
    "pycharm": {
     "name": "#%%\n"
    }
   },
   "outputs": [
    {
     "data": {
      "text/plain": [
       "<scipy.stats.kde.gaussian_kde at 0x7fc0d0894340>"
      ]
     },
     "execution_count": 39,
     "metadata": {},
     "output_type": "execute_result"
    }
   ],
   "source": [
    "radsel_kde"
   ]
  },
  {
   "cell_type": "markdown",
   "metadata": {
    "pycharm": {
     "name": "#%% md\n"
    }
   },
   "source": [
    "Get the fraction of the KDE that is actually inside the range of interest"
   ]
  },
  {
   "cell_type": "code",
   "execution_count": 40,
   "metadata": {
    "ExecuteTime": {
     "end_time": "2022-11-30T23:24:56.772295Z",
     "start_time": "2022-11-30T23:24:56.769208Z"
    },
    "pycharm": {
     "name": "#%%\n"
    }
   },
   "outputs": [
    {
     "name": "stdout",
     "output_type": "stream",
     "text": [
      "0.22639684977528932\n"
     ]
    }
   ],
   "source": [
    "frac_in_range = radsel_kde.integrate_box_1d(distmin.value, distmax.value)\n",
    "print(frac_in_range)"
   ]
  },
  {
   "cell_type": "markdown",
   "metadata": {
    "pycharm": {
     "name": "#%% md\n"
    }
   },
   "source": [
    "Will generate $N_{tot}$ = Nrand_0 / frac distances in total (in the whole KDE range),\n",
    "and then select those that fall inside our range of interest."
   ]
  },
  {
   "cell_type": "code",
   "execution_count": 41,
   "metadata": {
    "ExecuteTime": {
     "end_time": "2022-11-30T23:24:56.777668Z",
     "start_time": "2022-11-30T23:24:56.773580Z"
    },
    "pycharm": {
     "name": "#%%\n"
    }
   },
   "outputs": [
    {
     "name": "stdout",
     "output_type": "stream",
     "text": [
      "422709\n"
     ]
    }
   ],
   "source": [
    "Ntot = int(Nrand_0 / frac_in_range)\n",
    "print(Ntot)"
   ]
  },
  {
   "cell_type": "code",
   "execution_count": 42,
   "metadata": {
    "ExecuteTime": {
     "end_time": "2022-11-30T23:24:56.845139Z",
     "start_time": "2022-11-30T23:24:56.778933Z"
    },
    "pycharm": {
     "name": "#%%\n"
    }
   },
   "outputs": [],
   "source": [
    "distances_all = radsel_kde.resample(Ntot)[0]"
   ]
  },
  {
   "cell_type": "code",
   "execution_count": 43,
   "metadata": {
    "ExecuteTime": {
     "end_time": "2022-11-30T23:24:56.860774Z",
     "start_time": "2022-11-30T23:24:56.846639Z"
    },
    "pycharm": {
     "name": "#%%\n"
    }
   },
   "outputs": [],
   "source": [
    "inrange = (distmin.value <= distances_all) & (distances_all < distmax.value)\n",
    "dfrand['dist'] = distances_all[inrange]"
   ]
  },
  {
   "cell_type": "code",
   "execution_count": 44,
   "metadata": {
    "ExecuteTime": {
     "end_time": "2022-11-30T23:24:56.865604Z",
     "start_time": "2022-11-30T23:24:56.862104Z"
    },
    "pycharm": {
     "name": "#%%\n"
    }
   },
   "outputs": [
    {
     "name": "stdout",
     "output_type": "stream",
     "text": [
      "95499\n"
     ]
    }
   ],
   "source": [
    "# Get actual number of random points generated\n",
    "Nrand = len(dfrand) \n",
    "print(Nrand)"
   ]
  },
  {
   "cell_type": "code",
   "execution_count": 45,
   "metadata": {
    "ExecuteTime": {
     "end_time": "2022-11-30T23:24:57.132597Z",
     "start_time": "2022-11-30T23:24:56.867151Z"
    },
    "pycharm": {
     "name": "#%%\n"
    }
   },
   "outputs": [
    {
     "data": {
      "text/plain": [
       "array([[<AxesSubplot:title={'center':'dist'}>]], dtype=object)"
      ]
     },
     "execution_count": 45,
     "metadata": {},
     "output_type": "execute_result"
    },
    {
     "data": {
      "image/png": "[encoded data removed]",
      "text/plain": [
       "<Figure size 748.8x514.8 with 1 Axes>"
      ]
     },
     "metadata": {
      "needs_background": "light"
     },
     "output_type": "display_data"
    }
   ],
   "source": [
    "dfrand.hist('dist', bins=100)"
   ]
  },
  {
   "cell_type": "markdown",
   "metadata": {
    "pycharm": {
     "name": "#%% md\n"
    }
   },
   "source": [
    "### Generate angular positions"
   ]
  },
  {
   "cell_type": "code",
   "execution_count": 46,
   "metadata": {
    "ExecuteTime": {
     "end_time": "2022-11-30T23:24:57.140438Z",
     "start_time": "2022-11-30T23:24:57.134652Z"
    },
    "pycharm": {
     "name": "#%%\n"
    }
   },
   "outputs": [],
   "source": [
    "m = pymangle.Mangle(angmask_file)"
   ]
  },
  {
   "cell_type": "code",
   "execution_count": 47,
   "metadata": {
    "ExecuteTime": {
     "end_time": "2022-11-30T23:25:01.537763Z",
     "start_time": "2022-11-30T23:24:57.141502Z"
    },
    "pycharm": {
     "name": "#%%\n"
    }
   },
   "outputs": [],
   "source": [
    "dfrand[ra_label], dfrand[dec_label] = m.genrand_range(Nrand,\n",
    "                                                      RAMIN, RAMAX,\n",
    "                                                      DECMIN, DECMAX)"
   ]
  },
  {
   "cell_type": "code",
   "execution_count": 48,
   "metadata": {
    "ExecuteTime": {
     "end_time": "2022-11-30T23:25:01.788042Z",
     "start_time": "2022-11-30T23:25:01.539751Z"
    },
    "pycharm": {
     "name": "#%%\n"
    }
   },
   "outputs": [
    {
     "data": {
      "text/plain": [
       "<AxesSubplot:xlabel='ALPHA', ylabel='DELTA'>"
      ]
     },
     "execution_count": 48,
     "metadata": {},
     "output_type": "execute_result"
    },
    {
     "data": {
      "image/png": "[encoded data removed]",
      "text/plain": [
       "<Figure size 748.8x514.8 with 1 Axes>"
      ]
     },
     "metadata": {
      "needs_background": "light"
     },
     "output_type": "display_data"
    }
   ],
   "source": [
    "dfrand.plot(x=ra_label, y=dec_label, kind='scatter')"
   ]
  },
  {
   "cell_type": "code",
   "execution_count": 49,
   "metadata": {
    "ExecuteTime": {
     "end_time": "2022-11-30T23:25:01.797777Z",
     "start_time": "2022-11-30T23:25:01.789491Z"
    },
    "pycharm": {
     "name": "#%%\n"
    }
   },
   "outputs": [
    {
     "data": {
      "text/html": [
       "<div>\n",
       "<style scoped>\n",
       "    .dataframe tbody tr th:only-of-type {\n",
       "        vertical-align: middle;\n",
       "    }\n",
       "\n",
       "    .dataframe tbody tr th {\n",
       "        vertical-align: top;\n",
       "    }\n",
       "\n",
       "    .dataframe thead th {\n",
       "        text-align: right;\n",
       "    }\n",
       "</style>\n",
       "<table border=\"1\" class=\"dataframe\">\n",
       "  <thead>\n",
       "    <tr style=\"text-align: right;\">\n",
       "      <th></th>\n",
       "      <th>dist</th>\n",
       "      <th>ALPHA</th>\n",
       "      <th>DELTA</th>\n",
       "    </tr>\n",
       "  </thead>\n",
       "  <tbody>\n",
       "    <tr>\n",
       "      <th>0</th>\n",
       "      <td>1001.621431</td>\n",
       "      <td>215.102843</td>\n",
       "      <td>53.110679</td>\n",
       "    </tr>\n",
       "    <tr>\n",
       "      <th>1</th>\n",
       "      <td>676.139842</td>\n",
       "      <td>213.537840</td>\n",
       "      <td>52.308196</td>\n",
       "    </tr>\n",
       "    <tr>\n",
       "      <th>2</th>\n",
       "      <td>997.599829</td>\n",
       "      <td>215.410668</td>\n",
       "      <td>53.323936</td>\n",
       "    </tr>\n",
       "    <tr>\n",
       "      <th>3</th>\n",
       "      <td>1014.749976</td>\n",
       "      <td>215.105907</td>\n",
       "      <td>52.805520</td>\n",
       "    </tr>\n",
       "    <tr>\n",
       "      <th>4</th>\n",
       "      <td>646.762657</td>\n",
       "      <td>215.261818</td>\n",
       "      <td>52.819053</td>\n",
       "    </tr>\n",
       "    <tr>\n",
       "      <th>...</th>\n",
       "      <td>...</td>\n",
       "      <td>...</td>\n",
       "      <td>...</td>\n",
       "    </tr>\n",
       "    <tr>\n",
       "      <th>95494</th>\n",
       "      <td>842.378119</td>\n",
       "      <td>214.314965</td>\n",
       "      <td>52.267803</td>\n",
       "    </tr>\n",
       "    <tr>\n",
       "      <th>95495</th>\n",
       "      <td>1068.547185</td>\n",
       "      <td>213.318263</td>\n",
       "      <td>52.133899</td>\n",
       "    </tr>\n",
       "    <tr>\n",
       "      <th>95496</th>\n",
       "      <td>913.313596</td>\n",
       "      <td>214.512036</td>\n",
       "      <td>52.327761</td>\n",
       "    </tr>\n",
       "    <tr>\n",
       "      <th>95497</th>\n",
       "      <td>854.732717</td>\n",
       "      <td>214.965941</td>\n",
       "      <td>52.984599</td>\n",
       "    </tr>\n",
       "    <tr>\n",
       "      <th>95498</th>\n",
       "      <td>1067.526877</td>\n",
       "      <td>214.682264</td>\n",
       "      <td>52.911072</td>\n",
       "    </tr>\n",
       "  </tbody>\n",
       "</table>\n",
       "<p>95499 rows × 3 columns</p>\n",
       "</div>"
      ],
      "text/plain": [
       "              dist       ALPHA      DELTA\n",
       "0      1001.621431  215.102843  53.110679\n",
       "1       676.139842  213.537840  52.308196\n",
       "2       997.599829  215.410668  53.323936\n",
       "3      1014.749976  215.105907  52.805520\n",
       "4       646.762657  215.261818  52.819053\n",
       "...            ...         ...        ...\n",
       "95494   842.378119  214.314965  52.267803\n",
       "95495  1068.547185  213.318263  52.133899\n",
       "95496   913.313596  214.512036  52.327761\n",
       "95497   854.732717  214.965941  52.984599\n",
       "95498  1067.526877  214.682264  52.911072\n",
       "\n",
       "[95499 rows x 3 columns]"
      ]
     },
     "execution_count": 49,
     "metadata": {},
     "output_type": "execute_result"
    }
   ],
   "source": [
    "dfrand"
   ]
  },
  {
   "cell_type": "code",
   "execution_count": 50,
   "metadata": {
    "ExecuteTime": {
     "end_time": "2022-11-30T23:25:01.806687Z",
     "start_time": "2022-11-30T23:25:01.798929Z"
    },
    "pycharm": {
     "name": "#%%\n"
    }
   },
   "outputs": [
    {
     "name": "stdout",
     "output_type": "stream",
     "text": [
      "<class 'pandas.core.frame.DataFrame'>\n",
      "RangeIndex: 95499 entries, 0 to 95498\n",
      "Data columns (total 3 columns):\n",
      " #   Column  Non-Null Count  Dtype   \n",
      "---  ------  --------------  -----   \n",
      " 0   dist    95499 non-null  float64 \n",
      " 1   ALPHA   95499 non-null  float128\n",
      " 2   DELTA   95499 non-null  float128\n",
      "dtypes: float128(2), float64(1)\n",
      "memory usage: 3.6 MB\n"
     ]
    }
   ],
   "source": [
    "dfrand.info()"
   ]
  },
  {
   "cell_type": "markdown",
   "metadata": {
    "pycharm": {
     "name": "#%% md\n"
    }
   },
   "source": [
    "### Cartesian coordinates\n",
    "\n",
    "Work always in Mpc/h units!!"
   ]
  },
  {
   "cell_type": "code",
   "execution_count": 51,
   "metadata": {
    "ExecuteTime": {
     "end_time": "2022-11-30T23:25:03.942708Z",
     "start_time": "2022-11-30T23:25:01.807786Z"
    },
    "pycharm": {
     "name": "#%%\n"
    }
   },
   "outputs": [],
   "source": [
    "dfrand['x'], dfrand['y'], dfrand['z'] = \\\n",
    "    coord.spherical_to_cartesian(r=dfrand['dist'].values,\n",
    "                                 lat=dfrand[dec_label]*DEG2RAD,\n",
    "                                 lon=dfrand[ra_label]*DEG2RAD)"
   ]
  },
  {
   "cell_type": "code",
   "execution_count": 52,
   "metadata": {
    "ExecuteTime": {
     "end_time": "2022-11-30T23:25:03.961012Z",
     "start_time": "2022-11-30T23:25:03.945027Z"
    },
    "pycharm": {
     "name": "#%%\n"
    }
   },
   "outputs": [
    {
     "data": {
      "text/html": [
       "<div>\n",
       "<style scoped>\n",
       "    .dataframe tbody tr th:only-of-type {\n",
       "        vertical-align: middle;\n",
       "    }\n",
       "\n",
       "    .dataframe tbody tr th {\n",
       "        vertical-align: top;\n",
       "    }\n",
       "\n",
       "    .dataframe thead th {\n",
       "        text-align: right;\n",
       "    }\n",
       "</style>\n",
       "<table border=\"1\" class=\"dataframe\">\n",
       "  <thead>\n",
       "    <tr style=\"text-align: right;\">\n",
       "      <th></th>\n",
       "      <th>dist</th>\n",
       "      <th>ALPHA</th>\n",
       "      <th>DELTA</th>\n",
       "      <th>x</th>\n",
       "      <th>y</th>\n",
       "      <th>z</th>\n",
       "    </tr>\n",
       "  </thead>\n",
       "  <tbody>\n",
       "    <tr>\n",
       "      <th>0</th>\n",
       "      <td>1001.621431</td>\n",
       "      <td>215.102843</td>\n",
       "      <td>53.110679</td>\n",
       "      <td>-491.890834</td>\n",
       "      <td>-345.743128</td>\n",
       "      <td>801.093371</td>\n",
       "    </tr>\n",
       "    <tr>\n",
       "      <th>1</th>\n",
       "      <td>676.139842</td>\n",
       "      <td>213.537840</td>\n",
       "      <td>52.308196</td>\n",
       "      <td>-344.578685</td>\n",
       "      <td>-228.399067</td>\n",
       "      <td>535.036897</td>\n",
       "    </tr>\n",
       "    <tr>\n",
       "      <th>2</th>\n",
       "      <td>997.599829</td>\n",
       "      <td>215.410668</td>\n",
       "      <td>53.323936</td>\n",
       "      <td>-485.634957</td>\n",
       "      <td>-345.258909</td>\n",
       "      <td>800.100240</td>\n",
       "    </tr>\n",
       "    <tr>\n",
       "      <th>3</th>\n",
       "      <td>1014.749976</td>\n",
       "      <td>215.105907</td>\n",
       "      <td>52.805520</td>\n",
       "      <td>-501.848631</td>\n",
       "      <td>-352.782423</td>\n",
       "      <td>808.337818</td>\n",
       "    </tr>\n",
       "    <tr>\n",
       "      <th>4</th>\n",
       "      <td>646.762657</td>\n",
       "      <td>215.261818</td>\n",
       "      <td>52.819053</td>\n",
       "      <td>-319.146636</td>\n",
       "      <td>-225.649264</td>\n",
       "      <td>515.295808</td>\n",
       "    </tr>\n",
       "  </tbody>\n",
       "</table>\n",
       "</div>"
      ],
      "text/plain": [
       "          dist       ALPHA      DELTA           x           y           z\n",
       "0  1001.621431  215.102843  53.110679 -491.890834 -345.743128  801.093371\n",
       "1   676.139842  213.537840  52.308196 -344.578685 -228.399067  535.036897\n",
       "2   997.599829  215.410668  53.323936 -485.634957 -345.258909  800.100240\n",
       "3  1014.749976  215.105907  52.805520 -501.848631 -352.782423  808.337818\n",
       "4   646.762657  215.261818  52.819053 -319.146636 -225.649264  515.295808"
      ]
     },
     "execution_count": 52,
     "metadata": {},
     "output_type": "execute_result"
    }
   ],
   "source": [
    "dfrand.head()"
   ]
  },
  {
   "cell_type": "code",
   "execution_count": 53,
   "metadata": {
    "ExecuteTime": {
     "end_time": "2022-11-30T23:25:04.395170Z",
     "start_time": "2022-11-30T23:25:03.962500Z"
    },
    "pycharm": {
     "name": "#%%\n"
    }
   },
   "outputs": [
    {
     "data": {
      "text/plain": [
       "<matplotlib.collections.PathCollection at 0x7fc0c81338b0>"
      ]
     },
     "execution_count": 53,
     "metadata": {},
     "output_type": "execute_result"
    },
    {
     "data": {
      "image/png": "[encoded data removed]",
      "text/plain": [
       "<Figure size 748.8x514.8 with 4 Axes>"
      ]
     },
     "metadata": {
      "needs_background": "light"
     },
     "output_type": "display_data"
    }
   ],
   "source": [
    "f, axes = plt.subplots(2,2, sharex=False, sharey=False)\n",
    "axes[0,0].scatter('x', 'y', data=dfrand, s=1)\n",
    "axes[0,0].scatter('x', 'y', data=dfdata, s=1)\n",
    "\n",
    "axes[0,1].scatter('z', 'y', data=dfrand, s=1)\n",
    "axes[0,1].scatter('z', 'y', data=dfdata, s=1)\n",
    "\n",
    "axes[1,0].scatter('x', 'z', data=dfrand, s=1)\n",
    "axes[1,0].scatter('x', 'z', data=dfdata, s=1)\n"
   ]
  },
  {
   "cell_type": "markdown",
   "metadata": {
    "ExecuteTime": {
     "end_time": "2021-06-17T12:12:00.997008Z",
     "start_time": "2021-06-17T12:12:00.992241Z"
    },
    "pycharm": {
     "name": "#%% md\n"
    }
   },
   "source": [
    "### Assign points in the random catalogue to regions"
   ]
  },
  {
   "cell_type": "markdown",
   "metadata": {
    "pycharm": {
     "name": "#%% md\n"
    }
   },
   "source": [
    "#### Rotate coordinates\n",
    "\n",
    "First, have to obtain the rotated coordinates for the points!"
   ]
  },
  {
   "cell_type": "code",
   "execution_count": 54,
   "metadata": {
    "ExecuteTime": {
     "end_time": "2022-11-30T23:25:04.425963Z",
     "start_time": "2022-11-30T23:25:04.396432Z"
    },
    "pycharm": {
     "name": "#%%\n"
    }
   },
   "outputs": [],
   "source": [
    "rotate_coordinates(alpha_c, delta_c, theta_deg, dfrand,\n",
    "                  ra_label, dec_label)"
   ]
  },
  {
   "cell_type": "code",
   "execution_count": 55,
   "metadata": {
    "ExecuteTime": {
     "end_time": "2022-11-30T23:25:04.436369Z",
     "start_time": "2022-11-30T23:25:04.427571Z"
    },
    "pycharm": {
     "name": "#%%\n"
    }
   },
   "outputs": [
    {
     "data": {
      "text/html": [
       "<div>\n",
       "<style scoped>\n",
       "    .dataframe tbody tr th:only-of-type {\n",
       "        vertical-align: middle;\n",
       "    }\n",
       "\n",
       "    .dataframe tbody tr th {\n",
       "        vertical-align: top;\n",
       "    }\n",
       "\n",
       "    .dataframe thead th {\n",
       "        text-align: right;\n",
       "    }\n",
       "</style>\n",
       "<table border=\"1\" class=\"dataframe\">\n",
       "  <thead>\n",
       "    <tr style=\"text-align: right;\">\n",
       "      <th></th>\n",
       "      <th>dist</th>\n",
       "      <th>ALPHA</th>\n",
       "      <th>DELTA</th>\n",
       "      <th>x</th>\n",
       "      <th>y</th>\n",
       "      <th>z</th>\n",
       "      <th>ALPHA_rot</th>\n",
       "      <th>DELTA_rot</th>\n",
       "    </tr>\n",
       "  </thead>\n",
       "  <tbody>\n",
       "    <tr>\n",
       "      <th>0</th>\n",
       "      <td>1001.621431</td>\n",
       "      <td>215.102843</td>\n",
       "      <td>53.110679</td>\n",
       "      <td>-491.890834</td>\n",
       "      <td>-345.743128</td>\n",
       "      <td>801.093371</td>\n",
       "      <td>215.468031</td>\n",
       "      <td>52.725584</td>\n",
       "    </tr>\n",
       "    <tr>\n",
       "      <th>1</th>\n",
       "      <td>676.139842</td>\n",
       "      <td>213.537840</td>\n",
       "      <td>52.308196</td>\n",
       "      <td>-344.578685</td>\n",
       "      <td>-228.399067</td>\n",
       "      <td>535.036897</td>\n",
       "      <td>213.421903</td>\n",
       "      <td>52.830751</td>\n",
       "    </tr>\n",
       "    <tr>\n",
       "      <th>2</th>\n",
       "      <td>997.599829</td>\n",
       "      <td>215.410668</td>\n",
       "      <td>53.323936</td>\n",
       "      <td>-485.634957</td>\n",
       "      <td>-345.258909</td>\n",
       "      <td>800.100240</td>\n",
       "      <td>215.932520</td>\n",
       "      <td>52.744322</td>\n",
       "    </tr>\n",
       "    <tr>\n",
       "      <th>3</th>\n",
       "      <td>1014.749976</td>\n",
       "      <td>215.105907</td>\n",
       "      <td>52.805520</td>\n",
       "      <td>-501.848631</td>\n",
       "      <td>-352.782423</td>\n",
       "      <td>808.337818</td>\n",
       "      <td>215.113855</td>\n",
       "      <td>52.509049</td>\n",
       "    </tr>\n",
       "    <tr>\n",
       "      <th>4</th>\n",
       "      <td>646.762657</td>\n",
       "      <td>215.261818</td>\n",
       "      <td>52.819053</td>\n",
       "      <td>-319.146636</td>\n",
       "      <td>-225.649264</td>\n",
       "      <td>515.295808</td>\n",
       "      <td>215.238992</td>\n",
       "      <td>52.451992</td>\n",
       "    </tr>\n",
       "  </tbody>\n",
       "</table>\n",
       "</div>"
      ],
      "text/plain": [
       "          dist       ALPHA      DELTA           x           y           z  \\\n",
       "0  1001.621431  215.102843  53.110679 -491.890834 -345.743128  801.093371   \n",
       "1   676.139842  213.537840  52.308196 -344.578685 -228.399067  535.036897   \n",
       "2   997.599829  215.410668  53.323936 -485.634957 -345.258909  800.100240   \n",
       "3  1014.749976  215.105907  52.805520 -501.848631 -352.782423  808.337818   \n",
       "4   646.762657  215.261818  52.819053 -319.146636 -225.649264  515.295808   \n",
       "\n",
       "    ALPHA_rot  DELTA_rot  \n",
       "0  215.468031  52.725584  \n",
       "1  213.421903  52.830751  \n",
       "2  215.932520  52.744322  \n",
       "3  215.113855  52.509049  \n",
       "4  215.238992  52.451992  "
      ]
     },
     "execution_count": 55,
     "metadata": {},
     "output_type": "execute_result"
    }
   ],
   "source": [
    "dfrand.head()"
   ]
  },
  {
   "cell_type": "markdown",
   "metadata": {
    "pycharm": {
     "name": "#%% md\n"
    }
   },
   "source": [
    "#### Assign regions\n",
    "\n",
    "Now, assign regions to points"
   ]
  },
  {
   "cell_type": "code",
   "execution_count": 56,
   "metadata": {
    "ExecuteTime": {
     "end_time": "2022-11-30T23:25:04.585903Z",
     "start_time": "2022-11-30T23:25:04.438063Z"
    },
    "pycharm": {
     "name": "#%%\n"
    }
   },
   "outputs": [],
   "source": [
    "dfrand['reg_id'] = assign_reg(ra_in=dfrand['ALPHA_rot'],\n",
    "                              dec_in=dfrand['DELTA_rot'],\n",
    "                              dec_min_reg=dec_min, dec_max_reg=dec_max,\n",
    "                              ra_min_reg=ra_min, ra_max_reg=ra_max)"
   ]
  },
  {
   "cell_type": "code",
   "execution_count": 57,
   "metadata": {
    "ExecuteTime": {
     "end_time": "2022-11-30T23:25:04.594878Z",
     "start_time": "2022-11-30T23:25:04.587050Z"
    },
    "pycharm": {
     "name": "#%%\n"
    }
   },
   "outputs": [
    {
     "data": {
      "text/html": [
       "<div>\n",
       "<style scoped>\n",
       "    .dataframe tbody tr th:only-of-type {\n",
       "        vertical-align: middle;\n",
       "    }\n",
       "\n",
       "    .dataframe tbody tr th {\n",
       "        vertical-align: top;\n",
       "    }\n",
       "\n",
       "    .dataframe thead th {\n",
       "        text-align: right;\n",
       "    }\n",
       "</style>\n",
       "<table border=\"1\" class=\"dataframe\">\n",
       "  <thead>\n",
       "    <tr style=\"text-align: right;\">\n",
       "      <th></th>\n",
       "      <th>dist</th>\n",
       "      <th>ALPHA</th>\n",
       "      <th>DELTA</th>\n",
       "      <th>x</th>\n",
       "      <th>y</th>\n",
       "      <th>z</th>\n",
       "      <th>ALPHA_rot</th>\n",
       "      <th>DELTA_rot</th>\n",
       "      <th>reg_id</th>\n",
       "    </tr>\n",
       "  </thead>\n",
       "  <tbody>\n",
       "    <tr>\n",
       "      <th>0</th>\n",
       "      <td>1001.621431</td>\n",
       "      <td>215.102843</td>\n",
       "      <td>53.110679</td>\n",
       "      <td>-491.890834</td>\n",
       "      <td>-345.743128</td>\n",
       "      <td>801.093371</td>\n",
       "      <td>215.468031</td>\n",
       "      <td>52.725584</td>\n",
       "      <td>14</td>\n",
       "    </tr>\n",
       "    <tr>\n",
       "      <th>1</th>\n",
       "      <td>676.139842</td>\n",
       "      <td>213.537840</td>\n",
       "      <td>52.308196</td>\n",
       "      <td>-344.578685</td>\n",
       "      <td>-228.399067</td>\n",
       "      <td>535.036897</td>\n",
       "      <td>213.421903</td>\n",
       "      <td>52.830751</td>\n",
       "      <td>9</td>\n",
       "    </tr>\n",
       "    <tr>\n",
       "      <th>2</th>\n",
       "      <td>997.599829</td>\n",
       "      <td>215.410668</td>\n",
       "      <td>53.323936</td>\n",
       "      <td>-485.634957</td>\n",
       "      <td>-345.258909</td>\n",
       "      <td>800.100240</td>\n",
       "      <td>215.932520</td>\n",
       "      <td>52.744322</td>\n",
       "      <td>15</td>\n",
       "    </tr>\n",
       "    <tr>\n",
       "      <th>3</th>\n",
       "      <td>1014.749976</td>\n",
       "      <td>215.105907</td>\n",
       "      <td>52.805520</td>\n",
       "      <td>-501.848631</td>\n",
       "      <td>-352.782423</td>\n",
       "      <td>808.337818</td>\n",
       "      <td>215.113855</td>\n",
       "      <td>52.509049</td>\n",
       "      <td>5</td>\n",
       "    </tr>\n",
       "    <tr>\n",
       "      <th>4</th>\n",
       "      <td>646.762657</td>\n",
       "      <td>215.261818</td>\n",
       "      <td>52.819053</td>\n",
       "      <td>-319.146636</td>\n",
       "      <td>-225.649264</td>\n",
       "      <td>515.295808</td>\n",
       "      <td>215.238992</td>\n",
       "      <td>52.451992</td>\n",
       "      <td>5</td>\n",
       "    </tr>\n",
       "  </tbody>\n",
       "</table>\n",
       "</div>"
      ],
      "text/plain": [
       "          dist       ALPHA      DELTA           x           y           z  \\\n",
       "0  1001.621431  215.102843  53.110679 -491.890834 -345.743128  801.093371   \n",
       "1   676.139842  213.537840  52.308196 -344.578685 -228.399067  535.036897   \n",
       "2   997.599829  215.410668  53.323936 -485.634957 -345.258909  800.100240   \n",
       "3  1014.749976  215.105907  52.805520 -501.848631 -352.782423  808.337818   \n",
       "4   646.762657  215.261818  52.819053 -319.146636 -225.649264  515.295808   \n",
       "\n",
       "    ALPHA_rot  DELTA_rot  reg_id  \n",
       "0  215.468031  52.725584      14  \n",
       "1  213.421903  52.830751       9  \n",
       "2  215.932520  52.744322      15  \n",
       "3  215.113855  52.509049       5  \n",
       "4  215.238992  52.451992       5  "
      ]
     },
     "execution_count": 57,
     "metadata": {},
     "output_type": "execute_result"
    }
   ],
   "source": [
    "dfrand.head()"
   ]
  },
  {
   "cell_type": "code",
   "execution_count": 58,
   "metadata": {
    "ExecuteTime": {
     "end_time": "2022-11-30T23:25:05.874499Z",
     "start_time": "2022-11-30T23:25:04.595965Z"
    },
    "pycharm": {
     "name": "#%%\n"
    }
   },
   "outputs": [
    {
     "data": {
      "text/plain": [
       "<matplotlib.collections.PathCollection at 0x7fc0a8530190>"
      ]
     },
     "execution_count": 58,
     "metadata": {},
     "output_type": "execute_result"
    },
    {
     "data": {
      "image/png": "[encoded data removed]",
      "text/plain": [
       "<Figure size 748.8x514.8 with 1 Axes>"
      ]
     },
     "metadata": {
      "needs_background": "light"
     },
     "output_type": "display_data"
    }
   ],
   "source": [
    "f, ax = plt.subplots()\n",
    "ax.scatter(ra_label, dec_label, data=dfrand, s=2, c='reg_id',\n",
    "            cmap='tab20', vmin=0, vmax=19)"
   ]
  },
  {
   "cell_type": "markdown",
   "metadata": {
    "pycharm": {
     "name": "#%% md\n"
    }
   },
   "source": [
    "Also, count no. of galaxies per region"
   ]
  },
  {
   "cell_type": "code",
   "execution_count": 59,
   "metadata": {
    "ExecuteTime": {
     "end_time": "2022-11-30T23:25:05.887149Z",
     "start_time": "2022-11-30T23:25:05.875857Z"
    },
    "pycharm": {
     "name": "#%%\n"
    }
   },
   "outputs": [],
   "source": [
    "n_gals_per_region_rand = dfrand.groupby('reg_id').count()['x']"
   ]
  },
  {
   "cell_type": "code",
   "execution_count": 60,
   "metadata": {
    "ExecuteTime": {
     "end_time": "2022-11-30T23:25:05.892406Z",
     "start_time": "2022-11-30T23:25:05.888819Z"
    },
    "pycharm": {
     "name": "#%%\n"
    }
   },
   "outputs": [
    {
     "data": {
      "text/plain": [
       "reg_id\n",
       "0     6024\n",
       "1     5986\n",
       "2     6087\n",
       "3     5761\n",
       "4     5965\n",
       "5     5953\n",
       "6     5980\n",
       "7     5839\n",
       "8     5932\n",
       "9     6168\n",
       "10    5922\n",
       "11    6123\n",
       "12    5923\n",
       "13    5887\n",
       "14    5902\n",
       "15    6047\n",
       "Name: x, dtype: int64"
      ]
     },
     "execution_count": 60,
     "metadata": {},
     "output_type": "execute_result"
    }
   ],
   "source": [
    "n_gals_per_region_rand"
   ]
  },
  {
   "cell_type": "code",
   "execution_count": 61,
   "metadata": {
    "ExecuteTime": {
     "end_time": "2022-11-30T23:25:06.010562Z",
     "start_time": "2022-11-30T23:25:05.893567Z"
    },
    "pycharm": {
     "name": "#%%\n"
    }
   },
   "outputs": [
    {
     "data": {
      "text/plain": [
       "<AxesSubplot:xlabel='reg_id'>"
      ]
     },
     "execution_count": 61,
     "metadata": {},
     "output_type": "execute_result"
    },
    {
     "data": {
      "image/png": "[encoded data removed]",
      "text/plain": [
       "<Figure size 748.8x514.8 with 1 Axes>"
      ]
     },
     "metadata": {
      "needs_background": "light"
     },
     "output_type": "display_data"
    }
   ],
   "source": [
    "n_gals_per_region_rand.plot(kind='bar')"
   ]
  },
  {
   "cell_type": "markdown",
   "metadata": {
    "pycharm": {
     "name": "#%% md\n"
    }
   },
   "source": [
    "### Save to files"
   ]
  },
  {
   "cell_type": "code",
   "execution_count": 62,
   "metadata": {
    "ExecuteTime": {
     "end_time": "2022-11-30T23:25:06.291196Z",
     "start_time": "2022-11-30T23:25:06.012049Z"
    },
    "pycharm": {
     "name": "#%%\n"
    }
   },
   "outputs": [],
   "source": [
    "out_cat_rand_file = out_rand_name + cat_suffix\n",
    "dfrand.to_csv(out_cat_rand_file, sep='\\t', index=False, header=False,\n",
    "              columns=['x', 'y', 'z', 'reg_id'])"
   ]
  },
  {
   "cell_type": "code",
   "execution_count": 63,
   "metadata": {
    "ExecuteTime": {
     "end_time": "2022-11-30T23:25:06.298025Z",
     "start_time": "2022-11-30T23:25:06.293717Z"
    },
    "pycharm": {
     "name": "#%%\n"
    }
   },
   "outputs": [
    {
     "data": {
      "text/plain": [
       "'rand100_v1_HODsel_z0.1z0.4_imag21.xyz'"
      ]
     },
     "execution_count": 63,
     "metadata": {},
     "output_type": "execute_result"
    }
   ],
   "source": [
    "out_cat_rand_file"
   ]
  },
  {
   "cell_type": "code",
   "execution_count": 64,
   "metadata": {
    "ExecuteTime": {
     "end_time": "2022-11-30T23:25:06.429133Z",
     "start_time": "2022-11-30T23:25:06.300032Z"
    },
    "pycharm": {
     "name": "#%%\n"
    }
   },
   "outputs": [
    {
     "name": "stdout",
     "output_type": "stream",
     "text": [
      "-491.8908337216599\t-345.7431276491132\t801.0933706860168\t14\r\n",
      "-344.57868536566156\t-228.39906741093708\t535.0368973902731\t9\r\n",
      "-485.63495699781095\t-345.2589091362929\t800.1002397909241\t15\r\n",
      "-501.84863109509\t-352.78242268241667\t808.3378176189694\t5\r\n",
      "-319.14663610161404\t-225.64926368139\t515.2958075009391\t5\r\n",
      "-483.358568340355\t-319.98293029425633\t746.6524894475166\t8\r\n",
      "-389.5629927650225\t-268.40524305043283\t615.6477121544871\t3\r\n",
      "-420.4596656565128\t-296.15355007811314\t689.7566096512164\t14\r\n",
      "-440.9056569654497\t-310.60217673112686\t722.9703666381007\t14\r\n",
      "-305.14339678792885\t-218.25900355823623\t500.09581672210686\t7\r\n"
     ]
    }
   ],
   "source": [
    "!head {out_cat_rand_file}"
   ]
  },
  {
   "cell_type": "code",
   "execution_count": 65,
   "metadata": {
    "ExecuteTime": {
     "end_time": "2022-11-30T23:25:06.439962Z",
     "start_time": "2022-11-30T23:25:06.432276Z"
    },
    "pycharm": {
     "name": "#%%\n"
    }
   },
   "outputs": [],
   "source": [
    "out_np_rand_file = out_rand_name + np_suffix\n",
    "n_gals_per_region_rand.to_csv(out_np_rand_file, index=False, header=False)"
   ]
  },
  {
   "cell_type": "code",
   "execution_count": 66,
   "metadata": {
    "ExecuteTime": {
     "end_time": "2022-11-30T23:25:06.447699Z",
     "start_time": "2022-11-30T23:25:06.442301Z"
    },
    "pycharm": {
     "name": "#%%\n"
    }
   },
   "outputs": [
    {
     "data": {
      "text/plain": [
       "'rand100_v1_HODsel_z0.1z0.4_imag21.ngals'"
      ]
     },
     "execution_count": 66,
     "metadata": {},
     "output_type": "execute_result"
    }
   ],
   "source": [
    "out_np_rand_file"
   ]
  },
  {
   "cell_type": "code",
   "execution_count": 67,
   "metadata": {
    "ExecuteTime": {
     "end_time": "2022-11-30T23:25:06.577116Z",
     "start_time": "2022-11-30T23:25:06.449625Z"
    },
    "pycharm": {
     "name": "#%%\n"
    }
   },
   "outputs": [
    {
     "name": "stdout",
     "output_type": "stream",
     "text": [
      "6024\r\n",
      "5986\r\n",
      "6087\r\n",
      "5761\r\n",
      "5965\r\n",
      "5953\r\n",
      "5980\r\n",
      "5839\r\n",
      "5932\r\n",
      "6168\r\n"
     ]
    }
   ],
   "source": [
    "!head {out_np_rand_file}"
   ]
  },
  {
   "cell_type": "code",
   "execution_count": null,
   "metadata": {
    "pycharm": {
     "name": "#%%\n"
    }
   },
   "outputs": [],
   "source": []
  }
 ],
 "metadata": {
  "hide_input": false,
  "kernelspec": {
   "display_name": "Python 3 (ipykernel)",
   "language": "python",
   "name": "python3"
  },
  "language_info": {
   "codemirror_mode": {
    "name": "ipython",
    "version": 3
   },
   "file_extension": ".py",
   "mimetype": "text/x-python",
   "name": "python",
   "nbconvert_exporter": "python",
   "pygments_lexer": "ipython3",
   "version": "3.8.8"
  },
  "toc": {
   "base_numbering": 1,
   "nav_menu": {},
   "number_sections": true,
   "sideBar": true,
   "skip_h1_title": true,
   "title_cell": "Table of Contents",
   "title_sidebar": "Contents",
   "toc_cell": false,
   "toc_position": {},
   "toc_section_display": true,
   "toc_window_display": true
  },
  "varInspector": {
   "cols": {
    "lenName": 16,
    "lenType": 16,
    "lenVar": 40
   },
   "kernels_config": {
    "python": {
     "delete_cmd_postfix": "",
     "delete_cmd_prefix": "del ",
     "library": "var_list.py",
     "varRefreshCmd": "print(var_dic_list())"
    },
    "r": {
     "delete_cmd_postfix": ") ",
     "delete_cmd_prefix": "rm(",
     "library": "var_list.r",
     "varRefreshCmd": "cat(var_dic_list()) "
    }
   },
   "types_to_exclude": [
    "module",
    "function",
    "builtin_function_or_method",
    "instance",
    "_Feature"
   ],
   "window_display": false
  }
 },
 "nbformat": 4,
 "nbformat_minor": 4
}
