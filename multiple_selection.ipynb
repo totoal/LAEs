{
 "cells": [
  {
   "cell_type": "code",
   "execution_count": null,
   "metadata": {},
   "outputs": [],
   "source": [
    "import numpy as np\n",
    "import matplotlib.pyplot as plt"
   ]
  },
  {
   "cell_type": "code",
   "execution_count": null,
   "metadata": {},
   "outputs": [],
   "source": [
    "times_selected = np.load('tmp/times_selected.npy')\n",
    "times_nicez = np.load('tmp/times_nicez.npy')\n",
    "L_lya = np.load('tmp/L_lya.npy')\n",
    "zspec = np.load('tmp/zspec.npy')\n",
    "is_qso = np.load('tmp/is_qso.npy')\n",
    "is_sf = np.load('tmp/is_sf.npy')\n",
    "is_gal = np.load('tmp/is_gal.npy')\n",
    "where_hiL = np.load('tmp/where_hiL.npy')"
   ]
  },
  {
   "cell_type": "code",
   "execution_count": null,
   "metadata": {},
   "outputs": [],
   "source": [
    "from matplotlib.colors import LogNorm\n",
    "\n",
    "where = is_sf\n",
    "\n",
    "fig, ax = plt.subplots(figsize=(6, 4))\n",
    "\n",
    "bins2d = [np.linspace(42, 46, 50), np.linspace(0, 100, 50)]\n",
    "h = ax.hist2d(L_lya[where], times_selected[where] / 2, bins=bins2d, norm=LogNorm())\n",
    "fig.colorbar(h[3], ax=ax)\n",
    "\n",
    "ax.set_xlabel('log L_lya')\n",
    "ax.set_ylabel('% times selected')\n",
    "\n",
    "plt.show()"
   ]
  }
 ],
 "metadata": {
  "kernelspec": {
   "display_name": "Python 3.9.13 ('base')",
   "language": "python",
   "name": "python3"
  },
  "language_info": {
   "codemirror_mode": {
    "name": "ipython",
    "version": 3
   },
   "file_extension": ".py",
   "mimetype": "text/x-python",
   "name": "python",
   "nbconvert_exporter": "python",
   "pygments_lexer": "ipython3",
   "version": "3.9.13"
  },
  "orig_nbformat": 4,
  "vscode": {
   "interpreter": {
    "hash": "ade4bca3e0042e0da78fecdb82351169c0f2ccedb06a0d7cf7342df8f7e47af7"
   }
  }
 },
 "nbformat": 4,
 "nbformat_minor": 2
}
