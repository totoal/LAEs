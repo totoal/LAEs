{
 "cells": [
  {
   "cell_type": "code",
   "execution_count": null,
   "id": "included-conditions",
   "metadata": {},
   "outputs": [],
   "source": [
    "import numpy as np\n",
    "import matplotlib.pyplot as plt\n",
    "from scipy.stats import norm\n",
    "from scipy.integrate import simps\n",
    "from my_functions import *"
   ]
  },
  {
   "cell_type": "code",
   "execution_count": null,
   "id": "fallen-manhattan",
   "metadata": {},
   "outputs": [],
   "source": [
    "N_spec = 1000\n",
    "binning = 10000\n",
    "\n",
    "#Parameters' range\n",
    "f_in = [-19., -16. ]\n",
    "e_in = [10  , 100  ]\n",
    "w_in = [2500, 10000]\n",
    "z_in = [2.8 , 3.2  ]"
   ]
  },
  {
   "cell_type": "code",
   "execution_count": null,
   "id": "several-tuner",
   "metadata": {},
   "outputs": [],
   "source": [
    "z_Arr = np.random.rand(N_spec)*(z_in[1] - z_in[0]) + z_in[0]\n",
    "e_Arr = np.random.rand(N_spec)*(e_in[1] - e_in[0]) + e_in[0]\n",
    "w_Arr = np.linspace(w_in[0], w_in[1], binning)\n",
    "f_Arr = 10**(np.random.rand(N_spec)*(f_in[1] - f_in[0]) + f_in[0])"
   ]
  },
  {
   "cell_type": "code",
   "execution_count": null,
   "id": "unable-powder",
   "metadata": {},
   "outputs": [],
   "source": [
    "# Continuum\n",
    "cont = f_Arr*np.ones((binning, N_spec))\n",
    "cont = cont.transpose()"
   ]
  },
  {
   "cell_type": "code",
   "execution_count": null,
   "id": "comparative-algorithm",
   "metadata": {},
   "outputs": [],
   "source": [
    "# Line\n",
    "w_Lya = 1215.67\n",
    "\n",
    "lines = np.zeros((N_spec, binning))\n",
    "F_line = e_Arr*(1+z_Arr)*f_Arr - f_Arr\n",
    "\n",
    "for i in range(N_spec):\n",
    "    lines[i, :] = F_line[i]*norm.pdf(w_Arr, (z_Arr[i]+1)*w_Lya, 5)"
   ]
  },
  {
   "cell_type": "code",
   "execution_count": null,
   "id": "blond-pledge",
   "metadata": {},
   "outputs": [],
   "source": [
    "# Continuum + line\n",
    "spec = cont + lines"
   ]
  },
  {
   "cell_type": "code",
   "execution_count": null,
   "id": "hydraulic-lancaster",
   "metadata": {},
   "outputs": [],
   "source": [
    "# Plot some spectra\n",
    "fig, axs = plt.subplots(4, 2, figsize=(15,7))\n",
    "k = 0\n",
    "for i in range(4):\n",
    "    for j in range(2):\n",
    "        axs[i,j].plot(w_Arr, spec[k, :])\n",
    "        k += 1"
   ]
  },
  {
   "cell_type": "code",
   "execution_count": null,
   "id": "approved-family",
   "metadata": {},
   "outputs": [],
   "source": [
    "# T curve of top-hat filter\n",
    "fl_nb_w    = 4902. # As in J0490\n",
    "fl_nb_fwhm = 154.  # As in J0490\n",
    "fl_nb_z = fl_nb_w/w_Lya - 1\n",
    "\n",
    "fl_bb_w    = 4750.  # As in gSDSS\n",
    "fl_bb_fwhm = 1250.  # As in gSDSS\n",
    "\n",
    "tcurve_nb = np.zeros(binning)\n",
    "tcurve_nb[np.where(np.abs(w_Arr - fl_nb_w) < fl_nb_fwhm/2)] += 1\n",
    "\n",
    "tcurve_bb = np.zeros(binning)\n",
    "tcurve_bb[np.where(np.abs(w_Arr - fl_bb_w) < fl_bb_fwhm/2)] += 1\n",
    "\n",
    "fig, axs = plt.subplots(figsize = (15, 7))\n",
    "axs.plot(w_Arr, tcurve_nb)\n",
    "axs.plot(w_Arr, tcurve_bb)\n",
    "plt.show()"
   ]
  },
  {
   "cell_type": "code",
   "execution_count": null,
   "id": "private-magnet",
   "metadata": {},
   "outputs": [],
   "source": [
    "# Photometry\n",
    "pm_nb = []\n",
    "pm_bb = []\n",
    "for i in range(N_spec):\n",
    "    pm_aux = (simps(spec[i, :]*tcurve_nb*w_Arr, w_Arr)/simps(tcurve_nb*w_Arr, w_Arr),\n",
    "              simps(spec[i, :]*tcurve_bb*w_Arr, w_Arr)/simps(tcurve_bb*w_Arr, w_Arr))\n",
    "    pm_nb.append(pm_aux[0])\n",
    "    pm_bb.append(pm_aux[1])"
   ]
  },
  {
   "cell_type": "code",
   "execution_count": null,
   "id": "molecular-model",
   "metadata": {},
   "outputs": [],
   "source": [
    "# Plot\n",
    "nb = flux_to_mag(np.array(pm_nb), fl_nb_w)\n",
    "bb = flux_to_mag(np.array(pm_bb), fl_bb_w)\n",
    "\n",
    "plt.figure(figsize=(10,7))\n",
    "plt.scatter(nb, bb-nb)\n",
    "plt.xlabel('NB', size=15)\n",
    "plt.ylabel('BB - NB', size=15)\n",
    "plt.show()"
   ]
  },
  {
   "cell_type": "code",
   "execution_count": null,
   "id": "accredited-validation",
   "metadata": {},
   "outputs": [],
   "source": [
    "# EW test\n",
    "def ew_theo(bbnb_x):\n",
    "    return (10**(bbnb_x/2.5) - 1) * fl_nb_fwhm/(1+fl_nb_z)\n",
    "\n",
    "bbnb_x = np.linspace(0, 1.5, 100)\n",
    "\n",
    "plt.figure(figsize=(10,7))\n",
    "plt.scatter(bb-nb, e_Arr)\n",
    "plt.plot(bbnb_x, ew_theo(bbnb_x), c='red')\n",
    "plt.xlim((0,1.4))\n",
    "plt.xlabel('BB - NB', size=15)\n",
    "plt.ylabel('EW$_0$' , size=15)\n",
    "plt.show()"
   ]
  },
  {
   "cell_type": "code",
   "execution_count": null,
   "id": "lovely-ivory",
   "metadata": {},
   "outputs": [],
   "source": []
  }
 ],
 "metadata": {
  "kernelspec": {
   "display_name": "Python 3",
   "language": "python",
   "name": "python3"
  },
  "language_info": {
   "codemirror_mode": {
    "name": "ipython",
    "version": 3
   },
   "file_extension": ".py",
   "mimetype": "text/x-python",
   "name": "python",
   "nbconvert_exporter": "python",
   "pygments_lexer": "ipython3",
   "version": "3.8.5"
  }
 },
 "nbformat": 4,
 "nbformat_minor": 5
}
