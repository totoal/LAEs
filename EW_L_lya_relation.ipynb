{
 "cells": [
  {
   "cell_type": "code",
   "execution_count": null,
   "metadata": {},
   "outputs": [],
   "source": [
    "import matplotlib.pyplot as plt\n",
    "import numpy as np"
   ]
  },
  {
   "cell_type": "code",
   "execution_count": null,
   "metadata": {},
   "outputs": [],
   "source": [
    "EW_lya = np.load('npy/EW0_DR16.npy')\n",
    "L_lya = np.load('npy/L_lya_DR16.npy')"
   ]
  },
  {
   "cell_type": "code",
   "execution_count": null,
   "metadata": {},
   "outputs": [],
   "source": [
    "fig, ax = plt.subplots(figsize=(6, 4))\n",
    "\n",
    "ax.scatter(EW_lya, L_lya)\n",
    "ax.set_xscale('log')\n",
    "\n",
    "plt.show()"
   ]
  },
  {
   "cell_type": "code",
   "execution_count": null,
   "metadata": {},
   "outputs": [],
   "source": [
    "from my_functions import bin_centers\n",
    "\n",
    "L_bins = np.linspace(42, 46, 50)\n",
    "bc = bin_centers(L_bins)\n",
    "\n",
    "percs = []\n",
    "for i in range(len(L_bins) - 1):\n",
    "    mask = (L_lya > L_bins[i]) & (L_lya <= L_bins[i + 1])\n",
    "    percs.append(np.nanpercentile(EW_lya[mask], [10, 50, 90]))\n",
    "\n",
    "percs = np.array(percs)\n",
    "\n",
    "np.save('npy/percs_L_EW_relation', percs)"
   ]
  },
  {
   "cell_type": "code",
   "execution_count": null,
   "metadata": {},
   "outputs": [],
   "source": [
    "fig, ax = plt.subplots(figsize=(6, 4))\n",
    "\n",
    "ax.scatter(L_lya, EW_lya, s=3)\n",
    "\n",
    "EW_std = (percs[:, 2] - percs[:, 0]) * 0.5\n",
    "\n",
    "ax.plot(bc, percs[:, 1], color='k')\n",
    "ax.plot(bc, percs[:, 1] + EW_std, color='k')\n",
    "ax.plot(bc, percs[:, 1] - EW_std, color='k')\n",
    "\n",
    "ax.set_yscale('log')\n",
    "ax.set_ylim(1e-1, 1e3)\n",
    "ax.set_xlim(43, 46)\n",
    "\n",
    "plt.show()"
   ]
  }
 ],
 "metadata": {
  "kernelspec": {
   "display_name": "Python 3.9.13 ('base')",
   "language": "python",
   "name": "python3"
  },
  "language_info": {
   "codemirror_mode": {
    "name": "ipython",
    "version": 3
   },
   "file_extension": ".py",
   "mimetype": "text/x-python",
   "name": "python",
   "nbconvert_exporter": "python",
   "pygments_lexer": "ipython3",
   "version": "3.9.13"
  },
  "orig_nbformat": 4,
  "vscode": {
   "interpreter": {
    "hash": "ade4bca3e0042e0da78fecdb82351169c0f2ccedb06a0d7cf7342df8f7e47af7"
   }
  }
 },
 "nbformat": 4,
 "nbformat_minor": 2
}
