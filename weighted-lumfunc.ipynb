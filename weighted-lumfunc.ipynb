{
 "cells": [
  {
   "cell_type": "code",
   "execution_count": null,
   "id": "ca15a681",
   "metadata": {},
   "outputs": [],
   "source": [
    "import numpy as np\n",
    "import matplotlib.pyplot as plt\n",
    "from LumFunc_miniJPAS import LumFunc\n",
    "from perturbed_phot import perturb_phot\n",
    "from my_functions import *\n",
    "from colorplot import *"
   ]
  },
  {
   "cell_type": "code",
   "execution_count": null,
   "id": "c36ce12d",
   "metadata": {},
   "outputs": [],
   "source": [
    "cat = load_noflag_cat('pkl/catalogDual_pz.pkl')"
   ]
  },
  {
   "cell_type": "code",
   "execution_count": null,
   "id": "06f876de",
   "metadata": {},
   "outputs": [],
   "source": [
    "def load_mags(nb_ind):\n",
    "#     nb_ind = 11 # J0480\n",
    "    bb_ind = -3 # g\n",
    "\n",
    "    mask_fzero = (cat['MAG'][:, nb_ind] < 90) & (cat['MAG'][:, bb_ind] < 90)\n",
    "\n",
    "    nb_m = cat['MAG'][mask_fzero, nb_ind]\n",
    "    bb_m = cat['MAG'][mask_fzero, bb_ind]\n",
    "    nb_e = cat['ERR'][mask_fzero, nb_ind]\n",
    "    bb_e = cat['ERR'][mask_fzero, bb_ind]\n",
    "\n",
    "    # Define binning\n",
    "    m_min = 14\n",
    "    m_max = 26\n",
    "    m_bin_n = 75\n",
    "    x_e = np.linspace(m_min, m_max, m_bin_n)\n",
    "\n",
    "    # SNR=5 cut\n",
    "    bbcut = x_e[np.nanargmin(np.abs(m_err_bin(bb_m, bb_e, x_e, bb_m) - 0.24))]\n",
    "    nbcut = x_e[np.nanargmin(np.abs(m_err_bin(nb_m, nb_e, x_e, nb_m) - 0.24))]\n",
    "    \n",
    "    return nb_m, bb_m, nb_e, bb_e, bbcut, nbcut"
   ]
  },
  {
   "cell_type": "code",
   "execution_count": null,
   "id": "ee19b491",
   "metadata": {
    "scrolled": true
   },
   "outputs": [],
   "source": [
    "nb_ind = 11\n",
    "bb_ind = -3\n",
    "nb_m, bb_m, nb_e, bb_e, bbcut, nbcut = load_mags(nb_ind)\n",
    "\n",
    "n_lm = 50\n",
    "total_sel = np.zeros(nb_m.shape)\n",
    "\n",
    "w_pivot = central_wavelength(load_tcurves(load_filter_tags()))[nb_ind]\n",
    "w_pivot_bb = central_wavelength(load_tcurves(load_filter_tags()))[bb_ind]\n",
    "w_fwhm = nb_fwhm(load_tcurves(load_filter_tags()), nb_ind, True)\n",
    "n_bins = 25\n",
    "L_min = 43.5\n",
    "L_max = 45\n",
    "\n",
    "LF_y = np.zeros((n_lm, n_bins))\n",
    "errors_total = np.zeros((n_lm, n_bins))\n",
    "\n",
    "for i in range(n_lm):\n",
    "    print('{}/{}'.format(str(i+1), str(n_lm), end='\\r'))\n",
    "    this_sel, mag_bb, mag_nb = perturb_phot(nb_m, nb_e, bb_m, bb_e,\n",
    "                                            30, nb_ind, 1, \n",
    "                                            bbcut, nbcut)\n",
    "    idx = np.where(this_sel)\n",
    "    f_line = mag_to_flux(mag_nb[idx], w_pivot) - mag_to_flux(mag_bb[idx], w_pivot_bb)\n",
    "    total_sel += this_sel\n",
    "    x, y, error = LumFunc(f_line, w_pivot, w_fwhm, n_bins, L_min, L_max)\n",
    "    LF_x = x\n",
    "    LF_y[i] = y\n",
    "    errors_total[i] = error"
   ]
  },
  {
   "cell_type": "code",
   "execution_count": null,
   "id": "fe51808f",
   "metadata": {},
   "outputs": [],
   "source": [
    "x = LF_x\n",
    "y = np.mean(LF_y, axis=0)\n",
    "err = np.std(LF_y, axis=0)"
   ]
  },
  {
   "cell_type": "code",
   "execution_count": null,
   "id": "40f5b775",
   "metadata": {},
   "outputs": [],
   "source": [
    "fig, ax = plt.subplots(figsize = (8,6))\n",
    "ax.plot(x, y, '.', markersize=20)\n",
    "ax.errorbar(x, y, yerr = err, fmt='none')\n",
    "ax.set_yscale('log')\n",
    "ax.set_ylabel(r'$\\Phi$ [Mpc$^{-3}\\Delta\\log L^{-1}$]', size=15)\n",
    "ax.set_xlabel(r'$\\log_{10}(L_{\\mathrm{Ly}\\alpha}\\,/\\,\\mathrm{erg}\\,\\mathrm{s}^{-1})$', size=15)\n",
    "plt.show()"
   ]
  },
  {
   "cell_type": "code",
   "execution_count": null,
   "id": "e2fc711e",
   "metadata": {},
   "outputs": [],
   "source": [
    "weights = total_sel / n_lm\n",
    "make_colorplot(cat, bb_ind, nb_ind, [], 'NB', False, weights)"
   ]
  }
 ],
 "metadata": {
  "kernelspec": {
   "display_name": "Python 3",
   "language": "python",
   "name": "python3"
  },
  "language_info": {
   "codemirror_mode": {
    "name": "ipython",
    "version": 3
   },
   "file_extension": ".py",
   "mimetype": "text/x-python",
   "name": "python",
   "nbconvert_exporter": "python",
   "pygments_lexer": "ipython3",
   "version": "3.8.10"
  }
 },
 "nbformat": 4,
 "nbformat_minor": 5
}
