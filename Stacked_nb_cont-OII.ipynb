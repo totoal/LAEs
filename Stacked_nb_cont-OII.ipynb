{
 "cells": [
  {
   "cell_type": "code",
   "execution_count": null,
   "id": "98e7253e",
   "metadata": {},
   "outputs": [],
   "source": [
    "import numpy as np\n",
    "import matplotlib.pyplot as plt\n",
    "from my_functions import *\n",
    "from scipy.integrate import simps\n",
    "from time import time\n",
    "from scipy.special import erf"
   ]
  },
  {
   "cell_type": "code",
   "execution_count": null,
   "id": "02678dcd",
   "metadata": {},
   "outputs": [],
   "source": [
    "pm_data = np.load('npy/pm_eOII_1deg.npy')\n",
    "f_name = 'Source_cats/Source_cat_OII_1deg.npy'\n",
    "mock = np.load(f_name, allow_pickle=True).item()\n",
    "errors = np.load('npy/errors5Sigma.npy')[:,1]\n",
    "\n",
    "pm_data.shape"
   ]
  },
  {
   "cell_type": "code",
   "execution_count": null,
   "id": "c24a050d",
   "metadata": {},
   "outputs": [],
   "source": [
    "filters_tags = load_filter_tags()\n",
    "tcurves = load_tcurves(filters_tags)\n",
    "w_central = np.array(central_wavelength(tcurves))"
   ]
  },
  {
   "cell_type": "code",
   "execution_count": null,
   "id": "60134bd0",
   "metadata": {},
   "outputs": [],
   "source": [
    "bb_fwhm = [\n",
    "    nb_fwhm(tcurves, -4, True),\n",
    "    nb_fwhm(tcurves, -3, True),\n",
    "    nb_fwhm(tcurves, -2, True),\n",
    "    nb_fwhm(tcurves, -1, True)\n",
    "]"
   ]
  },
  {
   "cell_type": "code",
   "execution_count": null,
   "id": "6a00a60e",
   "metadata": {},
   "outputs": [],
   "source": [
    "# The model function\n",
    "def model_f(x, m, b):\n",
    "    return m*x + b "
   ]
  },
  {
   "cell_type": "code",
   "execution_count": null,
   "id": "310eb533",
   "metadata": {},
   "outputs": [],
   "source": [
    "nb_c = 14\n",
    "N_nb_stack = 6\n",
    "ew0min = 50\n",
    "nb_fwhm_Arr = [nb_fwhm(tcurves, idx, True) for idx in np.arange(len(filters_tags))]\n",
    "err = (np.ones(pm_data.shape).T * errors).T\n",
    "cont_stack, cont_err_stack = stack_estimation(\n",
    "    pm_data, err, nb_c, N_nb_stack, w_central, nb_fwhm_Arr, ew0min\n",
    ")"
   ]
  },
  {
   "cell_type": "code",
   "execution_count": null,
   "id": "ddc493cd",
   "metadata": {},
   "outputs": [],
   "source": [
    "# Synthetic photometry of the continuum using the central NB\n",
    "w_t = tcurves['w'][nb_c]\n",
    "t = tcurves['t'][nb_c]\n",
    "w_Arr = mock['w_Arr']\n",
    "real_cont_value = np.zeros(len(mock['SEDs']))\n",
    "i = 0\n",
    "for m_SED in mock['SEDs_no_line']:\n",
    "    t_interp = np.interp(w_Arr, w_t, t)\n",
    "    real_cont_value[i] = simps(t_interp * m_SED * w_Arr, w_Arr) / simps(t_interp * w_Arr, w_Arr)\n",
    "    i += 1"
   ]
  },
  {
   "cell_type": "code",
   "execution_count": null,
   "id": "625e7bc4",
   "metadata": {
    "scrolled": false
   },
   "outputs": [],
   "source": [
    "%matplotlib notebook\n",
    "plt.close('all')\n",
    "for mock_n in range(19):\n",
    "    pm = pm_data[:,mock_n]\n",
    "    \n",
    "    fig, ax = plt.subplots()\n",
    "    ax.plot( mock['w_Arr'], mock['SEDs'][mock_n], c='orange', lw=2, zorder=-1)\n",
    "    ax.errorbar(w_central[:-3], pm[:-3], yerr=errors[:-3], c='gray', fmt='.')\n",
    "    ax.scatter(w_central[nb_c], real_cont_value[mock_n], c='black')\n",
    "\n",
    "    ax.scatter(w_central[-4], pm[-4], c='purple' , marker='s')\n",
    "    ax.scatter(w_central[-3], pm[-3], c='green'  , marker='s')\n",
    "    ax.scatter(w_central[-2], pm[-2], c='red'    , marker='s')\n",
    "    ax.scatter(w_central[-1], pm[-1], c='dimgray', marker='s')\n",
    "\n",
    "    ax.errorbar(w_central[-4], pm[-4],\n",
    "                xerr=bb_fwhm[-4]/2, yerr=errors[-4],\n",
    "                fmt='none', color='purple' , elinewidth=4)\n",
    "    ax.errorbar(w_central[-3], pm[-3], yerr=errors[-3],\n",
    "                xerr=bb_fwhm[-3]/2, fmt='none', color='green'  , elinewidth=4)\n",
    "    ax.errorbar(w_central[-2], pm[-2], yerr=errors[-2],\n",
    "                xerr=bb_fwhm[-2]/2, fmt='none', color='red'    , elinewidth=4)\n",
    "    ax.errorbar(w_central[-1], pm[-1], yerr=errors[-1],\n",
    "                xerr=bb_fwhm[-1]/2, fmt='none', color='dimgray', elinewidth=4)\n",
    "\n",
    "    ax.set_xlabel('$\\lambda\\ (\\AA)$', size=15)\n",
    "    ax.set_ylabel('$f_\\lambda$ (erg cm$^{-2}$ s$^{-1}$ $\\AA^{-1}$)', size=15)\n",
    "\n",
    "    # Fit line\n",
    "    ax.errorbar(w_central[nb_c]+10, cont_stack[mock_n], yerr=cont_err_stack[mock_n],\n",
    "                c='violet', marker='^', markersize=9,\n",
    "                capsize=4, label='Stack NBs', elinewidth=2, capthick=2)\n",
    "    \n",
    "    plt.legend()\n",
    "\n",
    "    plt.show()"
   ]
  },
  {
   "cell_type": "code",
   "execution_count": null,
   "id": "8ef514ea",
   "metadata": {},
   "outputs": [],
   "source": [
    "for N in [1, 2, 3, 4, 5, 6, 7, 8, 9, 10]:\n",
    "    cont_stack, cont_err_stack = stack_estimation(\n",
    "        pm_data, err, nb_c, N, w_central, nb_fwhm_Arr, ew0min\n",
    "    )\n",
    "    mean = np.average(np.abs((cont_stack - real_cont_value) / real_cont_value))\n",
    "    std = np.std(np.abs((cont_stack - real_cont_value) / real_cont_value))\n",
    "    print('N = {} | mean, std: {}, {}'.format(N, mean, std))"
   ]
  },
  {
   "cell_type": "code",
   "execution_count": null,
   "id": "5a1609ca",
   "metadata": {},
   "outputs": [],
   "source": [
    "#### ERROR TESTING ####\n",
    "\n",
    "N_points = 20\n",
    "sigma_min = 0.5\n",
    "sigma_max = 3\n",
    "\n",
    "sigma_Arr = np.linspace(sigma_min, sigma_max, N_points)\n",
    "sigma_hist = np.zeros(N_points)\n",
    "\n",
    "for i in range(N_points):\n",
    "    sigma_hist[i] = len(\n",
    "        np.where(\n",
    "            np.abs(cont_stack - real_cont_value) < sigma_Arr[i] * cont_err_stack\n",
    "        )[0]\n",
    "    )"
   ]
  },
  {
   "cell_type": "code",
   "execution_count": null,
   "id": "b5e2520b",
   "metadata": {},
   "outputs": [],
   "source": [
    "N_sources = pm_data.shape[1]\n",
    "N_sources"
   ]
  },
  {
   "cell_type": "code",
   "execution_count": null,
   "id": "da428b54",
   "metadata": {},
   "outputs": [],
   "source": [
    "# Plot the error test\n",
    "fig, ax =  plt.subplots()\n",
    "\n",
    "ax.plot(sigma_Arr, sigma_hist/N_sources, marker='.', linestyle='none')\n",
    "ax.plot(sigma_Arr, erf(sigma_Arr / 2**0.5), linestyle='dashed', label='erf$(\\sigma/\\sqrt{2})$')\n",
    "\n",
    "ax.set_ylabel('N / N_sources', fontsize=15)\n",
    "ax.set_xlabel('$\\sigma$', fontsize=15)\n",
    "\n",
    "ax.legend(fontsize=14)\n",
    "\n",
    "plt.show()"
   ]
  }
 ],
 "metadata": {
  "kernelspec": {
   "display_name": "Python 3",
   "language": "python",
   "name": "python3"
  },
  "language_info": {
   "codemirror_mode": {
    "name": "ipython",
    "version": 3
   },
   "file_extension": ".py",
   "mimetype": "text/x-python",
   "name": "python",
   "nbconvert_exporter": "python",
   "pygments_lexer": "ipython3",
   "version": "3.8.10"
  }
 },
 "nbformat": 4,
 "nbformat_minor": 5
}
