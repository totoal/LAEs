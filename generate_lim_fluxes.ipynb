{
 "cells": [
  {
   "cell_type": "code",
   "execution_count": null,
   "metadata": {},
   "outputs": [],
   "source": [
    "from my_functions import *\n",
    "import numpy as np\n",
    "import pandas as pd"
   ]
  },
  {
   "cell_type": "code",
   "execution_count": null,
   "metadata": {},
   "outputs": [],
   "source": [
    "TI = pd.read_csv('csv/jnep.TileImage.csv', sep=',', header=1)\n",
    "TI.head()"
   ]
  },
  {
   "cell_type": "code",
   "execution_count": null,
   "metadata": {},
   "outputs": [],
   "source": [
    "tile_id = 2520\n",
    "\n",
    "depth5s = []\n",
    "for filter_id in range(1, 61):\n",
    "    where = (TI['FILTER_ID'] == filter_id) & (TI['REF_TILE_ID'] == tile_id)\n",
    "    depth5s.append(TI['DEPTH3ARC5S'].to_numpy()[where])\n",
    "\n",
    "pd.DataFrame(np.array(depth5s).flatten(), columns=['DEPTH3ARC5S']).to_csv(f'csv/depth3arc5s_jnep_{tile_id}.csv')"
   ]
  }
 ],
 "metadata": {
  "interpreter": {
   "hash": "ade4bca3e0042e0da78fecdb82351169c0f2ccedb06a0d7cf7342df8f7e47af7"
  },
  "kernelspec": {
   "display_name": "Python 3.9.12 ('base')",
   "language": "python",
   "name": "python3"
  },
  "language_info": {
   "codemirror_mode": {
    "name": "ipython",
    "version": 3
   },
   "file_extension": ".py",
   "mimetype": "text/x-python",
   "name": "python",
   "nbconvert_exporter": "python",
   "pygments_lexer": "ipython3",
   "version": "3.9.12"
  },
  "orig_nbformat": 4
 },
 "nbformat": 4,
 "nbformat_minor": 2
}
