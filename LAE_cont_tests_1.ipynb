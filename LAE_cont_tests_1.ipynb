{
 "cells": [
  {
   "cell_type": "code",
   "execution_count": null,
   "source": [
    "import numpy as np\n",
    "import matplotlib.pyplot as plt\n",
    "from my_functions import *"
   ],
   "outputs": [],
   "metadata": {}
  },
  {
   "cell_type": "code",
   "execution_count": null,
   "source": [
    "## Load everything\n",
    "pm_data = np.load('npy/pm_eLAE_100deg_uniform.npy')\n",
    "pm_data_noerr = np.load('npy/pm_LAE_100deg_uniform.npy')\n",
    "f_name = 'Source_cats/Source_cat_LAE_100deg_uniform.npy'\n",
    "mock = np.load(f_name, allow_pickle=True).item()\n",
    "\n",
    "errors = np.load('npy/median_errors.npy')\n",
    "\n",
    "filters_tags = load_filter_tags()\n",
    "tcurves = load_tcurves(filters_tags)\n",
    "w_central = np.array(central_wavelength(tcurves))\n",
    "\n",
    "bb_fwhm = [\n",
    "    nb_fwhm(tcurves, -4, True),\n",
    "    nb_fwhm(tcurves, -3, True),\n",
    "    nb_fwhm(tcurves, -2, True),\n",
    "    nb_fwhm(tcurves, -1, True)\n",
    "]"
   ],
   "outputs": [],
   "metadata": {}
  },
  {
   "cell_type": "code",
   "execution_count": null,
   "source": [
    "N_nb = 5\n",
    "ew0min = 10\n",
    "\n",
    "z_idx = np.zeros(mock['redshift_Lya_Arr'].shape).astype(bool)\n",
    "\n",
    "for nb_c in range(6, 20):\n",
    "    z_nb = w_central[nb_c] / 1215.67 - 1\n",
    "\n",
    "    pm_err = (np.ones(pm_data.shape).T * errors).T\n",
    "    cont_est, cont_err = stack_estimation(\n",
    "        pm_data, pm_err, nb_c, N_nb, w_central\n",
    "        )\n",
    "\n",
    "    diff_err = (errors[nb_c]**2 + cont_err**2)**0.5\n",
    "    fwhm = nb_fwhm(tcurves, nb_c, True)\n",
    "\n",
    "    line = (\n",
    "    (pm_data[nb_c] - cont_est > 3*diff_err)\n",
    "    & (pm_data[nb_c] - cont_est > ew0min * (1 + z_nb) * cont_est / fwhm)\n",
    "    )\n",
    "\n",
    "    z_idx[line] = True\n",
    "\n",
    "fig, ax = plt.subplots(figsize=(12, 9))\n",
    "ax.hist(\n",
    "    mock['redshift_Lya_Arr'][z_idx], bins=np.linspace(2.5, 3.2, 40),\n",
    "    label='Selected'\n",
    ")\n",
    "ax.hist(\n",
    "    mock['redshift_Lya_Arr'], bins=np.linspace(2.5, 3.2, 40), alpha=0.5, zorder=-1,\n",
    "    label='All'\n",
    "    )\n",
    "for nb_c in range(6, 15):\n",
    "    ax.axvline(x=w_central[nb_c] / 1215.67 - 1, color='red')\n",
    "ax.legend(fontsize=15)\n",
    "ax.set_xlabel('z', fontsize=15)\n",
    "plt.show()\n",
    "print('TOTAL SELECTED: {0}/{1} ({2:0.1f}%)'.format(\n",
    "    len(np.where(z_idx)[0]), len(z_idx), len(np.where(z_idx)[0])/len(z_idx) * 100\n",
    "    ))"
   ],
   "outputs": [],
   "metadata": {}
  },
  {
   "cell_type": "code",
   "execution_count": null,
   "source": [
    "for nb_c in range(6, 20):\n",
    "    z_nb = w_central[nb_c] / 1215.67 - 1\n",
    "\n",
    "    pm_err = (np.ones(pm_data.shape).T * errors).T\n",
    "    cont_est, cont_err = stack_estimation(\n",
    "        pm_data, pm_err, nb_c, N_nb, w_central\n",
    "        )\n",
    "\n",
    "    diff_err = (errors[nb_c]**2 + cont_err**2)**0.5\n",
    "    fwhm = nb_fwhm(tcurves, nb_c, True)\n",
    "\n",
    "    line = (\n",
    "    (pm_data[nb_c] - cont_est > 3*diff_err)\n",
    "    & (pm_data[nb_c] - cont_est > ew0min * (1 + z_nb) * cont_est / fwhm)\n",
    "    )"
   ],
   "outputs": [],
   "metadata": {}
  }
 ],
 "metadata": {
  "orig_nbformat": 4,
  "language_info": {
   "name": "python",
   "version": "3.9.7",
   "mimetype": "text/x-python",
   "codemirror_mode": {
    "name": "ipython",
    "version": 3
   },
   "pygments_lexer": "ipython3",
   "nbconvert_exporter": "python",
   "file_extension": ".py"
  },
  "kernelspec": {
   "name": "python3",
   "display_name": "Python 3.9.7 64-bit ('py39': conda)"
  },
  "interpreter": {
   "hash": "7575b0615c19929a6803b70fb96802dc113bd8069c0dbfa1f636b20d364f1413"
  }
 },
 "nbformat": 4,
 "nbformat_minor": 2
}