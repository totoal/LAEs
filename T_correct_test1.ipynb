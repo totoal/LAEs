{
 "cells": [
  {
   "cell_type": "code",
   "execution_count": null,
   "source": [
    "import numpy as np\n",
    "import matplotlib.pyplot as plt\n",
    "from my_functions import *\n",
    "import seaborn as sns"
   ],
   "outputs": [],
   "metadata": {}
  },
  {
   "cell_type": "code",
   "execution_count": null,
   "source": [
    "## Load everything\n",
    "pm_data = np.load('npy/pm_eLAE_100deg_uniform.npy')\n",
    "pm_data_noerr = np.load('npy/pm_LAE_100deg_uniform.npy')\n",
    "f_name = 'Source_cats/Source_cat_LAE_100deg_uniform.npy'\n",
    "mock = np.load(f_name, allow_pickle=True).item()\n",
    "\n",
    "errors = np.load('npy/median_errors.npy')\n",
    "\n",
    "pm_err = (np.ones(pm_data.shape).T * errors).T\n",
    "\n",
    "filters_tags = load_filter_tags()\n",
    "tcurves = load_tcurves(filters_tags)\n",
    "w_central = np.array(central_wavelength(tcurves))\n",
    "\n",
    "bb_fwhm = [\n",
    "    nb_fwhm(tcurves, -4, True),\n",
    "    nb_fwhm(tcurves, -3, True),\n",
    "    nb_fwhm(tcurves, -2, True),\n",
    "    nb_fwhm(tcurves, -1, True)\n",
    "]"
   ],
   "outputs": [],
   "metadata": {}
  },
  {
   "cell_type": "code",
   "execution_count": null,
   "source": [
    "cont_est, cont_err = stack_estimation(pm_data, pm_err, 13, 5, w_central)"
   ],
   "outputs": [],
   "metadata": {}
  },
  {
   "cell_type": "code",
   "execution_count": null,
   "source": [
    "np.random.seed(22)\n",
    "for mock_n in np.random.randint(0, pm_data.shape[1], 20):\n",
    "    pm = pm_data[:,mock_n]\n",
    "    \n",
    "    fig, ax = plt.subplots(figsize = (12, 8))\n",
    "    ax.plot(mock['w_Arr'], mock['SEDs_no_line'][mock_n], c='orange', lw=2, zorder=-1)\n",
    "    ax.plot(mock['w_Arr'], mock['SEDs_no_IGM'][mock_n], c='green', lw=2, zorder=-1)\n",
    "    ax.errorbar(w_central[:-3], pm[:-3], yerr=errors[:-3], c='gray', fmt='.')\n",
    "\n",
    "    ax.scatter(w_central[-4], pm[-4], c='purple' , marker='s')\n",
    "    ax.scatter(w_central[-3], pm[-3], c='green'  , marker='s')\n",
    "    ax.scatter(w_central[-2], pm[-2], c='red'    , marker='s')\n",
    "    ax.scatter(w_central[-1], pm[-1], c='dimgray', marker='s')\n",
    "\n",
    "    ax.errorbar(w_central[-4], pm[-4],\n",
    "                xerr=bb_fwhm[-4]/2, yerr=errors[-4],\n",
    "                fmt='none', color='purple' , elinewidth=4)\n",
    "    ax.errorbar(w_central[-3], pm[-3], yerr=errors[-3],\n",
    "                xerr=bb_fwhm[-3]/2, fmt='none', color='green'  , elinewidth=4)\n",
    "    ax.errorbar(w_central[-2], pm[-2], yerr=errors[-2],\n",
    "                xerr=bb_fwhm[-2]/2, fmt='none', color='red'    , elinewidth=4)\n",
    "    ax.errorbar(w_central[-1], pm[-1], yerr=errors[-1],\n",
    "                xerr=bb_fwhm[-1]/2, fmt='none', color='dimgray', elinewidth=4)\n",
    "\n",
    "    f_line_cont = NB_synthetic_photometry(\n",
    "        mock['SEDs_no_line'][mock_n], mock['w_Arr'],\n",
    "        (mock['redshift_Lya_Arr'][mock_n] + 1) * 1215.67,\n",
    "        11\n",
    "    )\n",
    "\n",
    "    ax.plot(\n",
    "        (mock['redshift_Lya_Arr'][mock_n] + 1) * 1215.67, f_line_cont,\n",
    "        marker='.', markersize=15, color='black'\n",
    "    )\n",
    "\n",
    "    IGM_T = IGM_TRANSMISSION(w_central[13])\n",
    "    ax.errorbar(\n",
    "        w_central[13], cont_est[mock_n]*IGM_T, marker='^', markersize=11,\n",
    "        yerr = cont_err[mock_n], elinewidth=3, capsize=3, capthick=3\n",
    "    )\n",
    "\n",
    "    ax.set_xlabel('$\\lambda\\ (\\AA)$', size=15)\n",
    "    ax.set_ylabel('$f_\\lambda$ (erg cm$^{-2}$ s$^{-1}$ $\\AA^{-1}$)', size=15)\n",
    "    ax.set_ylim((\n",
    "        np.amin(mock['SEDs_no_line'][mock_n]) * (1 - 0.6),\n",
    "        np.amax(mock['SEDs_no_line'][mock_n]) * (1 + 0.6)\n",
    "        ))\n",
    "\n",
    "    plt.show()\n",
    "    print(mock['EW_Arr'][mock_n])"
   ],
   "outputs": [],
   "metadata": {}
  }
 ],
 "metadata": {
  "orig_nbformat": 4,
  "language_info": {
   "name": "python",
   "version": "3.9.7",
   "mimetype": "text/x-python",
   "codemirror_mode": {
    "name": "ipython",
    "version": 3
   },
   "pygments_lexer": "ipython3",
   "nbconvert_exporter": "python",
   "file_extension": ".py"
  },
  "kernelspec": {
   "name": "python3",
   "display_name": "Python 3.9.7 64-bit ('py39': conda)"
  },
  "interpreter": {
   "hash": "7575b0615c19929a6803b70fb96802dc113bd8069c0dbfa1f636b20d364f1413"
  }
 },
 "nbformat": 4,
 "nbformat_minor": 2
}