{
 "cells": [
  {
   "cell_type": "code",
   "execution_count": null,
   "id": "popular-challenge",
   "metadata": {},
   "outputs": [],
   "source": [
    "import numpy as np\n",
    "import matplotlib.pyplot as plt\n",
    "import csv\n",
    "from scipy.interpolate import interp1d\n",
    "from my_functions import *"
   ]
  },
  {
   "cell_type": "code",
   "execution_count": null,
   "id": "confused-coral",
   "metadata": {},
   "outputs": [],
   "source": [
    "filename = 'pkl/catalogDual_pz.pkl'\n",
    "noflag_cat = load_noflag_cat(filename)"
   ]
  },
  {
   "cell_type": "code",
   "execution_count": null,
   "id": "encouraging-helena",
   "metadata": {},
   "outputs": [],
   "source": [
    "noflag_cat.keys()"
   ]
  },
  {
   "cell_type": "code",
   "execution_count": null,
   "id": "modified-automation",
   "metadata": {},
   "outputs": [],
   "source": [
    "# Color plot\n",
    "plt.figure(figsize=(15,7))\n",
    "\n",
    "g     = noflag_cat['MAG'][:,-3]\n",
    "j0480 = noflag_cat['MAG'][:,12]\n",
    "\n",
    "plt.scatter(g, g-j0480,marker='.')\n",
    "\n",
    "plt.ylim((-3,3))\n",
    "plt.xlim((14,27))\n",
    "\n",
    "plt.ylabel('g - J0480', size='15')\n",
    "plt.xlabel('g'        , size='15')\n",
    "\n",
    "plt.show()\n",
    "\n",
    "plt.hist(j0480, bins=50)\n",
    "plt.xlim((14,30))\n",
    "plt.show()"
   ]
  },
  {
   "cell_type": "code",
   "execution_count": null,
   "id": "voluntary-basis",
   "metadata": {},
   "outputs": [],
   "source": [
    "# ERRORS\n",
    "\n",
    "errors = np.load('npy/5sigma_errors.npy')\n",
    "f_errors = interp1d(errors[:,0], errors[:,1], fill_value='extrapolate')"
   ]
  },
  {
   "cell_type": "code",
   "execution_count": null,
   "id": "chemical-intranet",
   "metadata": {},
   "outputs": [],
   "source": [
    "flux_error = f_errors(noflag_cat['W'][11])\n",
    "w = noflag_cat['W'][11]\n",
    "def mag_error(m, w):\n",
    "    f = mag_to_flux(m, w)\n",
    "    return m - flux_to_mag(f+flux_error, w)"
   ]
  },
  {
   "cell_type": "code",
   "execution_count": null,
   "id": "fallen-dominant",
   "metadata": {},
   "outputs": [],
   "source": [
    "mag = noflag_cat['MAG'][:,11]\n",
    "err = noflag_cat['ERR'][:,11]\n",
    "\n",
    "plt.figure(figsize = (15,7))\n",
    "\n",
    "def err_curve(m):\n",
    "    a,b = [0.3137923766327574, -7.488137599788579]\n",
    "    return 10**(m*a+b)\n",
    "\n",
    "x = np.linspace(18,28,1000)\n",
    "\n",
    "plt.scatter(mag, err)\n",
    "plt.plot(x, err_curve(x), 'orange')\n",
    "plt.plot(x, 5*mag_error(x, w), 'red')\n",
    "\n",
    "plt.ylim((0,10))\n",
    "plt.xlim((12,28))\n",
    "\n",
    "plt.show()"
   ]
  },
  {
   "cell_type": "code",
   "execution_count": null,
   "id": "innocent-differential",
   "metadata": {},
   "outputs": [],
   "source": []
  }
 ],
 "metadata": {
  "kernelspec": {
   "display_name": "Python 3",
   "language": "python",
   "name": "python3"
  },
  "language_info": {
   "codemirror_mode": {
    "name": "ipython",
    "version": 3
   },
   "file_extension": ".py",
   "mimetype": "text/x-python",
   "name": "python",
   "nbconvert_exporter": "python",
   "pygments_lexer": "ipython3",
   "version": "3.8.5"
  }
 },
 "nbformat": 4,
 "nbformat_minor": 5
}
