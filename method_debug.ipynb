{
 "cells": [
  {
   "cell_type": "code",
   "execution_count": null,
   "metadata": {},
   "outputs": [],
   "source": [
    "import numpy as np\n",
    "np.seterr(all='ignore')\n",
    "\n",
    "import matplotlib.pyplot as plt\n",
    "import matplotlib\n",
    "matplotlib.rcParams.update({'font.size': 12})\n",
    "\n",
    "from my_functions import *\n",
    "from load_mocks import ensemble_mock"
   ]
  },
  {
   "cell_type": "code",
   "execution_count": null,
   "metadata": {},
   "outputs": [],
   "source": [
    "w_central = central_wavelength()\n",
    "nb_fwhm_Arr = nb_fwhm(range(60))\n",
    "w_lya = 1215.67\n",
    "filter_tags = load_filter_tags()"
   ]
  },
  {
   "cell_type": "code",
   "execution_count": null,
   "metadata": {},
   "outputs": [],
   "source": [
    "name_qso = 'QSO_100000_0'\n",
    "name_gal = 'GAL_100000_0'\n",
    "name_sf = 'LAE_12.5deg_z2-4.25_test_minijpas_0'\n",
    "\n",
    "pm_flx, pm_err, zspec, EW_lya, L_lya, is_qso, is_sf, is_gal, _, _ =\\\n",
    "    ensemble_mock(name_qso, name_gal, name_sf)"
   ]
  },
  {
   "cell_type": "code",
   "execution_count": null,
   "metadata": {},
   "outputs": [],
   "source": [
    "plt.hist(zspec[is_qso], 70)\n",
    "plt.yscale('log')\n",
    "plt.show()"
   ]
  },
  {
   "cell_type": "code",
   "execution_count": null,
   "metadata": {},
   "outputs": [],
   "source": [
    "plt.hist(mag[is_qso], bins=np.linspace(15, 25, 70))\n",
    "plt.show()"
   ]
  },
  {
   "cell_type": "code",
   "execution_count": null,
   "metadata": {},
   "outputs": [],
   "source": [
    "mag = flux_to_mag(pm_flx[-3], w_central[-3])\n",
    "mag[np.isnan(mag)] = 99.\n",
    "\n",
    "N_sources = pm_flx.shape[1]\n",
    "N_sources"
   ]
  },
  {
   "cell_type": "code",
   "execution_count": null,
   "metadata": {},
   "outputs": [],
   "source": [
    "fig, ax = plt.subplots(figsize=(7, 6))\n",
    "\n",
    "ax.hist(L_lya[is_qso], bins=np.linspace(42, 47, 50))\n",
    "\n",
    "plt.show()"
   ]
  },
  {
   "cell_type": "code",
   "execution_count": null,
   "metadata": {},
   "outputs": [],
   "source": [
    "ew0_cut = 30\n",
    "ew_other = 100\n",
    "\n",
    "# Lya search\n",
    "cont_est_lya, cont_err_lya = estimate_continuum(pm_flx, pm_err, IGM_T_correct=True)\n",
    "line = is_there_line(pm_flx, pm_err, cont_est_lya, cont_err_lya, ew0_cut)\n",
    "lya_lines, lya_cont_lines, line_widths = identify_lines(\n",
    "    line, pm_flx, cont_est_lya, first=True, return_line_width=True\n",
    ")\n",
    "lya_lines = np.array(lya_lines)\n",
    "\n",
    "# Other lines\n",
    "cont_est_other, cont_err_other = estimate_continuum(pm_flx, pm_err, IGM_T_correct=False)\n",
    "line_other = is_there_line(pm_flx, pm_err, cont_est_other, cont_err_other,\n",
    "    ew_other, obs=True)\n",
    "other_lines = identify_lines(line_other, cont_est_other, pm_err)\n",
    "\n",
    "# Compute z\n",
    "z_Arr = np.zeros(N_sources)\n",
    "z_Arr[np.where(np.array(lya_lines) != -1)] =\\\n",
    "    z_NB(np.array(lya_cont_lines)[np.where(np.array(lya_lines) != -1)])\n",
    "\n",
    "nice_z = np.abs(z_Arr - zspec) < 0.16\n",
    "\n",
    "# %xdel cont_est_other\n",
    "%xdel cont_err_other"
   ]
  },
  {
   "cell_type": "code",
   "execution_count": null,
   "metadata": {},
   "outputs": [],
   "source": [
    "mag_min = 17\n",
    "mag_max = 24\n",
    "\n",
    "nb_min = 5\n",
    "nb_max = 15\n",
    "# nb_min = 16\n",
    "# nb_max = 23\n",
    "\n",
    "# Used later!!\n",
    "L_min = 40\n",
    "L_max = 50\n",
    "\n",
    "nbs_to_consider = np.arange(nb_min, nb_max + 1)\n",
    "\n",
    "nb_cut = (np.array(lya_lines) >= nb_min) & (np.array(lya_lines) <= nb_max)\n",
    "\n",
    "z_min = (w_central[nb_min] - nb_fwhm_Arr[nb_min] * 0.5) / w_lya - 1\n",
    "z_max = (w_central[nb_max] + nb_fwhm_Arr[nb_max] * 0.5) / w_lya - 1\n",
    "print(f'z interval: ({z_min:0.2f}, {z_max:0.2f})')\n",
    "\n",
    "z_cut = (z_min < z_Arr) & (z_Arr < z_max)\n",
    "zspec_cut = (z_min < zspec) & (zspec < z_max)\n",
    "ew_cut = EW_lya > ew0_cut\n",
    "mag_cut = (mag > mag_min) & (mag < mag_max)\n",
    "\n",
    "nice_lya = nice_lya_select(\n",
    "    lya_lines, other_lines, pm_flx, pm_err, cont_est_lya, z_Arr\n",
    ")\n",
    "nice_lya = (nice_lya & z_cut & mag_cut)"
   ]
  },
  {
   "cell_type": "code",
   "execution_count": null,
   "metadata": {},
   "outputs": [],
   "source": [
    "EW_nb_Arr, EW_nb_e, L_Arr, L_e_Arr, flambda, flambda_e = EW_L_NB(\n",
    "    pm_flx, pm_err, cont_est_lya, cont_err_lya, z_Arr, lya_lines, N_nb=0\n",
    ")\n",
    "\n",
    "ML_predict_mask = (mag < 23) & (L_Arr > 0)\n",
    "L_Arr[ML_predict_mask] = ML_predict_L(\n",
    "    pm_flx[:, ML_predict_mask], pm_err[:, ML_predict_mask],\n",
    "    z_Arr[ML_predict_mask], L_Arr[ML_predict_mask], 'RFmag15-23'\n",
    ")\n",
    "\n",
    "ML_predict_mask = (mag > 23) & (L_Arr > 0)\n",
    "L_Arr[ML_predict_mask] = ML_predict_L(\n",
    "    pm_flx[:, ML_predict_mask], pm_err[:, ML_predict_mask],\n",
    "    z_Arr[ML_predict_mask], L_Arr[ML_predict_mask], 'RFmag23-23.5'\n",
    ")"
   ]
  },
  {
   "cell_type": "code",
   "execution_count": null,
   "metadata": {},
   "outputs": [],
   "source": [
    "selected = np.random.permutation(\n",
    "    np.where(\n",
    "        ~nice_lya & (L_Arr > 44.5) & mag_cut & (EW_lya > 30) & zspec_cut & z_cut\n",
    "        # nice_lya & is_gal\n",
    "    )[0]\n",
    ")\n",
    "print(count_true(selected))\n",
    "\n",
    "for i, src in enumerate(selected):\n",
    "    if i == 10: break\n",
    "    print(f'L_lya = {L_lya[src]}')\n",
    "    print(f'L_Arr = {L_Arr[src]}')\n",
    "    print(f'EW0 = {EW_lya[src]}')\n",
    "    print(is_qso[src])\n",
    "\n",
    "    lya_obs_w = w_central[lya_lines[src]]\n",
    "    other_lines_w = [w_central[i] for i in other_lines[src]]\n",
    "    lya_real_w = w_lya * (1 + zspec[src])\n",
    "\n",
    "    fig = plt.figure(figsize=(10, 5))\n",
    "    ax = plot_JPAS_source(pm_flx[:, src], pm_err[:, src])\n",
    "\n",
    "    ax.axvline(lya_obs_w, linestyle='--', color='r', label='Retrieved Lya line')\n",
    "    ax.axvline(lya_real_w, color='g', label='Real Lya line')\n",
    "    for w in other_lines_w:\n",
    "        ax.axvline(w, linestyle='--', color='dimgray')\n",
    "    print(other_lines[src])\n",
    "\n",
    "    ax.plot(w_central[:56], cont_est_lya[:, src])\n",
    "    ax.plot(w_central[:56], cont_est_other[:, src], ls='--')\n",
    "\n",
    "    ax.set_title(f'zspec={zspec[src]:0.3f}, z_Arr={z_Arr[src]:0.3f}')\n",
    "    ax.legend()\n",
    "\n",
    "    # ax.set_ylim((-1e-17, 1e-17))\n",
    "\n",
    "    plt.show()"
   ]
  }
 ],
 "metadata": {
  "interpreter": {
   "hash": "ade4bca3e0042e0da78fecdb82351169c0f2ccedb06a0d7cf7342df8f7e47af7"
  },
  "kernelspec": {
   "display_name": "Python 3.9.12 ('base')",
   "language": "python",
   "name": "python3"
  },
  "language_info": {
   "codemirror_mode": {
    "name": "ipython",
    "version": 3
   },
   "file_extension": ".py",
   "mimetype": "text/x-python",
   "name": "python",
   "nbconvert_exporter": "python",
   "pygments_lexer": "ipython3",
   "version": "3.9.12"
  },
  "orig_nbformat": 4
 },
 "nbformat": 4,
 "nbformat_minor": 2
}
