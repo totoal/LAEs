{
 "cells": [
  {
   "cell_type": "code",
   "execution_count": null,
   "metadata": {},
   "outputs": [],
   "source": [
    "import numpy as np\n",
    "import matplotlib.pyplot as plt\n",
    "import pandas as pd\n",
    "from my_functions import *\n",
    "import seaborn as sns"
   ]
  },
  {
   "cell_type": "code",
   "execution_count": null,
   "metadata": {},
   "outputs": [],
   "source": [
    "w_central = central_wavelength()\n",
    "nb_fwhm_Arr = nb_fwhm(range(60))"
   ]
  },
  {
   "cell_type": "code",
   "execution_count": null,
   "metadata": {},
   "outputs": [],
   "source": [
    "## Load QSO catalog\n",
    "filename = ('/home/alberto/cosmos/JPAS_mocks_sep2021/'\n",
    "    'JPAS_mocks_classification_01sep_model11/Fluxes/Qso_jpas_mock_flam_train.cat')\n",
    "\n",
    "my_filter_order = np.arange(60)\n",
    "my_filter_order[[-4, -3, -2, -1]] = np.array([1, 12, 28, 43])\n",
    "my_filter_order[1:-4] += 1\n",
    "my_filter_order[12:-4] += 1\n",
    "my_filter_order[28:-4] += 1\n",
    "my_filter_order[43:-4] += 1\n",
    "\n",
    "pm_flx = pd.read_csv(\n",
    "    filename, sep=' ', usecols=range(2, 2 + 60)\n",
    ").to_numpy().T[my_filter_order]\n",
    "pm_err = pd.read_csv(\n",
    "    filename, sep=' ', usecols=range(2 + 60, 2 + 60 + 60)\n",
    ").to_numpy().T[my_filter_order]\n",
    "zspec = pd.read_csv(filename, sep=' ', usecols=[127]).to_numpy().reshape(-1, )\n",
    "\n",
    "w_central = central_wavelength()"
   ]
  },
  {
   "cell_type": "code",
   "execution_count": null,
   "metadata": {},
   "outputs": [],
   "source": [
    "mag = flux_to_mag(pm_flx, w_central.reshape(-1, 1))\n",
    "mag[np.isnan(mag)] = 99."
   ]
  },
  {
   "cell_type": "code",
   "execution_count": null,
   "metadata": {},
   "outputs": [],
   "source": [
    "w_lya = 1215.67 # A\n",
    "\n",
    "N_sources = pm_flx.shape[1]\n",
    "z_nb_Arr = w_central[:-4] / w_lya - 1\n",
    "print(N_sources)"
   ]
  },
  {
   "cell_type": "code",
   "execution_count": null,
   "metadata": {},
   "outputs": [],
   "source": [
    "# Lya search\n",
    "cont_est_lya, cont_err_lya = estimate_continuum(pm_flx, pm_err)\n",
    "\n",
    "# Other lines\n",
    "cont_est_other, cont_err_other = estimate_continuum(pm_flx, pm_err, IGM_T_correct=False)"
   ]
  },
  {
   "cell_type": "code",
   "execution_count": null,
   "metadata": {},
   "outputs": [],
   "source": [
    "ew0_min = 0\n",
    "ew0_max = 70\n",
    "ew0_steps = 8\n",
    "r_min = 18\n",
    "r_max = 24\n",
    "r_bins = 30\n",
    "z_min = 2\n",
    "z_max = 4.5\n",
    "z_bins = 30\n",
    "selection_r_Mat = np.zeros((ew0_steps, r_bins))\n",
    "selection_z_Mat = np.zeros((ew0_steps, z_bins))\n",
    "rightz_r_Mat = np.zeros((ew0_steps, r_bins))\n",
    "bins_r = np.linspace(r_min, r_max, r_bins + 1)\n",
    "bins_z = np.linspace(z_min, z_max, z_bins + 1)\n",
    "\n",
    "line_other = is_there_line(pm_flx, pm_err, cont_est_other, cont_err_other, 15)\n",
    "other_lines = identify_lines(line_other, pm_flx, first=False)\n",
    "\n",
    "for i, ew0min in enumerate(np.linspace(ew0_min, ew0_max, ew0_steps)):\n",
    "    print(ew0min)\n",
    "    line = is_there_line(pm_flx, pm_err, cont_est_lya, cont_err_lya, ew0min)\n",
    "    lya_lines = identify_lines(line, pm_flx, first=True)\n",
    "    z_nb_Arr = np.zeros(N_sources)\n",
    "    z_nb_Arr[np.where(np.array(lya_lines) != -1)] =\\\n",
    "        w_central[np.array(lya_lines)][np.where(np.array(lya_lines) != -1)] / w_lya - 1\n",
    "\n",
    "    nice_lya = nice_lya_select(lya_lines, other_lines, pm_flx, cont_est_other)\n",
    "\n",
    "    selection_r_Mat[i], _ = np.histogram(mag[-2, nice_lya], bins=bins_r)\n",
    "    rightz_r_Mat[i], _ = np.histogram(\n",
    "        mag[-2, nice_lya & (np.abs(z_nb_Arr - zspec) < 0.1)], bins=bins_r\n",
    "    )\n",
    "    selection_z_Mat[i], _ = np.histogram(zspec[nice_lya], bins=bins_z)\n",
    "\n",
    "hist_z, _ = np.histogram(zspec, bins=bins_z)\n",
    "hist_r, _ = np.histogram(mag[-2, (zspec > z_min) & (zspec < z_max)], bins=bins_r)"
   ]
  },
  {
   "cell_type": "code",
   "execution_count": null,
   "metadata": {},
   "outputs": [],
   "source": [
    "left, width = 0.1, 0.65\n",
    "bottom, height = 0.1, 0.65\n",
    "spacing = 0.01\n",
    "\n",
    "\n",
    "rect_scatter = [left, bottom, width, height]\n",
    "rect_histx = [left, bottom + height + spacing, width, 0.2]\n",
    "rect_histy = [left + width + spacing, bottom, 0.2, height]\n",
    "rect_cbar = [left + width + spacing + 0.2 + 4*spacing, bottom, 0.05, height]\n",
    "\n",
    "fig = plt.figure(figsize=(8, 8))\n",
    "\n",
    "ax = fig.add_axes(rect_scatter)\n",
    "ax_histx = fig.add_axes(rect_histx, sharex=ax)\n",
    "ax_histy = fig.add_axes(rect_histy, sharey=ax)\n",
    "ax_cbar = fig.add_axes(rect_cbar)\n",
    "\n",
    "sns.heatmap(rightz_r_Mat / hist_r, vmin=0, vmax=1, ax=ax, cbar_ax=ax_cbar)\n",
    "ax_histx.step(np.arange(r_bins), hist_r)\n",
    "ax_histy.plot(np.sum(rightz_r_Mat, axis=1) / np.sum(hist_r), np.arange(ew0_steps))\n",
    "\n",
    "ax_histx.tick_params(bottom=False, labelbottom=False)\n",
    "ax_histy.tick_params(left=False, labelleft=False)\n",
    "\n",
    "ax.invert_yaxis()\n",
    "ax_histy.invert_yaxis()\n",
    "\n",
    "xticks = np.arange(r_bins, step=1.5)\n",
    "xticks_labels = ['{0:0.1f}'.format((r_max - r_min) * x / r_bins + r_min) for x in xticks]\n",
    "yticks_labels = ['{0:0.1f}'.format(x) for x in np.linspace(ew0_min, ew0_max, ew0_steps)]\n",
    "\n",
    "ax.set_xticks(xticks)\n",
    "ax.set_xticklabels(xticks_labels)\n",
    "ax.set_yticklabels(np.flip(yticks_labels))\n",
    "\n",
    "ax_histy.set_title('Total completeness')\n",
    "ax_histx.set_title('All sources')\n",
    "\n",
    "ax.set_xlabel('rSDSS', fontsize=15)\n",
    "ax.set_ylabel('Minimum EW$_0$ ($\\AA$)', fontsize=15)\n",
    "\n",
    "plt.show()"
   ]
  },
  {
   "cell_type": "code",
   "execution_count": null,
   "metadata": {},
   "outputs": [],
   "source": [
    "fig, ax = plt.subplots(figsize=(8,6))\n",
    "ax.step(np.linspace(r_min, r_max, r_bins), selection_r_Mat[5])\n",
    "ax.step(np.linspace(r_min, r_max, r_bins), hist_r, color='red')\n",
    "#ax.hist(mag[-2], bins=bins_r, color='green', histtype='step')\n",
    "plt.show()"
   ]
  },
  {
   "cell_type": "code",
   "execution_count": null,
   "metadata": {},
   "outputs": [],
   "source": [
    "left, width = 0.1, 0.65\n",
    "bottom, height = 0.1, 0.65\n",
    "spacing = 0.01\n",
    "\n",
    "\n",
    "rect_scatter = [left, bottom, width, height]\n",
    "rect_histx = [left, bottom + height + spacing, width, 0.2]\n",
    "rect_histy = [left + width + spacing, bottom, 0.2, height]\n",
    "rect_cbar = [left + width + spacing + 0.2 + 4*spacing, bottom, 0.05, height]\n",
    "\n",
    "fig = plt.figure(figsize=(8, 8))\n",
    "\n",
    "ax = fig.add_axes(rect_scatter)\n",
    "ax_histx = fig.add_axes(rect_histx, sharex=ax)\n",
    "ax_histy = fig.add_axes(rect_histy, sharey=ax)\n",
    "ax_cbar = fig.add_axes(rect_cbar)\n",
    "\n",
    "sns.heatmap(rightz_r_Mat / selection_r_Mat, vmin=0, vmax=1, ax=ax, cbar_ax=ax_cbar)\n",
    "ax_histx.step(np.arange(r_bins), hist_r)\n",
    "ax_histy.plot(np.sum(rightz_r_Mat, axis=1) / np.sum(selection_r_Mat, axis=1),\n",
    "    np.arange(ew0_steps))\n",
    "\n",
    "ax_histx.tick_params(bottom=False, labelbottom=False)\n",
    "ax_histy.tick_params(left=False, labelleft=False)\n",
    "\n",
    "ax.invert_yaxis()\n",
    "ax_histy.invert_yaxis()\n",
    "\n",
    "xticks = np.arange(r_bins, step=1.5)\n",
    "xticks_labels = ['{0:0.1f}'.format((r_max - r_min) * x / r_bins + r_min) for x in xticks]\n",
    "yticks_labels = ['{0:0.1f}'.format(x) for x in np.linspace(ew0_min, ew0_max, ew0_steps)]\n",
    "\n",
    "ax.set_xticks(xticks)\n",
    "ax.set_xticklabels(xticks_labels)\n",
    "ax.set_yticklabels(np.flip(yticks_labels))\n",
    "\n",
    "ax_histy.set_title('Total purity')\n",
    "ax_histx.set_title('All sources')\n",
    "\n",
    "ax.set_xlabel('rSDSS', fontsize=15)\n",
    "ax.set_ylabel('Minimum EW$_0$ ($\\AA$)', fontsize=15)\n",
    "\n",
    "plt.show()"
   ]
  }
 ],
 "metadata": {
  "interpreter": {
   "hash": "46cea94afe1f0d88e229837b28e72c2401fa9cb21844b20e15824a5f97d32088"
  },
  "kernelspec": {
   "display_name": "Python 3.9.7 64-bit ('py39': conda)",
   "name": "python3"
  },
  "language_info": {
   "codemirror_mode": {
    "name": "ipython",
    "version": 3
   },
   "file_extension": ".py",
   "mimetype": "text/x-python",
   "name": "python",
   "nbconvert_exporter": "python",
   "pygments_lexer": "ipython3",
   "version": "3.9.7"
  },
  "orig_nbformat": 4
 },
 "nbformat": 4,
 "nbformat_minor": 2
}
