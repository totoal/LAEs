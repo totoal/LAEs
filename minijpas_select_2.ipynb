{
 "cells": [
  {
   "cell_type": "code",
   "execution_count": null,
   "metadata": {},
   "outputs": [],
   "source": [
    "import numpy as np\n",
    "import matplotlib.pyplot as plt\n",
    "import pandas as pd\n",
    "from my_functions import *\n",
    "from LumFunc_miniJPAS import LumFunc_hist"
   ]
  },
  {
   "cell_type": "code",
   "execution_count": null,
   "metadata": {},
   "outputs": [],
   "source": [
    "w_central = central_wavelength()\n",
    "nb_fwhm_Arr = nb_fwhm(range(60))"
   ]
  },
  {
   "cell_type": "code",
   "execution_count": null,
   "metadata": {},
   "outputs": [],
   "source": [
    "split_converter = lambda s: np.array(s.split()).astype(float)\n",
    "sum_flags = lambda s: np.sum(np.array(s.split()).astype(float))\n",
    "\n",
    "cat = pd.read_csv('csv/minijpas.Flambda_photoz_gaia_7.csv', sep=',', header=1,\n",
    "    converters={0: int, 1: int, 2: split_converter, 3: split_converter, 4: sum_flags,\n",
    "    5: sum_flags})\n",
    "\n",
    "cat = cat[np.array([len(x) for x in cat['FLUX_AUTO']]) != 0] # Drop bad rows due to bad query\n",
    "cat = cat[(cat.FLAGS == 0) & (cat.MASK_FLAGS == 0)] # Drop flagged\n",
    "cat = cat.reset_index()\n",
    "\n",
    "pm_flx = np.stack(cat['FLUX_AUTO'].to_numpy()).T * 1e-19\n",
    "pm_err = np.stack(cat['FLUX_RELERR_AUTO'].to_numpy()).T * pm_flx"
   ]
  },
  {
   "cell_type": "code",
   "execution_count": null,
   "metadata": {},
   "outputs": [],
   "source": [
    "w_lya = 1215.67 # A\n",
    "\n",
    "N_sources = len(cat['FLUX_AUTO'])\n",
    "z_nb_Arr = w_central[:-4] / w_lya - 1\n",
    "print(N_sources)"
   ]
  },
  {
   "cell_type": "code",
   "execution_count": null,
   "metadata": {},
   "outputs": [],
   "source": [
    "pm_mask = mask_proper_motion(cat)"
   ]
  },
  {
   "cell_type": "code",
   "execution_count": null,
   "metadata": {},
   "outputs": [],
   "source": [
    "# Lya search\n",
    "cont_est_lya, cont_err_lya = estimate_continuum(pm_flx, pm_err)\n",
    "line = is_there_line(pm_flx, pm_err, cont_est_lya, cont_err_lya, 30, mask=pm_mask)\n",
    "lya_lines, lya_cont_lines = identify_lines(line, pm_flx, pm_err, first=True)\n",
    "\n",
    "# Other lines\n",
    "cont_est_other, cont_err_other = estimate_continuum(pm_flx, pm_err, IGM_T_correct=False)\n",
    "line_other = is_there_line(pm_flx, pm_err, cont_est_other, cont_err_other,\n",
    "    15, mask=pm_mask)\n",
    "other_lines = identify_lines(line_other, pm_flx, pm_err)"
   ]
  },
  {
   "cell_type": "code",
   "execution_count": null,
   "metadata": {},
   "outputs": [],
   "source": [
    "z_Arr = np.zeros(N_sources)\n",
    "z_Arr[np.where(np.array(lya_lines) != -1)] =\\\n",
    "    z_NB(np.array(lya_cont_lines)[np.where(np.array(lya_lines) != -1)])\n",
    "nice_lya = nice_lya_select(lya_lines, other_lines, pm_flx, cont_est_other, z_Arr)"
   ]
  },
  {
   "cell_type": "code",
   "execution_count": null,
   "metadata": {},
   "outputs": [],
   "source": [
    "total_hist = np.zeros(15)\n",
    "volume = 0\n",
    "for nb_c in range(0, 25):\n",
    "    LAE_src = np.array(lya_lines) == nb_c\n",
    "    flambda = pm_flx[nb_c, nice_lya & LAE_src] - cont_est_lya[nb_c, nice_lya & LAE_src]\n",
    "\n",
    "    LF_bins, LF_hist, volume_i, bin_width = LumFunc_hist(\n",
    "        flambda, w_central[nb_c], nb_fwhm_Arr[nb_c],\n",
    "        n_bins=15, L_min=43.5, L_max=45\n",
    "    )\n",
    "    total_hist += LF_hist\n",
    "    volume += volume_i"
   ]
  },
  {
   "cell_type": "code",
   "execution_count": null,
   "metadata": {},
   "outputs": [],
   "source": [
    "## Load HETDEX LumFunc data (Zhang 2021)\n",
    "filepath = 'csv/HETDEX_LumFunc.csv'\n",
    "HETDEX_LF = []\n",
    "with open(filepath, mode='r') as csvfile:\n",
    "    rdlns = csv.reader(csvfile, delimiter=',')\n",
    "    for line in rdlns:\n",
    "        HETDEX_LF.append(line)\n",
    "HETDEX_LF = np.array(HETDEX_LF).astype(float)"
   ]
  },
  {
   "cell_type": "code",
   "execution_count": null,
   "metadata": {},
   "outputs": [],
   "source": [
    "fig, ax = plt.subplots(figsize=(10, 6))\n",
    "\n",
    "ax.errorbar(LF_bins, total_hist / volume / bin_width,\n",
    "    yerr= total_hist ** 0.5 / volume / bin_width,\n",
    "    marker='.', linestyle='', markersize=15, label='Our data')\n",
    "ax.errorbar(HETDEX_LF[:,0], HETDEX_LF[:,1], yerr=HETDEX_LF[:, 2] - HETDEX_LF[:, 1],\n",
    "    fmt='s', markersize = 10, label = 'Zhang (2021)', zorder=-99)\n",
    "ax.plot(np.linspace(43.5, 45, 100), np.ones(100) / volume / bin_width)\n",
    "\n",
    "ax.set_yscale('log')\n",
    "ax.set_xlabel(r'$L_{\\mathrm{Ly}\\alpha}$ (erg s$^{-1}$)', fontsize=15)\n",
    "ax.set_ylabel(r'$\\Phi$ (Mpc$^{-3}\\,\\Delta\\logL^{-1}$)',\n",
    "    fontsize=15)\n",
    "ax.legend(fontsize=15)\n",
    "\n",
    "plt.show()"
   ]
  }
 ],
 "metadata": {
  "interpreter": {
   "hash": "46cea94afe1f0d88e229837b28e72c2401fa9cb21844b20e15824a5f97d32088"
  },
  "kernelspec": {
   "display_name": "Python 3.9.7 64-bit ('py39': conda)",
   "name": "python3"
  },
  "language_info": {
   "codemirror_mode": {
    "name": "ipython",
    "version": 3
   },
   "file_extension": ".py",
   "mimetype": "text/x-python",
   "name": "python",
   "nbconvert_exporter": "python",
   "pygments_lexer": "ipython3",
   "version": "3.9.7"
  },
  "orig_nbformat": 4
 },
 "nbformat": 4,
 "nbformat_minor": 2
}
