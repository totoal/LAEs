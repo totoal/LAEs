{
 "cells": [
  {
   "cell_type": "code",
   "execution_count": null,
   "metadata": {},
   "outputs": [],
   "source": [
    "import numpy as np\n",
    "import matplotlib.pyplot as plt\n",
    "import pandas as pd\n",
    "from my_functions import *\n",
    "from LumFunc_miniJPAS import LumFunc_hist\n",
    "from scipy.integrate import simpson"
   ]
  },
  {
   "cell_type": "code",
   "execution_count": null,
   "metadata": {},
   "outputs": [],
   "source": [
    "w_central = central_wavelength()\n",
    "nb_fwhm_Arr = nb_fwhm(range(60))"
   ]
  },
  {
   "cell_type": "code",
   "execution_count": null,
   "metadata": {},
   "outputs": [],
   "source": [
    "split_converter = lambda s: np.array(s.split()).astype(float)\n",
    "sum_flags = lambda s: np.sum(np.array(s.split()).astype(float))\n",
    "\n",
    "cat = pd.read_csv('csv/minijpas.Flambda_photoz_gaia_7.csv', sep=',', header=1,\n",
    "    converters={0: int, 1: int, 2: split_converter, 3: split_converter, 4: sum_flags,\n",
    "    5: sum_flags})\n",
    "\n",
    "cat = cat[np.array([len(x) for x in cat['FLUX_AUTO']]) != 0] # Drop bad rows due to bad query\n",
    "cat = cat[(cat.FLAGS == 0) & (cat.MASK_FLAGS == 0)] # Drop flagged\n",
    "cat = cat.reset_index()\n",
    "\n",
    "pm_flx = np.stack(cat['FLUX_AUTO'].to_numpy()).T * 1e-19\n",
    "pm_err = np.stack(cat['FLUX_RELERR_AUTO'].to_numpy()).T * pm_flx"
   ]
  },
  {
   "cell_type": "code",
   "execution_count": null,
   "metadata": {},
   "outputs": [],
   "source": [
    "cat.dtypes"
   ]
  },
  {
   "cell_type": "code",
   "execution_count": null,
   "metadata": {},
   "outputs": [],
   "source": [
    "mag = flux_to_mag(pm_flx, np.array(w_central.reshape(-1, 1)))"
   ]
  },
  {
   "cell_type": "code",
   "execution_count": null,
   "metadata": {},
   "outputs": [],
   "source": [
    "plt.hist(mag[-2], bins=np.linspace(15, 26, 30))\n",
    "plt.show()"
   ]
  },
  {
   "cell_type": "code",
   "execution_count": null,
   "metadata": {},
   "outputs": [],
   "source": [
    "w_lya = 1215.67 # A\n",
    "\n",
    "N_sources = len(cat['FLUX_AUTO'])\n",
    "z_nb_Arr = w_central[:-4] / w_lya - 1\n",
    "print(N_sources)"
   ]
  },
  {
   "cell_type": "code",
   "execution_count": null,
   "metadata": {},
   "outputs": [],
   "source": [
    "pm_mask = mask_proper_motion(cat)\n",
    "mag_mask = mag[-2] > 17\n",
    "\n",
    "mask = pm_mask & mag_mask"
   ]
  },
  {
   "cell_type": "code",
   "execution_count": null,
   "metadata": {},
   "outputs": [],
   "source": [
    "# Lya search\n",
    "cont_est_lya, cont_err_lya = estimate_continuum(pm_flx, pm_err, IGM_T_correct=True)\n",
    "line = is_there_line(pm_flx, pm_err, cont_est_lya, cont_err_lya, 30, mask=mask)\n",
    "lya_lines, lya_cont_lines = identify_lines(line, pm_flx, pm_err, first=True)\n",
    "\n",
    "# Other lines\n",
    "cont_est_other, cont_err_other = estimate_continuum(pm_flx, pm_err, IGM_T_correct=False)\n",
    "line_other = is_there_line(pm_flx, pm_err, cont_est_other, cont_err_other,\n",
    "    200, obs=True, mask=mask)\n",
    "other_lines = identify_lines(line_other, pm_flx, pm_err)"
   ]
  },
  {
   "cell_type": "code",
   "execution_count": null,
   "metadata": {},
   "outputs": [],
   "source": [
    "z_min = 2.45\n",
    "z_max = 3.54\n",
    "\n",
    "z_Arr = np.zeros(N_sources)\n",
    "z_Arr[np.where(np.array(lya_lines) != -1)] =\\\n",
    "    z_NB(np.array(lya_cont_lines)[np.where(np.array(lya_lines) != -1)])\n",
    "\n",
    "##\n",
    "lya_L = np.zeros(N_sources)\n",
    "lya_R = np.zeros(N_sources)\n",
    "lya_R2 = np.zeros(N_sources)\n",
    "lya_L_err = np.zeros(N_sources) * 99\n",
    "lya_R_err = np.zeros(N_sources) * 99\n",
    "\n",
    "z_mask = (z_Arr > z_min) & (z_Arr < z_max)\n",
    "\n",
    "nice_lya = nice_lya_select(\n",
    "    lya_lines, other_lines, pm_flx, pm_err, cont_est_other, z_Arr, mask=z_mask\n",
    ")"
   ]
  },
  {
   "cell_type": "code",
   "execution_count": null,
   "metadata": {},
   "outputs": [],
   "source": [
    "len(np.where(nice_lya)[0])"
   ]
  },
  {
   "cell_type": "code",
   "execution_count": null,
   "metadata": {},
   "outputs": [],
   "source": [
    "for k, src in enumerate(np.where(nice_lya)[0]):\n",
    "    if k == 5: break\n",
    "    fig = plt.figure(figsize=(8, 6))\n",
    "    ax = plot_JPAS_source(pm_flx[:, src], pm_err[:, src])\n",
    "    print(f'z_NB = {z_Arr[src]}')\n",
    "    \n",
    "    ax.plot(w_central[:56], cont_est_lya[:, src], ls='--', c='black')\n",
    "\n",
    "    ax.axvline(w_central[lya_lines[src]], label='Selected NB')\n",
    "    ax.legend(fontsize=13)\n",
    "    plt.show()"
   ]
  },
  {
   "cell_type": "code",
   "execution_count": null,
   "metadata": {},
   "outputs": [],
   "source": [
    "L_corr = np.array([ 0.        ,  0.        ,  0.        ,  0.        ,  0.        ,\n",
    "        0.77410915,  0.65363005,  0.55979489,  0.45614321,  0.34023556,\n",
    "        0.23150391,  0.14137477,  0.05610585, -0.04937215, -0.17850139,\n",
    "       -0.26451741, -0.40237301, -0.49827239, -0.61639531, -0.78802699,\n",
    "       -0.93215606, -1.1013045 , -1.31010605, -1.568421  , -1.71478125,\n",
    "       -1.65955705, -1.88670967, -1.99296961, -2.0665517 ])\n",
    "L_corr_bins = np.linspace(42, 45.5, 29)"
   ]
  },
  {
   "cell_type": "code",
   "execution_count": null,
   "metadata": {},
   "outputs": [],
   "source": [
    "total_hist = np.zeros(20)\n",
    "volume = 0\n",
    "\n",
    "flambda_Arr = np.array([])\n",
    "cont_Arr = np.array([])\n",
    "z_sel_Arr = np.array([])\n",
    "\n",
    "bins = np.linspace(42, 45.5, 20 + 1)\n",
    "\n",
    "for nb_c in range(56):\n",
    "    LAE_src = (np.array(lya_lines) == nb_c)\n",
    "    cont = cont_est_lya[nb_c, nice_lya & LAE_src]\n",
    "    flambda = pm_flx[nb_c, nice_lya & LAE_src] - cont\n",
    "    z_sel = (w_central[nb_c] / w_lya - 1)\n",
    "\n",
    "    LF_bins = [(b[i] + b[i + 1]) / 2 for i in range(len(b) - 1)]\n",
    "    \n",
    "    dL = cosmo.luminosity_distance(z_sel).to(u.cm).value\n",
    "    L_Arr = np.log10(flambda * nb_fwhm_Arr[nb_c] * 4*np.pi * dL**2)\n",
    "    L_Arr -= np.interp(L_Arr, L_corr_bins, L_corr)\n",
    "\n",
    "    h, b = np.histogram(L_Arr, bins=bins)\n",
    "\n",
    "    total_hist += h\n",
    "bin_width = b[1] - b[0]\n",
    "volume = z_volume(z_min, z_max, 0.895)"
   ]
  },
  {
   "cell_type": "code",
   "execution_count": null,
   "metadata": {},
   "outputs": [],
   "source": [
    "correct = np.array([         0.,          0.,  55.35665778, 118.43802951,\n",
    "        92.46972761,  46.3668734 ,  17.37431726,   9.24391423,\n",
    "         6.81758188,   5.45081034,   4.35727331,   3.32445915,\n",
    "         2.0973728 ,   1.38399214,   0.762778  ,   0.68885737,\n",
    "         0.37438566,   0.27963969,   0.31008327,   0.4599059 ])"
   ]
  },
  {
   "cell_type": "code",
   "execution_count": null,
   "metadata": {},
   "outputs": [],
   "source": [
    "fig, ax = plt.subplots(figsize=(10, 6))\n",
    "\n",
    "ax.errorbar(LF_bins, total_hist / volume / bin_width,\n",
    "    yerr= total_hist ** 0.5 / volume / bin_width,\n",
    "    marker='.', linestyle='', markersize=15, label='Uncorrected')\n",
    "ax.errorbar(LF_bins, total_hist / volume / bin_width * correct,\n",
    "    yerr= (total_hist * correct) ** 0.5 / volume / bin_width,\n",
    "    marker='.', linestyle='', markersize=15, label='Corrected')\n",
    "\n",
    "Lx = np.linspace(10 ** 42, 10 ** 46, 10000)\n",
    "phistar1 = 3.33e-6\n",
    "Lstar1 = 10 ** 44.65\n",
    "alpha1 = -1.35\n",
    "Phi1 = schechter(Lx, phistar1, Lstar1, alpha1) * Lx * np.log(10)\n",
    "\n",
    "phistar2 = 10 ** -3.45\n",
    "Lstar2 = 10 ** 42.93\n",
    "alpha2 = -1.93\n",
    "Phi2 = schechter(Lx, phistar2, Lstar2, alpha2) * Lx * np.log(10)\n",
    "\n",
    "ax.plot(np.log10(Lx), Phi1, label='Spinoso 2020 (QSO)')\n",
    "ax.plot(np.log10(Lx), Phi2, label='Sobral 2018 (SF)')\n",
    "\n",
    "ax.set_yscale('log')\n",
    "ax.set_xlabel(r'$L_{\\mathrm{Ly}\\alpha}$ (erg s$^{-1}$)', fontsize=15)\n",
    "ax.set_ylabel(r'$\\Phi$ (Mpc$^{-3}\\,\\Delta\\logL^{-1}$)',\n",
    "    fontsize=15)\n",
    "ax.set_ylim(1e-8, 1e-3)\n",
    "ax.set_xlim(42.5, 45.5)\n",
    "ax.legend(fontsize=15)\n",
    "\n",
    "plt.show()"
   ]
  },
  {
   "cell_type": "code",
   "execution_count": null,
   "metadata": {},
   "outputs": [],
   "source": [
    "vol = z_volume(2.45, 3.54, 0.895)\n",
    "\n",
    "L_integrate = np.linspace(10 ** 43.5, 10 ** 44.55, 1000)\n",
    "Phi_integrate = schechter(L_integrate, phistar1, Lstar1, alpha1)\n",
    "\n",
    "L_integrate2 = 10 ** np.linspace(43, 43.4, 1000)\n",
    "Phi_integrate2 = schechter(L_integrate2, phistar1, Lstar1, alpha1)\n",
    "\n",
    "Nt = simpson(Phi_integrate, L_integrate) * vol\n",
    "Ne = Nt - simpson(Phi_integrate2, L_integrate2) * vol\n",
    "\n",
    "print('N_expected = {0:0.0f} +- {1:0.0f}'.format(Nt, Ne))"
   ]
  }
 ],
 "metadata": {
  "interpreter": {
   "hash": "46cea94afe1f0d88e229837b28e72c2401fa9cb21844b20e15824a5f97d32088"
  },
  "kernelspec": {
   "display_name": "Python 3.9.7 64-bit ('py39': conda)",
   "name": "python3"
  },
  "language_info": {
   "codemirror_mode": {
    "name": "ipython",
    "version": 3
   },
   "file_extension": ".py",
   "mimetype": "text/x-python",
   "name": "python",
   "nbconvert_exporter": "python",
   "pygments_lexer": "ipython3",
   "version": "3.9.7"
  },
  "orig_nbformat": 4
 },
 "nbformat": 4,
 "nbformat_minor": 2
}
