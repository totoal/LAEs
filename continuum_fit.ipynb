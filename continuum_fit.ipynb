{
 "cells": [
  {
   "cell_type": "code",
   "execution_count": null,
   "id": "30a53f31",
   "metadata": {},
   "outputs": [],
   "source": [
    "import numpy as np\n",
    "import matplotlib.pyplot as plt\n",
    "from my_functions import *\n",
    "%matplotlib notebook"
   ]
  },
  {
   "cell_type": "code",
   "execution_count": null,
   "id": "9e277e1e",
   "metadata": {},
   "outputs": [],
   "source": [
    "pm_data = np.load('npy/pm_eLAE_1deg.npy')\n",
    "f_name = 'Source_cats/Source_cat_LAE_1deg.npy'\n",
    "mock = np.load(f_name, allow_pickle=True).item()\n",
    "errors = np.load('npy/errors5Sigma.npy')"
   ]
  },
  {
   "cell_type": "code",
   "execution_count": null,
   "id": "91d9f5d0",
   "metadata": {},
   "outputs": [],
   "source": [
    "filters_tags = load_filter_tags()\n",
    "tcurves = load_tcurves(filters_tags)\n",
    "w_central = np.array(central_wavelength(tcurves))"
   ]
  },
  {
   "cell_type": "code",
   "execution_count": null,
   "id": "60633051",
   "metadata": {},
   "outputs": [],
   "source": [
    "bb_fwhm = [\n",
    "    nb_fwhm(tcurves, -4, True),\n",
    "    nb_fwhm(tcurves, -3, True),\n",
    "    nb_fwhm(tcurves, -2, True),\n",
    "    nb_fwhm(tcurves, -1, True)\n",
    "]"
   ]
  },
  {
   "cell_type": "code",
   "execution_count": null,
   "id": "2a71e997",
   "metadata": {},
   "outputs": [],
   "source": [
    "def nbex_cont_est(pm, nb_ind, w_central, mock_n, plotit=True): # Computes nb excess with linear estimation of the continuum\n",
    "    nb_fit_n = 10\n",
    "    cont_nb_Arr = [*range(nb_ind-nb_fit_n, nb_ind), *range(nb_ind+1, nb_ind+nb_fit_n+1)]\n",
    "    cont_nb_Arr += [-3]\n",
    "    cont_nb_Arr = np.array(cont_nb_Arr)\n",
    "    \n",
    "    # Fitting\n",
    "    x = w_central[cont_nb_Arr]\n",
    "    y = pm[cont_nb_Arr]\n",
    "    weights = np.zeros(len(cont_nb_Arr))\n",
    "    err = np.copy(errors)\n",
    "    \n",
    "    for idx in cont_nb_Arr:\n",
    "        bbnb = pm[idx] - pm[-3] # Excess NB-gSDSS\n",
    "        if bbnb > 3*err[idx,1]:\n",
    "            err[idx,1] = 999.\n",
    "            print(idx)\n",
    "            \n",
    "    weights = err[cont_nb_Arr,1]\n",
    "        \n",
    "    cont_fit, cov = np.polyfit(x, y, 1, w = 1./weights, cov='unscaled')\n",
    "\n",
    "    if plotit:\n",
    "        ################# PLOT #################\n",
    "\n",
    "        fig, ax = plt.subplots()\n",
    "        ax.plot( mock['w_Arr'], mock['SEDs'][mock_n], c='orange', lw=2, zorder=-1)\n",
    "        ax.scatter(w_central[:-3], pm[:-3])\n",
    "        ax.errorbar(w_central[:-3], pm[:-3], yerr=errors[:-3, 1], fmt='none')\n",
    "        ax.scatter(w_central[nb_ind], pm[nb_ind], c='black')\n",
    "\n",
    "        ax.scatter(w_central[-4], pm[-4], c='purple' , marker='s')\n",
    "        ax.scatter(w_central[-3], pm[-3], c='green'  , marker='s')\n",
    "        ax.scatter(w_central[-2], pm[-2], c='red'    , marker='s')\n",
    "        ax.scatter(w_central[-1], pm[-1], c='dimgray', marker='s')\n",
    "\n",
    "        ax.errorbar(w_central[-4], pm[-4], xerr=bb_fwhm[-4]/2, fmt='none', color='purple' , elinewidth=4)\n",
    "        ax.errorbar(w_central[-3], pm[-3], xerr=bb_fwhm[-3]/2, fmt='none', color='green'  , elinewidth=4)\n",
    "        ax.errorbar(w_central[-2], pm[-2], xerr=bb_fwhm[-2]/2, fmt='none', color='red'    , elinewidth=4)\n",
    "        ax.errorbar(w_central[-1], pm[-1], xerr=bb_fwhm[-1]/2, fmt='none', color='dimgray', elinewidth=4)\n",
    "\n",
    "        ax.set_xlabel('$\\lambda\\ (\\AA)$', size=15)\n",
    "        ax.set_ylabel('$f_\\lambda$ (erg cm$^{-2}$ s$^{-1}$ $\\AA^{-1}$)', size=15)\n",
    "\n",
    "        # Fit line\n",
    "        x_fit = np.linspace(4000, 6000, 1000)\n",
    "        y_fit = cont_fit[1] + cont_fit[0]*x_fit\n",
    "        ax.plot(x_fit,y_fit, c='dimgray', linestyle='dashed')\n",
    "        ax.errorbar(w_central[nb_ind], cont_fit[1] + cont_fit[0]*w_central[nb_ind],\n",
    "                   yerr = (cov[1,1] + cov[0,0]*w_central[nb_ind]**2)**0.5,\n",
    "                c='dimgray', marker='s', markerfacecolor='none')\n",
    "\n",
    "        plt.show()\n",
    "\n",
    "        ########################################\n",
    "        \n",
    "    return pm[nb_ind] - cont_fit[1] - cont_fit[0]*w_central[nb_ind]"
   ]
  },
  {
   "cell_type": "code",
   "execution_count": null,
   "id": "4a5bae45",
   "metadata": {
    "scrolled": false
   },
   "outputs": [],
   "source": [
    "nb_ind = 12\n",
    "for mock_n in range(10):\n",
    "    print(nbex_cont_est(pm_data[:,mock_n], nb_ind, w_central, mock_n, True) > 3*errors[nb_ind,1])"
   ]
  },
  {
   "cell_type": "code",
   "execution_count": null,
   "id": "ce6ca214",
   "metadata": {},
   "outputs": [],
   "source": []
  }
 ],
 "metadata": {
  "kernelspec": {
   "display_name": "Python 3",
   "language": "python",
   "name": "python3"
  },
  "language_info": {
   "codemirror_mode": {
    "name": "ipython",
    "version": 3
   },
   "file_extension": ".py",
   "mimetype": "text/x-python",
   "name": "python",
   "nbconvert_exporter": "python",
   "pygments_lexer": "ipython3",
   "version": "3.8.10"
  }
 },
 "nbformat": 4,
 "nbformat_minor": 5
}
