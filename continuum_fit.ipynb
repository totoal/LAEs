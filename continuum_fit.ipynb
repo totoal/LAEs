{
 "cells": [
  {
   "cell_type": "code",
   "execution_count": null,
   "id": "32726798",
   "metadata": {},
   "outputs": [],
   "source": [
    "import numpy as np\n",
    "import matplotlib.pyplot as plt\n",
    "from my_functions import *\n",
    "%matplotlib notebook"
   ]
  },
  {
   "cell_type": "code",
   "execution_count": null,
   "id": "8adf1517",
   "metadata": {},
   "outputs": [],
   "source": [
    "pm_data = np.load('npy/pm_eLAE_1deg.npy')\n",
    "f_name = 'Source_cats/Source_cat_LAE_1deg.npy'\n",
    "mock = np.load( f_name, allow_pickle=True ).item()\n",
    "errors = np.load('npy/errors5Sigma.npy')"
   ]
  },
  {
   "cell_type": "code",
   "execution_count": null,
   "id": "78d627fc",
   "metadata": {},
   "outputs": [],
   "source": [
    "filters_tags = load_filter_tags()\n",
    "tcurves = load_tcurves(filters_tags)\n",
    "w_central = np.array(central_wavelength(tcurves))"
   ]
  },
  {
   "cell_type": "code",
   "execution_count": null,
   "id": "bb67887c",
   "metadata": {},
   "outputs": [],
   "source": [
    "bb_fwhm = [\n",
    "    nb_fwhm(tcurves, -4, True),\n",
    "    nb_fwhm(tcurves, -3, True),\n",
    "    nb_fwhm(tcurves, -2, True),\n",
    "    nb_fwhm(tcurves, -1, True)\n",
    "]"
   ]
  },
  {
   "cell_type": "code",
   "execution_count": null,
   "id": "613a5d09",
   "metadata": {},
   "outputs": [],
   "source": [
    "def nbex_cont_estimate(pm, nb_ind, mock_n): # Computes nb excess with linear estimation of the continuum\n",
    "    cont_nb_Arr = [*range(nb_ind-5, nb_ind), *range(nb_ind+1, nb_ind+5+1)]\n",
    "    cont_nb_Arr.sort()\n",
    "    cont_nb_Arr = np.array(cont_nb_Arr)\n",
    "    \n",
    "    # Fitting\n",
    "    x = w_central[cont_nb_Arr]\n",
    "    y = pm[cont_nb_Arr]\n",
    "    cont_fit = np.polyfit(x,y,1)\n",
    "\n",
    "    ################# PLOT #################\n",
    "    \n",
    "    fig, ax = plt.subplots()\n",
    "    ax.plot( mock['w_Arr'], mock['SEDs'][mock_n], c='orange', lw=2, zorder=-1)\n",
    "    ax.scatter(w_central[:-3], pm[:-3])\n",
    "    ax.errorbar(w_central[:-3], pm[:-3], yerr=errors[:-3, 1], fmt='none')\n",
    "    ax.scatter(w_central[nb_ind], pm[nb_ind], c='black')\n",
    "    \n",
    "    ax.scatter(w_central[-4], pm[-4], c='purple' , marker='s')\n",
    "    ax.scatter(w_central[-3], pm[-3], c='green'  , marker='s')\n",
    "    ax.scatter(w_central[-2], pm[-2], c='red'    , marker='s')\n",
    "    ax.scatter(w_central[-1], pm[-1], c='dimgray', marker='s')\n",
    "    \n",
    "    ax.errorbar(w_central[-4], pm[-4], xerr=bb_fwhm[-4]/2, fmt='none', color='purple' , elinewidth=4)\n",
    "    ax.errorbar(w_central[-3], pm[-3], xerr=bb_fwhm[-3]/2, fmt='none', color='green'  , elinewidth=4)\n",
    "    ax.errorbar(w_central[-2], pm[-2], xerr=bb_fwhm[-2]/2, fmt='none', color='red'    , elinewidth=4)\n",
    "    ax.errorbar(w_central[-1], pm[-1], xerr=bb_fwhm[-1]/2, fmt='none', color='dimgray', elinewidth=4)\n",
    "        \n",
    "    ax.set_xlabel('$\\lambda\\ (\\AA)$', size=15)\n",
    "    ax.set_ylabel('$f_\\lambda$ (erg cm$^{-2}$ s$^{-1}$ $\\AA^{-1}$)', size=15)\n",
    "    \n",
    "    # Fit line\n",
    "    x_fit = np.linspace(4000, 6000, 1000)\n",
    "    y_fit = cont_fit[1] + cont_fit[0]*x_fit\n",
    "    ax.plot(x_fit,y_fit, c='dimgray', linestyle='dashed')\n",
    "    \n",
    "    plt.show()\n",
    "    \n",
    "    ########################################"
   ]
  },
  {
   "cell_type": "code",
   "execution_count": null,
   "id": "1dce9495",
   "metadata": {
    "scrolled": false
   },
   "outputs": [],
   "source": [
    "for mock_n in range(10):\n",
    "    nbex_cont_estimate(pm_data[:,mock_n], 10, mock_n)"
   ]
  },
  {
   "cell_type": "code",
   "execution_count": null,
   "id": "b864c0c6",
   "metadata": {},
   "outputs": [],
   "source": []
  }
 ],
 "metadata": {
  "kernelspec": {
   "display_name": "Python 3",
   "language": "python",
   "name": "python3"
  },
  "language_info": {
   "codemirror_mode": {
    "name": "ipython",
    "version": 3
   },
   "file_extension": ".py",
   "mimetype": "text/x-python",
   "name": "python",
   "nbconvert_exporter": "python",
   "pygments_lexer": "ipython3",
   "version": "3.8.10"
  }
 },
 "nbformat": 4,
 "nbformat_minor": 5
}
