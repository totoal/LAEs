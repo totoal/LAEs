{
 "cells": [
  {
   "cell_type": "code",
   "execution_count": null,
   "metadata": {},
   "outputs": [],
   "source": [
    "import numpy as np\n",
    "import matplotlib.pyplot as plt\n",
    "import pickle\n",
    "from scipy.optimize import curve_fit\n",
    "from my_functions import schechter"
   ]
  },
  {
   "cell_type": "code",
   "execution_count": null,
   "metadata": {},
   "outputs": [],
   "source": [
    "filename = '/home/alberto/cosmos/LAEs/Luminosity_functions/LF_r17-23.5_z2.5-3.8_ew0_ewoth400_nb/LFs.pkl'\n",
    "with open(filename, 'rb') as f:\n",
    "    LFdic = pickle.load(f)\n",
    "\n",
    "LF_phi = LFdic['LF_total']\n",
    "LF_bin = LFdic['LF_bins']\n",
    "LF_yerr_minus = LFdic['LF_total_err'][0]\n",
    "LF_yerr_plus = LFdic['LF_total_err'][0]\n",
    "LF_xerr = LFdic['LF_total_err'][0]"
   ]
  },
  {
   "cell_type": "code",
   "execution_count": null,
   "metadata": {},
   "outputs": [],
   "source": [
    "def sch_fit(Lx, Phistar, Lstar, alpha):\n",
    "    return schechter(Lx, Phistar, Lstar, alpha) * Lx * np.log(10)"
   ]
  },
  {
   "cell_type": "code",
   "execution_count": null,
   "metadata": {},
   "outputs": [],
   "source": [
    "where_fit = (LF_bin > 43.5) & (LF_phi > 0)\n",
    "\n",
    "sigma = (LF_yerr_minus + LF_yerr_plus) * 0.5\n",
    "\n",
    "popt, pcov = curve_fit(sch_fit, 10**LF_bin[where_fit], LF_phi[where_fit],\n",
    "                       p0=[1e-6, 1e44, -1.5], sigma=sigma[where_fit])"
   ]
  },
  {
   "cell_type": "code",
   "execution_count": null,
   "metadata": {},
   "outputs": [],
   "source": [
    "fig, ax = plt.subplots(figsize=(7, 6))\n",
    "\n",
    "Lx = np.logspace(40, 47)\n",
    "\n",
    "Phi = sch_fit(Lx, *tuple(popt))\n",
    "ax.plot(np.log10(Lx), Phi)\n",
    "\n",
    "ax.errorbar(LF_bin[where_fit], LF_phi[where_fit],\n",
    "            yerr=[LF_yerr_minus[where_fit], LF_yerr_plus[where_fit]],\n",
    "            xerr=LF_xerr[where_fit],\n",
    "            fmt='s', color='r', capsize=4)\n",
    "\n",
    "ax.set_yscale('log')\n",
    "ax.set_ylim(1e-8, 5e-3)\n",
    "ax.set_xlim(42.5, 45.5)\n",
    "\n",
    "\n",
    "plt.show()"
   ]
  },
  {
   "cell_type": "code",
   "execution_count": null,
   "metadata": {},
   "outputs": [],
   "source": [
    "pcov"
   ]
  }
 ],
 "metadata": {
  "kernelspec": {
   "display_name": "Python 3.9.12 ('base')",
   "language": "python",
   "name": "python3"
  },
  "language_info": {
   "codemirror_mode": {
    "name": "ipython",
    "version": 3
   },
   "file_extension": ".py",
   "mimetype": "text/x-python",
   "name": "python",
   "nbconvert_exporter": "python",
   "pygments_lexer": "ipython3",
   "version": "3.9.12"
  },
  "orig_nbformat": 4,
  "vscode": {
   "interpreter": {
    "hash": "ade4bca3e0042e0da78fecdb82351169c0f2ccedb06a0d7cf7342df8f7e47af7"
   }
  }
 },
 "nbformat": 4,
 "nbformat_minor": 2
}
