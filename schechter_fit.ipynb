{
 "cells": [
  {
   "cell_type": "code",
   "execution_count": null,
   "metadata": {},
   "outputs": [],
   "source": [
    "import numpy as np\n",
    "import matplotlib.pyplot as plt\n",
    "import matplotlib\n",
    "matplotlib.rcParams.update({'font.size': 13})\n",
    "import pickle\n",
    "from scipy.optimize import curve_fit\n",
    "from my_functions import schechter, double_schechter, count_true"
   ]
  },
  {
   "cell_type": "code",
   "execution_count": null,
   "metadata": {},
   "outputs": [],
   "source": [
    "filename = '/home/alberto/cosmos/LAEs/Luminosity_functions/LF_r17-24_z2.5-3.8_ew0_ewoth400_nb/LFs.pkl'\n",
    "with open(filename, 'rb') as f:\n",
    "    LFdic = pickle.load(f)\n",
    "\n",
    "LF_phi = LFdic['LF_total']\n",
    "LF_bin = LFdic['LF_bins']\n",
    "LF_yerr_minus = LFdic['LF_total_err'][0]\n",
    "LF_yerr_plus = LFdic['LF_total_err'][0]\n",
    "LF_xerr = LFdic['LF_total_err'][0]"
   ]
  },
  {
   "cell_type": "code",
   "execution_count": null,
   "metadata": {},
   "outputs": [],
   "source": [
    "def sch_fit(Lx, Phistar, Lstar, alpha):\n",
    "    return schechter(Lx, Phistar, Lstar, alpha) * Lx * np.log(10)"
   ]
  },
  {
   "cell_type": "code",
   "execution_count": null,
   "metadata": {},
   "outputs": [],
   "source": [
    "where_fit = (LF_bin > 43.5) & (LF_phi > 0)\n",
    "\n",
    "sigma = (LF_yerr_minus + LF_yerr_plus) * 0.5\n",
    "\n",
    "popt, pcov = curve_fit(sch_fit, 10**LF_bin[where_fit], LF_phi[where_fit],\n",
    "                       p0=[1e-6, 1e44, -1.5], sigma=sigma[where_fit])"
   ]
  },
  {
   "cell_type": "code",
   "execution_count": null,
   "metadata": {},
   "outputs": [],
   "source": [
    "Lx = np.logspace(42, 46, 1000)\n",
    "\n",
    "N_fit_bins = count_true(where_fit)\n",
    "N_iter = 100\n",
    "fit_mat = np.empty((0, len(Lx)))  # Matrix with the params of all iterations\n",
    "LF_i_bin = 10 ** LF_bin[where_fit]\n",
    "for i in range(N_iter):\n",
    "    randN = np.random.normal(size=(N_fit_bins,))\n",
    "    LF_i_phi = LF_phi[where_fit] + randN * sigma[where_fit]\n",
    "    try:\n",
    "        popt_aux, _ = curve_fit(sch_fit, LF_i_bin, LF_i_phi,\n",
    "                                p0=[1e-6, 1e44, -1.5])\n",
    "    except:\n",
    "        continue\n",
    "    Phi_aux = sch_fit(Lx, *tuple(popt_aux))\n",
    "    fit_mat = np.vstack([fit_mat, Phi_aux])\n",
    "\n",
    "Phi16, Phi50, Phi84 = np.percentile(fit_mat, [16, 50, 48], axis=0)"
   ]
  },
  {
   "cell_type": "code",
   "execution_count": null,
   "metadata": {},
   "outputs": [],
   "source": [
    "fig, ax = plt.subplots(figsize=(7, 6))\n",
    "\n",
    "# Plot the reference LF curves\n",
    "\n",
    "phistar1 = 3.33e-6\n",
    "Lstar1 = 44.65\n",
    "alpha1 = -1.35\n",
    "\n",
    "phistar2 = -3.45\n",
    "Lstar2 = 42.93\n",
    "alpha2 = -1.93\n",
    "\n",
    "Phi_center = double_schechter(\n",
    "    Lx, phistar1, 10 ** Lstar1, alpha1, 10 ** phistar2, 10 ** Lstar2, alpha2\n",
    ") * Lx * np.log(10)\n",
    "\n",
    "ax.plot(\n",
    "    np.log10(Lx), Phi_center, ls='-.', alpha=0.7,\n",
    "    zorder=1, color='C6'\n",
    ")\n",
    "\n",
    "phistar1 = 10 ** -3.41\n",
    "Lstar1 = 10 ** 42.87\n",
    "alpha1 = -1.7\n",
    "\n",
    "phistar2 = 10 ** -5.85\n",
    "Lstar2 = 10 ** 44.6\n",
    "alpha2 = -1.2\n",
    "\n",
    "Phi_center = double_schechter(\n",
    "    Lx, phistar1, Lstar1, alpha1, phistar2, Lstar2, alpha2\n",
    ") * Lx * np.log(10)\n",
    "\n",
    "ax.plot(\n",
    "    np.log10(Lx), Phi_center, ls='-.', alpha=0.7,\n",
    "    zorder=0, color='C7'\n",
    ")\n",
    "\n",
    "Phi = sch_fit(Lx, *tuple(popt))\n",
    "ax.plot(np.log10(Lx), Phi, label='My fit')\n",
    "\n",
    "ax.errorbar(LF_bin[where_fit], LF_phi[where_fit],\n",
    "            yerr=[LF_yerr_minus[where_fit], LF_yerr_plus[where_fit]],\n",
    "            xerr=LF_xerr[where_fit],\n",
    "            fmt='s', color='r', capsize=4, label='My points')\n",
    "\n",
    "ax.set_yscale('log')\n",
    "ax.set_ylim(1e-8, 5e-3)\n",
    "ax.set_xlim(42.5, 45.5)\n",
    "ax.legend()\n",
    "\n",
    "Phistar = popt[0]\n",
    "Lstar = np.log10(popt[1])\n",
    "alpha = popt[2]\n",
    "Phistar_err = pcov[0, 0] ** 0.5\n",
    "Lstar_err = -np.log10((10 ** Lstar - pcov[1, 1] ** 0.5)) + Lstar\n",
    "alpha_err = pcov[2, 2] ** 0.5\n",
    "\n",
    "text = fr'''\n",
    "$\\Phi^*=${Phistar:0.1e}$\\pm${Phistar_err:0.1e}\n",
    "$L^*=${Lstar:0.2f}$\\pm${Lstar_err:0.2f}\n",
    "$\\alpha=${alpha:0.2f}$\\pm${alpha_err:0.2f}\n",
    "'''\n",
    "ax.text(42.7, 1e-7, text)\n",
    "\n",
    "plt.show()"
   ]
  },
  {
   "cell_type": "code",
   "execution_count": null,
   "metadata": {},
   "outputs": [],
   "source": [
    "print(popt)\n",
    "print()\n",
    "print(pcov)"
   ]
  },
  {
   "cell_type": "code",
   "execution_count": null,
   "metadata": {},
   "outputs": [],
   "source": [
    "path = '/home/alberto/cosmos/LAEs/Luminosity_functions/LF_r17-24_z2.5-3.8_ew0_ewoth400_nb'\n",
    "filename = f'{path}/Sch_fit.npy'\n",
    "schfit = np.load(filename)"
   ]
  }
 ],
 "metadata": {
  "kernelspec": {
   "display_name": "Python 3.9.12 ('base')",
   "language": "python",
   "name": "python3"
  },
  "language_info": {
   "codemirror_mode": {
    "name": "ipython",
    "version": 3
   },
   "file_extension": ".py",
   "mimetype": "text/x-python",
   "name": "python",
   "nbconvert_exporter": "python",
   "pygments_lexer": "ipython3",
   "version": "3.9.12"
  },
  "orig_nbformat": 4,
  "vscode": {
   "interpreter": {
    "hash": "ade4bca3e0042e0da78fecdb82351169c0f2ccedb06a0d7cf7342df8f7e47af7"
   }
  }
 },
 "nbformat": 4,
 "nbformat_minor": 2
}
