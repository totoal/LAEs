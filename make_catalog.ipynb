{
 "cells": [
  {
   "cell_type": "code",
   "execution_count": null,
   "id": "painful-setting",
   "metadata": {},
   "outputs": [],
   "source": [
    "import csv\n",
    "import numpy as np\n",
    "import pickle"
   ]
  },
  {
   "cell_type": "code",
   "execution_count": null,
   "id": "republican-equivalent",
   "metadata": {},
   "outputs": [],
   "source": [
    "filepath = './JPAS_Transmission_Curves_20170316/minijpas.Filter.csv'\n",
    "filters_tags = []\n",
    "\n",
    "with open(filepath, mode='r') as csvfile:\n",
    "    rdlns = csv.reader(csvfile, delimiter=',')\n",
    "    \n",
    "    next(rdlns, None)\n",
    "    next(rdlns, None)\n",
    "    \n",
    "    for line in rdlns:\n",
    "        filters_tags.append(line[1])\n",
    "        \n",
    "filters_tags[0] = 'J0348'"
   ]
  },
  {
   "cell_type": "code",
   "execution_count": null,
   "id": "interested-adult",
   "metadata": {},
   "outputs": [],
   "source": [
    "# Initialize dict\n",
    "\n",
    "catalog = {\n",
    "    'FILTER'     :     filters_tags ,\n",
    "    'MAG'        :     np.array([]) ,\n",
    "    'ERR'        :     np.array([]) ,\n",
    "    'FLAGS'      :     np.array([]) ,\n",
    "    'MFLAGS'     :     np.array([]) ,\n",
    "    'W_CENTRAL'  :     []\n",
    "}"
   ]
  },
  {
   "cell_type": "code",
   "execution_count": null,
   "id": "automated-arctic",
   "metadata": {},
   "outputs": [],
   "source": [
    "filters_w = []\n",
    "filters_trans = []\n",
    "\n",
    "for tag in filters_tags:\n",
    "    \n",
    "    f = open('./JPAS_Transmission_Curves_20170316/JPAS_'+tag+'.tab', mode='r')\n",
    "    lines = f.readlines()[12:]\n",
    "    w = []\n",
    "    trans = []\n",
    "   \n",
    "    for l in range(len(lines)):\n",
    "        w.append(float(lines[l].split()[0]))\n",
    "        trans.append(float(lines[l].split()[1]))\n",
    "        \n",
    "    filters_w.append(w)\n",
    "    filters_trans.append(trans)\n",
    "    \n",
    "        \n",
    "tcurves = {\n",
    "    \"tag\"  :  filters_tags,\n",
    "    \"w\"    :  filters_w ,\n",
    "    \"t\"    :  filters_trans\n",
    "}"
   ]
  },
  {
   "cell_type": "code",
   "execution_count": null,
   "id": "helpful-eligibility",
   "metadata": {},
   "outputs": [],
   "source": [
    "w_central = []\n",
    "\n",
    "for fil in range(0,len(filters_tags)):\n",
    "    w_c = sum(np.array(tcurves['w'][fil])*np.array(tcurves['t'][fil])) \\\n",
    "           / sum(tcurves['t'][fil])\n",
    "    w_central.append(w_c)\n",
    "    \n",
    "catalog['W_CENTRAL'] = w_central"
   ]
  },
  {
   "cell_type": "code",
   "execution_count": null,
   "id": "induced-fight",
   "metadata": {},
   "outputs": [],
   "source": [
    "with open('csv/minijpas.dualMagAuto_PhotoZ.csv', mode='r') as csvfile:\n",
    "    rdlns = csv.reader(csvfile, delimiter=',')\n",
    "    \n",
    "    next(rdlns, None)\n",
    "    next(rdlns, None)\n",
    "    \n",
    "    mag        = []\n",
    "    mag_err    = []\n",
    "    flags      = []\n",
    "    mask_flags = []\n",
    "    photo_z    = []\n",
    "    pz_odds    = []\n",
    "    \n",
    "    for line in rdlns:\n",
    "        mag.append(line[0].split())\n",
    "        mag_err.append(line[1].split())\n",
    "        flags.append(line[2].split())\n",
    "        mask_flags.append(line[3].split())\n",
    "        photo_z.append(line[4])\n",
    "        pz_odds.append(line[5])\n",
    "        \n",
    "catalog['MAG']    = np.array(    mag   ).astype(float)\n",
    "catalog['ERR']    = np.array( mag_err  ).astype(float)\n",
    "catalog['FLAGS']  = np.array(  flags   ).astype(float)\n",
    "catalog['MFLAGS'] = np.array(mask_flags).astype(float)\n",
    "catalog['PHOTOZ'] = np.array( photo_z  ).astype(float)\n",
    "catalog['PZODDS'] = np.array( pz_odds  ).astype(float)"
   ]
  },
  {
   "cell_type": "code",
   "execution_count": null,
   "id": "crucial-constraint",
   "metadata": {},
   "outputs": [],
   "source": [
    "with open(\"pkl/catalogDual_pz.pkl\", \"wb\") as file:\n",
    "    pickle.dump(catalog, file)"
   ]
  },
  {
   "cell_type": "code",
   "execution_count": null,
   "id": "hidden-slovak",
   "metadata": {},
   "outputs": [],
   "source": []
  }
 ],
 "metadata": {
  "kernelspec": {
   "display_name": "Python 3",
   "language": "python",
   "name": "python3"
  },
  "language_info": {
   "codemirror_mode": {
    "name": "ipython",
    "version": 3
   },
   "file_extension": ".py",
   "mimetype": "text/x-python",
   "name": "python",
   "nbconvert_exporter": "python",
   "pygments_lexer": "ipython3",
   "version": "3.8.10"
  }
 },
 "nbformat": 4,
 "nbformat_minor": 5
}
