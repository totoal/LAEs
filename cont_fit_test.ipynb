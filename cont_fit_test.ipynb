{
 "cells": [
  {
   "cell_type": "code",
   "execution_count": null,
   "id": "76858737",
   "metadata": {},
   "outputs": [],
   "source": [
    "import numpy as np\n",
    "from my_functions import *\n",
    "import matplotlib.pyplot as plt"
   ]
  },
  {
   "cell_type": "code",
   "execution_count": null,
   "id": "8161b8ca",
   "metadata": {},
   "outputs": [],
   "source": [
    "# Equation of a straight line\n",
    "def f(x, m, b):\n",
    "    return m*x + b"
   ]
  },
  {
   "cell_type": "code",
   "execution_count": null,
   "id": "d3b2abf3",
   "metadata": {},
   "outputs": [],
   "source": [
    "# True values of the generative function\n",
    "m_true = 5e-22\n",
    "b_true = 5e-18"
   ]
  },
  {
   "cell_type": "code",
   "execution_count": null,
   "id": "49e66083",
   "metadata": {},
   "outputs": [],
   "source": [
    "# Generate dataset\n",
    "w_central = np.array(central_wavelength(load_tcurves(load_filter_tags())))\n",
    "nb_ind = 12\n",
    "\n",
    "x = w_central[np.arange(nb_ind-10, nb_ind+10+1)]\n",
    "y_true = f(x, m_true, b_true)\n",
    "yerr = y_true * 0.2\n",
    "y = y_true + yerr * np.random.randn(len(y_true))"
   ]
  },
  {
   "cell_type": "code",
   "execution_count": null,
   "id": "c4f4963f",
   "metadata": {},
   "outputs": [],
   "source": [
    "# Fit\n",
    "p0 = [0., 1e-17]\n",
    "cf, cov = curve_fit(f, x, y, p0, yerr, True, False, method='trf', loss='linear')"
   ]
  },
  {
   "cell_type": "code",
   "execution_count": null,
   "id": "85f5985b",
   "metadata": {
    "scrolled": false
   },
   "outputs": [],
   "source": [
    "fig, ax = plt.subplots(figsize = (11, 7))\n",
    "\n",
    "ax.plot(x, y_true, c='orange', linewidth=3, linestyle='dashed', label='True curve')\n",
    "ax.plot(x, cf[1] + cf[0]*x, c='green', linewidth=3, label='Fitted curve')\n",
    "ax.errorbar(x, y, yerr=yerr, marker='.', ls='none', markersize=15, c='C0')\n",
    "\n",
    "ax.legend()"
   ]
  },
  {
   "cell_type": "code",
   "execution_count": null,
   "id": "ce778973",
   "metadata": {},
   "outputs": [],
   "source": []
  }
 ],
 "metadata": {
  "kernelspec": {
   "display_name": "Python 3",
   "language": "python",
   "name": "python3"
  },
  "language_info": {
   "codemirror_mode": {
    "name": "ipython",
    "version": 3
   },
   "file_extension": ".py",
   "mimetype": "text/x-python",
   "name": "python",
   "nbconvert_exporter": "python",
   "pygments_lexer": "ipython3",
   "version": "3.8.10"
  }
 },
 "nbformat": 4,
 "nbformat_minor": 5
}
