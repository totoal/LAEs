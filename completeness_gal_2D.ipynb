{
 "cells": [
  {
   "cell_type": "code",
   "execution_count": null,
   "metadata": {},
   "outputs": [],
   "source": [
    "import numpy as np\n",
    "import matplotlib.pyplot as plt\n",
    "from my_functions import *\n",
    "import seaborn as sns\n",
    "from astropy.table import Table\n",
    "import pandas as pd"
   ]
  },
  {
   "cell_type": "code",
   "execution_count": null,
   "metadata": {},
   "outputs": [],
   "source": [
    "w_central = central_wavelength()\n",
    "nb_fwhm_Arr = nb_fwhm(range(60))"
   ]
  },
  {
   "cell_type": "code",
   "execution_count": null,
   "metadata": {},
   "outputs": [],
   "source": [
    "## Load everything\n",
    "filename = '/home/alberto/cosmos/photo-z/data/mock_cat_3.fits'\n",
    "\n",
    "mock = Table.read(filename, format='fits').to_pandas()\n",
    "\n",
    "pm_flx = np.roll(1e-17 * mock.to_numpy()[:, 2 : 60 + 2].T, 1)\n",
    "pm_err = np.roll(1e-17 * mock.to_numpy()[:, 60 + 2 : 120 + 2].T, 1)\n",
    "\n",
    "swap_idx = np.array([*range(56)] + [59, 56, 58, 57])\n",
    "pm_flx = pm_flx[swap_idx]\n",
    "pm_err = pm_err[swap_idx]\n",
    "\n",
    "# pm_flx += np.random.normal(size=(pm_err.shape)) * pm_err"
   ]
  },
  {
   "cell_type": "code",
   "execution_count": null,
   "metadata": {},
   "outputs": [],
   "source": [
    "np.roll(mock.columns.to_numpy()[60 + 2 : 120 + 2], 1)[swap_idx]"
   ]
  },
  {
   "cell_type": "code",
   "execution_count": null,
   "metadata": {},
   "outputs": [],
   "source": [
    "zspec = mock['redshift']"
   ]
  },
  {
   "cell_type": "code",
   "execution_count": null,
   "metadata": {},
   "outputs": [],
   "source": [
    "w_lya = 1215.67 # A\n",
    "N_sources = pm_flx.shape[1]\n",
    "N_sources"
   ]
  },
  {
   "cell_type": "code",
   "execution_count": null,
   "metadata": {},
   "outputs": [],
   "source": [
    "mag = flux_to_mag(pm_flx, w_central.reshape(-1, 1))\n",
    "mag[np.isnan(mag)] = 99."
   ]
  },
  {
   "cell_type": "code",
   "execution_count": null,
   "metadata": {},
   "outputs": [],
   "source": [
    "# Lya search\n",
    "cont_est_lya, cont_err_lya = estimate_continuum(pm_flx, pm_err)\n",
    "\n",
    "# Other lines\n",
    "cont_est_other, cont_err_other = estimate_continuum(pm_flx, pm_err, IGM_T_correct=False)"
   ]
  },
  {
   "cell_type": "code",
   "execution_count": null,
   "metadata": {},
   "outputs": [],
   "source": [
    "ew0lya_min = 0\n",
    "ew0lya_max = 70\n",
    "ew0lya_step = 8\n",
    "ew0oth_min = 0\n",
    "ew0oth_max = 400\n",
    "ew0oth_step = 11\n",
    "\n",
    "other_select_list = []\n",
    "for ew0min in np.linspace(ew0oth_min, ew0oth_max, ew0oth_step):\n",
    "    print(ew0min)\n",
    "    line_other = is_there_line(pm_flx, pm_err, cont_est_other, cont_err_other, ew0min,\n",
    "        obs=True)\n",
    "    other_lines = identify_lines(line_other, pm_flx, pm_err, first=False)\n",
    "\n",
    "    other_select_list.append(other_lines)\n",
    "\n",
    "lya_select_list = []\n",
    "lya_z_nb = []\n",
    "for ew0min in np.linspace(ew0lya_min, ew0lya_max, ew0lya_step):\n",
    "    print(ew0min)\n",
    "    line = is_there_line(pm_flx, pm_err, cont_est_lya, cont_err_lya, ew0min)\n",
    "    lya_lines, lya_cont_lines = identify_lines(line, pm_flx, pm_err, first=True)\n",
    "    z_nb_Arr = np.ones(N_sources) * -1 \n",
    "    z_nb_Arr[np.where(np.array(lya_lines) != -1)] =\\\n",
    "        z_NB(np.array(lya_cont_lines)[np.where(np.array(lya_lines) != -1)])\n",
    "    \n",
    "    lya_select_list.append(lya_lines)\n",
    "    lya_z_nb.append(z_nb_Arr)"
   ]
  },
  {
   "cell_type": "code",
   "execution_count": null,
   "metadata": {},
   "outputs": [],
   "source": [
    "mag_cut_min = 20\n",
    "mag_cut_max = 25\n",
    "\n",
    "z_cut_min = 2.14\n",
    "z_cut_max = 2.22\n",
    "\n",
    "mag_cut = (mag[-2] > mag_cut_min) & (mag[-2] < mag_cut_max)\n",
    "\n",
    "select_grid = np.zeros((ew0lya_step, ew0oth_step))\n",
    "rightz_grid = np.zeros((ew0lya_step, ew0oth_step))\n",
    "\n",
    "for i in range(ew0lya_step):\n",
    "    print(i)\n",
    "    for j in range(ew0oth_step):\n",
    "        line_len_Arr = np.array([len(l) for l in other_select_list[j]])\n",
    "        nice_lya = (np.array(lya_select_list[i]) != -1) & (line_len_Arr <= 1)\n",
    "        nice_z = np.abs(lya_z_nb[i] - zspec) < 0.12\n",
    "        \n",
    "        z_nb_cut = (lya_z_nb[i] > z_cut_min) & (lya_z_nb[i] < z_cut_max)\n",
    "\n",
    "        selected = mag_cut & nice_lya & z_nb_cut\n",
    "        select_grid[i, j] = len(np.where(selected)[0])\n",
    "        rightz_grid[i, j] = len(np.where(selected & nice_z)[0])\n",
    "\n",
    "purity = rightz_grid / select_grid"
   ]
  },
  {
   "cell_type": "code",
   "execution_count": null,
   "metadata": {},
   "outputs": [],
   "source": [
    "# plt.hist(EW_lya, bins=np.linspace(0, 300, 30))\n",
    "# ew_x = np.linspace(0, 200, 10000)\n",
    "# ew_dist = np.exp(-ew_x / 75)\n",
    "# ew_norm = simpson(ew_dist, ew_x)\n",
    "# #plt.plot(ew_x, ew_dist / ew_norm)\n",
    "# plt.xlabel(r'Ly$\\alpha$ EW$_0$')\n",
    "# plt.show()\n",
    "\n",
    "plt.hist(mag[-3], bins=np.linspace(17, 28, 30))\n",
    "plt.xlabel('rSDSS')\n",
    "plt.show()\n",
    "\n",
    "plt.hist(zspec, bins=np.linspace(0, 2, 50))\n",
    "plt.xlabel('z spec')\n",
    "plt.show()"
   ]
  },
  {
   "cell_type": "code",
   "execution_count": null,
   "metadata": {},
   "outputs": [],
   "source": [
    "np.random.seed(25)\n",
    "for src in np.random.randint(0, N_sources, 10):\n",
    "    fig = plt.figure(figsize=(10, 6))\n",
    "    ax = plot_JPAS_source(pm_flx[:, src], pm_err[:, src])\n",
    "    #ax.plot(mock['w_Arr'], mock['SEDs'][src])\n",
    "    plt.show()\n",
    "    print('rSDSS = {0:0.2f}'.format(mag[-2, src]))"
   ]
  },
  {
   "cell_type": "code",
   "execution_count": null,
   "metadata": {},
   "outputs": [],
   "source": [
    "fig = plt.figure(figsize=(8, 8))\n",
    "\n",
    "width = 0.5\n",
    "height = 0.5\n",
    "spacing = 0.06\n",
    "cbar_width = 0.05\n",
    "\n",
    "# Define axes\n",
    "ax00 = fig.add_axes([0, height + 1.5 * spacing, width, height])\n",
    "ax01 = fig.add_axes([width + spacing, height + 1.5 * spacing, width, height], sharey=ax00)\n",
    "ax10 = fig.add_axes([0, 0, width, height], sharex=ax00)\n",
    "ax11 = fig.add_axes([width + spacing, 0, width, height], sharex=ax01, sharey=ax10)\n",
    "axcbar0 = fig.add_axes([2 * width + 1.5 * spacing, height + 1.5 * spacing, cbar_width, height])\n",
    "axcbar1 = fig.add_axes([2 * width + 1.5 * spacing, 0, cbar_width, height])\n",
    "\n",
    "# Plot stuff in the rectangles\n",
    "vmax = np.max([np.max(rightz_grid), np.max(select_grid)])\n",
    "cmap = 'Spectral'\n",
    "\n",
    "sns.heatmap(rightz_grid, ax=ax00, vmin=0, vmax=vmax, cbar_ax=axcbar0, cmap=cmap)\n",
    "sns.heatmap(select_grid, ax=ax01, vmin=0, vmax=vmax, cbar_ax=axcbar0, cmap=cmap)\n",
    "\n",
    "sns.heatmap(purity, ax=ax10, vmin=0, vmax=1, cbar_ax=axcbar1)\n",
    "sns.heatmap(completeness, ax=ax11, vmin=0, vmax=1, cbar=False)\n",
    "\n",
    "ax00.invert_yaxis()\n",
    "ax10.invert_yaxis()\n",
    "\n",
    "# Axes ticks\n",
    "xticks = range(ew0oth_step)\n",
    "yticks = range(ew0lya_step)\n",
    "xtick_labels = ['{0:0.0f}'.format(n) for n in np.linspace(ew0oth_min, ew0oth_max, ew0oth_step)]\n",
    "ytick_labels = ['{0:0.0f}'.format(n) for n in np.linspace(ew0lya_min, ew0lya_max, ew0lya_step)]\n",
    "\n",
    "ax00.set_yticks(yticks)\n",
    "ax00.set_yticklabels(ytick_labels)\n",
    "ax00.set_xticks(xticks)\n",
    "ax00.set_xticklabels(xtick_labels, rotation='vertical')\n",
    "\n",
    "ax10.set_yticks(yticks)\n",
    "ax10.set_yticklabels(ytick_labels)\n",
    "ax10.set_xticks(xticks)\n",
    "ax10.set_xticklabels(xtick_labels, rotation='vertical')\n",
    "\n",
    "ax11.set_xticks(xticks)\n",
    "ax11.set_xticklabels(xtick_labels, rotation='vertical')\n",
    "ax11.set_yticks(yticks)\n",
    "ax11.set_yticklabels(ytick_labels)\n",
    "\n",
    "ax01.set_xticks(xticks)\n",
    "ax01.set_xticklabels(xtick_labels, rotation='vertical')\n",
    "ax01.set_yticks(yticks)\n",
    "ax01.set_yticklabels(ytick_labels)\n",
    "\n",
    "# Axes labels\n",
    "ylabel = r'Ly$\\alpha$ EW$_0$ ($\\AA$)'\n",
    "xlabel = 'Other lines EW$_\\mathrm{obs}$ ($\\AA$)'\n",
    "ax00.set_ylabel(ylabel, fontsize=12)\n",
    "ax10.set_ylabel(ylabel, fontsize=12)\n",
    "ax10.set_xlabel(xlabel, fontsize=12)\n",
    "ax11.set_xlabel(xlabel, fontsize=12)\n",
    "\n",
    "# Set titles\n",
    "ax00.set_title('Selected w/ correct z', fontsize=15)\n",
    "ax01.set_title('All selected', fontsize=15)\n",
    "ax10.set_title('Purity', fontsize=15)\n",
    "ax11.set_title('Completeness', fontsize=15)\n",
    "\n",
    "plt.savefig('output/puri-comp_magcut-' + str(mag_cut) + '.pdf', dpi=600,\n",
    "    bbox_inches='tight')\n",
    "plt.show()\n",
    "\n",
    "print('N_target = {}'.format(N_target))"
   ]
  },
  {
   "cell_type": "code",
   "execution_count": null,
   "metadata": {},
   "outputs": [],
   "source": [
    "fig, ax = plt.subplots(figsize=(7, 6))\n",
    "\n",
    "combined = (completeness + purity) / 2\n",
    "\n",
    "sns.heatmap(combined, ax=ax)\n",
    "\n",
    "xticks = range(ew0oth_step)\n",
    "yticks = range(ew0lya_step)\n",
    "xtick_labels = ['{0:0.0f}'.format(n) for n in np.linspace(ew0oth_min, ew0oth_max, ew0oth_step)]\n",
    "ytick_labels = ['{0:0.0f}'.format(n) for n in np.linspace(ew0lya_min, ew0lya_max, ew0lya_step)]\n",
    "\n",
    "ax.set_xticks(xticks)\n",
    "ax.set_yticks(yticks)\n",
    "ax.set_xticklabels(xtick_labels)\n",
    "ax.set_yticklabels(ytick_labels)\n",
    "\n",
    "ax.invert_yaxis()\n",
    "\n",
    "ax.set_title(r'(Purity + Completeness) / 2', fontsize=15)\n",
    "\n",
    "plt.savefig('output/puri_plus_comp_magcut-' + str(mag_cut) + '.pdf', dpi=600,\n",
    "    bbox_inches='tight')\n",
    "plt.show()"
   ]
  },
  {
   "cell_type": "code",
   "execution_count": null,
   "metadata": {},
   "outputs": [],
   "source": [
    "max_combined = np.unravel_index(np.argmax(combined), rightz_grid.shape)\n",
    "print(purity[max_combined])\n",
    "print(completeness[max_combined])\n",
    "print(max_combined)"
   ]
  }
 ],
 "metadata": {
  "interpreter": {
   "hash": "f9f85f796d01129d0dd105a088854619f454435301f6ffec2fea96ecbd9be4ac"
  },
  "kernelspec": {
   "display_name": "Python 3.9.5 64-bit",
   "language": "python",
   "name": "python3"
  },
  "language_info": {
   "codemirror_mode": {
    "name": "ipython",
    "version": 3
   },
   "file_extension": ".py",
   "mimetype": "text/x-python",
   "name": "python",
   "nbconvert_exporter": "python",
   "pygments_lexer": "ipython3",
   "version": "3.9.7"
  },
  "orig_nbformat": 4
 },
 "nbformat": 4,
 "nbformat_minor": 2
}
