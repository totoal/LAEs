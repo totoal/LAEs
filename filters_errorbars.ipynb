{
 "cells": [
  {
   "cell_type": "code",
   "execution_count": null,
   "id": "thirty-illustration",
   "metadata": {},
   "outputs": [],
   "source": [
    "import csv\n",
    "import numpy as np\n",
    "from matplotlib import pyplot as plt\n",
    "from my_functions import *"
   ]
  },
  {
   "cell_type": "code",
   "execution_count": null,
   "id": "crucial-magnitude",
   "metadata": {},
   "outputs": [],
   "source": [
    "filepath = './JPAS_Transmission_Curves_20170316/minijpas.Filter.csv'\n",
    "filters_tags = []\n",
    "\n",
    "with open(filepath, mode='r') as csvfile:\n",
    "    rdlns = csv.reader(csvfile, delimiter=',')\n",
    "    \n",
    "    next(rdlns, None)\n",
    "    next(rdlns, None)\n",
    "    \n",
    "    for line in rdlns:\n",
    "        filters_tags.append(line[1])\n",
    "        \n",
    "filters_tags[0] = 'J0348'"
   ]
  },
  {
   "cell_type": "code",
   "execution_count": null,
   "id": "breathing-boating",
   "metadata": {},
   "outputs": [],
   "source": [
    "filters_w = []\n",
    "filters_trans = []\n",
    "\n",
    "for tag in filters_tags:\n",
    "    \n",
    "    filename = './JPAS_Transmission_Curves_20170316/JPAS_'+tag+'.tab'\n",
    "    f = open(filename, mode='r')\n",
    "    lines = f.readlines()[12:]\n",
    "    w = []\n",
    "    trans = []\n",
    "   \n",
    "    for l in range(len(lines)):\n",
    "        w.append(float(lines[l].split()[0]))\n",
    "        trans.append(float(lines[l].split()[1]))\n",
    "        \n",
    "    filters_w.append(w)\n",
    "    filters_trans.append(trans)\n",
    "    \n",
    "        \n",
    "tcurves = {\n",
    "    \"tag\"  :  filters_tags,\n",
    "    \"w\"    :  filters_w ,\n",
    "    \"t\"    :  filters_trans\n",
    "}"
   ]
  },
  {
   "cell_type": "code",
   "execution_count": null,
   "id": "ecological-aggregate",
   "metadata": {},
   "outputs": [],
   "source": [
    "w_central = []\n",
    "\n",
    "for fil in range(0,len(tcurves['tag'])):\n",
    "    w_c = sum(np.array(tcurves['w'][fil])*np.array(tcurves['t'][fil]))     \\\n",
    "           / sum(tcurves['t'][fil])\n",
    "    w_central.append(w_c)"
   ]
  },
  {
   "cell_type": "code",
   "execution_count": null,
   "id": "digital-policy",
   "metadata": {},
   "outputs": [],
   "source": [
    "filepath = 'minijpas.TileImage.csv'\n",
    "\n",
    "data = []\n",
    "\n",
    "with open(filepath, mode='r') as csvfile:\n",
    "    rdlns = csv.reader(csvfile, delimiter=',')\n",
    "    \n",
    "    next(rdlns, None)\n",
    "    next(rdlns, None)\n",
    "    \n",
    "    for line in rdlns:\n",
    "        data.append(line)\n",
    "\n",
    "data_arr = np.array(data).astype(float)"
   ]
  },
  {
   "cell_type": "code",
   "execution_count": null,
   "id": "subjective-strand",
   "metadata": {},
   "outputs": [],
   "source": [
    "data_avg = np.zeros((60,2))\n",
    "data_avg[:,0] = [*range(1,60+1)]\n",
    "\n",
    "for fil in range(60):\n",
    "    data_avg[fil,1] = sum(data_arr[np.where(data_arr[:,0] == fil+1)[0],1])/4\n",
    "\n",
    "f_error_data = data_avg\n",
    "f_error_data[:,1] = mag_to_flux(f_error_data[:,1], np.array(w_central))/5"
   ]
  },
  {
   "cell_type": "code",
   "execution_count": null,
   "id": "compressed-kuwait",
   "metadata": {},
   "outputs": [],
   "source": [
    "np.save('errors5Sigma.npy', f_error_data)"
   ]
  }
 ],
 "metadata": {
  "kernelspec": {
   "display_name": "Python 3",
   "language": "python",
   "name": "python3"
  },
  "language_info": {
   "codemirror_mode": {
    "name": "ipython",
    "version": 3
   },
   "file_extension": ".py",
   "mimetype": "text/x-python",
   "name": "python",
   "nbconvert_exporter": "python",
   "pygments_lexer": "ipython3",
   "version": "3.8.10"
  }
 },
 "nbformat": 4,
 "nbformat_minor": 5
}
