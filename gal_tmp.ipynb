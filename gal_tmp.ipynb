{
 "cells": [
  {
   "cell_type": "code",
   "execution_count": null,
   "metadata": {},
   "outputs": [],
   "source": [
    "import numpy as np\n",
    "import matplotlib.pyplot as plt\n",
    "import pandas as pd\n",
    "\n",
    "from astropy.cosmology import FlatLambdaCDM\n",
    "cosmo = FlatLambdaCDM(H0=73, Om0=0.25)\n",
    "\n",
    "import astropy.units as u\n",
    "from my_functions import *\n",
    "\n",
    "w_central = central_wavelength()"
   ]
  },
  {
   "cell_type": "code",
   "execution_count": null,
   "metadata": {},
   "outputs": [],
   "source": [
    "%matplotlib inline"
   ]
  },
  {
   "cell_type": "code",
   "execution_count": null,
   "metadata": {},
   "outputs": [],
   "source": [
    "def Get_d_RA_DEC_from_xyz(x_Arr, y_Arr, z_Arr):\n",
    "    distance = (x_Arr**2 + y_Arr**2 + z_Arr**2)**0.5\n",
    "    DEC = np.pi/2.0 - np.arccos(z_Arr/distance)\n",
    "    RA = np.arctan(y_Arr/x_Arr)\n",
    "\n",
    "    DEC = np.rad2deg(DEC)\n",
    "    RA = np.rad2deg(RA)\n",
    "    return distance, RA, DEC"
   ]
  },
  {
   "cell_type": "code",
   "execution_count": null,
   "metadata": {},
   "outputs": [],
   "source": [
    "def M_to_m(M, redshift, x, y, z):\n",
    "    dL = cosmo.luminosity_distance(redshift).to(u.pc).value.reshape(-1, 1)\n",
    "    return M + 5 * np.log10(dL) - 5\n",
    "\n",
    "def line_flux():\n",
    "    lc = np.load('/home/alberto/almacen/David_lightcone/LightCone_512_15sep2022.npy')\n",
    "    XX, YY, ZZ = lc['pos'].T * cosmo.h\n",
    "    z = lc['redshift']\n",
    "    OII_flux = lc['FluxDust_OII3727'] + lc['FluxDust_OII3729']\n",
    "    OII_flux_nodust = lc['Flux_OII3727'] + lc['Flux_OII3729']\n",
    "    Hbeta_flux = lc['FluxDust_Hbeta']\n",
    "    # M_noline = lc['ObsMagDustNoLine']\n",
    "    M_line = lc['ObsMagDustLine']\n",
    "    pm_mag_line = M_to_m(M_line, z, XX, YY, ZZ).T\n",
    "    pm_flx_line = mag_to_flux(pm_mag_line, w_central.reshape(-1, 1))\n",
    "    # pm_mag_noline = M_to_m(M_noline, z, XX, YY, ZZ).T\n",
    "    # pm_flx_noline = mag_to_flux(pm_mag_noline, w_central.reshape(-1, 1))\n",
    "    dist, ra, dec = Get_d_RA_DEC_from_xyz(XX, YY, ZZ)\n",
    "\n",
    "    return OII_flux, OII_flux_nodust, Hbeta_flux, z, pm_flx_line, dist, ra, dec\n",
    "OII_flux, OII_flux_nodust, Hbeta_flux, gal_z, pm_flx_line, dist, ra, dec = line_flux()\n",
    "\n",
    "dL = cosmo.luminosity_distance(gal_z).to(u.cm).value\n",
    "L_OII = np.log10(OII_flux * 4 * np.pi * dL ** 2)\n",
    "L_OII_nodust = np.log10(OII_flux_nodust * 4 * np.pi * dL ** 2)\n",
    "L_Hbeta = np.log10(Hbeta_flux * 4 * np.pi * dL ** 2)\n",
    "mag = flux_to_mag(pm_flx_line[-2], w_central[-2])"
   ]
  },
  {
   "cell_type": "code",
   "execution_count": null,
   "metadata": {},
   "outputs": [],
   "source": [
    "fig, ax = plt.subplots(figsize=(4, 4))\n",
    "\n",
    "bins = np.linspace(16, 26, 70)\n",
    "bins_w = bins[1] - bins[0]\n",
    "\n",
    "area_obs = 10\n",
    "ax.hist(mag, bins=bins, histtype='step', linewidth=2,\n",
    "        weights=np.full(mag.shape, (bins_w * area_obs) ** -1), label='10 deg$^2$')\n",
    "area_obs = 3\n",
    "ax.hist(mag, bins=bins, histtype='step', linewidth=2,\n",
    "        weights=np.full(mag.shape, (bins_w * area_obs) ** -1), label='3 deg$^2$')\n",
    "\n",
    "ref = pd.read_csv('/home/alberto/Desktop/r_abundance_gal_mock.csv', header=None)\n",
    "ax.plot(ref[0], ref[1], ls='--', linewidth=2, c='k', label='Izquierdo-Villalba+2019')\n",
    "\n",
    "ax.set_yscale('log')\n",
    "ax.set_ylim(1, 1e6)\n",
    "ax.set_xlim(16, 26)\n",
    "ax.set_ylabel('dN/dm [deg$^{-2}\\,$magAB$^{-1}$]')\n",
    "ax.set_xlabel('r [magAB]')\n",
    "ax.legend(fontsize=8, loc=2)\n",
    "\n",
    "plt.show()"
   ]
  },
  {
   "cell_type": "code",
   "execution_count": null,
   "metadata": {},
   "outputs": [],
   "source": [
    "# from minijpas_LF_and_puricomp import add_errors\n",
    "\n",
    "# pm_flx, pm_err = add_errors(pm_flx_line, apply_err=True,\n",
    "#                             survey_name='minijpasAEGIS001')\n",
    "\n",
    "# from load_mocks import load_GAL_mock\n",
    "\n",
    "# name_gal = f'GAL_LC_lines_0'\n",
    "# pm_flx, pm_err, EW_gal, gal_zspec, gal_L, R_ang, src_list = load_GAL_mock(name_gal, return_src_list=True)\n",
    "\n",
    "# pm_flx, pm_err = add_errors(pm_flx_line, apply_err=True,\n",
    "#                             survey_name='minijpasAEGIS001')"
   ]
  },
  {
   "cell_type": "code",
   "execution_count": null,
   "metadata": {},
   "outputs": [],
   "source": [
    "fig, ax = plt.subplots(figsize=(6, 4))\n",
    "\n",
    "bins = np.linspace(40, 43, 40)\n",
    "bins_w = bins[1] - bins[0]\n",
    "z_bins = [0.0, 0.7]\n",
    "for i in range(len(z_bins) - 1):\n",
    "        z_min = z_bins[i]\n",
    "        z_max = z_bins[i + 1]\n",
    "        vol = z_volume(z_min, z_max, area_obs) # * cosmo.h ** 3\n",
    "        to_hist = L_OII[(gal_z > z_min) & (gal_z <= z_max)] # - 2 * np.log10(cosmo.h)\n",
    "        ax.hist(to_hist, bins, histtype='step',\n",
    "                weights=np.full(to_hist.shape, (vol * bins_w) ** -1),\n",
    "                label=f'z={z_min}-{z_max}', color=f'C{i}')\n",
    "        to_hist = L_OII_nodust[(gal_z > z_min) & (gal_z < z_max)] # - 2 * np.log10(cosmo.h)\n",
    "        ax.hist(to_hist, bins, histtype='step',\n",
    "                weights=np.full(to_hist.shape, (vol * bins_w) ** -1),\n",
    "                linestyle='--', color=f'C{i}')\n",
    "ax.set_yscale('log')\n",
    "ax.legend(fontsize=10)\n",
    "\n",
    "ax.set_xlim(40, 44)\n",
    "ax.set_ylim(1e-6, 1e-1)\n",
    "ax.set_xlabel('OII $\\log L$')\n",
    "\n",
    "plt.show()"
   ]
  },
  {
   "cell_type": "code",
   "execution_count": null,
   "metadata": {},
   "outputs": [],
   "source": [
    "fig, ax = plt.subplots(figsize=(5, 5), rasterized=True)\n",
    "\n",
    "h = ax.hist2d(ra, dec, bins=[200, 200])\n",
    "print(ra.max() - ra.min())\n",
    "# fig.colorbar(h[3])\n",
    "\n",
    "plt.show()\n",
    "\n",
    "fig, ax = plt.subplots(figsize=(5, 4))\n",
    "\n",
    "ax.hist(dist, np.linspace(0, 4000, 100))\n",
    "\n",
    "plt.show()"
   ]
  },
  {
   "cell_type": "code",
   "execution_count": null,
   "metadata": {},
   "outputs": [],
   "source": [
    "N_subplots = 10\n",
    "mask_dist_bins = np.linspace(0, dist.max(), N_subplots**2 + 1)\n",
    "fig, axs = plt.subplots(N_subplots, N_subplots, figsize=(10, 10),\n",
    "                        sharex=True, sharey=True)\n",
    "\n",
    "for iii, ax in enumerate(axs.flatten()):\n",
    "    mask = (dist > mask_dist_bins[iii]) & (dist < mask_dist_bins[iii + 1])\n",
    "    ax.plot(ra[mask], dec[mask], ls='', marker='.', markersize=1)\n",
    "    ax.tick_params(length=0)\n",
    "\n",
    "fig.subplots_adjust(hspace=0.01, wspace=0.01)\n",
    "\n",
    "plt.show()"
   ]
  },
  {
   "cell_type": "code",
   "execution_count": null,
   "metadata": {},
   "outputs": [],
   "source": [
    "N_subplots = 10\n",
    "mask_dist_bins = np.linspace(dec.min(), dec.max(), N_subplots + 1)\n",
    "\n",
    "fig, axs = plt.subplots(N_subplots, figsize=(10, 10),\n",
    "                        sharex=True, sharey=True)\n",
    "\n",
    "for iii, ax in enumerate(axs.flatten()):\n",
    "    mask = (dec > mask_dist_bins[iii]) & (dec < mask_dist_bins[iii + 1])\n",
    "    ax.plot(dist[mask], ra[mask], ls='', marker='.', markersize=1)\n",
    "    ax.tick_params(length=0)\n",
    "\n",
    "fig.subplots_adjust(hspace=0.01)\n",
    "ax.set_xlim(0, 1500)\n",
    "ax.set_xlabel('distance (Mpc)')\n",
    "\n",
    "plt.show()"
   ]
  }
 ],
 "metadata": {
  "kernelspec": {
   "display_name": "Python 3.9.13 ('base')",
   "language": "python",
   "name": "python3"
  },
  "language_info": {
   "codemirror_mode": {
    "name": "ipython",
    "version": 3
   },
   "file_extension": ".py",
   "mimetype": "text/x-python",
   "name": "python",
   "nbconvert_exporter": "python",
   "pygments_lexer": "ipython3",
   "version": "3.9.13"
  },
  "orig_nbformat": 4,
  "vscode": {
   "interpreter": {
    "hash": "ade4bca3e0042e0da78fecdb82351169c0f2ccedb06a0d7cf7342df8f7e47af7"
   }
  }
 },
 "nbformat": 4,
 "nbformat_minor": 2
}
