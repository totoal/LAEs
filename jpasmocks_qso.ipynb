{
 "cells": [
  {
   "cell_type": "code",
   "execution_count": null,
   "metadata": {},
   "outputs": [],
   "source": [
    "import numpy as np\n",
    "import matplotlib.pyplot as plt\n",
    "import csv\n",
    "from my_functions import *"
   ]
  },
  {
   "cell_type": "code",
   "execution_count": null,
   "metadata": {},
   "outputs": [],
   "source": [
    "tcurves = load_tcurves(load_filter_tags())\n",
    "w_central = central_wavelength(tcurves)"
   ]
  },
  {
   "cell_type": "code",
   "execution_count": null,
   "metadata": {},
   "outputs": [],
   "source": [
    "## Load QSO catalog\n",
    "filename = ('/home/alberto/cosmos/JPAS_mocks_sep2021/'\n",
    "    'JPAS_mocks_classification_01sep_model11/Fluxes/Qso_jpas_mock_flam_1sq.cat')\n",
    "\n",
    "my_filter_order = np.arange(60)\n",
    "my_filter_order[[-4, -3, -2, -1]] = np.array([1, 12, 28, 43])\n",
    "my_filter_order[1:-4] += 1\n",
    "my_filter_order[12:-4] += 1\n",
    "my_filter_order[28:-4] += 1\n",
    "my_filter_order[43:-4] += 1\n",
    "\n",
    "qso_flx = []\n",
    "qso_err = []\n",
    "zspec = []\n",
    "with open(filename) as f:\n",
    "    rdr = csv.reader(f, delimiter=' ')\n",
    "    next(rdr, None)\n",
    "    for row in rdr:\n",
    "        qso_flx.append(row[2 : 2 + 60])\n",
    "        qso_err.append(row[2 + 60 : 2 + 60 + 60])\n",
    "        zspec.append(row[-1])\n",
    "qso_flx = np.array(qso_flx).T[my_filter_order].astype(float)\n",
    "qso_err = np.array(qso_err).T[my_filter_order].astype(float)\n",
    "zspec = np.array(zspec).astype(float)"
   ]
  },
  {
   "cell_type": "code",
   "execution_count": null,
   "metadata": {},
   "outputs": [],
   "source": [
    "N_sources = qso_flx.shape[1]\n",
    "N_nb = 5\n",
    "ew0min =0\n"
   ]
  },
  {
   "cell_type": "code",
   "execution_count": null,
   "metadata": {},
   "outputs": [],
   "source": [
    "nb_c_min = 6\n",
    "nb_c_max = 50\n",
    "line_qso = np.zeros((nb_c_max - nb_c_min, N_sources)).astype(bool)\n",
    "cont_est_Arr = np.zeros((nb_c_max - nb_c_min, N_sources))\n",
    "cont_err_Arr = np.zeros((nb_c_max - nb_c_min, N_sources))\n",
    "i = 0\n",
    "for nb_c in range(nb_c_min, nb_c_max):\n",
    "    z_nb = w_central[nb_c] / 1215.67 - 1\n",
    "    fwhm = nb_fwhm(nb_c, tcurves=tcurves)\n",
    "    cont_est_qso, cont_err_qso = stack_estimation(qso_flx, qso_err, nb_c, N_nb, False)\n",
    "    line_qso[i] = (\n",
    "        (qso_flx[nb_c] - cont_est_qso > 3 * (cont_err_qso**2 + qso_err[nb_c]**2) ** 0.5)\n",
    "        & (qso_flx[nb_c] - cont_est_qso > ew0min * (1 + z_nb) * cont_est_qso / fwhm)\n",
    "    )\n",
    "    cont_est_Arr[i] = cont_est_qso\n",
    "    cont_err_Arr[i] = cont_err_qso\n",
    "    i += 1"
   ]
  },
  {
   "cell_type": "code",
   "execution_count": null,
   "metadata": {},
   "outputs": [],
   "source": [
    "j = 0\n",
    "for mock_n in np.where(zspec > 0)[0]:\n",
    "    fig = plt.figure(figsize=(10,8))\n",
    "    ax = plot_JPAS_source(qso_flx[:, mock_n], qso_err[:, mock_n])\n",
    "\n",
    "    for nb in np.where(line_qso[:, mock_n])[0]:\n",
    "        idx = nb + nb_c_min\n",
    "        ax.errorbar(w_central[idx], cont_est_Arr[nb, mock_n], fmt='^', c='C4',\n",
    "            markersize=10, yerr=cont_err_Arr[nb, mock_n], capsize=3,\n",
    "            capthick=3, elinewidth=4)\n",
    "    plt.show()\n",
    "\n",
    "    try: first = np.where(line_qso[:, mock_n])[0][0] + nb_c_min\n",
    "    except: continue\n",
    "    z_nb = w_central[first] / 1215.67 - 1\n",
    "\n",
    "    print('z spec = {0:0.2f}'.format(zspec[mock_n]))\n",
    "    print('z NB   = {0:0.2f}'.format(z_nb))\n",
    "\n",
    "    j += 1\n",
    "    if j == 10: break"
   ]
  },
  {
   "cell_type": "code",
   "execution_count": null,
   "metadata": {},
   "outputs": [],
   "source": [
    "# Arr where the center of the Lya line is. -1 means no lines detected\n",
    "line_lya_center = np.ones(N_sources, dtype=int) * -1\n",
    "\n",
    "for mock_n in range(N_sources):\n",
    "    try:\n",
    "        first = np.where(line_qso[:, mock_n])[0][0] # First True in line_qso\n",
    "    except:\n",
    "        continue\n",
    "    if first > 40: # We don't expect lines past here\n",
    "        continue\n",
    "\n",
    "    line_nb_width = 0\n",
    "    while line_qso[first + line_nb_width + 1, mock_n]:\n",
    "        line_nb_width += 1\n",
    "\n",
    "    line_lya_center[mock_n] = np.argmax(\n",
    "        qso_flx[first + nb_c_min : first + nb_c_min + line_nb_width + 1, mock_n]\n",
    "    ) + first + nb_c_min\n",
    "print(len(np.where((line_lya_center != -1))[0]))"
   ]
  },
  {
   "cell_type": "code",
   "execution_count": null,
   "metadata": {},
   "outputs": [],
   "source": [
    "line_CIV = np.zeros(N_sources, dtype=bool)\n",
    "nb_CIV_Arr = np.ones(N_sources, dtype=int) * -1\n",
    "for mock_n in np.where(line_lya_center != -1)[0]:\n",
    "    w_obs_lya = w_central[line_lya_center[mock_n]]\n",
    "    z = w_obs_lya / 1215.67 - 1\n",
    "    w_obs_CIV = 1549.48 * (1 + z)\n",
    "\n",
    "    if w_obs_CIV > 8500.: continue # Out of range\n",
    "\n",
    "    nb_CIV_Arr[mock_n] = np.argmin(np.abs(w_central[:-4] - w_obs_CIV))\n",
    "    nb_CIV = nb_CIV_Arr[mock_n]\n",
    "    line_CIV[mock_n] = qso_flx[nb_CIV, mock_n] - cont_est_Arr[nb_CIV - nb_c_min, mock_n]\\\n",
    "        > 3 * (cont_err_Arr[nb_CIV - nb_c_min, mock_n]**2 + qso_err[nb_CIV, mock_n]**2)\\\n",
    "            ** 0.5\n",
    "print(len(np.where(line_CIV)[0]))"
   ]
  },
  {
   "cell_type": "code",
   "execution_count": null,
   "metadata": {},
   "outputs": [],
   "source": [
    "## CIV line\n",
    "j = 0\n",
    "for mock_n in np.where(line_CIV & (zspec > 2.5))[0]:\n",
    "    fig = plt.figure(figsize=(10, 8))\n",
    "    ax = plot_JPAS_source(qso_flx[:, mock_n], qso_err[:, mock_n])\n",
    "\n",
    "    ax.errorbar(w_central[line_lya_center[mock_n]],\n",
    "        cont_est_Arr[line_lya_center[mock_n], mock_n],\n",
    "        yerr=cont_err_Arr[line_lya_center[mock_n], mock_n],\n",
    "        fmt='^', c='C4', markersize=10, capsize=3, capthick=3, elinewidth=4)\n",
    "\n",
    "    ax.errorbar(w_central[nb_CIV_Arr[mock_n]],\n",
    "        cont_est_Arr[nb_CIV_Arr[mock_n], mock_n],\n",
    "        yerr=cont_err_Arr[nb_CIV_Arr[mock_n], mock_n],\n",
    "        fmt='^', c='C6', markersize=10, capsize=3, capthick=3, elinewidth=4)\n",
    "\n",
    "    print('z_spec = {0:0.2f}'.format(zspec[mock_n]))\n",
    "    print('z NB   = {0:0.2f}'.format(w_central[line_lya_center[mock_n]] / 1215.67 - 1))\n",
    "\n",
    "    plt.show()\n",
    "\n",
    "    j += 1\n",
    "    if j == 10: break"
   ]
  },
  {
   "cell_type": "code",
   "execution_count": null,
   "metadata": {},
   "outputs": [],
   "source": [
    "line_CIII = np.zeros(N_sources, dtype=bool)\n",
    "nb_CIII_Arr = np.ones(N_sources, dtype=int) * -1\n",
    "for mock_n in np.where(line_CIV)[0]:\n",
    "    w_obs_lya = w_central[line_lya_center[mock_n]]\n",
    "    z = w_obs_lya / 1215.67 - 1\n",
    "    w_obs_CIII = 1908.73 * (1 + z)\n",
    "\n",
    "    if w_obs_CIII > 8200.: continue # Out of range\n",
    "\n",
    "    nb_CIII_Arr[mock_n] = np.argmin(np.abs(w_central[:-4] - w_obs_CIII))\n",
    "    nb_CIII = nb_CIII_Arr[mock_n]\n",
    "    line_CIII[mock_n] = qso_flx[nb_CIII, mock_n] - cont_est_Arr[nb_CIII - nb_c_min, mock_n]\\\n",
    "        > 3 * (cont_err_Arr[nb_CIII - nb_c_min, mock_n]**2 + qso_err[nb_CIII, mock_n]**2)\\\n",
    "            ** 0.5\n",
    "print(len(np.where(line_CIII)[0]))"
   ]
  },
  {
   "cell_type": "code",
   "execution_count": null,
   "metadata": {},
   "outputs": [],
   "source": [
    "## CIII] line\n",
    "j = 0\n",
    "for mock_n in np.where(line_CIII & (zspec > 2.5))[0]:\n",
    "    fig = plt.figure(figsize=(10, 8))\n",
    "    ax = plot_JPAS_source(qso_flx[:, mock_n], qso_err[:, mock_n])\n",
    "\n",
    "    ax.errorbar(w_central[line_lya_center[mock_n]],\n",
    "        cont_est_Arr[line_lya_center[mock_n], mock_n],\n",
    "        yerr=cont_err_Arr[line_lya_center[mock_n], mock_n],\n",
    "        fmt='^', c='C4', markersize=10, capsize=3, capthick=3, elinewidth=4)\n",
    "\n",
    "    ax.errorbar(w_central[nb_CIV_Arr[mock_n]],\n",
    "        cont_est_Arr[nb_CIV_Arr[mock_n], mock_n],\n",
    "        yerr=cont_err_Arr[nb_CIV_Arr[mock_n], mock_n],\n",
    "        fmt='^', c='C6', markersize=10, capsize=3, capthick=3, elinewidth=4)\n",
    "\n",
    "    ax.errorbar(w_central[nb_CIII_Arr[mock_n]],\n",
    "        cont_est_Arr[nb_CIII_Arr[mock_n], mock_n],\n",
    "        yerr=cont_err_Arr[nb_CIII_Arr[mock_n], mock_n],\n",
    "        fmt='^', c='C7', markersize=10, capsize=3, capthick=3, elinewidth=4)\n",
    "\n",
    "    print('z_spec = {0:0.2f}'.format(zspec[mock_n]))\n",
    "\n",
    "    plt.show()\n",
    "\n",
    "    j += 1\n",
    "    if j == 10: break"
   ]
  }
 ],
 "metadata": {
  "interpreter": {
   "hash": "46cea94afe1f0d88e229837b28e72c2401fa9cb21844b20e15824a5f97d32088"
  },
  "kernelspec": {
   "display_name": "Python 3.9.7 64-bit ('py39': conda)",
   "name": "python3"
  },
  "language_info": {
   "codemirror_mode": {
    "name": "ipython",
    "version": 3
   },
   "file_extension": ".py",
   "mimetype": "text/x-python",
   "name": "python",
   "nbconvert_exporter": "python",
   "pygments_lexer": "ipython3",
   "version": "3.9.7"
  },
  "orig_nbformat": 4
 },
 "nbformat": 4,
 "nbformat_minor": 2
}
