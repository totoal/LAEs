{
 "cells": [
  {
   "cell_type": "code",
   "execution_count": null,
   "metadata": {},
   "outputs": [],
   "source": [
    "from my_functions import *\n",
    "from load_mocks import ensemble_mock\n",
    "from minijpas_LF_and_puricomp import purity_or_completeness_plot\n",
    "\n",
    "import numpy as np\n",
    "import matplotlib.pyplot as plt"
   ]
  },
  {
   "cell_type": "code",
   "execution_count": null,
   "metadata": {},
   "outputs": [],
   "source": [
    "w_central = central_wavelength()\n",
    "nb_fwhm_Arr = nb_fwhm(range(60))\n",
    "w_lya = 1215.67\n",
    "filter_tags = load_filter_tags()\n",
    "gal_factor = 12.57"
   ]
  },
  {
   "cell_type": "code",
   "execution_count": null,
   "metadata": {},
   "outputs": [],
   "source": [
    "qso_name = 'QSO_double_train_minijpas_0'\n",
    "sf_name = 'LAE_12.5deg_z2-4.25_train_minijpas_0'\n",
    "gal_name = 'GAL_100000_minijpas_0'\n",
    "\n",
    "pm_flx, pm_err, zspec, EW_lya, L_lya, is_qso, is_sf, is_gal, _, _ =\\\n",
    "    ensemble_mock(qso_name, gal_name, sf_name)\n",
    "\n",
    "mag = flux_to_mag(pm_flx[-2], w_central[-2])\n",
    "mag[np.isnan(mag)] = 99.\n",
    "\n",
    "N_sources = pm_flx.shape[1]\n",
    "N_sources"
   ]
  },
  {
   "cell_type": "code",
   "execution_count": null,
   "metadata": {},
   "outputs": [],
   "source": [
    "cont_est_lya, cont_err_lya = estimate_continuum(pm_flx, pm_err, IGM_T_correct=True)\n",
    "cont_est_other, cont_err_other = estimate_continuum(pm_flx, pm_err, IGM_T_correct=False)"
   ]
  },
  {
   "cell_type": "code",
   "execution_count": null,
   "metadata": {},
   "outputs": [],
   "source": [
    "ew0_lya_Arr = np.linspace(0, 100, 11)\n",
    "ew_oth_Arr = np.linspace(0, 500, 11)\n",
    "x, y = np.meshgrid(ew0_lya_Arr, ew_oth_Arr)"
   ]
  },
  {
   "cell_type": "code",
   "execution_count": null,
   "metadata": {},
   "outputs": [],
   "source": [
    "mag_min = 17\n",
    "mag_max = 24\n",
    "\n",
    "nb_min = 5\n",
    "nb_max = 15\n",
    "# nb_min = 16\n",
    "# nb_max = 23\n",
    "\n",
    "# Used later!!\n",
    "L_min = 40\n",
    "L_max = 50\n",
    "\n",
    "z_min = (w_central[nb_min] - nb_fwhm_Arr[nb_min] * 0.5) / w_lya - 1\n",
    "z_max = (w_central[nb_max] + nb_fwhm_Arr[nb_max] * 0.5) / w_lya - 1\n",
    "print(f'z interval: ({z_min:0.2f}, {z_max:0.2f})')"
   ]
  },
  {
   "cell_type": "code",
   "execution_count": null,
   "metadata": {},
   "outputs": [],
   "source": [
    "puri = np.zeros((len(ew0_lya_Arr) * len(ew_oth_Arr)))\n",
    "comp = np.copy(puri)\n",
    "\n",
    "def puricomp(ew0_lya, ew_oth):\n",
    "    line = is_there_line(pm_flx, pm_err, cont_est_lya, cont_err_lya, ew0_lya)\n",
    "    lya_lines, lya_cont_lines, _ = identify_lines(\n",
    "        line, pm_flx, cont_est_lya, first=True, return_line_width=True\n",
    "    )\n",
    "    lya_lines = np.array(lya_lines)\n",
    "\n",
    "    line_other = is_there_line(pm_flx, pm_err, cont_est_other, cont_err_other,\n",
    "        ew_oth, obs=True)\n",
    "    other_lines = identify_lines(line_other, cont_est_other, pm_err)\n",
    "\n",
    "    # Compute z\n",
    "    z_Arr = np.zeros(N_sources)\n",
    "    z_Arr[np.where(np.array(lya_lines) != -1)] =\\\n",
    "        z_NB(np.array(lya_cont_lines)[np.where(np.array(lya_lines) != -1)])\n",
    "\n",
    "    nice_z = np.abs(z_Arr - zspec) < 0.16\n",
    "\n",
    "    nice_lya = nice_lya_select(\n",
    "        lya_lines, other_lines, pm_flx, pm_err, cont_est_lya, z_Arr\n",
    "    )\n",
    "\n",
    "    good = count_true(\n",
    "        nice_lya\n",
    "        & nice_z\n",
    "        & (zspec >= z_min) & (zspec <= z_max)\n",
    "        & (mag >= mag_min) & (mag <= mag_max)\n",
    "    )\n",
    "    bad = count_true(\n",
    "        nice_lya\n",
    "        & ~nice_z\n",
    "        & (mag >= mag_min) & (mag <= mag_max)\n",
    "        & (z_Arr >= z_min) & (z_Arr <= z_max)\n",
    "        & (is_qso | is_sf)\n",
    "    )\n",
    "    bad_gal = count_true(\n",
    "        nice_lya\n",
    "        & ~nice_z\n",
    "        & (mag >= mag_min) & (mag <= mag_max)\n",
    "        & (z_Arr >= z_min) & (z_Arr <= z_max)\n",
    "        & is_gal\n",
    "    ) * gal_factor\n",
    "    all = count_true(\n",
    "        (EW_lya > ew0_lya)\n",
    "        & (zspec >= z_min) & (zspec <= z_max)\n",
    "        & (mag >= mag_min) & (mag <= mag_max)\n",
    "    )\n",
    "\n",
    "    comp = good / all\n",
    "    puri = good / (good + bad + bad_gal)\n",
    "\n",
    "    return puri, comp\n",
    "\n",
    "puricomp_func = np.vectorize(puricomp)"
   ]
  },
  {
   "cell_type": "code",
   "execution_count": null,
   "metadata": {},
   "outputs": [],
   "source": [
    "M = puricomp_func(x, y)\n",
    "M"
   ]
  }
 ],
 "metadata": {
  "interpreter": {
   "hash": "ade4bca3e0042e0da78fecdb82351169c0f2ccedb06a0d7cf7342df8f7e47af7"
  },
  "kernelspec": {
   "display_name": "Python 3.9.12 ('base')",
   "language": "python",
   "name": "python3"
  },
  "language_info": {
   "codemirror_mode": {
    "name": "ipython",
    "version": 3
   },
   "file_extension": ".py",
   "mimetype": "text/x-python",
   "name": "python",
   "nbconvert_exporter": "python",
   "pygments_lexer": "ipython3",
   "version": "3.9.12"
  },
  "orig_nbformat": 4
 },
 "nbformat": 4,
 "nbformat_minor": 2
}
