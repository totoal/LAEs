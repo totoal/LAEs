{
 "cells": [
  {
   "cell_type": "code",
   "execution_count": null,
   "metadata": {},
   "outputs": [],
   "source": [
    "import numpy as np\n",
    "import os.path as op\n",
    "from astropy.table import Table\n",
    "from LAEs.load_jpas_catalogs import load_minijpas_jnep"
   ]
  },
  {
   "cell_type": "code",
   "execution_count": null,
   "metadata": {},
   "outputs": [],
   "source": [
    "# Load HETDEX\n",
    "path_to_cat = '/home/alberto/almacen/HETDEX_catalogs/hetdex_source_catalog_1'\n",
    "version = 'v3.2'\n",
    "\n",
    "source_table = Table.read(op.join(path_to_cat, f'hetdex_sc1_{version}.ecsv'))"
   ]
  },
  {
   "cell_type": "code",
   "execution_count": null,
   "metadata": {},
   "outputs": [],
   "source": [
    "# Load miniJPAS and JNEP\n",
    "ra_mj, dec_mj = load_minijpas_jnep(['minijpas', 'jnep'])[-2:]\n",
    "N_sources = len(ra_mj)"
   ]
  },
  {
   "cell_type": "code",
   "execution_count": null,
   "metadata": {},
   "outputs": [],
   "source": [
    "xm_hetdex_id = np.ones_like(ra_mj).astype(int) * -1\n",
    "\n",
    "search_radius = 1.5 / 3600\n",
    "\n",
    "for src in range(N_sources):\n",
    "    # search in RA\n",
    "    ra_match = np.abs(ra_mj[src] - source_table['RA']) <= search_radius\n",
    "    # search in DEC\n",
    "    dec_match = np.abs(dec_mj[src] - source_table['DEC']) <= search_radius\n",
    "\n",
    "    radec_match_id = np.where(ra_match & dec_match)[0]\n",
    "\n",
    "    if len(radec_match_id) > 0:\n",
    "        xm_hetdex_id[src] = source_table['source_id'][radec_match_id[0]]\n",
    "np.save('npy/hetdex_crossmatch_ids', xm_hetdex_id)"
   ]
  }
 ],
 "metadata": {
  "kernelspec": {
   "display_name": "base",
   "language": "python",
   "name": "python3"
  },
  "language_info": {
   "codemirror_mode": {
    "name": "ipython",
    "version": 3
   },
   "file_extension": ".py",
   "mimetype": "text/x-python",
   "name": "python",
   "nbconvert_exporter": "python",
   "pygments_lexer": "ipython3",
   "version": "3.9.15 (main, Nov 24 2022, 14:31:59) \n[GCC 11.2.0]"
  },
  "orig_nbformat": 4,
  "vscode": {
   "interpreter": {
    "hash": "ade4bca3e0042e0da78fecdb82351169c0f2ccedb06a0d7cf7342df8f7e47af7"
   }
  }
 },
 "nbformat": 4,
 "nbformat_minor": 2
}
