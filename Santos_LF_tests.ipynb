{
 "cells": [
  {
   "cell_type": "code",
   "execution_count": null,
   "metadata": {},
   "outputs": [],
   "source": [
    "import pandas as pd\n",
    "import numpy as np\n",
    "import matplotlib.pyplot as plt\n",
    "\n",
    "from my_functions import *\n",
    "\n",
    "from scipy.integrate import simpson\n",
    "\n",
    "from astropy.cosmology import Planck18 as cosmo\n",
    "import astropy.units as u"
   ]
  },
  {
   "cell_type": "code",
   "execution_count": null,
   "metadata": {},
   "outputs": [],
   "source": [
    "# Luminosity function from Santos et al. 2021, for z = 2--6\n",
    "data = pd.read_csv('csv/Santos2021_LF.csv')\n",
    "data"
   ]
  },
  {
   "cell_type": "code",
   "execution_count": null,
   "metadata": {},
   "outputs": [],
   "source": [
    "LF = data.to_numpy().T"
   ]
  },
  {
   "cell_type": "code",
   "execution_count": null,
   "metadata": {},
   "outputs": [],
   "source": [
    "LF[0]"
   ]
  },
  {
   "cell_type": "code",
   "execution_count": null,
   "metadata": {},
   "outputs": [],
   "source": [
    "# Compute number of sources within z interval in set obs area\n",
    "area = 2 # deg^2\n",
    "z_min = 2.42\n",
    "z_max = 2.59\n",
    "\n",
    "volume = z_volume(z_min, z_max, area)\n",
    "\n",
    "N = int(np.abs(simpson(10 ** LF[1], LF[0]) * area))\n",
    "N"
   ]
  },
  {
   "cell_type": "code",
   "execution_count": null,
   "metadata": {},
   "outputs": [],
   "source": [
    "N_sources = 100000\n",
    "\n",
    "cum_LF = np.cumsum(10 ** LF[1])\n",
    "cum_LF /= np.max(cum_LF)\n",
    "M_Arr = np.interp(np.random.randn(N_sources), cum_LF, LF[0])\n",
    "z_Arr = np.random.rand(N_sources) * (z_max - z_min) + z_min\n",
    "d_Arr = cosmo.luminosity_distance(z_Arr).to(u.pc).value\n",
    "\n",
    "m_Arr = M_Arr + 5 * np.log10(d_Arr / 10)"
   ]
  },
  {
   "cell_type": "code",
   "execution_count": null,
   "metadata": {},
   "outputs": [],
   "source": [
    "plt.plot(cum_LF)"
   ]
  },
  {
   "cell_type": "code",
   "execution_count": null,
   "metadata": {},
   "outputs": [],
   "source": [
    "plt.hist(m_Arr, bins=30)\n",
    "plt.show()"
   ]
  }
 ],
 "metadata": {
  "interpreter": {
   "hash": "46cea94afe1f0d88e229837b28e72c2401fa9cb21844b20e15824a5f97d32088"
  },
  "kernelspec": {
   "display_name": "Python 3.9.7 64-bit ('py39': conda)",
   "language": "python",
   "name": "python3"
  },
  "language_info": {
   "codemirror_mode": {
    "name": "ipython",
    "version": 3
   },
   "file_extension": ".py",
   "mimetype": "text/x-python",
   "name": "python",
   "nbconvert_exporter": "python",
   "pygments_lexer": "ipython3",
   "version": "3.9.7"
  },
  "orig_nbformat": 4
 },
 "nbformat": 4,
 "nbformat_minor": 2
}
