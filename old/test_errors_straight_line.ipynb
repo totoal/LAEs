{
 "cells": [
  {
   "cell_type": "code",
   "execution_count": null,
   "source": [
    "import numpy as np\n",
    "import matplotlib.pyplot as plt\n",
    "from my_functions import *"
   ],
   "outputs": [],
   "metadata": {}
  },
  {
   "cell_type": "code",
   "execution_count": null,
   "source": [
    "N_sources = 3000\n",
    "\n",
    "m_Arr = (np.random.rand(N_sources) * (5e-22 + 5e-22) - 5e-22).reshape(-1, 1)\n",
    "b_Arr = (np.random.rand(N_sources) * (1e-20 - 1e-22) + 1e-22).reshape(-1, 1)"
   ],
   "outputs": [],
   "metadata": {}
  },
  {
   "cell_type": "code",
   "execution_count": null,
   "source": [
    "errors = np.load('npy/errors5Sigma.npy')[:,1]"
   ],
   "outputs": [],
   "metadata": {}
  },
  {
   "cell_type": "code",
   "execution_count": null,
   "source": [
    "cat = {\n",
    "    'w': np.linspace(3500, 9300, 60),\n",
    "    'phot': (\n",
    "        np.ones((N_sources, 60)) * np.linspace(3500, 9300, 60) * m_Arr + b_Arr\n",
    "    )\n",
    "}\n",
    "cat['phot_w_err'] = cat['phot'] + np.random.randn(N_sources, 60) * errors"
   ],
   "outputs": [],
   "metadata": {}
  },
  {
   "cell_type": "code",
   "execution_count": null,
   "source": [
    "nb_c = 15\n",
    "N_nb = 6\n",
    "\n",
    "nb_idx_Arr = np.array([*range(nb_c-N_nb, nb_c+N_nb+1)])\n",
    "\n",
    "flx = cat['phot_w_err'][:, nb_idx_Arr]\n",
    "err = np.ones(flx.shape) * errors[nb_idx_Arr]\n",
    "\n",
    "avg = np.average(flx, weights=err**-2, axis=1)\n",
    "sigma = (1 / np.sum(err**-2, axis=1))**0.5"
   ],
   "outputs": [],
   "metadata": {}
  },
  {
   "cell_type": "code",
   "execution_count": null,
   "source": [
    "fig, ax = plt.subplots(figsize=(12, 9))\n",
    "\n",
    "i = 1098\n",
    "\n",
    "ax.errorbar(cat['w'], cat['phot_w_err'][i], yerr=errors,\n",
    "        linestyle='none', fmt='.')\n",
    "ax.plot(cat['w'], cat['phot'][i], linestyle='dashed', zorder=-1)\n",
    "ax.plot(cat['w'][nb_c], cat['phot'][i, nb_c], marker='.', markersize=10, c='black')\n",
    "ax.errorbar(cat['w'][nb_c], avg[i], marker='^', markersize=10, c='violet',\n",
    "            yerr=sigma[i], capthick=2, capsize=4)"
   ],
   "outputs": [],
   "metadata": {}
  },
  {
   "cell_type": "code",
   "execution_count": null,
   "source": [
    "N_points = 20\n",
    "sigma_min = 0.01\n",
    "sigma_max = 4\n",
    "\n",
    "sigma_Arr = np.linspace(sigma_min, sigma_max, N_points)\n",
    "sigma_hist = np.zeros(N_points)\n",
    "\n",
    "for i in range(N_points):\n",
    "    sigma_hist[i] = len(\n",
    "        np.where(\n",
    "            np.abs(avg - cat['phot'][:, nb_c]) < sigma_Arr[i] * sigma\n",
    "        )[0]\n",
    "    )"
   ],
   "outputs": [],
   "metadata": {}
  },
  {
   "cell_type": "code",
   "execution_count": null,
   "source": [
    "# Plot the error test\n",
    "fig, ax =  plt.subplots(figsize = (10,7))\n",
    "\n",
    "ax.plot(erf(sigma_Arr / 2**0.5), sigma_hist/N_sources, marker='.', linestyle='none')\n",
    "ax.plot(erf(sigma_Arr / 2**0.5), erf(sigma_Arr / 2**0.5), linestyle='dashed')\n",
    "\n",
    "\n",
    "ax.set_ylabel('N / N_sources', fontsize=15)\n",
    "ax.set_xlabel('$\\sigma$', fontsize=15)\n",
    "\n",
    "plt.show()"
   ],
   "outputs": [],
   "metadata": {}
  }
 ],
 "metadata": {
  "orig_nbformat": 4,
  "language_info": {
   "name": "python",
   "version": "3.9.7",
   "mimetype": "text/x-python",
   "codemirror_mode": {
    "name": "ipython",
    "version": 3
   },
   "pygments_lexer": "ipython3",
   "nbconvert_exporter": "python",
   "file_extension": ".py"
  },
  "kernelspec": {
   "name": "python3",
   "display_name": "Python 3.9.7 64-bit ('py39': conda)"
  },
  "interpreter": {
   "hash": "7575b0615c19929a6803b70fb96802dc113bd8069c0dbfa1f636b20d364f1413"
  }
 },
 "nbformat": 4,
 "nbformat_minor": 2
}