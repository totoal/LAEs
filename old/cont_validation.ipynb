{
 "cells": [
  {
   "cell_type": "code",
   "execution_count": null,
   "metadata": {},
   "outputs": [],
   "source": [
    "import numpy as np\n",
    "import matplotlib.pyplot as plt\n",
    "from my_functions import *\n",
    "from load_mocks import ensemble_mock\n",
    "from minijpas_LF_and_puricomp import nb_or_3fm_cont\n",
    "\n",
    "from astropy.cosmology import Planck18 as cosmo\n",
    "import astropy.units as u"
   ]
  },
  {
   "cell_type": "code",
   "execution_count": null,
   "metadata": {},
   "outputs": [],
   "source": [
    "w_central = central_wavelength()"
   ]
  },
  {
   "cell_type": "code",
   "execution_count": null,
   "metadata": {},
   "outputs": [],
   "source": [
    "qso_name = 'QSO_double_train_minijpas_DR16_D_0'\n",
    "sf_name = 'LAE_12.5deg_z2-4.25_train_minijpas_0'\n",
    "gal_name = 'GAL_LC_minijpas_0'\n",
    "\n",
    "pm_flx, pm_err, zspec, EW_lya, L_lya, is_qso, is_sf, is_gal, _, _, _ =\\\n",
    "    ensemble_mock(qso_name, gal_name, sf_name)\n",
    "\n",
    "mag = flux_to_mag(pm_flx[-2], w_central[-2])\n",
    "mag[np.isnan(mag)] = 99.\n",
    "\n",
    "N_sources = pm_flx.shape[1]\n",
    "N_sources"
   ]
  },
  {
   "cell_type": "code",
   "execution_count": null,
   "metadata": {},
   "outputs": [],
   "source": [
    "g = flux_to_mag(pm_flx[-3], w_central[-3])\n",
    "r = flux_to_mag(pm_flx[-2], w_central[-2])\n",
    "i = flux_to_mag(pm_flx[-1], w_central[-1])\n",
    "\n",
    "fig, ax = plt.subplots(figsize=(7, 6))\n",
    "\n",
    "color = g - i\n",
    "lae_mask = (L_lya > 42) & (zspec > 2) & (zspec < 3.5)\n",
    "bins = np.linspace(-5, 5, 50)\n",
    "ax.hist(color[is_qso & lae_mask], label='QSO', bins=bins, histtype='step', density=True)\n",
    "ax.hist(color[is_sf & lae_mask], label='SF', bins=bins, histtype='step', density=True)\n",
    "ax.hist(color[is_gal], label='Galaxy', bins=bins, histtype='step', density=True)\n",
    "\n",
    "ax.legend()\n",
    "\n",
    "plt.show()"
   ]
  },
  {
   "cell_type": "code",
   "execution_count": null,
   "metadata": {},
   "outputs": [],
   "source": [
    "nb_lya = NB_z(zspec)"
   ]
  },
  {
   "cell_type": "code",
   "execution_count": null,
   "metadata": {},
   "outputs": [],
   "source": [
    "def cont_arr(pm_flx, pm_err, nb_lya):\n",
    "    cont_flx_lya_nb, cont_err_lya_nb, cont_flx_oth_nb, cont_err_oth_nb =\\\n",
    "        nb_or_3fm_cont(pm_flx, pm_err, 'nb')\n",
    "    cont_flx_lya_3f, cont_err_lya_3f, cont_flx_oth_3f, cont_err_oth_3f =\\\n",
    "        nb_or_3fm_cont(pm_flx, pm_err, '3fm')\n",
    "\n",
    "    cont_lya_nb = cont_flx_lya_nb[nb_lya, np.arange(N_sources)]\n",
    "    cont_lya_3f = cont_flx_lya_3f[nb_lya, np.arange(N_sources)]\n",
    "\n",
    "    return cont_lya_nb, cont_lya_3f\n",
    "\n",
    "cont_lya_nb, cont_lya_3f = cont_arr(pm_flx, pm_err, nb_lya)"
   ]
  },
  {
   "cell_type": "code",
   "execution_count": null,
   "metadata": {},
   "outputs": [],
   "source": [
    "def cont_in(L_lya, EW0, z_lya):\n",
    "    dL = cosmo.luminosity_distance(z_lya).to(u.cm).value\n",
    "    return 10**L_lya / (4*np.pi * dL**2 * EW0 * (1 + z_lya))"
   ]
  },
  {
   "cell_type": "code",
   "execution_count": null,
   "metadata": {},
   "outputs": [],
   "source": [
    "cont_lya_in = cont_in(L_lya, EW_lya, zspec)"
   ]
  },
  {
   "cell_type": "code",
   "execution_count": null,
   "metadata": {},
   "outputs": [],
   "source": [
    "mask = (cont_lya_in > 1e-18) & np.isfinite(cont_lya_in) & np.isfinite(cont_lya_3f)\n",
    "print(np.nanmedian(np.abs(cont_lya_in[mask] - cont_lya_3f[mask])))\n",
    "print(np.nanmedian(np.abs(cont_lya_in[mask] - cont_lya_nb[mask])))\n",
    "\n",
    "fig, ax = plt.subplots(figsize=(7, 6))\n",
    "\n",
    "ax.scatter(cont_lya_in, cont_lya_nb, c='k', s=1)\n",
    "\n",
    "ax.set_yscale('log')\n",
    "ax.set_xscale('log')\n",
    "ax.set_ylim(1e-19, 1e-15)\n",
    "ax.set_xlim(1e-19, 1e-15)\n",
    "ax.set_xlabel(r'Real $f_\\mathrm{cont}$', fontsize=15)\n",
    "ax.set_ylabel(r'Estimated $f_\\mathrm{cont}$', fontsize=15)\n",
    "\n",
    "plt.show()\n",
    "\n",
    "fig, ax = plt.subplots(figsize=(7, 6))\n",
    "\n",
    "ax.scatter(cont_lya_in, cont_lya_3f, c='k', s=1)\n",
    "\n",
    "ax.set_yscale('log')\n",
    "ax.set_xscale('log')\n",
    "ax.set_ylim(1e-19, 1e-15)\n",
    "ax.set_xlim(1e-19, 1e-15)\n",
    "ax.set_xlabel(r'Real $f_\\mathrm{cont}$', fontsize=15)\n",
    "ax.set_ylabel(r'Estimated $f_\\mathrm{cont}$', fontsize=15)\n",
    "\n",
    "plt.show()\n",
    "\n",
    "fig, ax = plt.subplots(figsize=(7, 6))\n",
    "\n",
    "ax.scatter(cont_lya_nb, cont_lya_3f, c='k', s=1)\n",
    "\n",
    "ax.set_yscale('log')\n",
    "ax.set_xscale('log')\n",
    "ax.set_ylim(1e-19, 1e-15)\n",
    "ax.set_xlim(1e-19, 1e-15)\n",
    "ax.set_xlabel(r'Real $f_\\mathrm{cont}$', fontsize=15)\n",
    "ax.set_ylabel(r'Estimated $f_\\mathrm{cont}$', fontsize=15)\n",
    "\n",
    "plt.show()"
   ]
  }
 ],
 "metadata": {
  "kernelspec": {
   "display_name": "Python 3.9.12 ('base')",
   "language": "python",
   "name": "python3"
  },
  "language_info": {
   "codemirror_mode": {
    "name": "ipython",
    "version": 3
   },
   "file_extension": ".py",
   "mimetype": "text/x-python",
   "name": "python",
   "nbconvert_exporter": "python",
   "pygments_lexer": "ipython3",
   "version": "3.9.12"
  },
  "orig_nbformat": 4,
  "vscode": {
   "interpreter": {
    "hash": "ade4bca3e0042e0da78fecdb82351169c0f2ccedb06a0d7cf7342df8f7e47af7"
   }
  }
 },
 "nbformat": 4,
 "nbformat_minor": 2
}
