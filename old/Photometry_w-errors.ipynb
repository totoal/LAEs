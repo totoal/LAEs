{
 "cells": [
  {
   "cell_type": "code",
   "execution_count": null,
   "metadata": {},
   "outputs": [],
   "source": [
    "#%matplotlib notebook\n",
    "import matplotlib.pyplot as plt\n",
    "import numpy as np\n",
    "from pylab import *\n",
    "import time\n",
    "from scipy.integrate import simps\n",
    "import csv\n",
    "from my_functions import *"
   ]
  },
  {
   "cell_type": "code",
   "execution_count": null,
   "metadata": {},
   "outputs": [],
   "source": [
    "filepath = './JPAS_Transmission_Curves_20170316/minijpas.Filter.csv'\n",
    "filters_tags = []\n",
    "\n",
    "with open(filepath, mode='r') as csvfile:\n",
    "    rdlns = csv.reader(csvfile, delimiter=',')\n",
    "    \n",
    "    next(rdlns, None)\n",
    "    next(rdlns, None)\n",
    "    \n",
    "    for line in rdlns:\n",
    "        filters_tags.append(line[1])\n",
    "        \n",
    "filters_tags[0] = 'J0348'"
   ]
  },
  {
   "cell_type": "code",
   "execution_count": null,
   "metadata": {},
   "outputs": [],
   "source": [
    "filters_w = []\n",
    "filters_trans = []\n",
    "\n",
    "for tag in filters_tags:\n",
    "    \n",
    "    filename = './JPAS_Transmission_Curves_20170316/JPAS_' + tag + '.tab'\n",
    "    f = open(filename, mode='r')\n",
    "    lines = f.readlines()[12:]\n",
    "    w = []\n",
    "    trans = []\n",
    "   \n",
    "    for l in range(len(lines)):\n",
    "        w.append(float(lines[l].split()[0]))\n",
    "        trans.append(float(lines[l].split()[1]))\n",
    "        \n",
    "    filters_w.append(w)\n",
    "    filters_trans.append(trans)\n",
    "    \n",
    "        \n",
    "tcurves = {\n",
    "    \"tag\"  :  filters_tags,\n",
    "    \"w\"    :  filters_w ,\n",
    "    \"t\"    :  filters_trans\n",
    "}"
   ]
  },
  {
   "cell_type": "markdown",
   "metadata": {},
   "source": [
    "Import the mocks"
   ]
  },
  {
   "cell_type": "code",
   "execution_count": null,
   "metadata": {},
   "outputs": [],
   "source": [
    "f_name = 'Source_cats/Source_cat_LAE_100deg_uniform_nb132.npy'\n",
    "mock = np.load( f_name, allow_pickle=True ).item()"
   ]
  },
  {
   "cell_type": "code",
   "execution_count": null,
   "metadata": {},
   "outputs": [],
   "source": [
    "w_central = []\n",
    "\n",
    "for fil in range(0,len(tcurves['tag'])):\n",
    "    w_c = sum(np.array(tcurves['w'][fil])*np.array(tcurves['t'][fil])) \\\n",
    "           / sum(tcurves['t'][fil])\n",
    "    w_central.append(w_c)"
   ]
  },
  {
   "cell_type": "code",
   "execution_count": null,
   "metadata": {},
   "outputs": [],
   "source": [
    "err_fit_params = np.load('npy/err_fit_params_minijpas.npy')"
   ]
  },
  {
   "cell_type": "code",
   "execution_count": null,
   "metadata": {},
   "outputs": [],
   "source": [
    "def photo(mock_number, err=True): # Makes the photometry of mock #mock_number\n",
    "    \n",
    "    photo_len = len(tcurves['tag'])\n",
    "    photo = np.zeros(photo_len)      # Initialize pm vector\n",
    "    \n",
    "    for fil in range(0,photo_len):   # For each filter\n",
    "        \n",
    "        w = np.array(tcurves['w'][fil])\n",
    "        t = np.array(tcurves['t'][fil])\n",
    "\n",
    "        m = err_fit_params[fil, 0]\n",
    "        b = err_fit_params[fil, 1]\n",
    "\n",
    "        w_Arr = mock['w_Arr']\n",
    "        \n",
    "        if err:\n",
    "            sed = np.interp(w_Arr, w, t)*mock['SEDs'][mock_number]\n",
    "                    \n",
    "            sed_int = simps(w_Arr*sed,w_Arr)\n",
    "            t_int   = simps(w*t,w)\n",
    "                        \n",
    "            photo[fil] = sed_int/t_int\n",
    "            photo[fil] *= 1 + np.random.randn() * 10**(b + m*np.log10(np.abs(photo[fil])))\n",
    "        if not err:\n",
    "            sed = np.interp(w_Arr, w, t)*mock['SEDs_no_line'][mock_number]\n",
    "            sed_int = simps(w_Arr*sed,w_Arr)\n",
    "            t_int   = simps(w*t,w)\n",
    "            \n",
    "            photo[fil] = sed_int/t_int\n",
    "        \n",
    "    return np.array(photo)"
   ]
  },
  {
   "cell_type": "markdown",
   "metadata": {},
   "source": [
    "# Photometry"
   ]
  },
  {
   "cell_type": "code",
   "execution_count": null,
   "metadata": {},
   "outputs": [],
   "source": [
    "N_sources = mock['SEDs'].shape[0]\n",
    "N_filters = len(tcurves['tag'])\n",
    "\n",
    "pm_data = np.zeros(N_filters*N_sources).reshape(-1, N_sources)\n",
    "\n",
    "t_start = time.time()\n",
    "\n",
    "for mock_n in range(N_sources):\n",
    "\n",
    "    #pm = photo(mock_n)\n",
    "    \n",
    "    pm_data[:,mock_n] = photo(mock_n, err=False)\n",
    "    \n",
    "    print(str(mock_n+1)+'/'+str(N_sources))\n",
    "\n",
    "t_end = time.time()\n",
    "\n",
    "print()\n",
    "print('Elapsed time: ' + str(t_end-t_start))\n",
    "\n",
    "np.save('npy/pm_' + f_name[23:], pm_data)"
   ]
  },
  {
   "cell_type": "code",
   "execution_count": null,
   "metadata": {},
   "outputs": [],
   "source": [
    "N_sources = mock['SEDs'].shape[0]\n",
    "N_filters = len(tcurves['tag'])\n",
    "\n",
    "pm_data = np.zeros(N_filters*N_sources).reshape(-1, N_sources)\n",
    "\n",
    "t_start = time.time()\n",
    "\n",
    "for mock_n in range(N_sources):\n",
    "    #pm = photo(mock_n)\n",
    "    pm_data[:,mock_n] = photo(mock_n, err=True)\n",
    "    print(str(mock_n+1)+'/'+str(N_sources))\n",
    "\n",
    "t_end = time.time()\n",
    "\n",
    "print()\n",
    "print('Elapsed time: ' + str(t_end-t_start))\n",
    "\n",
    "np.save('npy/pm_e' + f_name[23:], pm_data)"
   ]
  },
  {
   "cell_type": "code",
   "execution_count": null,
   "metadata": {},
   "outputs": [],
   "source": [
    "bb_fwhm = [\n",
    "    nb_fwhm(tcurves, -4, True),\n",
    "    nb_fwhm(tcurves, -3, True),\n",
    "    nb_fwhm(tcurves, -2, True),\n",
    "    nb_fwhm(tcurves, -1, True)\n",
    "]"
   ]
  },
  {
   "cell_type": "code",
   "execution_count": null,
   "metadata": {
    "scrolled": true
   },
   "outputs": [],
   "source": [
    "for mock_n in range(30):\n",
    "    \n",
    "#     if mock['LAE'][mock_n] == True:\n",
    "#         continue\n",
    "\n",
    "    pm = photo(mock_n)\n",
    "    \n",
    "    plt.figure(figsize=(15,10))\n",
    "    plt.plot( mock['w_Arr'], mock['SEDs_no_line'][mock_n], c='orange', lw=2, zorder=-1)\n",
    "    plt.scatter(w_central[:-3], pm[:-3])\n",
    "    plt.errorbar(w_central[:-3], pm[:-3], yerr=errors[:-3], fmt='none')\n",
    "    plt.scatter(w_central[8:15], pm[8:15], c='black')\n",
    "    \n",
    "    plt.scatter(w_central[-4], pm[-4], c='purple' , marker='s')\n",
    "    plt.scatter(w_central[-3], pm[-3], c='green'  , marker='s')\n",
    "    plt.scatter(w_central[-2], pm[-2], c='red'    , marker='s')\n",
    "    plt.scatter(w_central[-1], pm[-1], c='dimgray', marker='s')\n",
    "    \n",
    "    plt.errorbar(w_central[-4], pm[-4], xerr=bb_fwhm[-4]/2, yerr= errors[-4],\n",
    "    fmt='none', color='purple' , elinewidth=4)\n",
    "    plt.errorbar(w_central[-3], pm[-3], xerr=bb_fwhm[-3]/2, yerr= errors[-3],\n",
    "     fmt='none', color='green'  , elinewidth=4)\n",
    "    plt.errorbar(w_central[-2], pm[-2], xerr=bb_fwhm[-2]/2, yerr= errors[-2],\n",
    "     fmt='none', color='red'    , elinewidth=4)\n",
    "    plt.errorbar(w_central[-1], pm[-1], xerr=bb_fwhm[-1]/2, yerr= errors[-4],\n",
    "     fmt='none', color='dimgray', elinewidth=4)\n",
    "    \n",
    "    #plt.yscale('log')\n",
    "    \n",
    "    plt.xlabel('$\\lambda\\ (\\AA)$', size=15)\n",
    "    plt.ylabel('$f_\\lambda$ (erg cm$^{-2}$ s$^{-1}$ $\\AA^{-1}$)', size=15)\n",
    "    \n",
    "    plt.show()\n",
    "    \n",
    "    if mock['LAE'][mock_n]:\n",
    "        print('AGE: {}, MET: {}, EXT: {}'\\\n",
    "              .format(mock['AGE'][mock_n], mock['MET'][mock_n], mock['EXT'][mock_n]))\n",
    "    \n",
    "    print('z = ' + str(mock['redshift_Lya_Arr'][mock_n]))\n",
    "    print('EW0 = ' + str(mock['EW_Arr'][mock_n]))\n",
    "    print('L = ' + str(mock['L_line'][mock_n]))"
   ]
  },
  {
   "cell_type": "code",
   "execution_count": null,
   "metadata": {},
   "outputs": [],
   "source": [
    "mock.keys()"
   ]
  }
 ],
 "metadata": {
  "interpreter": {
   "hash": "46cea94afe1f0d88e229837b28e72c2401fa9cb21844b20e15824a5f97d32088"
  },
  "kernelspec": {
   "display_name": "Python 3.9.7 64-bit ('py39': conda)",
   "name": "python3"
  },
  "language_info": {
   "codemirror_mode": {
    "name": "ipython",
    "version": 3
   },
   "file_extension": ".py",
   "mimetype": "text/x-python",
   "name": "python",
   "nbconvert_exporter": "python",
   "pygments_lexer": "ipython3",
   "version": "3.9.7"
  }
 },
 "nbformat": 4,
 "nbformat_minor": 5
}
