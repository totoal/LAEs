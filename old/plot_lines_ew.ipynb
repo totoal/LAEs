{
 "cells": [
  {
   "cell_type": "code",
   "execution_count": null,
   "metadata": {},
   "outputs": [],
   "source": [
    "import pandas as pd\n",
    "import matplotlib.pyplot as plt\n",
    "import numpy as np"
   ]
  },
  {
   "cell_type": "code",
   "execution_count": null,
   "metadata": {},
   "outputs": [],
   "source": [
    "filename = ('/home/alberto/cosmos/JPAS_mocks_sep2021/'\n",
    "    'JPAS_mocks_classification_01sep_model11/Fluxes/Qso_jpas_mock_flam_train.cat')\n",
    "zspec = pd.read_csv(filename, sep=' ', usecols=[127]).to_numpy().reshape(-1, )"
   ]
  },
  {
   "cell_type": "code",
   "execution_count": null,
   "metadata": {},
   "outputs": [],
   "source": [
    "lya = pd.read_csv('csv/Lya_fts.csv').LyaEW / (zspec + 1)\n",
    "CIV = pd.read_csv('csv/CIV_fts.csv').CIVEW / (zspec + 1)\n",
    "CIII = pd.read_csv('csv/CIII_fts.csv').CIIIEW / (zspec + 1)\n",
    "MgII = pd.read_csv('csv/MgII_fts.csv').MgIIEW / (zspec + 1)"
   ]
  },
  {
   "cell_type": "code",
   "execution_count": null,
   "metadata": {},
   "outputs": [],
   "source": [
    "fig, ax = plt.subplots(figsize=(10, 8))\n",
    "\n",
    "bins = np.linspace(10, 150, 50)\n",
    "\n",
    "ax.hist(lya[zspec > 2.2], histtype='step', bins=bins, label='Lya')\n",
    "ax.hist(CIV[zspec > 2.2], histtype='step', bins=bins, label='CIV')\n",
    "ax.hist(CIII[zspec > 2.2], histtype='step', bins=bins, label='CIII')\n",
    "ax.hist(MgII[zspec > 2.2], histtype='step', bins=bins, label='MgII')\n",
    "\n",
    "ax.set_xlabel('EW$_0$', fontsize=15)\n",
    "ax.legend(fontsize=15)\n",
    "\n",
    "plt.show()"
   ]
  }
 ],
 "metadata": {
  "interpreter": {
   "hash": "f9f85f796d01129d0dd105a088854619f454435301f6ffec2fea96ecbd9be4ac"
  },
  "kernelspec": {
   "display_name": "Python 3.9.5 64-bit",
   "language": "python",
   "name": "python3"
  },
  "language_info": {
   "codemirror_mode": {
    "name": "ipython",
    "version": 3
   },
   "file_extension": ".py",
   "mimetype": "text/x-python",
   "name": "python",
   "nbconvert_exporter": "python",
   "pygments_lexer": "ipython3",
   "version": "3.9.7"
  },
  "orig_nbformat": 4
 },
 "nbformat": 4,
 "nbformat_minor": 2
}
