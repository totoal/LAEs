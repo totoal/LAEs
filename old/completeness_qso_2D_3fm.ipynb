{
 "cells": [
  {
   "cell_type": "code",
   "execution_count": null,
   "metadata": {},
   "outputs": [],
   "source": [
    "import numpy as np\n",
    "import matplotlib.pyplot as plt\n",
    "import pandas as pd\n",
    "from my_functions import *\n",
    "import seaborn as sns\n",
    "from three_filter import three_filter_method"
   ]
  },
  {
   "cell_type": "code",
   "execution_count": null,
   "metadata": {},
   "outputs": [],
   "source": [
    "w_central = central_wavelength()\n",
    "nb_fwhm_Arr = nb_fwhm(range(60))"
   ]
  },
  {
   "cell_type": "code",
   "execution_count": null,
   "metadata": {},
   "outputs": [],
   "source": [
    "## Load QSO catalog\n",
    "filename = ('/home/alberto/cosmos/JPAS_mocks_sep2021/'\n",
    "    'JPAS_mocks_classification_01sep_model11/Fluxes/Qso_jpas_mock_flam_train.cat')\n",
    "\n",
    "my_filter_order = np.arange(60)\n",
    "my_filter_order[[-4, -3, -2, -1]] = np.array([1, 12, 28, 43])\n",
    "my_filter_order[1:-4] += 1\n",
    "my_filter_order[12:-4] += 1\n",
    "my_filter_order[28:-4] += 1\n",
    "my_filter_order[43:-4] += 1\n",
    "\n",
    "pm_flx = pd.read_csv(\n",
    "    filename, sep=' ', usecols=range(2, 2 + 60)\n",
    ").to_numpy().T[my_filter_order]\n",
    "pm_err = pd.read_csv(\n",
    "    filename, sep=' ', usecols=range(2 + 60, 2 + 60 + 60)\n",
    ").to_numpy().T[my_filter_order]\n",
    "zspec = pd.read_csv(filename, sep=' ', usecols=[127]).to_numpy().reshape(-1, )\n",
    "\n",
    "# Apply errors\n",
    "np.random.seed(22)\n",
    "pm_flx += pm_err * np.random.normal(size=pm_err.shape)\n",
    "\n",
    "# plate = pd.read_csv(filename, sep=' ', usecols=[122]).to_numpy().reshape(-1, )\n",
    "# mjd = pd.read_csv(filename, sep=' ', usecols=[123]).to_numpy().reshape(-1, )\n",
    "# fiber = pd.read_csv(filename, sep=' ', usecols=[124]).to_numpy().reshape(-1, )"
   ]
  },
  {
   "cell_type": "code",
   "execution_count": null,
   "metadata": {},
   "outputs": [],
   "source": [
    "Lya_fts = pd.read_csv('csv/Lya_fts.csv')\n",
    "EW_lya = Lya_fts.LyaEW"
   ]
  },
  {
   "cell_type": "code",
   "execution_count": null,
   "metadata": {},
   "outputs": [],
   "source": [
    "w_lya = 1215.67 # A\n",
    "N_sources = pm_flx.shape[1]"
   ]
  },
  {
   "cell_type": "code",
   "execution_count": null,
   "metadata": {},
   "outputs": [],
   "source": [
    "mag = flux_to_mag(pm_flx, w_central.reshape(-1, 1))\n",
    "mag[np.isnan(mag)] = 99."
   ]
  },
  {
   "cell_type": "code",
   "execution_count": null,
   "metadata": {},
   "outputs": [],
   "source": [
    "zspec_dist = cosmo.luminosity_distance(zspec).to(u.cm).value\n",
    "L = EW_lya * Lya_fts.LyaCont * 1e-17 * 4*np.pi * zspec_dist**2\n",
    "L = np.log10(L)\n",
    "L[np.isnan(L)] = -99"
   ]
  },
  {
   "cell_type": "code",
   "execution_count": null,
   "metadata": {},
   "outputs": [],
   "source": [
    "tcurves = load_tcurves(load_filter_tags())\n",
    "\n",
    "cont_est_lya = np.zeros((56, N_sources))\n",
    "cont_err_lya = np.ones((56, N_sources)) ** 99.\n",
    "\n",
    "for nb_c in range(5, 28):\n",
    "    NB = pm_flx[nb_c]\n",
    "    NB_err = pm_err[nb_c]\n",
    "    t_NB = np.array(tcurves['t'][nb_c])\n",
    "    w_NB = np.array(tcurves['w'][nb_c])\n",
    "    w_EL = w_central[nb_c]\n",
    "    if 5 <= nb_c < 18: # g band range\n",
    "        BB_LC = pm_flx[-3]\n",
    "        BB_LC_err = pm_err[-3]\n",
    "        t_BB_LC = np.array(tcurves['t'][-3])\n",
    "        w_BB_LC = np.array(tcurves['w'][-3])\n",
    "        BB_LU = pm_flx[-2]\n",
    "        BB_LU_err = pm_err[-2]\n",
    "        t_BB_LU = np.array(tcurves['t'][-2])\n",
    "        w_BB_LU = np.array(tcurves['w'][-2])\n",
    "    if 19 <= nb_c < 33: # r band range\n",
    "        BB_LC = pm_flx[-2]\n",
    "        BB_LC_err = pm_err[-2]\n",
    "        t_BB_LC = np.array(tcurves['t'][-2])\n",
    "        w_BB_LC = np.array(tcurves['w'][-2])\n",
    "        BB_LU = pm_flx[-1]\n",
    "        BB_LU_err = pm_err[-1]\n",
    "        t_BB_LU = np.array(tcurves['t'][-1])\n",
    "        w_BB_LU = np.array(tcurves['w'][-1])\n",
    "\n",
    "    F_EL, A, B, A_err, B_err = three_filter_method(\n",
    "        NB, BB_LC, BB_LU, NB_err, BB_LC_err, BB_LU_err, t_NB, w_NB, t_BB_LC, t_BB_LU,\n",
    "        w_BB_LC, w_BB_LU, w_EL\n",
    "    )\n",
    "\n",
    "    cont_est_lya[nb_c] = A * w_EL + B\n",
    "    cont_err_lya[nb_c] = (w_EL**2 * A_err**2 + B_err**2) ** 0.5\n",
    "\n",
    "cont_est_other = cont_est_lya\n",
    "cont_err_other = cont_err_lya"
   ]
  },
  {
   "cell_type": "code",
   "execution_count": null,
   "metadata": {},
   "outputs": [],
   "source": [
    "ew0lya_min = 0\n",
    "ew0lya_max = 70\n",
    "ew0lya_step = 8\n",
    "ew0oth_min = 0\n",
    "ew0oth_max = 50\n",
    "ew0oth_step = 11\n",
    "\n",
    "other_select_list = []\n",
    "for ew0min in np.linspace(ew0oth_min, ew0oth_max, ew0oth_step):\n",
    "    print(ew0min)\n",
    "    line_other = is_there_line(pm_flx, pm_err, cont_est_other, cont_err_other, ew0min)\n",
    "    other_lines = identify_lines(line_other, pm_flx, pm_err, first=False)\n",
    "\n",
    "    other_select_list.append(other_lines)\n",
    "\n",
    "lya_select_list = []\n",
    "lya_z_nb = []\n",
    "for ew0min in np.linspace(ew0lya_min, ew0lya_max, ew0lya_step):\n",
    "    print(ew0min)\n",
    "    line = is_there_line(pm_flx, pm_err, cont_est_lya, cont_err_lya, ew0min)\n",
    "    lya_lines, lya_cont_lines = identify_lines(line, pm_flx, pm_err, first=True)\n",
    "    z_nb_Arr = np.ones(N_sources) * -1 \n",
    "    z_nb_Arr[np.where(np.array(lya_lines) != -1)] =\\\n",
    "        z_NB(np.array(lya_cont_lines)[np.where(np.array(lya_lines) != -1)])\n",
    "    \n",
    "    lya_select_list.append(lya_lines)\n",
    "    lya_z_nb.append(z_nb_Arr)"
   ]
  },
  {
   "cell_type": "code",
   "execution_count": null,
   "metadata": {},
   "outputs": [],
   "source": [
    "select_grid = np.zeros((ew0lya_step, ew0oth_step))\n",
    "rightz_grid = np.zeros((ew0lya_step, ew0oth_step))\n",
    "\n",
    "target = (\n",
    "    (mag[-2] < 21) & (mag[-2] > 16)\n",
    "    & (EW_lya / (1 + zspec) > 20) & (zspec > 2.12) & (zspec < 4.5)\n",
    ")\n",
    "\n",
    "for i in range(ew0lya_step):\n",
    "    print(i)\n",
    "    for j in range(ew0oth_step):\n",
    "        nice_lya = nice_lya_select(\n",
    "            lya_select_list[i], other_select_list[j], pm_flx, cont_est_other, lya_z_nb[i]\n",
    "        )\n",
    "        nice_z = np.abs(lya_z_nb[i] - zspec) < 0.12\n",
    "\n",
    "        select_grid[i, j] = len(np.where((mag[-2] < 21) & nice_lya)[0])\n",
    "        rightz_grid[i, j] = len(np.where((target & nice_lya & nice_z))[0])"
   ]
  },
  {
   "cell_type": "code",
   "execution_count": null,
   "metadata": {},
   "outputs": [],
   "source": [
    "N_target = len(np.where(target)[0])\n",
    "purity = rightz_grid / select_grid\n",
    "completeness = rightz_grid / N_target"
   ]
  },
  {
   "cell_type": "code",
   "execution_count": null,
   "metadata": {},
   "outputs": [],
   "source": [
    "fig = plt.figure(figsize=(8, 8))\n",
    "\n",
    "width = 0.5\n",
    "height = 0.5\n",
    "spacing = 0.04\n",
    "cbar_width = 0.05\n",
    "\n",
    "# Define axes\n",
    "ax00 = fig.add_axes([0, height + spacing, width, height])\n",
    "ax01 = fig.add_axes([width + spacing, height + spacing, width, height], sharey=ax00)\n",
    "ax10 = fig.add_axes([0, 0, width, height], sharex=ax00)\n",
    "ax11 = fig.add_axes([width + spacing, 0, width, height], sharex=ax01, sharey=ax10)\n",
    "axcbar0 = fig.add_axes([2 * width + 2 * spacing, height + spacing, cbar_width, height])\n",
    "axcbar1 = fig.add_axes([2 * width + 2 * spacing, 0, cbar_width, height])\n",
    "\n",
    "# Plot stuff in the rectangles\n",
    "vmax = np.max([np.max(rightz_grid), np.max(select_grid)])\n",
    "cmap = 'Spectral'\n",
    "\n",
    "sns.heatmap(rightz_grid, ax=ax00, vmin=0, vmax=vmax, cbar_ax=axcbar0, cmap=cmap)\n",
    "sns.heatmap(select_grid, ax=ax01, vmin=0, vmax=vmax, cbar_ax=axcbar0, cmap=cmap)\n",
    "\n",
    "sns.heatmap(purity, ax=ax10, vmin=0, vmax=1, cbar_ax=axcbar1)\n",
    "sns.heatmap(completeness, ax=ax11, vmin=0, vmax=1, cbar=False)\n",
    "\n",
    "ax00.invert_yaxis()\n",
    "ax10.invert_yaxis()\n",
    "\n",
    "# Axes ticks\n",
    "ax00.tick_params(bottom=False, labelbottom=False)\n",
    "ax01.tick_params(left=False, bottom=False, labelleft=False, labelbottom=False)\n",
    "ax11.tick_params(left=False, labelleft=False)\n",
    "\n",
    "xticks = range(ew0oth_step)\n",
    "yticks = range(ew0lya_step)\n",
    "xtick_labels = ['{0:0.0f}'.format(n) for n in np.linspace(ew0oth_min, ew0oth_max, ew0oth_step)]\n",
    "ytick_labels = ['{0:0.0f}'.format(n) for n in np.linspace(ew0lya_min, ew0lya_max, ew0lya_step)]\n",
    "\n",
    "ax00.set_yticks(yticks)\n",
    "ax00.set_yticklabels(ytick_labels)\n",
    "ax10.set_yticks(yticks)\n",
    "ax10.set_yticklabels(ytick_labels)\n",
    "ax10.set_xticks(xticks)\n",
    "ax10.set_xticklabels(xtick_labels)\n",
    "ax11.set_xticks(xticks)\n",
    "ax11.set_xticklabels(xtick_labels)\n",
    "\n",
    "# Set titles\n",
    "ax00.set_title('Selected w/ correct z', fontsize=15)\n",
    "ax01.set_title('All selected', fontsize=15)\n",
    "ax10.set_title('Purity', fontsize=15)\n",
    "ax11.set_title('Completeness', fontsize=15)\n",
    "\n",
    "plt.show()\n",
    "\n",
    "print('N_target = {}'.format(N_target))"
   ]
  },
  {
   "cell_type": "code",
   "execution_count": null,
   "metadata": {},
   "outputs": [],
   "source": [
    "fig, ax = plt.subplots(figsize=(7, 6))\n",
    "\n",
    "combined = (completeness + purity) / 2\n",
    "\n",
    "sns.heatmap(combined, ax=ax)\n",
    "\n",
    "xticks = range(ew0oth_step)\n",
    "yticks = range(ew0lya_step)\n",
    "xtick_labels = ['{0:0.0f}'.format(n) for n in np.linspace(ew0oth_min, ew0oth_max, ew0oth_step)]\n",
    "ytick_labels = ['{0:0.0f}'.format(n) for n in np.linspace(ew0lya_min, ew0lya_max, ew0lya_step)]\n",
    "\n",
    "ax.set_xticks(xticks)\n",
    "ax.set_yticks(yticks)\n",
    "ax.set_xticklabels(xtick_labels)\n",
    "ax.set_yticklabels(ytick_labels)\n",
    "\n",
    "ax.invert_yaxis()\n",
    "\n",
    "ax.set_title(r'Purity $\\times$ Completeness', fontsize=15)\n",
    "\n",
    "plt.show()"
   ]
  },
  {
   "cell_type": "code",
   "execution_count": null,
   "metadata": {},
   "outputs": [],
   "source": [
    "max_combined = np.unravel_index(np.argmax(combined), rightz_grid.shape)\n",
    "print(purity[max_combined])\n",
    "print(completeness[max_combined])"
   ]
  }
 ],
 "metadata": {
  "interpreter": {
   "hash": "f9f85f796d01129d0dd105a088854619f454435301f6ffec2fea96ecbd9be4ac"
  },
  "kernelspec": {
   "display_name": "Python 3.9.5 64-bit",
   "language": "python",
   "name": "python3"
  },
  "language_info": {
   "codemirror_mode": {
    "name": "ipython",
    "version": 3
   },
   "file_extension": ".py",
   "mimetype": "text/x-python",
   "name": "python",
   "nbconvert_exporter": "python",
   "pygments_lexer": "ipython3",
   "version": "3.9.7"
  },
  "orig_nbformat": 4
 },
 "nbformat": 4,
 "nbformat_minor": 2
}
