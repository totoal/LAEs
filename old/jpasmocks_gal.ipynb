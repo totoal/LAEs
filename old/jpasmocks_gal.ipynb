{
 "cells": [
  {
   "cell_type": "code",
   "execution_count": null,
   "metadata": {},
   "outputs": [],
   "source": [
    "import numpy as np\n",
    "import matplotlib.pyplot as plt\n",
    "import csv\n",
    "from my_functions import *"
   ]
  },
  {
   "cell_type": "code",
   "execution_count": null,
   "metadata": {},
   "outputs": [],
   "source": [
    "tcurves = load_tcurves(load_filter_tags())\n",
    "w_central = central_wavelength(tcurves)"
   ]
  },
  {
   "cell_type": "code",
   "execution_count": null,
   "metadata": {},
   "outputs": [],
   "source": [
    "## Load gal catalog\n",
    "filename = ('/home/alberto/cosmos/JPAS_mocks_sep2021/'\n",
    "    'JPAS_mocks_classification_01sep_model11/Fluxes/Gal_jpas_mock_flam_1sq.cat')\n",
    "\n",
    "my_filter_order = np.arange(60)\n",
    "my_filter_order[[-4, -3, -2, -1]] = np.array([1, 12, 28, 43])\n",
    "my_filter_order[1:-4] += 1\n",
    "my_filter_order[12:-4] += 1\n",
    "my_filter_order[28:-4] += 1\n",
    "my_filter_order[43:-4] += 1\n",
    "\n",
    "gal_flx = []\n",
    "gal_err = []\n",
    "zspec = []\n",
    "with open(filename) as f:\n",
    "    rdr = csv.reader(f, delimiter=' ')\n",
    "    next(rdr, None)\n",
    "    for row in rdr:\n",
    "        gal_flx.append(row[2 : 2 + 60])\n",
    "        gal_err.append(row[2 + 60 : 2 + 60 + 60])\n",
    "        zspec.append(row[-1])\n",
    "gal_flx = np.array(gal_flx).T[my_filter_order].astype(float)\n",
    "gal_err = np.array(gal_err).T[my_filter_order].astype(float)\n",
    "zspec = np.array(zspec).astype(float)"
   ]
  },
  {
   "cell_type": "code",
   "execution_count": null,
   "metadata": {},
   "outputs": [],
   "source": [
    "N_sources = gal_flx.shape[1]\n",
    "N_nb = 5\n",
    "ew0min = 30"
   ]
  },
  {
   "cell_type": "code",
   "execution_count": null,
   "metadata": {},
   "outputs": [],
   "source": [
    "nb_c_min = 6\n",
    "nb_c_max = 54\n",
    "line_gal = np.zeros((nb_c_max - nb_c_min, N_sources)).astype(bool)\n",
    "cont_est_Arr = np.zeros((nb_c_max - nb_c_min, N_sources))\n",
    "cont_err_Arr = np.zeros((nb_c_max - nb_c_min, N_sources))\n",
    "i = 0\n",
    "for nb_c in range(nb_c_min, nb_c_max):\n",
    "    z_nb = w_central[nb_c] / 1215.67 - 1\n",
    "    fwhm = nb_fwhm(nb_c, tcurves=tcurves)\n",
    "    cont_est_gal, cont_err_gal = stack_estimation(gal_flx, gal_err, nb_c, N_nb, False)\n",
    "    line_gal[i] = (\n",
    "        (gal_flx[nb_c] - cont_est_gal > 3 * (cont_err_gal**2 + gal_err[nb_c]**2) ** 0.5)\n",
    "        & (gal_flx[nb_c] - cont_est_gal > ew0min * (1 + z_nb) * cont_est_gal / fwhm)\n",
    "    )\n",
    "    cont_est_Arr[i] = cont_est_gal\n",
    "    cont_err_Arr[i] = cont_err_gal\n",
    "    i += 1"
   ]
  },
  {
   "cell_type": "code",
   "execution_count": null,
   "metadata": {},
   "outputs": [],
   "source": [
    "j = 0\n",
    "for mock_n in np.where(zspec > 0)[0]:\n",
    "    try:\n",
    "        first = np.where(line_gal[:, mock_n])[0][0] + nb_c_min\n",
    "    except:\n",
    "        continue\n",
    "\n",
    "    fig = plt.figure(figsize=(10,8))\n",
    "    ax = plot_JPAS_source(gal_flx[:, mock_n], gal_err[:, mock_n])\n",
    "\n",
    "    for nb in np.where(line_gal[:, mock_n])[0]:\n",
    "        idx = nb + nb_c_min\n",
    "        ax.errorbar(w_central[idx], cont_est_Arr[nb, mock_n], fmt='^', c='C4',\n",
    "            markersize=10, yerr=cont_err_Arr[nb, mock_n], capsize=3,\n",
    "            capthick=3, elinewidth=4)\n",
    "    plt.show()\n",
    "\n",
    "    z_nb = w_central[first] / 1215.67 - 1\n",
    "\n",
    "    print('z spec = {0:0.2f}'.format(zspec[mock_n]))\n",
    "    print('z NB   = {0:0.2f}'.format(z_nb))\n",
    "\n",
    "    j += 1\n",
    "    if j == 10: break"
   ]
  },
  {
   "cell_type": "code",
   "execution_count": null,
   "metadata": {},
   "outputs": [],
   "source": [
    "N_sources"
   ]
  },
  {
   "cell_type": "code",
   "execution_count": null,
   "metadata": {},
   "outputs": [],
   "source": [
    "# Arr where the center of the Lya line is. -1 means no lines detected\n",
    "line_lya_center = np.ones(N_sources, dtype=int) * -1\n",
    "\n",
    "for mock_n in range(N_sources):\n",
    "    try:\n",
    "        first = np.where(line_gal[:, mock_n])[0][0] # First True in line_gal\n",
    "    except:\n",
    "        continue\n",
    "    if first > 40: # We don't expect lines past here\n",
    "        continue\n",
    "    if flux_to_mag(gal_flx[-2, mock_n], 5000) < 23: continue\n",
    "\n",
    "    line_nb_width = 0\n",
    "    while line_gal[first + line_nb_width + 1, mock_n]:\n",
    "        line_nb_width += 1\n",
    "\n",
    "    line_lya_center[mock_n] = np.argmax(\n",
    "        gal_flx[first + nb_c_min : first + nb_c_min + line_nb_width + 1, mock_n]\n",
    "    ) + first + nb_c_min\n",
    "print('Src with a line: {}'.format(len(np.where((line_lya_center != -1))[0])))\n",
    "\n",
    "n_lines = []\n",
    "for mock_n in range(N_sources):\n",
    "    n_lines.append(len(np.where(line_gal[:, mock_n])[0]))\n",
    "print('Src with single line: {}'.format(len(np.where(np.array(n_lines) == 1)[0])))\n",
    "print('Src with single line and zspec > 2.5: {}'.format(\n",
    "    len(np.where((np.array(n_lines) == 1) & (zspec > 2.5))[0]))\n",
    ")"
   ]
  },
  {
   "cell_type": "code",
   "execution_count": null,
   "metadata": {},
   "outputs": [],
   "source": [
    "np.max(zspec)"
   ]
  }
 ],
 "metadata": {
  "interpreter": {
   "hash": "46cea94afe1f0d88e229837b28e72c2401fa9cb21844b20e15824a5f97d32088"
  },
  "kernelspec": {
   "display_name": "Python 3.9.7 64-bit ('py39': conda)",
   "name": "python3"
  },
  "language_info": {
   "codemirror_mode": {
    "name": "ipython",
    "version": 3
   },
   "file_extension": ".py",
   "mimetype": "text/x-python",
   "name": "python",
   "nbconvert_exporter": "python",
   "pygments_lexer": "ipython3",
   "version": "3.9.7"
  },
  "orig_nbformat": 4
 },
 "nbformat": 4,
 "nbformat_minor": 2
}
