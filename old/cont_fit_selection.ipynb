{
 "cells": [
  {
   "cell_type": "code",
   "execution_count": null,
   "id": "6aad2f85",
   "metadata": {},
   "outputs": [],
   "source": [
    "import numpy as np\n",
    "import matplotlib.pyplot as plt\n",
    "from my_functions import *\n",
    "import pickle as pkl\n",
    "from LumFunc_miniJPAS import LumFunc_hist"
   ]
  },
  {
   "cell_type": "code",
   "execution_count": null,
   "id": "452eae6a",
   "metadata": {},
   "outputs": [],
   "source": [
    "## Load the catalog\n",
    "with open('pkl/cat_flambda_photoz_gaia.pkl', 'rb') as file:\n",
    "    cat = pkl.load(file)"
   ]
  },
  {
   "cell_type": "code",
   "execution_count": null,
   "id": "6dd64fa8",
   "metadata": {},
   "outputs": [],
   "source": [
    "# Define the array of the filters we are going to use // gSDSS band\n",
    "nb_ind_arr = [8, 9, 10, 11, 12, 13, 14, 15]\n",
    "bb_ind = -3"
   ]
  },
  {
   "cell_type": "code",
   "execution_count": null,
   "id": "fce74c4d",
   "metadata": {},
   "outputs": [],
   "source": [
    "# Function to drop sources\n",
    "def make_masks(cat, nb_ind):\n",
    "    # Mask sources with high photoz odds\n",
    "    mask_pz_odds = cat['odds'] < 0.98\n",
    "    # Mask sources with proper motion according to Gaia (sigma > 3)\n",
    "    parallax_sn = np.abs(cat['parallax'] / cat['parallax_err'])\n",
    "    pmra_sn = np.abs(cat['pmra'] / cat['pmra_err'])\n",
    "    pmdec_sn = np.abs(cat['pmdec'] / cat['pmdec_err'])\n",
    "    mask_pmotion = (\n",
    "        (np.sqrt(parallax_sn**2 + pmra_sn**2 + pmdec_sn**2) < 27.**0.5)\n",
    "        | ( np.isnan(parallax_sn) | np.isnan(pmra_sn) | np.isnan(pmdec_sn) )\n",
    "    )\n",
    "    # Mask sources with SNR < 5 in the selected NB\n",
    "    mask_snr = cat['flx_err'][:,nb_ind] < 0.2\n",
    "    # Mask too bright gSDSS\n",
    "    mask_b = cat['flx'][:, -3] > mag_to_flux(15, 4750)\n",
    "    \n",
    "    mask_total = mask_pz_odds & mask_pmotion & mask_snr & mask_b\n",
    "    print('Total masked: {}'.format(len(np.where(~mask_total)[0])))\n",
    "    return mask_total"
   ]
  },
  {
   "cell_type": "code",
   "execution_count": null,
   "id": "ec1b21a5",
   "metadata": {},
   "outputs": [],
   "source": [
    "nb_ind = 14\n",
    "mask = make_masks(cat, nb_ind)\n",
    "pm_flx = cat['flx'][mask] * 1e-19\n",
    "pm_err = cat['flx_err'][mask] * pm_flx\n",
    "filters_tags = load_filter_tags()\n",
    "fwhm_nb = nb_fwhm(nb_ind)\n",
    "nb_fwhm_Arr = [nb_fwhm(idx) for idx in np.arange(len(filters_tags))]\n",
    "w_central = np.array(central_wavelength())\n",
    "N_nb = 5 # Number of nb on each side of the central one\n",
    "ew0min = 30\n",
    "\n",
    "cont_stack, cont_err_stack = stack_estimation(\n",
    "    pm_flx.T, pm_err.T, nb_ind, N_nb, False\n",
    "    )"
   ]
  },
  {
   "cell_type": "code",
   "execution_count": null,
   "id": "d6b371ad",
   "metadata": {},
   "outputs": [],
   "source": [
    "N_sources = pm_flx.shape[0]\n",
    "print(N_sources)"
   ]
  },
  {
   "cell_type": "code",
   "execution_count": null,
   "id": "bc50ee7e",
   "metadata": {},
   "outputs": [],
   "source": [
    "z = 1215.67 / w_central[nb_ind] - 1\n",
    "ew = ew0min*(1 + z)\n",
    "line = (\n",
    "    (pm_flx[:, nb_ind] - cont_stack > 3 * (cont_err_stack**2 + pm_err[:, nb_ind]**2)**0.5)\n",
    "    & (pm_flx[:, nb_ind] - cont_stack > (ew * cont_stack) / fwhm_nb)\n",
    ")\n",
    "\n",
    "len(np.where(line)[0])"
   ]
  },
  {
   "cell_type": "code",
   "execution_count": null,
   "id": "ed181ce7",
   "metadata": {},
   "outputs": [],
   "source": [
    "bb_fwhm = [\n",
    "    nb_fwhm(-4),\n",
    "    nb_fwhm(-3),\n",
    "    nb_fwhm(-2),\n",
    "    nb_fwhm(-1)\n",
    "]"
   ]
  },
  {
   "cell_type": "code",
   "execution_count": null,
   "id": "cd601167",
   "metadata": {
    "scrolled": true
   },
   "outputs": [],
   "source": [
    "j = 0\n",
    "for i in range(pm_flx.shape[0]):\n",
    "    if ~line[i]: continue\n",
    "    j += 1\n",
    "    if j > 20: break\n",
    "        \n",
    "    pm = pm_flx[i]\n",
    "    errors = pm_err[i]\n",
    "    \n",
    "    fig, ax = plt.subplots(figsize=(12,9))\n",
    "    ax.errorbar(w_central[:-3], pm[:-3], yerr=errors[:-3], fmt='.', c='gray')\n",
    "    ax.scatter(w_central[nb_ind], pm[nb_ind], c='black')\n",
    "\n",
    "    ax.scatter(w_central[-4], pm[-4], c='purple' , marker='s')\n",
    "    ax.scatter(w_central[-3], pm[-3], c='green'  , marker='s')\n",
    "    ax.scatter(w_central[-2], pm[-2], c='red'    , marker='s')\n",
    "    ax.scatter(w_central[-1], pm[-1], c='dimgray', marker='s')\n",
    "\n",
    "    ax.errorbar(w_central[-4], pm[-4], xerr=bb_fwhm[-4]/2, yerr = errors[-4],\n",
    "                fmt='none', color='purple', elinewidth=4)\n",
    "    ax.errorbar(w_central[-3], pm[-3], xerr=bb_fwhm[-3]/2, yerr = errors[-3],\n",
    "                fmt='none', color='green', elinewidth=4)\n",
    "    ax.errorbar(w_central[-2], pm[-2], xerr=bb_fwhm[-2]/2, yerr = errors[-2],\n",
    "                fmt='none', color='red', elinewidth=4)\n",
    "    ax.errorbar(w_central[-1], pm[-1], xerr=bb_fwhm[-1]/2, yerr = errors[-1],\n",
    "                fmt='none', color='dimgray', elinewidth=4)\n",
    "\n",
    "    ax.set_xlabel('$\\lambda\\ (\\AA)$', size=15)\n",
    "    ax.set_ylabel('$f_\\lambda$ (erg cm$^{-2}$ s$^{-1}$ $\\AA^{-1}$)', size=15)\n",
    "\n",
    "    # Fit line\n",
    "    ax.errorbar(w_central[nb_ind]+10, cont_stack[i], yerr=cont_err_stack[i],\n",
    "                c='violet', marker='^', markersize=9,\n",
    "                capsize=4, label='Stack NBs', elinewidth=2, capthick=2)\n",
    "\n",
    "    plt.legend()    \n",
    "    plt.show()\n",
    "    \n",
    "    IGM_T = IGM_TRANSMISSION(w_central[nb_ind])\n",
    "    ew_est = pm[nb_ind]*nb_fwhm_Arr[nb_ind] / cont_stack[i] * 1215.67/w_central[nb_ind]\\\n",
    "        / ((1 + IGM_T) * 0.5)\n",
    "    print('EW0 = {}'.format(ew_est))\n",
    "    "
   ]
  },
  {
   "cell_type": "code",
   "execution_count": null,
   "id": "eb1d4f2a",
   "metadata": {},
   "outputs": [],
   "source": [
    "## Load HETDEX LumFunc data (Zhang 2021)\n",
    "filepath = 'csv/HETDEX_LumFunc.csv'\n",
    "HETDEX_LF = []\n",
    "with open(filepath, mode='r') as csvfile:\n",
    "    rdlns = csv.reader(csvfile, delimiter=',')\n",
    "    for line in rdlns:\n",
    "        HETDEX_LF.append(line)\n",
    "HETDEX_LF = np.array(HETDEX_LF).astype(float)"
   ]
  },
  {
   "cell_type": "code",
   "execution_count": null,
   "id": "4acdfb1d",
   "metadata": {},
   "outputs": [],
   "source": [
    "fig, ax = plt.subplots(figsize=(12, 9))\n",
    "y = np.zeros(10)\n",
    "for nb_c in np.arange(6, 27):\n",
    "    N_nb_stack = 5\n",
    "    cont_stk, cont_err_stk = stack_estimation(pm_flx.T, pm_err.T, nb_c, 6)\n",
    "    \n",
    "    ew0min = 20\n",
    "    z_nb = w_central[nb_c] / 1215.67 + 1\n",
    "    fwhm = nb_fwhm(nb_c)\n",
    "    diff_err = (pm_err[:, nb_c]**2 + cont_err_stk**2)**0.5\n",
    "    f_line = pm_flx[:, nb_c] - cont_stk\n",
    "    line = (\n",
    "        (pm_flx[:, nb_c] - cont_stk > 3*diff_err)\n",
    "        & (pm_flx[:, nb_c] - cont_stk > ew0min * (1 + z_nb) * cont_stk / fwhm)\n",
    "    )\n",
    "    f_line = f_line[line]\n",
    "    if len(f_line) == 0: continue\n",
    "    x, lf_hist, vol, binw = LumFunc_hist(f_line, w_central[nb_c], fwhm, 10)\n",
    "    y += lf_hist / vol / binw\n",
    "\n",
    "ax.errorbar(x, y, marker='.', markersize=12, linestyle='none',\n",
    "    yerr=np.array(lf_hist)**0.5/vol/binw, label=filters_tags[nb_c]\n",
    ")\n",
    "\n",
    "    #ax.set_xlim((43.8, 45.25))\n",
    "    # ax.set_ylim((0, 0.6e-5))\n",
    "ax.set_yscale('log')\n",
    "ax.plot(HETDEX_LF[:,0], HETDEX_LF[:,1], 's', markersize = 10, label = 'Zhang (2021)')\n",
    "ax.legend(fontsize=15)\n",
    "plt.show()"
   ]
  },
  {
   "cell_type": "code",
   "execution_count": null,
   "id": "1d0a71cd",
   "metadata": {},
   "outputs": [],
   "source": []
  }
 ],
 "metadata": {
  "interpreter": {
   "hash": "46cea94afe1f0d88e229837b28e72c2401fa9cb21844b20e15824a5f97d32088"
  },
  "kernelspec": {
   "display_name": "Python 3.9.7 64-bit ('py39': conda)",
   "name": "python3"
  },
  "language_info": {
   "codemirror_mode": {
    "name": "ipython",
    "version": 3
   },
   "file_extension": ".py",
   "mimetype": "text/x-python",
   "name": "python",
   "nbconvert_exporter": "python",
   "pygments_lexer": "ipython3",
   "version": "3.9.7"
  }
 },
 "nbformat": 4,
 "nbformat_minor": 5
}
