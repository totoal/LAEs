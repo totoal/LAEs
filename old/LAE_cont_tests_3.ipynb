{
 "cells": [
  {
   "cell_type": "code",
   "execution_count": null,
   "source": [
    "import numpy as np\n",
    "import matplotlib.pyplot as plt\n",
    "import seaborn as sns\n",
    "from my_functions import *\n",
    "from three_filter import three_filter_method, NB_3fm\n"
   ],
   "outputs": [],
   "metadata": {}
  },
  {
   "cell_type": "code",
   "execution_count": null,
   "source": [
    "## Load everything\n",
    "pm_data = np.load('npy/pm_eLAE_30deg_uniform_g2.npy')\n",
    "pm_data_noerr = np.load('npy/pm_LAE_30deg_uniform_g2.npy')\n",
    "f_name = 'Source_cats/Source_cat_LAE_30deg_uniform_g2.npy'\n",
    "mock = np.load(f_name, allow_pickle=True).item()\n",
    "\n",
    "## Somehow, some bright mocks are sneaking in. So, get rid of them.\n",
    "mask_bright = np.where(pm_data_noerr[-3] <= 1e-17)[0]\n",
    "pm_data_noerr = pm_data_noerr[:, mask_bright]\n",
    "pm_data = pm_data[:, mask_bright]\n",
    "for key in mock.keys():\n",
    "    if key == 'w_Arr': continue\n",
    "    mock[key] = mock[key][mask_bright]\n",
    "\n",
    "err_fit_params = np.load('npy/err_fit_params_minijpas.npy')\n",
    "m = err_fit_params[:, 0].reshape(-1, 1)\n",
    "b = err_fit_params[:, 1].reshape(-1, 1)\n",
    "pm_err = pm_data_noerr * 10 ** (b + m * np.log10(np.abs(pm_data_noerr)))\n",
    "\n",
    "filters_tags = load_filter_tags()\n",
    "tcurves = load_tcurves(filters_tags)\n",
    "w_central = np.array(central_wavelength(tcurves))\n",
    "\n",
    "bb_fwhm = [\n",
    "    nb_fwhm(tcurves, -4, True),\n",
    "    nb_fwhm(tcurves, -3, True),\n",
    "    nb_fwhm(tcurves, -2, True),\n",
    "    nb_fwhm(tcurves, -1, True)\n",
    "]"
   ],
   "outputs": [],
   "metadata": {}
  },
  {
   "cell_type": "code",
   "execution_count": null,
   "source": [
    "## 3 Filter method\n",
    "ew0min = 0\n",
    "ll = []\n",
    "for nb_c in range(3, 18):\n",
    "    NB = pm_data[nb_c]\n",
    "    BB_LC = pm_data[-3]\n",
    "    BB_LU = pm_data[-2]\n",
    "    NB_err = pm_err[nb_c]\n",
    "    BB_LC_err = pm_err[-3]\n",
    "    BB_LU_err = pm_err[-2]\n",
    "    t_NB = np.array(tcurves['t'][nb_c])\n",
    "    t_BB_LC = np.array(tcurves['t'][-3])\n",
    "    t_BB_LU = np.array(tcurves['t'][-2])\n",
    "    w_NB = np.array(tcurves['w'][nb_c])\n",
    "    w_BB_LC = np.array(tcurves['w'][-3])\n",
    "    w_BB_LU = np.array(tcurves['w'][-2])\n",
    "    w_EL = w_central[nb_c]\n",
    "\n",
    "    F_EL, A, B, A_err, B_err = three_filter_method(\n",
    "        NB, BB_LC, BB_LU, NB_err, BB_LC_err, BB_LU_err,\n",
    "        t_NB, w_NB, t_BB_LC, t_BB_LU, w_BB_LC, w_BB_LU, w_EL\n",
    "    )\n",
    "\n",
    "    f_cont = A * w_EL + B\n",
    "    f_cont_var = w_EL**2 * A_err**2 + B_err**2\n",
    "    EW0 = F_EL / f_cont * 1215.67/w_EL\n",
    "\n",
    "    line = (\n",
    "        (pm_data[nb_c] - f_cont > 3*(pm_err[nb_c]**2 + f_cont_var) ** 0.5)\n",
    "        & (EW0 > ew0min)\n",
    "    )\n",
    "    print(\n",
    "        '{0} Selected: {1:0.2f}%'\n",
    "        .format(filters_tags[nb_c], len(np.where(line)[0]) / len(line) * 100)\n",
    "    )\n",
    "    ll.append(len(np.where(line)[0]) / len(line) * 100)\n",
    "plt.plot(ll, marker='.', markersize=15, linestyle='')"
   ],
   "outputs": [],
   "metadata": {}
  },
  {
   "cell_type": "code",
   "execution_count": null,
   "source": [
    "np.array(nb_fwhm(tcurves, -3, False)) / 1215.67 - 1"
   ],
   "outputs": [],
   "metadata": {}
  },
  {
   "cell_type": "code",
   "execution_count": null,
   "source": [
    "plt.plot(np.average(pm_err[3:18], axis=1), marker='.', linestyle='', markersize=15)"
   ],
   "outputs": [],
   "metadata": {}
  }
 ],
 "metadata": {
  "orig_nbformat": 4,
  "language_info": {
   "name": "python",
   "version": "3.9.7",
   "mimetype": "text/x-python",
   "codemirror_mode": {
    "name": "ipython",
    "version": 3
   },
   "pygments_lexer": "ipython3",
   "nbconvert_exporter": "python",
   "file_extension": ".py"
  },
  "kernelspec": {
   "name": "python3",
   "display_name": "Python 3.9.7 64-bit ('py39': conda)"
  },
  "interpreter": {
   "hash": "7575b0615c19929a6803b70fb96802dc113bd8069c0dbfa1f636b20d364f1413"
  }
 },
 "nbformat": 4,
 "nbformat_minor": 2
}