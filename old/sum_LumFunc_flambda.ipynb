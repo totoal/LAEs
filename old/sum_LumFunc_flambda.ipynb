{
 "cells": [
  {
   "cell_type": "code",
   "execution_count": null,
   "id": "e8511e0b",
   "metadata": {},
   "outputs": [],
   "source": [
    "import numpy as np\n",
    "import matplotlib.pyplot as plt\n",
    "from my_functions import *"
   ]
  },
  {
   "cell_type": "code",
   "execution_count": null,
   "id": "b0c5ae72",
   "metadata": {},
   "outputs": [],
   "source": [
    "cat = load_flambda_cat('csv/minijpas.dualFLambda.csv')"
   ]
  },
  {
   "cell_type": "code",
   "execution_count": null,
   "id": "4d1db01e",
   "metadata": {},
   "outputs": [],
   "source": [
    "np.where(cat['FLAMBDA'] < 0)"
   ]
  },
  {
   "cell_type": "code",
   "execution_count": null,
   "id": "5807e4b0",
   "metadata": {},
   "outputs": [],
   "source": [
    "def colorcut(ew0, nb_ind):\n",
    "    w_Lya = 1215.67  # Angstrom\n",
    "    tcurves = load_tcurves(load_filter_tags())\n",
    "    w = tcurves['w'][nb_ind][np.argmax(tcurves['t'][nb_ind])]\n",
    "    z = w/w_Lya + 1\n",
    "    ew = ew0 * (1 + z)\n",
    "    return ew / nb_fwhm(tcurves, nb_ind, True)"
   ]
  },
  {
   "cell_type": "code",
   "execution_count": null,
   "id": "eb254df7",
   "metadata": {},
   "outputs": [],
   "source": [
    "def plot_flux_ratio(nb_f, bb_f, weights):\n",
    "    fig, ax = plt.subplots()\n",
    "    ax.plot(nb_f, nb_f/bb_f, c=weights, cmap='gnuplot', marker='.')\n",
    "    ax.colorbar()"
   ]
  },
  {
   "cell_type": "code",
   "execution_count": null,
   "id": "fcb726f9",
   "metadata": {},
   "outputs": [],
   "source": [
    "nb_ind_arr = [9,10,11,12,13,14,15]\n",
    "bb_ind = -3 # gSDSS\n",
    "\n",
    "for nb_ind in nb_ind_arr:\n",
    "    bb_f = cat['FLAMBDA'][:, bb_ind]\n",
    "    nb_f = cat['FLAMBDA'][:, nb_ind]\n",
    "    bb_e = cat['RELERR'][:, bb_ind]\n",
    "    nb_e = cat['RELERR'][:, nb_ind]\n",
    "    \n",
    "    nbbb_e = nb_f/bb_f * (nb_e - bb_e)"
   ]
  },
  {
   "cell_type": "code",
   "execution_count": null,
   "id": "feafabb0",
   "metadata": {},
   "outputs": [],
   "source": [
    "cat['FLAMBDA'].shape"
   ]
  },
  {
   "cell_type": "code",
   "execution_count": null,
   "id": "fbc35555",
   "metadata": {},
   "outputs": [],
   "source": []
  }
 ],
 "metadata": {
  "kernelspec": {
   "display_name": "Python 3",
   "language": "python",
   "name": "python3"
  },
  "language_info": {
   "codemirror_mode": {
    "name": "ipython",
    "version": 3
   },
   "file_extension": ".py",
   "mimetype": "text/x-python",
   "name": "python",
   "nbconvert_exporter": "python",
   "pygments_lexer": "ipython3",
   "version": "3.8.10"
  }
 },
 "nbformat": 4,
 "nbformat_minor": 5
}
