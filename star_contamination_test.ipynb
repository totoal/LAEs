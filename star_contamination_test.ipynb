{
 "cells": [
  {
   "cell_type": "code",
   "execution_count": null,
   "metadata": {},
   "outputs": [],
   "source": [
    "import pandas as pd\n",
    "import numpy as np\n",
    "import matplotlib.pyplot as plt\n",
    "from my_functions import *\n",
    "\n",
    "%matplotlib inline"
   ]
  },
  {
   "cell_type": "code",
   "execution_count": null,
   "metadata": {},
   "outputs": [],
   "source": [
    "w_central = central_wavelength()\n",
    "nb_fwhm_Arr = nb_fwhm(range(60))\n",
    "w_lya = 1215.67\n",
    "filter_tags = load_filter_tags()"
   ]
  },
  {
   "cell_type": "code",
   "execution_count": null,
   "metadata": {},
   "outputs": [],
   "source": [
    "star_area = 100000 / 2190\n",
    "print(f'Star area = {star_area:0.1f} deg2')"
   ]
  },
  {
   "cell_type": "code",
   "execution_count": null,
   "metadata": {},
   "outputs": [],
   "source": [
    "def load_STAR_prior_mock():\n",
    "    ## Load QSO catalog\n",
    "    filename = ('/home/alberto/cosmos/JPAS_mocks_sep2021/'\n",
    "        'JPAS_mocks_classification_01sep_model11/Fluxes/Qso_jpas_mock_flam_train.cat')\n",
    "\n",
    "    my_filter_order = np.arange(60)\n",
    "    my_filter_order[[-4, -3, -2, -1]] = np.array([1, 12, 28, 43])\n",
    "    my_filter_order[1:-4] += 1\n",
    "    my_filter_order[12:-4] += 1\n",
    "    my_filter_order[28:-4] += 1\n",
    "    my_filter_order[43:-4] += 1\n",
    "\n",
    "    pm_flx = pd.read_csv(\n",
    "        filename, sep=' ', usecols=range(2, 2 + 60)\n",
    "    ).to_numpy().T[my_filter_order]\n",
    "    pm_err = pd.read_csv(\n",
    "        filename, sep=' ', usecols=range(2 + 60, 2 + 60 + 60)\n",
    "    ).to_numpy().T[my_filter_order]\n",
    "    zspec = pd.read_csv(filename, sep=' ', usecols=[127]).to_numpy().reshape(-1, )\n",
    "\n",
    "    return pm_flx, pm_err"
   ]
  },
  {
   "cell_type": "code",
   "execution_count": null,
   "metadata": {},
   "outputs": [],
   "source": [
    "pm_flx, pm_err = load_STAR_prior_mock()\n",
    "mag = flux_to_mag(pm_flx[-2], w_central[-2])\n",
    "mag[np.isnan(mag)] = 99.\n",
    "N_sources = pm_flx.shape[1]\n",
    "print(pm_flx.shape)"
   ]
  },
  {
   "cell_type": "code",
   "execution_count": null,
   "metadata": {},
   "outputs": [],
   "source": [
    "ew0_cut = 30\n",
    "ew_other = 400\n",
    "\n",
    "# Lya search\n",
    "cont_est_lya, cont_err_lya = estimate_continuum(pm_flx, pm_err, IGM_T_correct=True)\n",
    "line = is_there_line(pm_flx, pm_err, cont_est_lya, cont_err_lya, ew0_cut)\n",
    "lya_lines, lya_cont_lines, line_widths = identify_lines(\n",
    "    line, pm_flx, cont_est_lya, first=True, return_line_width=True\n",
    ")\n",
    "lya_lines = np.array(lya_lines)\n",
    "\n",
    "# Other lines\n",
    "cont_est_other, cont_err_other = estimate_continuum(pm_flx, pm_err, IGM_T_correct=False)\n",
    "line_other = is_there_line(pm_flx, pm_err, cont_est_other, cont_err_other,\n",
    "    ew_other, obs=True)\n",
    "other_lines = identify_lines(line_other, cont_est_other, pm_err)\n",
    "\n",
    "# Compute z\n",
    "z_Arr = np.zeros(N_sources)\n",
    "z_Arr[np.where(np.array(lya_lines) != -1)] =\\\n",
    "    z_NB(np.array(lya_cont_lines)[np.where(np.array(lya_lines) != -1)])\n",
    "\n",
    "# %xdel cont_est_other\n",
    "%xdel cont_err_other\n",
    "\n",
    "mag_min = 17\n",
    "mag_max = 24\n",
    "\n",
    "nb_min = 1\n",
    "nb_max = 25\n",
    "\n",
    "nbs_to_consider = np.arange(nb_min, nb_max + 1)\n",
    "\n",
    "nb_cut = (np.array(lya_lines) >= nb_min) & (np.array(lya_lines) <= nb_max)\n",
    "\n",
    "z_min = (w_central[nb_min] - nb_fwhm_Arr[nb_min] * 0.5) / w_lya - 1\n",
    "z_max = (w_central[nb_max] + nb_fwhm_Arr[nb_max] * 0.5) / w_lya - 1\n",
    "print(f'z interval: ({z_min:0.2f}, {z_max:0.2f})')\n",
    "\n",
    "z_cut = (z_min < z_Arr) & (z_Arr < z_max)\n",
    "mag_cut = (mag > mag_min) & (mag < mag_max)\n",
    "\n",
    "snr = np.empty(N_sources)\n",
    "for src in range(N_sources):\n",
    "    l = lya_lines[src]\n",
    "    snr[src] = pm_flx[l, src] / pm_err[l, src]\n",
    "\n",
    "nice_lya_mask = z_cut & mag_cut & (snr > 6)\n",
    "nice_lya = nice_lya_select(\n",
    "    lya_lines, other_lines, pm_flx, pm_err, cont_est_lya, z_Arr, mask=nice_lya_mask\n",
    ")"
   ]
  },
  {
   "cell_type": "code",
   "execution_count": null,
   "metadata": {},
   "outputs": [],
   "source": [
    "count_true(nice_lya) / star_area"
   ]
  },
  {
   "cell_type": "code",
   "execution_count": null,
   "metadata": {},
   "outputs": [],
   "source": [
    "selected = np.random.permutation(\n",
    "    np.where(\n",
    "        nice_lya\n",
    "    )[0]\n",
    ")\n",
    "print(count_true(selected))\n",
    "\n",
    "# qso_lines = [1025.7220, 1397.61, 1549.48, 1908.73, 2799.12]\n",
    "# Actually gal lines\n",
    "# qso_lines = [4861, 5007, 3727, 6549, 6564, 6585]\n",
    "# This is the peak of the gal contaminant distribution\n",
    "qso_lines = [3200]\n",
    "pm_flx[0, :] = 99999\n",
    "pm_flx[-4, :] = 99999\n",
    "pm_err[0, :] = 0\n",
    "pm_err[-4, :] = 0\n",
    "\n",
    "for i, src in enumerate(selected):\n",
    "    if i == 10: break\n",
    "    print(src)\n",
    "    lya_obs_w = w_central[lya_lines[src]]\n",
    "    other_lines_w = [w_central[i] for i in other_lines[src]]\n",
    "\n",
    "    fig = plt.figure(figsize=(10, 5))\n",
    "    ax = plot_JPAS_source(pm_flx[:, src], pm_err[:, src], e17scale=True, set_ylim=False)\n",
    "\n",
    "    ax.axvline(lya_obs_w, linestyle='--', color='r', label='Retrieved Lya line')\n",
    "\n",
    "    ax.plot(w_central[:56], cont_est_lya[:, src] * 1e17)\n",
    "    # ax.plot(w_central[:56], cont_est_other[:, src], ls='--')\n",
    "\n",
    "    # ax.set_title(f'zspec={zspec[src]:0.3f}, z_Arr={z_Arr[src]:0.3f}')\n",
    "    ax.legend()\n",
    "\n",
    "    ax.set_ylim((-1, 5))\n",
    "    ax.set_xlim((3000, 10000))\n",
    "\n",
    "    plt.show()"
   ]
  },
  {
   "cell_type": "code",
   "execution_count": null,
   "metadata": {},
   "outputs": [],
   "source": [
    "fig, ax = plt.subplots(figsize=(5, 4))\n",
    "\n",
    "ax.hist(mag[nice_lya], np.linspace(16, 25, 20))\n",
    "\n",
    "plt.show()"
   ]
  }
 ],
 "metadata": {
  "kernelspec": {
   "display_name": "Python 3.9.13 ('base')",
   "language": "python",
   "name": "python3"
  },
  "language_info": {
   "codemirror_mode": {
    "name": "ipython",
    "version": 3
   },
   "file_extension": ".py",
   "mimetype": "text/x-python",
   "name": "python",
   "nbconvert_exporter": "python",
   "pygments_lexer": "ipython3",
   "version": "3.9.13"
  },
  "orig_nbformat": 4,
  "vscode": {
   "interpreter": {
    "hash": "ade4bca3e0042e0da78fecdb82351169c0f2ccedb06a0d7cf7342df8f7e47af7"
   }
  }
 },
 "nbformat": 4,
 "nbformat_minor": 2
}
