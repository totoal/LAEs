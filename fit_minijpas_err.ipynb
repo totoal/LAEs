{
 "cells": [
  {
   "cell_type": "code",
   "execution_count": null,
   "metadata": {},
   "outputs": [],
   "source": [
    "import numpy as np\n",
    "from my_functions import *\n",
    "import matplotlib.pyplot as plt\n",
    "import pandas as pd\n",
    "from scipy.optimize import curve_fit"
   ]
  },
  {
   "cell_type": "code",
   "execution_count": null,
   "metadata": {},
   "outputs": [],
   "source": [
    "split_converter = lambda s: s.split()\n",
    "sum_flags = lambda s: np.sum(np.array(s.split()).astype(float))\n",
    "tile_name = lambda s: s[:8]\n",
    "\n",
    "cat = pd.read_csv('csv/minijpas.MagAB_aper3_photoz_gaia_4.csv', sep=',', header=1,\n",
    "    converters={2: split_converter, 3: split_converter, 4: sum_flags,\n",
    "    5: sum_flags, 21: tile_name})\n",
    "\n",
    "cat = cat[np.array([len(x) for x in cat['MAG_APER_3_0']]) != 0]"
   ]
  },
  {
   "cell_type": "code",
   "execution_count": null,
   "metadata": {},
   "outputs": [],
   "source": [
    "def expfit(x, a, b, c):\n",
    "    return a * np.exp(b * x + c)"
   ]
  },
  {
   "cell_type": "code",
   "execution_count": null,
   "metadata": {},
   "outputs": [],
   "source": [
    "params_tiles = []\n",
    "for tile in ['AEGIS001', 'AEGIS002', 'AEGIS003', 'AEGIS004']:\n",
    "    err_fit_params = []\n",
    "\n",
    "    mag = np.stack(\n",
    "        cat['MAG_APER_3_0'][np.where(cat['name'] == tile)[0]].to_numpy()\n",
    "    ).astype(float).T\n",
    "    mag_err = np.stack(\n",
    "        cat['MAG_ERR_APER_3_0'][np.where(cat['name'] == tile)[0]].to_numpy()\n",
    "    ).astype(float).T\n",
    "\n",
    "    for nb_c in range(60):\n",
    "        mask = (mag[nb_c] < 90) & (mag_err[nb_c] < 90)\n",
    "        p0 = [1., 1., 1.]\n",
    "        p, var = curve_fit(expfit, mag[nb_c, mask], mag_err[nb_c, mask], p0=p0)\n",
    "        err_fit_params.append(p)\n",
    "\n",
    "    params_tiles.append(err_fit_params)"
   ]
  },
  {
   "cell_type": "code",
   "execution_count": null,
   "metadata": {},
   "outputs": [],
   "source": [
    "params_tiles = np.array(params_tiles)\n",
    "params_tiles.shape"
   ]
  },
  {
   "cell_type": "code",
   "execution_count": null,
   "metadata": {},
   "outputs": [],
   "source": [
    "params_tiles = np.median(params_tiles, axis=0)\n",
    "params_tiles.shape"
   ]
  },
  {
   "cell_type": "code",
   "execution_count": null,
   "metadata": {},
   "outputs": [],
   "source": [
    "fig, ax = plt.subplots(figsize=(11, 9))\n",
    "\n",
    "nb_c = 30\n",
    "a = err_fit_params[nb_c][0]\n",
    "b = err_fit_params[nb_c][1]\n",
    "c = err_fit_params[nb_c][2]\n",
    "\n",
    "mask = (mag[nb_c] < 90) & (mag_err[nb_c] < 90)\n",
    "\n",
    "ax.scatter(mag[nb_c, mask], mag_err[nb_c, mask])\n",
    "\n",
    "x_Arr = np.linspace(13, 28, 100)\n",
    "ax.plot(x_Arr, expfit(x_Arr, a, b, c), zorder=99, c='red')\n",
    "\n",
    "ax.set_ylim((0, 20))\n",
    "\n",
    "plt.show()"
   ]
  },
  {
   "cell_type": "code",
   "execution_count": null,
   "metadata": {},
   "outputs": [],
   "source": [
    "np.save('npy/err_fit_params_minijpas', np.array(err_fit_params))"
   ]
  },
  {
   "cell_type": "code",
   "execution_count": null,
   "metadata": {},
   "outputs": [],
   "source": [
    "for i in range(len(err_fit_params)):\n",
    "    a = err_fit_params[i][0]\n",
    "    b = err_fit_params[i][1]\n",
    "    c = err_fit_params[i][2]\n",
    "    print(expfit(24, a, b, c))"
   ]
  }
 ],
 "metadata": {
  "interpreter": {
   "hash": "7575b0615c19929a6803b70fb96802dc113bd8069c0dbfa1f636b20d364f1413"
  },
  "kernelspec": {
   "display_name": "Python 3.9.7 64-bit ('py39': conda)",
   "name": "python3"
  },
  "language_info": {
   "codemirror_mode": {
    "name": "ipython",
    "version": 3
   },
   "file_extension": ".py",
   "mimetype": "text/x-python",
   "name": "python",
   "nbconvert_exporter": "python",
   "pygments_lexer": "ipython3",
   "version": "3.9.7"
  },
  "orig_nbformat": 4
 },
 "nbformat": 4,
 "nbformat_minor": 2
}
