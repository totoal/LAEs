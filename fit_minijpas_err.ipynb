{
 "cells": [
  {
   "cell_type": "code",
   "execution_count": null,
   "metadata": {},
   "outputs": [],
   "source": [
    "import numpy as np\n",
    "from my_functions import *\n",
    "import matplotlib.pyplot as plt\n",
    "import pandas as pd\n",
    "from scipy.optimize import curve_fit"
   ]
  },
  {
   "cell_type": "code",
   "execution_count": null,
   "metadata": {},
   "outputs": [],
   "source": [
    "split_converter = lambda s: s.split()\n",
    "sum_flags = lambda s: np.sum(np.array(s.split()).astype(float))\n",
    "tile_name = lambda s: s[:8]\n",
    "\n",
    "cat = pd.read_csv('csv/minijpas.MagAB_aper3_photoz_gaia_4.csv', sep=',', header=1,\n",
    "    converters={2: split_converter, 3: split_converter, 4: sum_flags,\n",
    "    5: sum_flags, 21: tile_name})\n",
    "\n",
    "cat = cat[np.array([len(x) for x in cat['MAG_APER_3_0']]) != 0]\n",
    "cat = cat[np.array(cat['FLAGS']) + np.array(cat['MASK_FLAGS']) == 0] "
   ]
  },
  {
   "cell_type": "code",
   "execution_count": null,
   "metadata": {},
   "outputs": [],
   "source": [
    "cat.shape"
   ]
  },
  {
   "cell_type": "code",
   "execution_count": null,
   "metadata": {},
   "outputs": [],
   "source": [
    "def expfit(x, a, b, c):\n",
    "    return a * np.exp(b * x + c)\n",
    "\n",
    "def linfit(x, a, b):\n",
    "    return a * x + b"
   ]
  },
  {
   "cell_type": "code",
   "execution_count": null,
   "metadata": {},
   "outputs": [],
   "source": [
    "params_tiles = []\n",
    "for tile in ['AEGIS002']:\n",
    "    err_fit_params = []\n",
    "\n",
    "    flx = np.stack(\n",
    "        cat['MAG_APER_3_0'].to_numpy()[np.where(cat['name'] == tile)[0]]\n",
    "    ).astype(float).T\n",
    "    flx_err = np.stack(\n",
    "        cat['MAG_ERR_APER_3_0'].to_numpy()[np.where(cat['name'] == tile)[0]]\n",
    "    ).astype(float).T\n",
    "\n",
    "    for nb_c in range(60):\n",
    "        mask = (flx[nb_c] < 24)\n",
    "        # mask = np.ones(flx[nb_c].shape).astype(bool)\n",
    "        p0 = [1., 1., 1.]\n",
    "        p, var = curve_fit(expfit, flx[nb_c, mask], flx_err[nb_c, mask], p0=p0)\n",
    "        err_fit_params.append(p)\n",
    "\n",
    "    params_tiles.append(err_fit_params)"
   ]
  },
  {
   "cell_type": "code",
   "execution_count": null,
   "metadata": {},
   "outputs": [],
   "source": [
    "fig, ax = plt.subplots(figsize=(7, 6))\n",
    "\n",
    "nb_c = 11\n",
    "a = err_fit_params[nb_c][0]\n",
    "b = err_fit_params[nb_c][1]\n",
    "c = err_fit_params[nb_c][2]\n",
    "\n",
    "mask = (flx[nb_c] < 25)\n",
    "\n",
    "ax.scatter(flx[nb_c, mask], flx_err[nb_c, mask])\n",
    "\n",
    "x_Arr = np.linspace(16, 25, 100)\n",
    "ax.plot(x_Arr, expfit(x_Arr, a, b, c), zorder=99, c='red')\n",
    "\n",
    "ax.set_xlim((17, 25))\n",
    "\n",
    "# ax.set_xscale('log')\n",
    "# ax.set_yscale('log')\n",
    "\n",
    "plt.show()"
   ]
  },
  {
   "cell_type": "code",
   "execution_count": null,
   "metadata": {},
   "outputs": [],
   "source": [
    "np.save('npy/err_fit_params_minijpas', np.array(err_fit_params))"
   ]
  },
  {
   "cell_type": "code",
   "execution_count": null,
   "metadata": {},
   "outputs": [],
   "source": [
    "for i in range(len(err_fit_params)):\n",
    "    a = err_fit_params[i][0]\n",
    "    b = err_fit_params[i][1]\n",
    "    c = err_fit_params[i][2]\n",
    "    print(expfit(24, a, b, c))"
   ]
  }
 ],
 "metadata": {
  "interpreter": {
   "hash": "46cea94afe1f0d88e229837b28e72c2401fa9cb21844b20e15824a5f97d32088"
  },
  "kernelspec": {
   "display_name": "Python 3.9.7 ('py39')",
   "language": "python",
   "name": "python3"
  },
  "language_info": {
   "codemirror_mode": {
    "name": "ipython",
    "version": 3
   },
   "file_extension": ".py",
   "mimetype": "text/x-python",
   "name": "python",
   "nbconvert_exporter": "python",
   "pygments_lexer": "ipython3",
   "version": "3.9.7"
  },
  "orig_nbformat": 4
 },
 "nbformat": 4,
 "nbformat_minor": 2
}
