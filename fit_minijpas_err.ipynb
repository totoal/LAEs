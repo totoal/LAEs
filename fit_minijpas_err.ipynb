{
 "cells": [
  {
   "cell_type": "code",
   "execution_count": null,
   "metadata": {},
   "outputs": [],
   "source": [
    "import numpy as np\n",
    "from my_functions import *\n",
    "import matplotlib.pyplot as plt\n",
    "import pandas as pd"
   ]
  },
  {
   "cell_type": "code",
   "execution_count": null,
   "metadata": {},
   "outputs": [],
   "source": [
    "split_converter = lambda s: s.split()\n",
    "sum_flags = lambda s: np.sum(np.array(s.split()).astype(float))\n",
    "tile_name = lambda s: s[:8]\n",
    "\n",
    "cat = pd.read_csv('csv/minijpas.Flambda_photoz_gaia_2.csv', sep=',', header=1,\n",
    "    converters={0: tile_name, 1: split_converter, 2: split_converter, 3: sum_flags,\n",
    "    4: sum_flags})\n",
    "\n",
    "cat = cat[np.array([len(x) for x in cat['FLUX_AUTO']]) != 0]"
   ]
  },
  {
   "cell_type": "code",
   "execution_count": null,
   "metadata": {},
   "outputs": [],
   "source": [
    "params_tiles = []\n",
    "for tile in ['AEGIS001', 'AEGIS002', 'AEGIS003', 'AEGIS004']:\n",
    "    err_fit_params = []\n",
    "\n",
    "    pm_flx = np.stack(\n",
    "        cat['FLUX_AUTO'][np.where(cat['name'] == tile)[0]].to_numpy()\n",
    "    ).astype(float).T * 1e-19\n",
    "    pm_err = np.stack(\n",
    "        cat['FLUX_RELERR_AUTO'][np.where(cat['name'] == tile)[0]].to_numpy()\n",
    "    ).astype(float).T\n",
    "\n",
    "    for nb_c in range(60):\n",
    "        mask = (pm_flx[nb_c] > 0) & (pm_err[nb_c] > 0)\n",
    "        err_fit_params.append(\n",
    "            np.polyfit(np.log10(pm_flx[nb_c, mask]), np.log10(pm_err[nb_c, mask]), 2)\n",
    "        )\n",
    "    params_tiles.append(err_fit_params)"
   ]
  },
  {
   "cell_type": "code",
   "execution_count": null,
   "metadata": {},
   "outputs": [],
   "source": [
    "tiles = ['AEGIS001', 'AEGIS002', 'AEGIS003', 'AEGIS004']\n",
    "for i in range(4):\n",
    "    tile = tiles[i]\n",
    "    pm_flx = np.stack(\n",
    "        cat['FLUX_AUTO'][np.where(cat['name'] == tile)[0]].to_numpy()\n",
    "    ).astype(float).T * 1e-19\n",
    "    pm_err = np.stack(\n",
    "        cat['FLUX_RELERR_AUTO'][np.where(cat['name'] == tile)[0]].to_numpy()\n",
    "    ).astype(float).T\n",
    "\n",
    "    fig, ax = plt.subplots(figsize=(11, 9))\n",
    "\n",
    "    nb_c = 12\n",
    "    a = params_tiles[i][nb_c][0]\n",
    "    b = params_tiles[i][nb_c][1]\n",
    "    c = params_tiles[i][nb_c][2]\n",
    "\n",
    "    ax.scatter(np.log10(pm_flx[nb_c]), np.log10(pm_err[nb_c]))\n",
    "    x_Arr = np.linspace(-23, -14, 100)\n",
    "    ax.plot(x_Arr, a * x_Arr**2 + b * x_Arr + c, c='C1')\n",
    "\n",
    "    plt.show()"
   ]
  },
  {
   "cell_type": "code",
   "execution_count": null,
   "metadata": {},
   "outputs": [],
   "source": [
    "np.save('npy/err_fit_params_minijpas', np.array(err_fit_params))"
   ]
  }
 ],
 "metadata": {
  "interpreter": {
   "hash": "46cea94afe1f0d88e229837b28e72c2401fa9cb21844b20e15824a5f97d32088"
  },
  "kernelspec": {
   "display_name": "Python 3.9.7 64-bit ('py39': conda)",
   "name": "python3"
  },
  "language_info": {
   "codemirror_mode": {
    "name": "ipython",
    "version": 3
   },
   "file_extension": ".py",
   "mimetype": "text/x-python",
   "name": "python",
   "nbconvert_exporter": "python",
   "pygments_lexer": "ipython3",
   "version": "3.9.7"
  },
  "orig_nbformat": 4
 },
 "nbformat": 4,
 "nbformat_minor": 2
}
