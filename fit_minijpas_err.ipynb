{
 "cells": [
  {
   "cell_type": "code",
   "execution_count": null,
   "source": [
    "import numpy as np\n",
    "from my_functions import *\n",
    "import matplotlib.pyplot as plt\n",
    "import pickle as pkl"
   ],
   "outputs": [],
   "metadata": {}
  },
  {
   "cell_type": "code",
   "execution_count": null,
   "source": [
    "## Load the catalog\n",
    "with open('pkl/cat_flambda_photoz_gaia.pkl', 'rb') as file:\n",
    "    cat = pkl.load(file)"
   ],
   "outputs": [],
   "metadata": {}
  },
  {
   "cell_type": "code",
   "execution_count": null,
   "source": [
    "pm_flx = cat['flx'].T * 1e-19\n",
    "pm_err = cat['flx_err'].T"
   ],
   "outputs": [],
   "metadata": {}
  },
  {
   "cell_type": "code",
   "execution_count": null,
   "source": [
    "nb_c = 11\n",
    "\n",
    "mask = (pm_flx[nb_c] > 0) & (pm_err[nb_c] > 0)"
   ],
   "outputs": [],
   "metadata": {}
  },
  {
   "cell_type": "code",
   "execution_count": null,
   "source": [
    "m, b = np.polyfit(np.log10(pm_flx[nb_c, mask]), np.log10(pm_err[nb_c, mask]), 1)"
   ],
   "outputs": [],
   "metadata": {}
  },
  {
   "cell_type": "code",
   "execution_count": null,
   "source": [
    "fig, ax = plt.subplots(figsize=(11, 9))\n",
    "\n",
    "ax.scatter(np.log10(pm_flx[nb_c]), np.log10(pm_err[nb_c]))\n",
    "x_Arr = np.linspace(-22, -14, 100)\n",
    "ax.plot(x_Arr, b + m*x_Arr, c='C1')\n",
    "\n",
    "plt.show()"
   ],
   "outputs": [],
   "metadata": {}
  },
  {
   "cell_type": "code",
   "execution_count": null,
   "source": [
    "m, b"
   ],
   "outputs": [],
   "metadata": {}
  }
 ],
 "metadata": {
  "orig_nbformat": 4,
  "language_info": {
   "name": "python",
   "version": "3.9.7",
   "mimetype": "text/x-python",
   "codemirror_mode": {
    "name": "ipython",
    "version": 3
   },
   "pygments_lexer": "ipython3",
   "nbconvert_exporter": "python",
   "file_extension": ".py"
  },
  "kernelspec": {
   "name": "python3",
   "display_name": "Python 3.9.7 64-bit ('py39': conda)"
  },
  "interpreter": {
   "hash": "7575b0615c19929a6803b70fb96802dc113bd8069c0dbfa1f636b20d364f1413"
  }
 },
 "nbformat": 4,
 "nbformat_minor": 2
}