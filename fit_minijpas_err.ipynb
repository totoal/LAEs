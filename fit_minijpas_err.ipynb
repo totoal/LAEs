{
 "cells": [
  {
   "cell_type": "code",
   "execution_count": null,
   "metadata": {},
   "outputs": [],
   "source": [
    "import numpy as np\n",
    "from my_functions import *\n",
    "import matplotlib.pyplot as plt\n",
    "import pickle as pkl"
   ]
  },
  {
   "cell_type": "code",
   "execution_count": null,
   "metadata": {},
   "outputs": [],
   "source": [
    "## Load the catalog\n",
    "with open('pkl/cat_flambda_photoz_gaia.pkl', 'rb') as file:\n",
    "    cat = pkl.load(file)"
   ]
  },
  {
   "cell_type": "code",
   "execution_count": null,
   "metadata": {},
   "outputs": [],
   "source": [
    "pm_flx = cat['flx'].T * 1e-19\n",
    "pm_err = cat['flx_err'].T"
   ]
  },
  {
   "cell_type": "code",
   "execution_count": null,
   "metadata": {},
   "outputs": [],
   "source": [
    "err_fit_params = []\n",
    "for nb_c in range(60):\n",
    "    mask = (pm_flx[nb_c] > 0) & (pm_err[nb_c] > 0)\n",
    "    err_fit_params.append(\n",
    "        np.polyfit(np.log10(pm_flx[nb_c, mask]), np.log10(pm_err[nb_c, mask]), 1)\n",
    "    )"
   ]
  },
  {
   "cell_type": "code",
   "execution_count": null,
   "metadata": {},
   "outputs": [],
   "source": [
    "fig, ax = plt.subplots(figsize=(11, 9))\n",
    "\n",
    "nb_c = 12\n",
    "m = err_fit_params[nb_c][0]\n",
    "b = err_fit_params[nb_c][1]\n",
    "\n",
    "ax.scatter(np.log10(np.abs(pm_flx[nb_c])), np.log10(np.abs(pm_err[nb_c])))\n",
    "x_Arr = np.linspace(-22, -14, 100)\n",
    "ax.plot(x_Arr, b + m*x_Arr, c='C1')\n",
    "\n",
    "plt.show()"
   ]
  },
  {
   "cell_type": "code",
   "execution_count": null,
   "metadata": {},
   "outputs": [],
   "source": [
    "np.save('npy/err_fit_params_minijpas', np.array(err_fit_params))"
   ]
  }
 ],
 "metadata": {
  "interpreter": {
   "hash": "46cea94afe1f0d88e229837b28e72c2401fa9cb21844b20e15824a5f97d32088"
  },
  "kernelspec": {
   "display_name": "Python 3.9.7 64-bit ('py39': conda)",
   "name": "python3"
  },
  "language_info": {
   "codemirror_mode": {
    "name": "ipython",
    "version": 3
   },
   "file_extension": ".py",
   "mimetype": "text/x-python",
   "name": "python",
   "nbconvert_exporter": "python",
   "pygments_lexer": "ipython3",
   "version": "3.9.7"
  },
  "orig_nbformat": 4
 },
 "nbformat": 4,
 "nbformat_minor": 2
}
