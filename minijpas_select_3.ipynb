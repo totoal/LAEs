{
 "cells": [
  {
   "cell_type": "code",
   "execution_count": null,
   "metadata": {},
   "outputs": [],
   "source": [
    "import numpy as np\n",
    "\n",
    "import matplotlib.pyplot as plt\n",
    "import matplotlib\n",
    "matplotlib.rcParams.update({'font.size': 12})\n",
    "\n",
    "from my_functions import *\n",
    "from load_jpas_catalogs import load_minijpas_jnep\n",
    "\n",
    "from scipy.stats import binned_statistic"
   ]
  },
  {
   "cell_type": "code",
   "execution_count": null,
   "metadata": {},
   "outputs": [],
   "source": [
    "w_central = central_wavelength()\n",
    "nb_fwhm_Arr = nb_fwhm(range(60))"
   ]
  },
  {
   "cell_type": "code",
   "execution_count": null,
   "metadata": {},
   "outputs": [],
   "source": [
    "pm_flx, pm_err, tile_id, pmra_sn, pmdec_sn, parallax_sn, starprob, _,\\\n",
    "        spCl, zsp, _, _, _, N_minijpas, x_im, y_im,\\\n",
    "                ra, dec = load_minijpas_jnep(['minijpas', 'jnep'])\n",
    "mag = flux_to_mag(pm_flx[-2], w_central[-2])\n",
    "mask_pm = mask_proper_motion(parallax_sn, pmra_sn, pmdec_sn)"
   ]
  },
  {
   "cell_type": "code",
   "execution_count": null,
   "metadata": {},
   "outputs": [],
   "source": [
    "N_sources = len(tile_id)\n",
    "is_minijpas_source = np.ones(N_sources).astype(bool)\n",
    "is_minijpas_source[N_minijpas:] = False"
   ]
  },
  {
   "cell_type": "code",
   "execution_count": null,
   "metadata": {},
   "outputs": [],
   "source": [
    "w_lya = 1215.67 # A\n",
    "\n",
    "z_nb_Arr = w_central[:-4] / w_lya - 1\n",
    "print(N_sources)"
   ]
  },
  {
   "cell_type": "code",
   "execution_count": null,
   "metadata": {},
   "outputs": [],
   "source": [
    "from minijpas_LF_and_puricomp import nb_or_3fm_cont\n",
    "\n",
    "ew0_cut = 30\n",
    "ew_oth = 100\n",
    "cont_est_m = 'nb'\n",
    "\n",
    "cont_est_lya, cont_err_lya, cont_est_other, cont_err_other =\\\n",
    "    nb_or_3fm_cont(pm_flx, pm_err, cont_est_m)\n",
    "\n",
    "# Lya search\n",
    "line = is_there_line(pm_flx, pm_err, cont_est_lya,\n",
    "                        cont_err_lya, ew0_cut)\n",
    "lya_lines, lya_cont_lines, _ = identify_lines(\n",
    "    line, pm_flx, cont_est_lya, first=True, return_line_width=True\n",
    ")\n",
    "lya_lines = np.array(lya_lines)\n",
    "\n",
    "# Other lines\n",
    "line_other = is_there_line(pm_flx, pm_err, cont_est_other, cont_err_other,\n",
    "                            ew_oth, obs=True, sigma=5)\n",
    "other_lines = identify_lines(line_other, pm_flx, cont_est_other)"
   ]
  },
  {
   "cell_type": "code",
   "execution_count": null,
   "metadata": {},
   "outputs": [],
   "source": [
    "mag_min = 17\n",
    "mag_max = 24\n",
    "\n",
    "nb_min, nb_max = 1, 20\n",
    "\n",
    "mag_cut = (mag > mag_min) & (mag < mag_max)\n",
    "\n",
    "z_Arr = np.zeros(N_sources)\n",
    "z_Arr[np.where(np.array(lya_lines) != -1)] =\\\n",
    "    z_NB(np.array(lya_cont_lines)[np.where(np.array(lya_lines) != -1)])\n",
    "\n",
    "snr = np.empty(N_sources)\n",
    "for src in range(N_sources):\n",
    "    l = lya_lines[src]\n",
    "    snr[src] = pm_flx[l, src] / pm_err[l, src]\n",
    "\n",
    "# Drop bad NB image rows\n",
    "bad_NB_image = np.array([4380, 30395, 30513, 30977, 40306, 43721, 11771, 2583])\n",
    "mask_bad_NB = np.ones(N_sources).astype(bool)\n",
    "for bad_nb_src in bad_NB_image:\n",
    "    mask_bad_NB[bad_nb_src] = False\n",
    "\n",
    "mask_snr = (snr > 6)\n",
    "lya_lines_mask = (lya_lines >= nb_min) & (lya_lines <= nb_max)\n",
    "mask = (lya_lines_mask & mag_cut & mask_snr & mask_bad_NB & mask_pm)\n",
    "\n",
    "nice_lya_raw, c_mask, ml_mask = nice_lya_select(\n",
    "    lya_lines, other_lines, pm_flx, pm_err, cont_est_lya, z_Arr,\n",
    "    return_color_mask=True\n",
    ")\n",
    "nice_lya_raw = lya_lines_mask & nice_lya_raw & mask_bad_NB & mag_cut\n",
    "nice_lya = nice_lya_raw & mask & c_mask & ml_mask\n",
    "sum(nice_lya)"
   ]
  },
  {
   "cell_type": "code",
   "execution_count": null,
   "metadata": {},
   "outputs": [],
   "source": [
    "EW_nb_Arr, EW_nb_e, L_Arr, L_e_Arr, flambda, flambda_e = EW_L_NB(\n",
    "    pm_flx, pm_err, cont_est_lya, cont_err_lya, z_Arr, lya_lines, N_nb=0\n",
    ")"
   ]
  },
  {
   "cell_type": "code",
   "execution_count": null,
   "metadata": {},
   "outputs": [],
   "source": [
    "L_binning = np.load('npy/L_nb_err_binning.npy')\n",
    "L_Lbin_err = np.load('npy/L_nb_err.npy')\n",
    "median_L = np.load('npy/L_bias.npy')\n",
    "\n",
    "# Apply bin err\n",
    "L_binning_position = binned_statistic(\n",
    "        10 ** L_Arr, None, 'count', bins=L_binning\n",
    ").binnumber\n",
    "L_binning_position[L_binning_position > len(L_binning) - 2] = len(L_binning) - 2\n",
    "L_e_Arr = L_Lbin_err[L_binning_position]\n",
    "\n",
    "L_bin_c = [L_binning[i : i + 1].sum() * 0.5 for i in range(len(L_binning) - 1)]\n",
    "\n",
    "# Correct L_Arr with the median\n",
    "L_Arr =  np.log10(10 ** L_Arr - np.interp(10 ** L_Arr, L_bin_c, median_L))"
   ]
  },
  {
   "cell_type": "code",
   "execution_count": null,
   "metadata": {},
   "outputs": [],
   "source": [
    "fig, ax = plt.subplots(figsize=(7, 6))\n",
    "\n",
    "ax.hist(starprob[nice_lya], 40)\n",
    "\n",
    "ax.set_xlabel('p(star)', fontsize=15)\n",
    "ax.set_ylabel('N', fontsize=15)\n",
    "\n",
    "plt.show()"
   ]
  },
  {
   "cell_type": "code",
   "execution_count": null,
   "metadata": {},
   "outputs": [],
   "source": [
    "nice_z = (np.abs(z_Arr - zsp) < 0.2)\n",
    "\n",
    "print('{} candidates'.format(count_true(nice_lya)))\n",
    "print('{} QSO ({} w/ right z)'.format(count_true(spCl[nice_lya] == 'QSO'), count_true((spCl[nice_lya] == 'QSO') & nice_z[nice_lya])))\n",
    "print('{} GALAXY ({} w/ right z)'.format(count_true(spCl[nice_lya] == 'GALAXY'), count_true((spCl[nice_lya] == 'GALAXY') & nice_z[nice_lya])))\n",
    "print('{} No SDSS counterpart'.format(count_true(spCl[nice_lya].astype(str) == 'nan')))\n",
    "print('{} SDSS QSOs with z > 2'.format(sum(zsp > 2)))\n",
    "\n",
    "fig, ax = plt.subplots(figsize=(7, 3))\n",
    "\n",
    "ax.scatter(zsp[nice_lya], z_Arr[nice_lya], c='k')\n",
    "\n",
    "ax.set_xlabel('SDSS z$_\\mathrm{spec}$', fontsize=15)\n",
    "ax.set_ylabel('NB z', fontsize=15)\n",
    "\n",
    "plt.show()"
   ]
  },
  {
   "cell_type": "code",
   "execution_count": null,
   "metadata": {},
   "outputs": [],
   "source": [
    "def nanomaggie_to_flux(nmagg, wavelength):\n",
    "    mAB = -2.5 * np.log10(nmagg * 1e-9)\n",
    "    flx = mag_to_flux(mAB, wavelength)\n",
    "    return flx\n",
    "\n",
    "tile_id, number = load_minijpas_jnep(selection=True)[4:6]\n"
   ]
  },
  {
   "cell_type": "code",
   "execution_count": null,
   "metadata": {},
   "outputs": [],
   "source": [
    "from visual_inspection import load_sdss_xmatch\n",
    "sdss_xm_num, sdss_xm_tid, sdss_xm_spObjID, f_zsp, xm_zsp = load_sdss_xmatch() \n",
    "\n",
    "nice_xm = np.zeros_like(xm_zsp).astype(bool)\n",
    "for i in range(len(sdss_xm_num)):\n",
    "    try:\n",
    "        mj_src = np.where((number == sdss_xm_num[i]) & (tile_id == sdss_xm_tid[i]))[0][0]\n",
    "    except:\n",
    "        continue\n",
    "    nice_xm[i] = nice_lya[mj_src]\n",
    "\n",
    "Lya_fts = pd.read_csv('csv/Lya_fts_DR16_v2.csv')\n",
    "\n",
    "L_lya =  np.zeros_like(f_zsp)\n",
    "for i, this_spObjID in enumerate(sdss_xm_spObjID):\n",
    "    if this_spObjID == 0:\n",
    "        continue\n",
    "    # Disgregate SpObjID in mjd, tile, fiber\n",
    "    spObj_binary = np.binary_repr(this_spObjID)\n",
    "    plate = int(spObj_binary[::-1][50:64][::-1], 2)\n",
    "    mjd = int(spObj_binary[::-1][24:38][::-1], 2) + 50000\n",
    "    fiber = int(spObj_binary[::-1][38:50][::-1], 2)\n",
    "\n",
    "    wh_in_fts = np.where((plate == Lya_fts['plate'])\n",
    "                         & (mjd == Lya_fts['mjd'])\n",
    "                         & (fiber == Lya_fts['fiberid']))[0]\n",
    "    if len(wh_in_fts) == 0:\n",
    "        continue\n",
    "\n",
    "    F_line = np.array(Lya_fts['LyaF'])[wh_in_fts] * 1e-17\n",
    "    z = Lya_fts['Lya_z'].to_numpy().flatten()[wh_in_fts]\n",
    "    dL = cosmo.luminosity_distance(z).to(u.cm).value\n",
    "    L = np.log10(F_line * 4*np.pi * dL ** 2)\n",
    "\n",
    "    L_lya[i] = L"
   ]
  },
  {
   "cell_type": "code",
   "execution_count": null,
   "metadata": {},
   "outputs": [],
   "source": [
    "fig, ax = plt.subplots(figsize=(5, 4))\n",
    "\n",
    "mask = (f_zsp == 0)\n",
    "\n",
    "ax.plot(xm_zsp[nice_xm & mask], L_lya[nice_xm & mask], ls='', marker='.',\n",
    "        markersize=10, c='g')\n",
    "ax.plot(xm_zsp[~nice_xm & mask], L_lya[~nice_xm & mask], ls='', marker='.',\n",
    "        markersize=10, c='r')\n",
    "\n",
    "ax.set_ylim(42, 47.1)\n",
    "ax.set_xlim(1.8, 4)\n",
    "\n",
    "plt.show()"
   ]
  },
  {
   "cell_type": "code",
   "execution_count": null,
   "metadata": {},
   "outputs": [],
   "source": [
    "L_lya_min = 44\n",
    "z_min = 2.1\n",
    "print(sum((xm_zsp > z_min) & (xm_zsp < 4) & (f_zsp == 0) & (L_lya > L_lya_min)), '\\n')\n",
    "\n",
    "# Directory of the spectra .fits files\n",
    "fits_dir = '/home/alberto/almacen/SDSS_spectra_fits/miniJPAS_Xmatch'\n",
    "\n",
    "wh = (zsp > 2.1) & (zsp < 4) & nice_lya\n",
    "print(sum(wh))\n",
    "count = 0\n",
    "for src in np.where(wh)[0]:\n",
    "    sdss_src = (number[src] == sdss_xm_num) & (tile_id[src] == sdss_xm_tid)\n",
    "    this_spObjID = sdss_xm_spObjID.to_numpy()[sdss_src][0]\n",
    "    zw = f_zsp[sdss_src].to_numpy().astype(int)[0]\n",
    "    if zw > 0 or L_lya[sdss_src] <= L_lya_min:\n",
    "        continue\n",
    "    else:\n",
    "        count += 1\n",
    "    # Disgregate SpObjID in mjd, tile, fiber\n",
    "    spObj_binary = np.binary_repr(this_spObjID)\n",
    "    plate = int(spObj_binary[::-1][50:64][::-1], 2)\n",
    "    mjd = int(spObj_binary[::-1][24:38][::-1], 2) + 50000\n",
    "    fiber = int(spObj_binary[::-1][38:50][::-1], 2)\n",
    "\n",
    "    spec_name = f'spec-{plate:04d}-{mjd:05d}-{fiber:04d}.fits'\n",
    "    print(spec_name)\n",
    "    print(f'Selected: {nice_lya[src]}, zspec = {zsp[src]:0.2f}, Z_WARNINGS = {zw}')\n",
    "    print(f'ML = {ml_mask[src]}, Color = {c_mask[src]}, S/N = {mask_snr[src]} ({snr[src]:0.2f})')\n",
    "    print(f'L_lya = {L_lya[sdss_src][0]:0.2f}')\n",
    "    spec_bool = True\n",
    "    spec = Table.read(f'{fits_dir}/{spec_name}', hdu=1, format='fits')\n",
    "    g_band = Table.read(f'{fits_dir}/{spec_name}', hdu=2, format='fits')['SPECTROFLUX']\n",
    "    g_band = nanomaggie_to_flux(np.array(g_band)[0][1], 4750)\n",
    "\n",
    "    fig = plt.figure(figsize=(7, 3))\n",
    "\n",
    "    if g_band is not None and spec is not None:\n",
    "        # Normalizing factor:\n",
    "        norm = pm_flx[-3, src] / g_band\n",
    "        spec_flx = spec['FLUX'] * norm\n",
    "        spec_w = 10 ** spec['LOGLAM']\n",
    "\n",
    "        ax = plot_JPAS_source(pm_flx[:, src], pm_err[:, src], e17scale=True)\n",
    "        ax.plot(spec_w, spec_flx, c='dimgray', zorder=-99, alpha=0.7)\n",
    "    \n",
    "    if lya_lines[src] > 0:\n",
    "        ax.axvline(w_central[lya_lines[src]], c='r', ls='--')\n",
    "    \n",
    "    plt.show()\n",
    "print(count)"
   ]
  }
 ],
 "metadata": {
  "interpreter": {
   "hash": "ade4bca3e0042e0da78fecdb82351169c0f2ccedb06a0d7cf7342df8f7e47af7"
  },
  "kernelspec": {
   "display_name": "Python 3.9.12 ('base')",
   "language": "python",
   "name": "python3"
  },
  "language_info": {
   "codemirror_mode": {
    "name": "ipython",
    "version": 3
   },
   "file_extension": ".py",
   "mimetype": "text/x-python",
   "name": "python",
   "nbconvert_exporter": "python",
   "pygments_lexer": "ipython3",
   "version": "3.9.13"
  }
 },
 "nbformat": 4,
 "nbformat_minor": 2
}
