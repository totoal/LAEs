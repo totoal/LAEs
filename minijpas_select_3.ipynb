{
 "cells": [
  {
   "cell_type": "code",
   "execution_count": null,
   "metadata": {},
   "outputs": [],
   "source": [
    "import numpy as np\n",
    "\n",
    "import matplotlib.pyplot as plt\n",
    "import matplotlib\n",
    "matplotlib.rcParams.update({'font.size': 12})\n",
    "\n",
    "from my_functions import *\n",
    "from load_jpas_catalogs import load_minijpas_jnep\n",
    "\n",
    "from scipy.stats import binned_statistic"
   ]
  },
  {
   "cell_type": "code",
   "execution_count": null,
   "metadata": {},
   "outputs": [],
   "source": [
    "w_central = central_wavelength()\n",
    "nb_fwhm_Arr = nb_fwhm(range(60))"
   ]
  },
  {
   "cell_type": "code",
   "execution_count": null,
   "metadata": {},
   "outputs": [],
   "source": [
    "pm_flx, pm_err, tile_id, pmra_sn, pmdec_sn, parallax_sn, starprob, starlhood,\\\n",
    "    spCl, zsp, photoz, photoz_chi_best, photoz_odds, N_minijpas, _, _ = load_minijpas_jnep()\n",
    "\n",
    "N_sources = pm_flx.shape[1]\n",
    "is_minijpas_source = np.ones(N_sources).astype(bool)\n",
    "is_minijpas_source[N_minijpas:] = False"
   ]
  },
  {
   "cell_type": "code",
   "execution_count": null,
   "metadata": {},
   "outputs": [],
   "source": [
    "mag = flux_to_mag(pm_flx[-2], w_central[-2])"
   ]
  },
  {
   "cell_type": "code",
   "execution_count": null,
   "metadata": {},
   "outputs": [],
   "source": [
    "w_lya = 1215.67 # A\n",
    "\n",
    "z_nb_Arr = w_central[:-4] / w_lya - 1\n",
    "print(N_sources)"
   ]
  },
  {
   "cell_type": "code",
   "execution_count": null,
   "metadata": {},
   "outputs": [],
   "source": []
  },
  {
   "cell_type": "code",
   "execution_count": null,
   "metadata": {},
   "outputs": [],
   "source": [
    "pm_mask = mask_proper_motion(parallax_sn, pmra_sn, pmdec_sn)\n",
    "mag_mask = (mag > 17) & (mag < 24)\n",
    "\n",
    "mask = pm_mask & mag_mask"
   ]
  },
  {
   "cell_type": "code",
   "execution_count": null,
   "metadata": {},
   "outputs": [],
   "source": [
    "print(f'miniJPAS: {count_true(is_minijpas_source & mask)}')\n",
    "print(f'J-NEP: {count_true(~is_minijpas_source & mask)}')\n",
    "print(f'Total: {count_true(mask)}')"
   ]
  },
  {
   "cell_type": "code",
   "execution_count": null,
   "metadata": {},
   "outputs": [],
   "source": [
    "ew0_cut = 30\n",
    "\n",
    "# Lya search\n",
    "cont_est_lya, cont_err_lya = estimate_continuum(pm_flx, pm_err, IGM_T_correct=True)\n",
    "line = is_there_line(pm_flx, pm_err, cont_est_lya, cont_err_lya, ew0_cut, mask=mask)\n",
    "lya_lines, lya_cont_lines, line_widths = identify_lines(\n",
    "    line, pm_flx, pm_err, first=True, return_line_width=True\n",
    ")\n",
    "lya_lines = np.array(lya_lines)\n",
    "\n",
    "# Other lines\n",
    "cont_est_other, cont_err_other = estimate_continuum(pm_flx, pm_err, IGM_T_correct=False)\n",
    "line_other = is_there_line(pm_flx, pm_err, cont_est_other, cont_err_other,\n",
    "    400, obs=True, mask=mask)\n",
    "other_lines = identify_lines(line_other, pm_flx, pm_err)"
   ]
  },
  {
   "cell_type": "code",
   "execution_count": null,
   "metadata": {},
   "outputs": [],
   "source": [
    "mag_min = 17\n",
    "mag_max = 24\n",
    "\n",
    "# Used later!!\n",
    "L_min = 40\n",
    "L_max = 50\n",
    "\n",
    "mag_cut = (mag > mag_min) & (mag < mag_max)\n",
    "\n",
    "z_Arr = np.zeros(N_sources)\n",
    "z_Arr[np.where(np.array(lya_lines) != -1)] =\\\n",
    "    z_NB(np.array(lya_cont_lines)[np.where(np.array(lya_lines) != -1)])\n",
    "\n",
    "##\n",
    "# nb_min = 5\n",
    "# nb_max = 15\n",
    "nb_min = 5\n",
    "nb_max = 20\n",
    "\n",
    "nbs_to_consider = np.arange(nb_min, nb_max + 1)\n",
    "\n",
    "nb_cut = (np.array(lya_lines) >= nb_min) & (np.array(lya_lines) <= nb_max)\n",
    "\n",
    "z_min = (w_central[nb_min] - nb_fwhm_Arr[nb_min] * 0.5)/ w_lya - 1\n",
    "z_max = (w_central[nb_max] + nb_fwhm_Arr[nb_max] * 0.5)/ w_lya - 1\n",
    "\n",
    "z_cut = (z_min < z_Arr) & (z_Arr < z_max)\n",
    "\n",
    "mask = z_cut & mag_cut\n",
    "\n",
    "nice_lya = nice_lya_select(\n",
    "    lya_lines, other_lines, pm_flx, pm_err, cont_est_lya, z_Arr, mask=mask\n",
    ")"
   ]
  },
  {
   "cell_type": "code",
   "execution_count": null,
   "metadata": {},
   "outputs": [],
   "source": [
    "len(np.where(nice_lya)[0])"
   ]
  },
  {
   "cell_type": "code",
   "execution_count": null,
   "metadata": {},
   "outputs": [],
   "source": [
    "EW_nb_Arr, EW_nb_e, L_Arr, L_e_Arr, flambda, flambda_e = EW_L_NB(\n",
    "    pm_flx, pm_err, cont_est_lya, cont_err_lya, z_Arr, lya_lines, N_nb=0\n",
    ")\n",
    "\n",
    "# ML_predict_mask = (mag < 23) & (L_Arr > 0)\n",
    "# L_Arr[ML_predict_mask] = ML_predict_L(\n",
    "#     pm_flx[:, ML_predict_mask], pm_err[:, ML_predict_mask],\n",
    "#     z_Arr[ML_predict_mask], L_Arr[ML_predict_mask], 'RFmag15-23'\n",
    "# )\n",
    "\n",
    "# ML_predict_mask = (mag > 23) & (L_Arr > 0)\n",
    "# L_Arr[ML_predict_mask] = ML_predict_L(\n",
    "#     pm_flx[:, ML_predict_mask], pm_err[:, ML_predict_mask],\n",
    "#     z_Arr[ML_predict_mask], L_Arr[ML_predict_mask], 'RFmag23-23.5'\n",
    "# )"
   ]
  },
  {
   "cell_type": "code",
   "execution_count": null,
   "metadata": {},
   "outputs": [],
   "source": [
    "L_binning = np.load('npy/L_nb_err_binning.npy')\n",
    "L_Lbin_err = np.load('npy/L_nb_err.npy')\n",
    "median_L = np.load('npy/L_bias.npy')\n",
    "\n",
    "# Apply bin err\n",
    "L_binning_position = binned_statistic(\n",
    "        10 ** L_Arr, None, 'count', bins=L_binning\n",
    ").binnumber\n",
    "L_binning_position[L_binning_position > len(L_binning) - 2] = len(L_binning) - 2\n",
    "L_e_Arr = L_Lbin_err[L_binning_position]\n",
    "\n",
    "L_bin_c = [L_binning[i : i + 1].sum() * 0.5 for i in range(len(L_binning) - 1)]\n",
    "\n",
    "# Correct L_Arr with the median\n",
    "L_Arr =  np.log10(10 ** L_Arr - np.interp(10 ** L_Arr, L_bin_c, median_L))"
   ]
  },
  {
   "cell_type": "code",
   "execution_count": null,
   "metadata": {},
   "outputs": [],
   "source": [
    "fig, ax = plt.subplots(figsize=(7, 6))\n",
    "\n",
    "ax.hist(starprob[nice_lya], 40)\n",
    "\n",
    "ax.set_xlabel('p(star)', fontsize=15)\n",
    "ax.set_ylabel('N', fontsize=15)\n",
    "\n",
    "plt.show()"
   ]
  },
  {
   "cell_type": "code",
   "execution_count": null,
   "metadata": {},
   "outputs": [],
   "source": [
    "nice_z = (np.abs(z_Arr - zsp) < 0.2)\n",
    "\n",
    "print('{} candidates'.format(count_true(nice_lya)))\n",
    "print('{} QSO ({} w/ right z)'.format(count_true(spCl[nice_lya] == 'QSO'), count_true((spCl[nice_lya] == 'QSO') & nice_z[nice_lya])))\n",
    "print('{} GALAXY ({} w/ right z)'.format(count_true(spCl[nice_lya] == 'GALAXY'), count_true((spCl[nice_lya] == 'GALAXY') & nice_z[nice_lya])))\n",
    "print('{} No SDSS counterpart'.format(count_true(spCl[nice_lya].astype(str) == 'nan')))\n",
    "\n",
    "fig, ax = plt.subplots(figsize=(7, 3))\n",
    "\n",
    "ax.scatter(zsp[nice_lya], z_Arr[nice_lya], c='k')\n",
    "\n",
    "ax.set_xlabel('SDSS z$_\\mathrm{spec}$', fontsize=15)\n",
    "ax.set_ylabel('NB z', fontsize=15)\n",
    "\n",
    "plt.show()"
   ]
  },
  {
   "cell_type": "code",
   "execution_count": null,
   "metadata": {},
   "outputs": [],
   "source": [
    "fig, ax = plt.subplots(figsize=(10, 8))\n",
    "\n",
    "ax.scatter(photoz, photoz_chi_best)\n",
    "ax.scatter(photoz[nice_lya], photoz_chi_best[nice_lya])\n",
    "where = (np.abs(photoz - zsp) < 0.1)\n",
    "ax.scatter(photoz[where], photoz_chi_best[where])\n",
    "where = (np.abs(photoz - zsp) > 0.3)\n",
    "ax.scatter(photoz[where], photoz_chi_best[where])\n",
    "\n",
    "ax.set_xlim(-0.05, 1.55)\n",
    "ax.set_ylim(2e0, 1e6)\n",
    "ax.set_yscale('log')\n",
    "ax.set_ylabel(r'$\\chi^{2}$', fontsize=15)\n",
    "ax.set_xlabel(r'$z_\\mathrm{phot}$', fontsize=15)\n",
    "\n",
    "plt.show()"
   ]
  },
  {
   "cell_type": "code",
   "execution_count": null,
   "metadata": {},
   "outputs": [],
   "source": [
    "fig, ax = plt.subplots(figsize=(7, 6))\n",
    "\n",
    "ax.scatter(photoz_odds, photoz_chi_best)\n",
    "where = (np.abs(photoz - zsp) < 0.1)\n",
    "ax.scatter(photoz_odds[where], photoz_chi_best[where])\n",
    "where = (np.abs(photoz - zsp) > 0.3)\n",
    "ax.scatter(photoz_odds[where], photoz_chi_best[where])\n",
    "\n",
    "ax.set_ylim(1, 1e6)\n",
    "ax.set_xlim(3e-2, 1.5)\n",
    "ax.set_yscale('log')\n",
    "ax.set_xscale('log')\n",
    "\n",
    "plt.show()"
   ]
  },
  {
   "cell_type": "code",
   "execution_count": null,
   "metadata": {},
   "outputs": [],
   "source": [
    "fig, ax = plt.subplots(figsize=(7, 6))\n",
    "\n",
    "ax.hist(np.log10(photoz_chi_best), np.linspace(-1, 4), log=True, density=True)\n",
    "ax.hist(np.log10(photoz_chi_best[nice_lya]), np.linspace(0, 4), log=True, density=True, alpha=0.6)\n",
    "plt.show()"
   ]
  },
  {
   "cell_type": "code",
   "execution_count": null,
   "metadata": {},
   "outputs": [],
   "source": [
    "count_true((starlhood < 0.1) & (starprob < 0.1))"
   ]
  }
 ],
 "metadata": {
  "interpreter": {
   "hash": "ade4bca3e0042e0da78fecdb82351169c0f2ccedb06a0d7cf7342df8f7e47af7"
  },
  "kernelspec": {
   "display_name": "Python 3.9.12 ('base')",
   "language": "python",
   "name": "python3"
  },
  "language_info": {
   "codemirror_mode": {
    "name": "ipython",
    "version": 3
   },
   "file_extension": ".py",
   "mimetype": "text/x-python",
   "name": "python",
   "nbconvert_exporter": "python",
   "pygments_lexer": "ipython3",
   "version": "3.9.12"
  }
 },
 "nbformat": 4,
 "nbformat_minor": 2
}
