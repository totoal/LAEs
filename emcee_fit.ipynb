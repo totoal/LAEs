{
 "cells": [
  {
   "cell_type": "code",
   "execution_count": null,
   "metadata": {},
   "outputs": [],
   "source": [
    "from minijpas_LF_and_puricomp import effective_volume\n",
    "import pickle\n",
    "import numpy as np\n",
    "import matplotlib.pyplot as plt\n",
    "import emcee\n",
    "from scipy.optimize import minimize\n",
    "import corner\n",
    "from my_functions import schechter"
   ]
  },
  {
   "cell_type": "code",
   "execution_count": null,
   "metadata": {},
   "outputs": [],
   "source": [
    "# My LF\n",
    "\n",
    "nb_min = 1\n",
    "nb_max = 25\n",
    "nbs_list = [[1, 4], [4, 8], [8, 12], [12, 16]]\n",
    "total_volume = effective_volume(nb_min, nb_max, 'both')\n",
    "\n",
    "for i, [nb1, nb2] in enumerate(nbs_list):\n",
    "    pathname = f'Luminosity_functions/LF_r17-24_nb{nb1}-{nb2}_ew15_ewoth400_nb'\n",
    "    filename = f'{pathname}/LFs.pkl'\n",
    "    with open(filename, 'rb') as file:\n",
    "        this_LF_dict = pickle.load(file)\n",
    "\n",
    "    this_volume = effective_volume(nb1, nb2, 'both')\n",
    "\n",
    "    # In the first iteration of the loop:\n",
    "    if i == 0:\n",
    "        LF_bins = this_LF_dict['LF_bins']\n",
    "        bin_width = np.diff(LF_bins)[0]\n",
    "\n",
    "        this_LF_raw = this_LF_dict['LF_total'] * this_volume * bin_width\n",
    "        LF_raw = this_LF_raw / bin_width\n",
    "        LF_uncorr = this_LF_dict['LF_total_raw'] * this_volume\n",
    "\n",
    "        LF_err = ((np.array(this_LF_dict['LF_total_err']) *\n",
    "                  this_volume * bin_width) ** 2 - this_LF_raw) ** 0.5\n",
    "    # Second iter and further\n",
    "    else:\n",
    "        this_LF_raw = this_LF_dict['LF_total'] * this_volume * bin_width\n",
    "        LF_raw += this_LF_raw / bin_width\n",
    "        LF_err += ((np.array(this_LF_dict['LF_total_err']) *\n",
    "                  this_volume * bin_width) ** 2 - this_LF_raw) ** 0.5\n",
    "        LF_uncorr += this_LF_dict['LF_total_raw'] * this_volume\n",
    "\n",
    "LF_err = np.array(LF_err)\n",
    "LF_err[~np.isfinite(LF_err)] = 0\n",
    "\n",
    "LF_dict = {\n",
    "    'LF_bins': LF_bins,\n",
    "    'LF_total': LF_raw / total_volume,\n",
    "    'LF_total_uncorr': LF_uncorr / total_volume,\n",
    "    'LF_total_err': (LF_err ** 2 + LF_raw * bin_width) ** 0.5 / total_volume / bin_width\n",
    "}\n",
    "\n",
    "LF_phi = LF_dict['LF_total']\n",
    "LF_bin = LF_dict['LF_bins']\n",
    "LF_yerr_minus = LF_dict['LF_total_err'][0]\n",
    "LF_yerr_plus = LF_dict['LF_total_err'][1]\n",
    "LF_xerr = np.ones(LF_dict['LF_total_err'][2].shape) * bin_width * 0.5"
   ]
  },
  {
   "cell_type": "code",
   "execution_count": null,
   "metadata": {},
   "outputs": [],
   "source": [
    "# The fitting surve\n",
    "def sch_fit(Lx, Phistar, Lstar):\n",
    "    return schechter(Lx, 10 ** Phistar, 10 ** Lstar, -1.5) * Lx * np.log(10)"
   ]
  },
  {
   "cell_type": "code",
   "execution_count": null,
   "metadata": {},
   "outputs": [],
   "source": [
    "# Log likelihood:\n",
    "def log_likelihood(theta, x, y, yerr):\n",
    "    Phistar, Lstar, log_f = theta\n",
    "    model = sch_fit(x, Phistar, Lstar)\n",
    "    sigma2 = yerr**2 + model**2 * np.exp(2 * log_f)\n",
    "    return -0.5 * np.sum((y - model) ** 2 / sigma2 + np.log(sigma2))\n",
    "\n",
    "# Two free parameters: Phistar and Lstar\n",
    "# Define the log prior\n",
    "\n",
    "def log_prior(theta):\n",
    "    Phistar, Lstar, log_f = theta\n",
    "    if (-8 < Phistar < -5) and (43 < Lstar < 45) and (-10 < log_f < 4):\n",
    "        return 0.\n",
    "    else:\n",
    "        return -np.inf\n",
    "\n",
    "# Define the log probability\n",
    "\n",
    "def log_probability(theta, Lx, Phi, yerr):\n",
    "    lp = log_prior(theta)\n",
    "    if not np.isfinite(lp):\n",
    "        return -np.inf\n",
    "    return lp + log_likelihood(theta, Lx, Phi, yerr)\n",
    "\n",
    "def nll(*args):\n",
    "    return -log_likelihood(*args)\n"
   ]
  },
  {
   "cell_type": "code",
   "execution_count": null,
   "metadata": {},
   "outputs": [],
   "source": [
    "### PRIOR PARAMETERS ###\n",
    "Phistar0 = -6\n",
    "Lstar0 = 44\n",
    "amplitude = 1e-8\n",
    "########################\n",
    "\n",
    "yerr = LF_yerr_plus\n",
    "yerr[LF_phi == 0] = np.inf\n",
    "\n",
    "initial = [Phistar0, Lstar0, -10]\n",
    "\n",
    "soln = minimize(nll, initial, args=(LF_bins, LF_phi, yerr))\n",
    "print(f'soln = {soln.x}')\n",
    "\n",
    "pos = soln.x + amplitude * np.random.randn(32, 3)\n",
    "nwalkers, ndim = pos.shape\n",
    "\n",
    "sampler = emcee.EnsembleSampler(\n",
    "    nwalkers, ndim, log_probability, args=(LF_bins, LF_phi, yerr)\n",
    ")\n",
    "sampler.run_mcmc(pos, 50000, progress=True);\n",
    "\n",
    "tau = sampler.get_autocorr_time()\n",
    "print(f'Autocorr_time = {tau}')"
   ]
  },
  {
   "cell_type": "code",
   "execution_count": null,
   "metadata": {},
   "outputs": [],
   "source": [
    "flat_samples = sampler.get_chain(discard=100, thin=15, flat=True)\n",
    "print(flat_samples)\n",
    "labels = ['Lstar', 'Phistar', 'log_f']\n",
    "\n",
    "fig = corner.corner(flat_samples, labels=labels)\n",
    "plt.show()"
   ]
  }
 ],
 "metadata": {
  "kernelspec": {
   "display_name": "Python 3.9.13 ('base')",
   "language": "python",
   "name": "python3"
  },
  "language_info": {
   "codemirror_mode": {
    "name": "ipython",
    "version": 3
   },
   "file_extension": ".py",
   "mimetype": "text/x-python",
   "name": "python",
   "nbconvert_exporter": "python",
   "pygments_lexer": "ipython3",
   "version": "3.9.13"
  },
  "orig_nbformat": 4,
  "vscode": {
   "interpreter": {
    "hash": "ade4bca3e0042e0da78fecdb82351169c0f2ccedb06a0d7cf7342df8f7e47af7"
   }
  }
 },
 "nbformat": 4,
 "nbformat_minor": 2
}
