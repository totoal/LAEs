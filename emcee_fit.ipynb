{
 "cells": [
  {
   "cell_type": "code",
   "execution_count": null,
   "metadata": {},
   "outputs": [],
   "source": [
    "from minijpas_LF_and_puricomp import effective_volume\n",
    "import pickle\n",
    "import numpy as np\n",
    "import matplotlib.pyplot as plt\n",
    "import emcee\n",
    "from scipy.optimize import minimize\n",
    "from scipy.stats import multivariate_normal\n",
    "import corner\n",
    "from my_functions import schechter"
   ]
  },
  {
   "cell_type": "code",
   "execution_count": null,
   "metadata": {},
   "outputs": [],
   "source": [
    "%matplotlib inline"
   ]
  },
  {
   "cell_type": "code",
   "execution_count": null,
   "metadata": {},
   "outputs": [],
   "source": [
    "# My LF\n",
    "\n",
    "nb_min = 1\n",
    "nb_max = 25\n",
    "nbs_list = [[1, 4], [4, 8], [8, 12], [12, 16], [16, 20], [20, 24]]\n",
    "total_volume = effective_volume(nb_min, nb_max, 'both')\n",
    "\n",
    "for i, [nb1, nb2] in enumerate(nbs_list):\n",
    "    pathname = f'Luminosity_functions/LF_r17-24_nb{nb1}-{nb2}_ew15_ewoth400_nb'\n",
    "    filename = f'{pathname}/LFs.pkl'\n",
    "    with open(filename, 'rb') as file:\n",
    "        this_LF_dict = pickle.load(file)\n",
    "\n",
    "    this_volume = effective_volume(nb1, nb2, 'both')\n",
    "\n",
    "    # In the first iteration of the loop:\n",
    "    if i == 0:\n",
    "        LF_bins = this_LF_dict['LF_bins']\n",
    "        bin_width = np.diff(LF_bins)[0]\n",
    "\n",
    "        this_LF_raw = this_LF_dict['LF_total'] * this_volume * bin_width\n",
    "        LF_raw = this_LF_raw / bin_width\n",
    "        LF_uncorr = this_LF_dict['LF_total_raw'] * this_volume\n",
    "\n",
    "        LF_err = ((np.array(this_LF_dict['LF_total_err']) *\n",
    "                  this_volume * bin_width) ** 2 - this_LF_raw) ** 0.5\n",
    "    # Second iter and further\n",
    "    else:\n",
    "        this_LF_raw = this_LF_dict['LF_total'] * this_volume * bin_width\n",
    "        LF_raw += this_LF_raw / bin_width\n",
    "        LF_err += ((np.array(this_LF_dict['LF_total_err']) *\n",
    "                  this_volume * bin_width) ** 2 - this_LF_raw) ** 0.5\n",
    "        LF_uncorr += this_LF_dict['LF_total_raw'] * this_volume\n",
    "\n",
    "LF_err = np.array(LF_err)\n",
    "LF_err[~np.isfinite(LF_err)] = 0\n",
    "\n",
    "LF_dict = {\n",
    "    'LF_bins': LF_bins,\n",
    "    'LF_total': LF_raw / total_volume,\n",
    "    'LF_total_uncorr': LF_uncorr / total_volume,\n",
    "    'LF_total_err': (LF_err ** 2 + LF_raw * bin_width) ** 0.5 / total_volume / bin_width\n",
    "}\n",
    "\n",
    "LF_phi = LF_dict['LF_total']\n",
    "LF_bin = LF_dict['LF_bins']\n",
    "LF_yerr_minus = LF_dict['LF_total_err'][0]\n",
    "LF_yerr_plus = LF_dict['LF_total_err'][1]\n",
    "LF_xerr = np.ones(LF_dict['LF_total_err'][2].shape) * bin_width * 0.5"
   ]
  },
  {
   "cell_type": "code",
   "execution_count": null,
   "metadata": {},
   "outputs": [],
   "source": [
    "# The fitting surve\n",
    "def sch_fit(Lx, Phistar, Lstar):\n",
    "    return schechter(Lx, 10 ** Phistar, 10 ** Lstar, -1.5) * Lx * np.log(10)"
   ]
  },
  {
   "cell_type": "code",
   "execution_count": null,
   "metadata": {},
   "outputs": [],
   "source": [
    "def prior_f(theta):\n",
    "    Phistar0 = theta[0]\n",
    "    Lstar0 = theta[1]\n",
    "    Phistar_range = (-8 < Phistar0 < -4)\n",
    "    Lstar_range = (42 < Lstar0 < 47)\n",
    "\n",
    "    if Phistar_range and Lstar_range:\n",
    "        return 0.\n",
    "    else:\n",
    "        return -np.inf\n",
    "\n",
    "def log_likelihood(theta, Lx, Phi, yerr):\n",
    "    Phistar0 = theta[0]\n",
    "    Lstar0 = theta[1]\n",
    "\n",
    "    sigma = yerr ** 2\n",
    "    model_Arr = sch_fit(Lx, Phistar0, Lstar0)\n",
    "\n",
    "    return -0.5 * np.sum((model_Arr - Phi) ** 2 / sigma + np.log(sigma))\n",
    "\n",
    "def log_p(theta, Lx, Phi, yerr):\n",
    "    return log_likelihood(theta, Lx, Phi, yerr) + prior_f(theta)"
   ]
  },
  {
   "cell_type": "code",
   "execution_count": null,
   "metadata": {},
   "outputs": [],
   "source": [
    "## MCMC parameters ##\n",
    "N_walkers = 2000\n",
    "N_steps = 500\n",
    "# N_burn = 100\n",
    "\n",
    "Phistar_min = -7\n",
    "Phistar_max = -5\n",
    "Lstar_min = 43\n",
    "Lstar_max = 45\n",
    "\n",
    "# Error to use\n",
    "yerr = LF_yerr_plus\n",
    "yerr[LF_phi == 0] = np.inf\n",
    "\n",
    "# In which LF bins fit\n",
    "where_fit = np.isfinite(yerr) & (LF_bins > 43.25)\n",
    "\n",
    "theta0 = np.zeros((N_walkers, 2))\n",
    "theta0[:, 0] = np.random.uniform(Phistar_min, Phistar_max, N_walkers)\n",
    "theta0[:, 1] = np.random.uniform(Lstar_min, Lstar_max, N_walkers)\n",
    "\n",
    "args = (10**LF_bins[where_fit], LF_phi[where_fit], yerr[where_fit])\n",
    "\n",
    "# Ensemble the sampler\n",
    "sampler = emcee.EnsembleSampler(N_walkers, 2, log_p, args=args)\n",
    "# Run the MCMC\n",
    "sampler.run_mcmc(theta0, N_steps, progress=True);\n",
    "\n",
    "# print(f'Autocorrelation time: {sampler.get_autocorr_time()}')"
   ]
  },
  {
   "cell_type": "code",
   "execution_count": null,
   "metadata": {},
   "outputs": [],
   "source": [
    "flat_samples = sampler.get_chain(discard=0, thin=15, flat=True)\n",
    "labels = ['Lstar', 'Phistar', 'log_f']\n",
    "\n",
    "[Phistar_fit, Lstar_fit] = np.median(flat_samples, axis=0)\n",
    "print(f'Fit:\\nPhistar = {Phistar_fit}\\nLstar = {Lstar_fit}')\n",
    "\n",
    "fig = corner.corner(flat_samples, labels=labels, truths=[Phistar_fit, Lstar_fit])\n",
    "plt.show()"
   ]
  },
  {
   "cell_type": "code",
   "execution_count": null,
   "metadata": {},
   "outputs": [],
   "source": [
    "fig, ax = plt.subplots(figsize=(5, 4))\n",
    "\n",
    "# My fit\n",
    "Lx = np.logspace(42, 46, 1000)\n",
    "Phi_fit = sch_fit(Lx, Phistar_fit, Lstar_fit)\n",
    "ax.plot(np.log10(Lx), Phi_fit)\n",
    "\n",
    "ax.errorbar(LF_bin[where_fit], LF_phi[where_fit],\n",
    "            yerr=[LF_yerr_minus[where_fit], LF_yerr_plus[where_fit]],\n",
    "            xerr=LF_xerr[where_fit],\n",
    "            fmt='s', color='r', capsize=4, label='My points')\n",
    "ax.errorbar(LF_bin, LF_phi,\n",
    "            yerr=[LF_yerr_minus, LF_yerr_plus],\n",
    "            xerr=LF_xerr, fmt='s', color='r', capsize=4,\n",
    "            markerfacecolor='none', label='My points')\n",
    "\n",
    "ax.set_yscale('log')\n",
    "ax.set_ylim(1e-8, 5e-3)\n",
    "ax.set_xlim(42.5, 45.5)\n",
    "\n",
    "plt.show()"
   ]
  }
 ],
 "metadata": {
  "kernelspec": {
   "display_name": "Python 3.9.13 ('base')",
   "language": "python",
   "name": "python3"
  },
  "language_info": {
   "codemirror_mode": {
    "name": "ipython",
    "version": 3
   },
   "file_extension": ".py",
   "mimetype": "text/x-python",
   "name": "python",
   "nbconvert_exporter": "python",
   "pygments_lexer": "ipython3",
   "version": "3.9.13"
  },
  "orig_nbformat": 4,
  "vscode": {
   "interpreter": {
    "hash": "ade4bca3e0042e0da78fecdb82351169c0f2ccedb06a0d7cf7342df8f7e47af7"
   }
  }
 },
 "nbformat": 4,
 "nbformat_minor": 2
}
