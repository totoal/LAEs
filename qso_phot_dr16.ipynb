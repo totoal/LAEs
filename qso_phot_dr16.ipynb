{
 "cells": [
  {
   "cell_type": "code",
   "execution_count": 7,
   "metadata": {},
   "outputs": [],
   "source": [
    "from astropy.io import fits\n",
    "from astropy.table import Table\n",
    "import pandas as pd\n",
    "import numpy as np\n",
    "from my_functions import *"
   ]
  },
  {
   "cell_type": "code",
   "execution_count": 8,
   "metadata": {},
   "outputs": [],
   "source": [
    "tcurves = load_tcurves(load_filter_tags())"
   ]
  },
  {
   "cell_type": "code",
   "execution_count": 2,
   "metadata": {},
   "outputs": [],
   "source": [
    "filename = '/home/alberto/almacen/SDSS_spectra_fits/DR16/DR16Q_Superset_v3.fits'\n",
    "with fits.open(filename) as fread:\n",
    "    # Criteria in Queiroz et al. 2022\n",
    "    good_qso = (\n",
    "        (fread[1].data['ZWARNING'] == 0)\n",
    "        & (fread[1].data['SN_MEDIAN_ALL'] > 0)\n",
    "        & (fread[1].data['Z_CONF'] == 3)\n",
    "        & ((fread[1].data['CLASS_PERSON'] == 3) | (fread[1].data['CLASS_PERSON'] == 30))\n",
    "    )\n",
    "\n",
    "    plate = fread[1].data['PLATE'][good_qso]\n",
    "    mjd = fread[1].data['MJD'][good_qso]\n",
    "    fiber = fread[1].data['FIBERID'][good_qso]"
   ]
  },
  {
   "cell_type": "code",
   "execution_count": 6,
   "metadata": {},
   "outputs": [],
   "source": [
    "def JPAS_synth_phot(SEDs, w_Arr, tcurves, which_filters=[]):\n",
    "    phot_len = len(tcurves['tag'])\n",
    "    pm = np.zeros(phot_len)    \n",
    "\n",
    "    if len(which_filters) == 0:\n",
    "        which_filters = np.arange(phot_len)\n",
    "\n",
    "    for fil in which_filters:\n",
    "        w = np.array(tcurves['w'][fil])\n",
    "        t = np.array(tcurves['t'][fil])\n",
    "\n",
    "        # Cut w and t where the transmission is grater than some value for\n",
    "        # performance and bugs\n",
    "        cut_t_curve = (t > 0.05)\n",
    "        w = w[cut_t_curve]\n",
    "        t = t[cut_t_curve]\n",
    "\n",
    "        sed_interp = np.interp(w, w_Arr, SEDs, left=np.inf, right=np.inf)\n",
    "\n",
    "        sed_int = np.trapz(w * t * sed_interp, w)\n",
    "        t_int = np.trapz(w * t, w)\n",
    "        \n",
    "        pm[fil] = sed_int / t_int\n",
    "    return pm[which_filters]"
   ]
  },
  {
   "cell_type": "code",
   "execution_count": 3,
   "metadata": {},
   "outputs": [
    {
     "ename": "NameError",
     "evalue": "name 'fits_dir' is not defined",
     "output_type": "error",
     "traceback": [
      "\u001b[0;31m---------------------------------------------------------------------------\u001b[0m",
      "\u001b[0;31mNameError\u001b[0m                                 Traceback (most recent call last)",
      "\u001b[1;32m/home/alberto/cosmos/LAEs/qso_phot_dr16.ipynb Cell 3'\u001b[0m in \u001b[0;36m<cell line: 1>\u001b[0;34m()\u001b[0m\n\u001b[1;32m      <a href='vscode-notebook-cell://ssh-remote%2Bmimas.uv.es/home/alberto/cosmos/LAEs/qso_phot_dr16.ipynb#ch0000002vscode-remote?line=0'>1</a>\u001b[0m \u001b[39mfor\u001b[39;00m pl, mj, fi \u001b[39min\u001b[39;00m \u001b[39mzip\u001b[39m(plate, mjd, fiber):\n\u001b[0;32m----> <a href='vscode-notebook-cell://ssh-remote%2Bmimas.uv.es/home/alberto/cosmos/LAEs/qso_phot_dr16.ipynb#ch0000002vscode-remote?line=1'>2</a>\u001b[0m     spec_name \u001b[39m=\u001b[39m fits_dir \u001b[39m+\u001b[39m \u001b[39mf\u001b[39m\u001b[39m'\u001b[39m\u001b[39mspec-\u001b[39m\u001b[39m{\u001b[39;00mplate[src]\u001b[39m}\u001b[39;00m\u001b[39m-\u001b[39m\u001b[39m{\u001b[39;00mmjd[src]\u001b[39m}\u001b[39;00m\u001b[39m-\u001b[39m\u001b[39m{\u001b[39;00mfiber[src]\u001b[39m}\u001b[39;00m\u001b[39m.fits\u001b[39m\u001b[39m'\u001b[39m\n\u001b[1;32m      <a href='vscode-notebook-cell://ssh-remote%2Bmimas.uv.es/home/alberto/cosmos/LAEs/qso_phot_dr16.ipynb#ch0000002vscode-remote?line=3'>4</a>\u001b[0m     spec \u001b[39m=\u001b[39m Table\u001b[39m.\u001b[39mread(spec_name, hdu\u001b[39m=\u001b[39m\u001b[39m1\u001b[39m, \u001b[39mformat\u001b[39m\u001b[39m=\u001b[39m\u001b[39m'\u001b[39m\u001b[39mfits\u001b[39m\u001b[39m'\u001b[39m)\n\u001b[1;32m      <a href='vscode-notebook-cell://ssh-remote%2Bmimas.uv.es/home/alberto/cosmos/LAEs/qso_phot_dr16.ipynb#ch0000002vscode-remote?line=4'>5</a>\u001b[0m     \u001b[39m# Correct spec\u001b[39;00m\n",
      "\u001b[0;31mNameError\u001b[0m: name 'fits_dir' is not defined"
     ]
    }
   ],
   "source": [
    "fits_dir = '/home/alberto/almacen/SDSS_spectra_fits/DR16/QSO'\n",
    "\n",
    "N_src = len(mjd)\n",
    "pm_SEDs = np.empty((60, N_src))\n",
    "\n",
    "for src, (pl, mj, fi) in zip(plate, mjd, fiber):\n",
    "    print(f'{src} / {N_src}')\n",
    "    spec_name = f'{fits_dir}/spec-{pl}-{mj}-{fi}.fits'\n",
    "\n",
    "    spec = Table.read(spec_name, hdu=1, format='fits')\n",
    "    # Correct spec\n",
    "    spec_w = 10 ** spec['loglam']\n",
    "    spec_f = spec['flux'] * 1e-17\n",
    "\n",
    "    # The range of SDSS is 3561-10327 Angstroms. Beyond the range limits,\n",
    "    # the flux will be 0\n",
    "    pm_SEDs[:, src] = JPAS_synth_phot(spec_f, spec_w, tcurves)"
   ]
  },
  {
   "cell_type": "code",
   "execution_count": null,
   "metadata": {},
   "outputs": [],
   "source": [
    "# Save the cat\n",
    "hdr = tcurves['tag'] + ['mjd', 'plate', 'fiber']\n",
    "\n",
    "pd.DataFrame(\n",
    "    data=np.hstack(\n",
    "        pm_SEDs.T,\n",
    "        mjd.reshape(-1, 1),\n",
    "        plate.reshape(-1, 1),\n",
    "        fiber.reshape(-1,1)\n",
    "    )\n",
    ").to_csv('csv/J-SPECTRA_QSO_Superset_DR16.csv', header=hdr)"
   ]
  }
 ],
 "metadata": {
  "interpreter": {
   "hash": "ade4bca3e0042e0da78fecdb82351169c0f2ccedb06a0d7cf7342df8f7e47af7"
  },
  "kernelspec": {
   "display_name": "Python 3.9.12 ('base')",
   "language": "python",
   "name": "python3"
  },
  "language_info": {
   "codemirror_mode": {
    "name": "ipython",
    "version": 3
   },
   "file_extension": ".py",
   "mimetype": "text/x-python",
   "name": "python",
   "nbconvert_exporter": "python",
   "pygments_lexer": "ipython3",
   "version": "3.9.12"
  },
  "orig_nbformat": 4
 },
 "nbformat": 4,
 "nbformat_minor": 2
}
