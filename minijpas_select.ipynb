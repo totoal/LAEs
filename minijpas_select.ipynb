{
 "cells": [
  {
   "cell_type": "code",
   "execution_count": null,
   "metadata": {},
   "outputs": [],
   "source": [
    "import numpy as np\n",
    "import matplotlib.pyplot as plt\n",
    "import pickle as pkl\n",
    "from my_functions import *"
   ]
  },
  {
   "cell_type": "code",
   "execution_count": null,
   "metadata": {},
   "outputs": [],
   "source": [
    "tcurves = load_tcurves(load_filter_tags())\n",
    "w_central = central_wavelength(tcurves)"
   ]
  },
  {
   "cell_type": "code",
   "execution_count": null,
   "metadata": {},
   "outputs": [],
   "source": [
    "## Load the catalog\n",
    "with open('pkl/cat_flambda_photoz_gaia.pkl', 'rb') as file:\n",
    "    cat = pkl.load(file)\n",
    "\n",
    "tcurves = load_tcurves(load_filter_tags())\n",
    "filters_tags = load_filter_tags()\n",
    "\n",
    "pm_flx = cat['flx'].T * 1e-19\n",
    "pm_err = cat['flx_err'].T * pm_flx"
   ]
  },
  {
   "cell_type": "code",
   "execution_count": null,
   "metadata": {},
   "outputs": [],
   "source": [
    "# Function to drop sources\n",
    "def make_masks(cat, nb_ind):\n",
    "    # Mask sources with high photoz odds\n",
    "    mask_pz_odds = cat['odds'] < 0.98\n",
    "    # Mask sources with proper motion according to Gaia (sigma > 3)\n",
    "    parallax_sn = np.abs(cat['parallax'] / cat['parallax_err'])\n",
    "    pmra_sn = np.abs(cat['pmra'] / cat['pmra_err'])\n",
    "    pmdec_sn = np.abs(cat['pmdec'] / cat['pmdec_err'])\n",
    "    mask_pmotion = (\n",
    "        (np.sqrt(parallax_sn**2 + pmra_sn**2 + pmdec_sn**2) < 27.**0.5)\n",
    "        | ( np.isnan(parallax_sn) | np.isnan(pmra_sn) | np.isnan(pmdec_sn) )\n",
    "    )\n",
    "    # Mask sources with SNR < 5 in the selected NB\n",
    "    mask_snr = cat['flx_err'][:,nb_ind] < 0.2\n",
    "    # Mask too bright gSDSS\n",
    "    mask_b = cat['flx'][:, -3] > mag_to_flux(15, 4750)\n",
    "    \n",
    "    mask_total = mask_pmotion & mask_snr & mask_b # & mask_pz_odds\n",
    "    # print('Total masked: {}'.format(len(np.where(~mask_total)[0])))\n",
    "    return mask_total"
   ]
  },
  {
   "cell_type": "code",
   "execution_count": null,
   "metadata": {},
   "outputs": [],
   "source": [
    "N_nb = 6 # Number of nb on each side of the central one\n",
    "ew0min = 30\n",
    "\n",
    "N_sources = len(cat['flx'])"
   ]
  },
  {
   "cell_type": "code",
   "execution_count": null,
   "metadata": {},
   "outputs": [],
   "source": [
    "nb_c_min = 6\n",
    "nb_c_max = 54\n",
    "line = np.zeros((nb_c_max - nb_c_min, N_sources)).astype(bool)\n",
    "cont_est_Arr = np.zeros((nb_c_max - nb_c_min, N_sources))\n",
    "cont_err_Arr = np.zeros((nb_c_max - nb_c_min, N_sources))\n",
    "i = 0\n",
    "for nb_c in range(nb_c_min, nb_c_max):\n",
    "    z_nb = w_central[nb_c] / 1215.67 - 1\n",
    "    fwhm = nb_fwhm(nb_c, tcurves=tcurves)\n",
    "    cont_est, cont_err = stack_estimation(pm_flx, pm_err, nb_c, N_nb, False)\n",
    "    line[i] = (\n",
    "        (pm_flx[nb_c] - cont_est > 3 * (cont_err**2 + pm_err[nb_c]**2) ** 0.5)\n",
    "        & (pm_flx[nb_c] - cont_est > ew0min * (1 + z_nb) * cont_est / fwhm)\n",
    "    )\n",
    "    cont_est_Arr[i] = cont_est\n",
    "    cont_err_Arr[i] = cont_err\n",
    "    i += 1"
   ]
  },
  {
   "cell_type": "code",
   "execution_count": null,
   "metadata": {},
   "outputs": [],
   "source": [
    "# Arr where the center of the Lya line is. -1 means no lines detected\n",
    "line_lya_center = np.ones(N_sources, dtype=int) * -1\n",
    "\n",
    "for src_n in range(N_sources):\n",
    "    try:\n",
    "        first = np.where(line[:, src_n])[0][0] # First True in line_qso\n",
    "    except:\n",
    "        continue\n",
    "    if first > 40: # We don't expect lines past here\n",
    "        continue\n",
    "    if ~make_masks(cat, first)[src_n]: continue\n",
    "\n",
    "    line_nb_width = 0\n",
    "    while line[first + line_nb_width + 1, src_n]:\n",
    "        line_nb_width += 1\n",
    "\n",
    "    line_lya_center[src_n] = np.argmax(\n",
    "        pm_flx[first + nb_c_min : first + nb_c_min + line_nb_width + 1, src_n]\n",
    "    ) + first + nb_c_min\n",
    "\n",
    "print(len(np.where((line_lya_center != -1))[0]))"
   ]
  },
  {
   "cell_type": "code",
   "execution_count": null,
   "metadata": {},
   "outputs": [],
   "source": [
    "line_CIV = np.zeros(N_sources, dtype=bool)\n",
    "nb_CIV_Arr = np.ones(N_sources, dtype=int) * -1\n",
    "for src_n in np.where(line_lya_center != -1)[0]:\n",
    "    w_obs_lya = w_central[line_lya_center[src_n]]\n",
    "    z = w_obs_lya / 1215.67 - 1\n",
    "    w_obs_CIV = 1549.48 * (1 + z)\n",
    "\n",
    "    if w_obs_CIV > 8500.: continue # Out of range\n",
    "\n",
    "    nb_CIV_Arr[src_n] = np.argmin(np.abs(w_central[:-4] - w_obs_CIV))\n",
    "    nb_CIV = nb_CIV_Arr[src_n]\n",
    "    line_CIV[src_n] = pm_flx[nb_CIV, src_n] - cont_est_Arr[nb_CIV - nb_c_min, src_n]\\\n",
    "        > 3 * (cont_err_Arr[nb_CIV - nb_c_min, src_n]**2 + pm_err[nb_CIV, src_n]**2)\\\n",
    "            ** 0.5\n",
    "print(len(np.where(line_CIV)[0]))"
   ]
  },
  {
   "cell_type": "code",
   "execution_count": null,
   "metadata": {},
   "outputs": [],
   "source": [
    "## CIV line\n",
    "j = 0\n",
    "for src_n in np.where(line_CIV)[0]:\n",
    "    #if not make_masks(cat, nb_CIV_Arr[src_n])[src_n]: continue # Masked source\n",
    "\n",
    "    fig = plt.figure(figsize=(10, 8))\n",
    "    ax = plot_JPAS_source(pm_flx[:, src_n], pm_err[:, src_n])\n",
    "\n",
    "    ax.errorbar(w_central[line_lya_center[src_n]],\n",
    "        cont_est_Arr[line_lya_center[src_n], src_n],\n",
    "        yerr=cont_err_Arr[line_lya_center[src_n], src_n],\n",
    "        fmt='^', c='C4', markersize=10, capsize=3, capthick=3, elinewidth=4)\n",
    "\n",
    "    ax.errorbar(w_central[nb_CIV_Arr[src_n]],\n",
    "        cont_est_Arr[nb_CIV_Arr[src_n], src_n],\n",
    "        yerr=cont_err_Arr[nb_CIV_Arr[src_n], src_n],\n",
    "        fmt='^', c='C6', markersize=10, capsize=3, capthick=3, elinewidth=4)\n",
    "\n",
    "    print('z NB   = {0:0.2f}'.format(w_central[line_lya_center[src_n]] / 1215.67 - 1))\n",
    "\n",
    "    plt.show()\n",
    "\n",
    "    j += 1\n",
    "    if j == 10: break"
   ]
  },
  {
   "cell_type": "code",
   "execution_count": null,
   "metadata": {},
   "outputs": [],
   "source": [
    "line_CIII = np.zeros(N_sources, dtype=bool)\n",
    "nb_CIII_Arr = np.ones(N_sources, dtype=int) * -1\n",
    "for src_n in np.where(line_CIV)[0]:\n",
    "    w_obs_lya = w_central[line_lya_center[src_n]]\n",
    "    z = w_obs_lya / 1215.67 - 1\n",
    "    w_obs_CIII = 1908.73 * (1 + z)\n",
    "\n",
    "    if w_obs_CIII > 8200.: continue # Out of range\n",
    "\n",
    "    nb_CIII_Arr[src_n] = np.argmin(np.abs(w_central[:-4] - w_obs_CIII))\n",
    "    nb_CIII = nb_CIII_Arr[src_n]\n",
    "    line_CIII[src_n] = pm_flx[nb_CIII, src_n] - cont_est_Arr[nb_CIII - nb_c_min, src_n]\\\n",
    "        > 3 * (cont_err_Arr[nb_CIII - nb_c_min, src_n]**2 + pm_err[nb_CIII, src_n]**2)\\\n",
    "            ** 0.5\n",
    "print(len(np.where(line_CIII)[0]))"
   ]
  },
  {
   "cell_type": "code",
   "execution_count": null,
   "metadata": {},
   "outputs": [],
   "source": [
    "## CIII] line\n",
    "j = 0\n",
    "for src_n in np.where(line_CIII)[0]:\n",
    "    fig = plt.figure(figsize=(10, 8))\n",
    "    ax = plot_JPAS_source(pm_flx[:, src_n], pm_err[:, src_n])\n",
    "\n",
    "    ax.errorbar(w_central[line_lya_center[src_n]],\n",
    "        cont_est_Arr[line_lya_center[src_n], src_n],\n",
    "        yerr=cont_err_Arr[line_lya_center[src_n], src_n],\n",
    "        fmt='^', c='C4', markersize=10, capsize=3, capthick=3, elinewidth=4)\n",
    "\n",
    "    ax.errorbar(w_central[nb_CIV_Arr[src_n]],\n",
    "        cont_est_Arr[nb_CIV_Arr[src_n], src_n],\n",
    "        yerr=cont_err_Arr[nb_CIV_Arr[src_n], src_n],\n",
    "        fmt='^', c='C6', markersize=10, capsize=3, capthick=3, elinewidth=4)\n",
    "\n",
    "    ax.errorbar(w_central[nb_CIII_Arr[src_n]],\n",
    "        cont_est_Arr[nb_CIII_Arr[src_n], src_n],\n",
    "        yerr=cont_err_Arr[nb_CIII_Arr[src_n], src_n],\n",
    "        fmt='^', c='C7', markersize=10, capsize=3, capthick=3, elinewidth=4)\n",
    "\n",
    "    plt.show()\n",
    "\n",
    "    j += 1\n",
    "    if j == 10: break"
   ]
  }
 ],
 "metadata": {
  "interpreter": {
   "hash": "46cea94afe1f0d88e229837b28e72c2401fa9cb21844b20e15824a5f97d32088"
  },
  "kernelspec": {
   "display_name": "Python 3.9.7 64-bit ('py39': conda)",
   "name": "python3"
  },
  "language_info": {
   "codemirror_mode": {
    "name": "ipython",
    "version": 3
   },
   "file_extension": ".py",
   "mimetype": "text/x-python",
   "name": "python",
   "nbconvert_exporter": "python",
   "pygments_lexer": "ipython3",
   "version": "3.9.7"
  },
  "orig_nbformat": 4
 },
 "nbformat": 4,
 "nbformat_minor": 2
}
