{
 "cells": [
  {
   "cell_type": "code",
   "execution_count": null,
   "metadata": {},
   "outputs": [],
   "source": [
    "import numpy as np\n",
    "import matplotlib.pyplot as plt\n",
    "import pandas as pd\n",
    "from my_functions import *\n",
    "from astropy.table import Table"
   ]
  },
  {
   "cell_type": "code",
   "execution_count": null,
   "metadata": {},
   "outputs": [],
   "source": [
    "w_central = central_wavelength()"
   ]
  },
  {
   "cell_type": "code",
   "execution_count": null,
   "metadata": {},
   "outputs": [],
   "source": [
    "split_converter = lambda s: np.array(s.split()).astype(float)\n",
    "sum_flags = lambda s: np.sum(np.array(s.split()).astype(float))\n",
    "\n",
    "cat = pd.read_csv('csv/minijpas.Flambda_photoz_gaia_6.csv', sep=',', header=1,\n",
    "    converters={0: int, 1: split_converter, 2: split_converter, 3: sum_flags,\n",
    "    4: sum_flags})\n",
    "\n",
    "cat = cat[np.array([len(x) for x in cat['FLUX_AUTO']]) != 0] # Drop bad rows due to bad query\n",
    "cat = cat[(cat.FLAGS == 0) & (cat.MASK_FLAGS == 0)] # Drop flagged\n",
    "cat = cat.reset_index()\n",
    "\n",
    "pm_flx = np.stack(cat['FLUX_AUTO'].to_numpy()).T * 1e-19\n",
    "pm_err = np.stack(cat['FLUX_RELERR_AUTO'].to_numpy()).T * pm_flx"
   ]
  },
  {
   "cell_type": "code",
   "execution_count": null,
   "metadata": {},
   "outputs": [],
   "source": [
    "fig, ax = plt.subplots(figsize=(10, 8))\n",
    "ax = plot_JPAS_source(pm_flx[:, 69], pm_err[:, 69])"
   ]
  },
  {
   "cell_type": "code",
   "execution_count": null,
   "metadata": {},
   "outputs": [],
   "source": [
    "# Function to drop sources\n",
    "def make_masks(cat, nb_ind):\n",
    "    # Mask sources with high photoz odds\n",
    "    #mask_pz_odds = cat['odds'] < 0.98\n",
    "    # Mask sources with proper motion according to Gaia (sigma > 3)\n",
    "    parallax_sn = np.abs(cat['parallax'] / cat['parallax_error'])\n",
    "    pmra_sn = np.abs(cat['pmra'] / cat['pmra_error'])\n",
    "    pmdec_sn = np.abs(cat['pmdec'] / cat['pmdec_error'])\n",
    "    mask_pmotion = (\n",
    "        (np.sqrt(parallax_sn**2 + pmra_sn**2 + pmdec_sn**2) < 27.**0.5)\n",
    "        | ( np.isnan(parallax_sn) | np.isnan(pmra_sn) | np.isnan(pmdec_sn) )\n",
    "    )\n",
    "    # Mask sources with SNR < 5 in the selected NB\n",
    "    mask_snr = (pm_err / pm_flx)[nb_ind, :] < 0.2\n",
    "    # Mask too bright gSDSS\n",
    "    mask_b = pm_flx[-3, :] > mag_to_flux(15, 4750)\n",
    "    \n",
    "    mask_total = mask_pmotion & mask_snr & mask_b # & mask_pz_odds\n",
    "    # print('Total masked: {}'.format(len(np.where(~mask_total)[0])))\n",
    "    return mask_total.to_numpy()"
   ]
  },
  {
   "cell_type": "code",
   "execution_count": null,
   "metadata": {},
   "outputs": [],
   "source": [
    "N_nb = 6 # Number of nb on each side of the central one\n",
    "ew0min = 20\n",
    "\n",
    "N_sources = len(cat['FLUX_AUTO'])\n",
    "print(N_sources)"
   ]
  },
  {
   "cell_type": "code",
   "execution_count": null,
   "metadata": {},
   "outputs": [],
   "source": [
    "nb_c_min = 6\n",
    "nb_c_max = 50\n",
    "line = np.zeros((nb_c_max - nb_c_min, N_sources)).astype(bool)\n",
    "cont_est_Arr = np.zeros((nb_c_max - nb_c_min, N_sources))\n",
    "cont_err_Arr = np.zeros((nb_c_max - nb_c_min, N_sources))\n",
    "i = 0\n",
    "for nb_c in range(nb_c_min, nb_c_max):\n",
    "    z_nb = w_central[nb_c] / 1215.67 - 1\n",
    "    fwhm = nb_fwhm(nb_c)\n",
    "    cont_est, cont_err = stack_estimation(pm_flx, pm_err, nb_c, N_nb, False)\n",
    "    line[i] = (\n",
    "        (pm_flx[nb_c] - cont_est > 3 * (cont_err**2 + pm_err[nb_c]**2) ** 0.5)\n",
    "        & (pm_flx[nb_c] - cont_est > ew0min * (1 + z_nb) * cont_est / fwhm)\n",
    "    )\n",
    "    cont_est_Arr[i] = cont_est\n",
    "    cont_err_Arr[i] = cont_err\n",
    "    i += 1"
   ]
  },
  {
   "cell_type": "code",
   "execution_count": null,
   "metadata": {},
   "outputs": [],
   "source": [
    "## QSO_find_lines TEST\n",
    "qso_LAE_Arr, qso_single_Arr, line_lya, line_other =\\\n",
    "    QSO_find_lines(pm_flx, pm_err, 6, 50, 30, 15, 6)"
   ]
  },
  {
   "cell_type": "code",
   "execution_count": null,
   "metadata": {},
   "outputs": [],
   "source": [
    "print('QSO candidates found : {}'.format(len(qso_LAE_Arr)))\n",
    "print('QSO candidates single: {}'.format(len(qso_single_Arr)))"
   ]
  },
  {
   "cell_type": "code",
   "execution_count": null,
   "metadata": {},
   "outputs": [],
   "source": [
    "for j, src in enumerate(qso_LAE_Arr):\n",
    "    fig = plt.figure(figsize=(10, 6))\n",
    "    ax = plot_JPAS_source(pm_flx[:, src], pm_err[:, src])\n",
    "\n",
    "    for l in line_other[src]:\n",
    "        ax.errorbar(w_central[l],\n",
    "            cont_est_Arr[l - 6, src],\n",
    "            yerr=cont_err_Arr[l - 6, src],\n",
    "            fmt='s', c='black', markersize=8, capsize=3, capthick=2, elinewidth=2)\n",
    "\n",
    "    ax.errorbar(w_central[line_lya[src]],\n",
    "        cont_est_Arr[line_lya[src] - 6, src],\n",
    "        yerr=cont_err_Arr[line_lya[src] - 6, src],\n",
    "        fmt='s', c='black', markersize=8, capsize=4, capthick=2, elinewidth=2,\n",
    "        label='Continuum estimate')\n",
    "    ax.legend(fontsize=15)\n",
    "    plt.show()\n",
    "\n",
    "    z_src = w_central[line_lya[src]] / 1215.67 - 1\n",
    "    z_src_e = nb_fwhm(line_lya[src]) / 1215.67 / 2\n",
    "\n",
    "    print('z_nb = {0:0.2f} +- {1:0.2f}'.format(z_src, z_src_e))\n",
    "    print('z_sp = {0:0.2f} ({1})'.format(cat.zsp[src], cat.spCl[src]))\n",
    "    print('z_pz = {0:0.2f}, odds = {1:0.2f}'.format(cat.PHOTOZ[src], cat.ODDS[src]))\n",
    "    print('RA, DEC = {}, {}'.format(cat.ALPHA_J2000[src], cat.DELTA_J2000[src]))\n",
    "    print('my_id = {}'.format(cat._exp1[src]))\n",
    "\n",
    "    if j == 20: break"
   ]
  },
  {
   "cell_type": "code",
   "execution_count": null,
   "metadata": {},
   "outputs": [],
   "source": [
    "odds = cat.ODDS[~np.isnan(cat.ODDS)]\n",
    "chi = cat.CHI_BEST[~np.isnan(cat.ODDS)]\n",
    "\n",
    "fig, ax = plt.subplots(figsize=(13, 10))\n",
    "\n",
    "goodz = cat.zsp > 2\n",
    "ax.scatter(odds, chi, label='All', alpha=0.1)\n",
    "ax.scatter(cat.ODDS[goodz], cat.CHI_BEST[goodz], label='z_sp > 2', c='C1')\n",
    "ax.set_yscale('log')\n",
    "ax.legend(fontsize=15)\n",
    "ax.set_xlabel('ODDS', fontsize=15)\n",
    "ax.set_ylabel('CHI_BEST', fontsize=15)\n",
    "plt.show()"
   ]
  },
  {
   "cell_type": "code",
   "execution_count": null,
   "metadata": {},
   "outputs": [],
   "source": [
    "fig, ax = plt.subplots(figsize=(10, 8))\n",
    "\n",
    "mask = (0.9 < odds) & (odds < 1)\n",
    "\n",
    "ax.hist(chi[mask], bins=np.linspace(0, 100, 75))\n",
    "ax.hist(chi[goodz & mask], bins=np.linspace(0, 100, 75))\n",
    "ax.set_xlabel('CHI_BEST', fontsize=15)\n",
    "ax.set_ylabel('N', fontsize=15)\n",
    "ax.set_title('0.9 < ODDS', fontsize=20)\n",
    "plt.show()"
   ]
  }
 ],
 "metadata": {
  "interpreter": {
   "hash": "46cea94afe1f0d88e229837b28e72c2401fa9cb21844b20e15824a5f97d32088"
  },
  "kernelspec": {
   "display_name": "Python 3.9.7 64-bit ('py39': conda)",
   "name": "python3"
  },
  "language_info": {
   "codemirror_mode": {
    "name": "ipython",
    "version": 3
   },
   "file_extension": ".py",
   "mimetype": "text/x-python",
   "name": "python",
   "nbconvert_exporter": "python",
   "pygments_lexer": "ipython3",
   "version": "3.9.7"
  },
  "orig_nbformat": 4
 },
 "nbformat": 4,
 "nbformat_minor": 2
}
