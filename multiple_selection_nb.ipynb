{
 "cells": [
  {
   "cell_type": "code",
   "execution_count": null,
   "metadata": {},
   "outputs": [],
   "source": [
    "import numpy as np\n",
    "import matplotlib.pyplot as plt\n",
    "from load_mocks import ensemble_mock\n",
    "from my_functions import flux_to_mag, central_wavelength\n",
    "\n",
    "w_central = central_wavelength()"
   ]
  },
  {
   "cell_type": "code",
   "execution_count": null,
   "metadata": {},
   "outputs": [],
   "source": [
    "times_selected = np.load('tmp/times_selected.npy') / 2\n",
    "times_nicez = np.load('tmp/times_nicez.npy') / 2\n",
    "L_lya = np.load('tmp/L_lya.npy')\n",
    "zspec = np.load('tmp/zspec.npy')\n",
    "is_qso = np.load('tmp/is_qso.npy')\n",
    "is_sf = np.load('tmp/is_sf.npy')\n",
    "is_gal = np.load('tmp/is_gal.npy')\n",
    "where_hiL = np.load('tmp/where_hiL.npy')\n",
    "\n",
    "field_name = 'minijpasAEGIS001'\n",
    "name_qso = 'QSO_100000_0'\n",
    "name_qso_bad = f'QSO_double_train_minijpas_DR16_D_0'\n",
    "name_gal = f'GAL_LC_lines_0'\n",
    "name_sf = f'LAE_12.5deg_z2-4.25_train_minijpas_0'\n",
    "pm_flx, pm_err, zspec, EW_lya, L_lya, is_qso, is_sf, is_gal, is_LAE, where_hiL, _ =\\\n",
    "    ensemble_mock(name_qso, name_gal, name_sf, name_qso_bad,\n",
    "                  add_errs=False, sf_frac=0.5)\n",
    "\n",
    "mag = flux_to_mag(pm_flx[-2], w_central[-2])\n",
    "mag[~np.isfinite(mag)] = 99."
   ]
  },
  {
   "cell_type": "code",
   "execution_count": null,
   "metadata": {},
   "outputs": [],
   "source": [
    "fig, ax = plt.subplots(figsize=(6, 4))\n",
    "\n",
    "where = is_qso & (mag < 24)\n",
    "\n",
    "bins2d = [np.linspace(42, 46, 50), np.linspace(0, 100, 30)]\n",
    "Z, xx, yy = np.histogram2d(L_lya[where], times_selected[where], bins=bins2d)\n",
    "\n",
    "pcm = ax.pcolormesh(xx, yy, np.log10(Z.T))\n",
    "fig.colorbar(pcm)\n",
    "\n",
    "plt.show()"
   ]
  }
 ],
 "metadata": {
  "kernelspec": {
   "display_name": "Python 3.9.13 ('base')",
   "language": "python",
   "name": "python3"
  },
  "language_info": {
   "codemirror_mode": {
    "name": "ipython",
    "version": 3
   },
   "file_extension": ".py",
   "mimetype": "text/x-python",
   "name": "python",
   "nbconvert_exporter": "python",
   "pygments_lexer": "ipython3",
   "version": "3.9.13"
  },
  "orig_nbformat": 4,
  "vscode": {
   "interpreter": {
    "hash": "ade4bca3e0042e0da78fecdb82351169c0f2ccedb06a0d7cf7342df8f7e47af7"
   }
  }
 },
 "nbformat": 4,
 "nbformat_minor": 2
}
