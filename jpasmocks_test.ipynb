{
 "cells": [
  {
   "cell_type": "code",
   "execution_count": null,
   "metadata": {},
   "outputs": [],
   "source": [
    "import numpy as np\n",
    "import matplotlib.pyplot as plt\n",
    "import csv\n",
    "from my_functions import *"
   ]
  },
  {
   "cell_type": "code",
   "execution_count": null,
   "metadata": {},
   "outputs": [],
   "source": [
    "filename = ('/home/alberto/cosmos/JPAS_mocks_sep2021/'\n",
    "    'JPAS_mocks_classification_01sep_model11/Fluxes/Star_jpas_mock_flam_1sq.cat')\n",
    "\n",
    "my_filter_order = np.arange(60)\n",
    "my_filter_order[[-4, -3, -2, -1]] = np.array([1, 12, 28, 43])\n",
    "my_filter_order[1:-4] += 1\n",
    "my_filter_order[12:-4] += 1\n",
    "my_filter_order[28:-4] += 1\n",
    "my_filter_order[43:-4] += 1\n",
    "\n",
    "gal_flx = []\n",
    "gal_err = []\n",
    "with open(filename) as f:\n",
    "    rdr = csv.reader(f, delimiter=' ')\n",
    "    next(rdr, None)\n",
    "    for row in rdr:\n",
    "        gal_flx.append(row[2 : 2 + 60])\n",
    "        gal_err.append(row[2 + 60 : 2 + 60 + 60])\n",
    "gal_flx = np.array(gal_flx).T[my_filter_order].astype(float)\n",
    "gal_err = np.array(gal_err).T[my_filter_order].astype(float)"
   ]
  },
  {
   "cell_type": "code",
   "execution_count": null,
   "metadata": {},
   "outputs": [],
   "source": [
    "fig = plt.figure(figsize=(10, 8))\n",
    "ax = plot_JPAS_source(gal_flx[:, 63], gal_err[:, 63])\n",
    "plt.show()"
   ]
  }
 ],
 "metadata": {
  "interpreter": {
   "hash": "46cea94afe1f0d88e229837b28e72c2401fa9cb21844b20e15824a5f97d32088"
  },
  "kernelspec": {
   "display_name": "Python 3.9.7 64-bit ('py39': conda)",
   "name": "python3"
  },
  "language_info": {
   "codemirror_mode": {
    "name": "ipython",
    "version": 3
   },
   "file_extension": ".py",
   "mimetype": "text/x-python",
   "name": "python",
   "nbconvert_exporter": "python",
   "pygments_lexer": "ipython3",
   "version": "3.9.7"
  },
  "orig_nbformat": 4
 },
 "nbformat": 4,
 "nbformat_minor": 2
}
