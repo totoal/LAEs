{
 "cells": [
  {
   "cell_type": "code",
   "execution_count": null,
   "metadata": {},
   "outputs": [],
   "source": [
    "from my_functions import *\n",
    "from add_errors import add_errors\n",
    "from minijpas_LF_and_puricomp import add_errors, nb_or_3fm_cont, compute_L_Lbin_err\n",
    "import pickle"
   ]
  },
  {
   "cell_type": "code",
   "execution_count": null,
   "metadata": {},
   "outputs": [],
   "source": [
    "w_central = central_wavelength()\n",
    "nb_fwhm_Arr = nb_fwhm(range(60))\n",
    "w_lya = 1215.67\n",
    "filter_tags = load_filter_tags()"
   ]
  },
  {
   "cell_type": "code",
   "execution_count": null,
   "metadata": {},
   "outputs": [],
   "source": [
    "dirname = '/home/alberto/almacen/Source_cats'\n",
    "filename = f'{dirname}/GAL_DR16.npy'\n",
    "with open(filename, 'rb') as f:\n",
    "    gal_mock = pickle.load(f)\n",
    "\n",
    "pm_flx, pm_err = add_errors(gal_mock['pm_flx'], apply_err=True,\n",
    "                            survey_name='minijpasAEGIS004')\n",
    "\n",
    "where_bad_flx = ~np.isfinite(pm_flx)\n",
    "pm_flx[where_bad_flx] = 0.\n",
    "pm_err[where_bad_flx] = 9999999999.\n",
    "\n",
    "mag = flux_to_mag(pm_flx[-2], w_central[-2])\n",
    "mag[np.isnan(mag)] = 99.\n",
    "\n",
    "zspec = gal_mock['z']\n",
    "\n",
    "N_sources = pm_flx.shape[1]\n",
    "N_sources"
   ]
  },
  {
   "cell_type": "code",
   "execution_count": null,
   "metadata": {},
   "outputs": [],
   "source": [
    "ew0_cut = 30\n",
    "ew_other = 100\n",
    "\n",
    "# Cont est\n",
    "cont_est_lya, cont_err_lya, cont_est_other, cont_err_other =\\\n",
    "        nb_or_3fm_cont(pm_flx, pm_err, 'nb')\n",
    "\n",
    "# Lya search\n",
    "line = is_there_line(pm_flx, pm_err, cont_est_lya, cont_err_lya, ew0_cut, sigma=3)\n",
    "lya_lines, lya_cont_lines, line_widths = identify_lines(\n",
    "    line, pm_flx, cont_est_lya, first=True, return_line_width=True\n",
    ")\n",
    "lya_lines = np.array(lya_lines)\n",
    "\n",
    "# Other lines\n",
    "line_other = is_there_line(pm_flx, pm_err, cont_est_other, cont_err_other,\n",
    "    ew_other, obs=True, sigma=5)\n",
    "other_lines = identify_lines(line_other, cont_est_other, pm_err)\n",
    "\n",
    "# Compute z\n",
    "z_Arr = np.zeros(N_sources)\n",
    "z_Arr[np.where(np.array(lya_lines) != -1)] =\\\n",
    "    z_NB(np.array(lya_cont_lines)[np.where(np.array(lya_lines) != -1)])\n",
    "\n",
    "nice_z = np.abs(z_Arr - zspec) < 0.16\n",
    "\n",
    "mag_min = 17\n",
    "mag_max = 24\n",
    "\n",
    "nb_min = 1\n",
    "nb_max = 20\n",
    "\n",
    "nbs_to_consider = np.arange(nb_min, nb_max + 1)\n",
    "\n",
    "nb_cut = (np.array(lya_lines) >= nb_min) & (np.array(lya_lines) <= nb_max)\n",
    "\n",
    "z_min = (w_central[nb_min] - nb_fwhm_Arr[nb_min] * 0.5) / w_lya - 1\n",
    "z_max = (w_central[nb_max] + nb_fwhm_Arr[nb_max] * 0.5) / w_lya - 1\n",
    "print(f'z interval: ({z_min:0.2f}, {z_max:0.2f})')\n",
    "\n",
    "z_cut = (z_min < z_Arr) & (z_Arr < z_max)\n",
    "zspec_cut = (z_min < zspec) & (zspec < z_max)\n",
    "mag_cut = (mag > mag_min) & (mag < mag_max)\n",
    "\n",
    "snr = np.empty(N_sources)\n",
    "for src in range(N_sources):\n",
    "    l = lya_lines[src]\n",
    "    snr[src] = pm_flx[l, src] / pm_err[l, src]\n",
    "\n",
    "nice_lya_mask = (lya_lines >= nb_min) & (lya_lines <= nb_max) & mag_cut & (snr > 6)\n",
    "nice_lya = nice_lya_select(\n",
    "    lya_lines, other_lines, pm_flx, pm_err, cont_est_lya, z_Arr, mask=nice_lya_mask\n",
    ")\n",
    "print(sum(nice_lya))"
   ]
  },
  {
   "cell_type": "code",
   "execution_count": null,
   "metadata": {},
   "outputs": [],
   "source": [
    "fig = plt.figure()\n",
    "\n",
    "src = np.random.choice(np.where(nice_lya)[0])\n",
    "ax = plot_JPAS_source(pm_flx[:, src], pm_err[:, src])\n",
    "\n",
    "plt.show()"
   ]
  },
  {
   "cell_type": "code",
   "execution_count": null,
   "metadata": {},
   "outputs": [],
   "source": [
    "import os\n",
    "\n",
    "# Number of sources of each class of QSO for train+test\n",
    "N_tt_set = sum(nice_lya)\n",
    "# Select random sources\n",
    "tt_indices = np.where(nice_lya)[0]\n",
    "\n",
    "# Save pm_flx, pm_err and lya_lines for the selected sources\n",
    "savedir = '/home/alberto/almacen/ML_train_sets'\n",
    "os.makedirs(savedir, exist_ok=True)\n",
    "np.save(f'{savedir}/pm_flx_tt_gal.npy', pm_flx[:, tt_indices])\n",
    "np.save(f'{savedir}/pm_err_tt_gal.npy', pm_err[:, tt_indices])\n",
    "np.save(f'{savedir}/lya_lines_tt_gal.npy', lya_lines[tt_indices])\n",
    "np.save(f'{savedir}/zspec_tt_gal.npy', zspec[tt_indices])\n",
    "# Labels: 1 = LAE, 0 = no LAE\n",
    "labels = np.ones(N_tt_set).astype(int) * 2\n",
    "np.save(f'{savedir}/labels_gal.npy', labels)"
   ]
  }
 ],
 "metadata": {
  "kernelspec": {
   "display_name": "base",
   "language": "python",
   "name": "python3"
  },
  "language_info": {
   "codemirror_mode": {
    "name": "ipython",
    "version": 3
   },
   "file_extension": ".py",
   "mimetype": "text/x-python",
   "name": "python",
   "nbconvert_exporter": "python",
   "pygments_lexer": "ipython3",
   "version": "3.9.15"
  },
  "orig_nbformat": 4
 },
 "nbformat": 4,
 "nbformat_minor": 2
}
