{
 "cells": [
  {
   "cell_type": "code",
   "execution_count": null,
   "metadata": {},
   "outputs": [],
   "source": [
    "import pandas as pd\n",
    "import numpy as np\n",
    "import matplotlib.pyplot as plt\n",
    "import pickle\n",
    "import seaborn as sns"
   ]
  },
  {
   "cell_type": "code",
   "execution_count": null,
   "metadata": {},
   "outputs": [],
   "source": [
    "# load visual inspection\n",
    "dirname = '/home/alberto/almacen/Selected_LAEs/obs_mock_vi/'\n",
    "# vi_path_name = f'{dirname}/ALTEROS_VI_250.txt'\n",
    "vi_path_name = f'{dirname}/20230222_classification_dani_first.txt'\n",
    "sgl = pd.read_csv(vi_path_name, sep=' ', header=None)\n",
    "sgl[1]"
   ]
  },
  {
   "cell_type": "code",
   "execution_count": null,
   "metadata": {},
   "outputs": [],
   "source": [
    "# Load real values\n",
    "id_arr_to_plot = np.load(f'{dirname}/id_arr_to_plot.npy')\n",
    "shuffle_indices = np.load(f'{dirname}/shuffle_indices.npy')\n",
    "with open(f'{dirname}/mock_sel_dict.pkl', 'rb') as f:\n",
    "    mock_sel_dict = pickle.load(f)\n",
    "\n",
    "mock_class = np.ones(len(sgl)).astype(int) * -1 # -1 means real source\n",
    "class_dict = {\n",
    "    'LAE_QSO': 1,\n",
    "    'CONT_QSO': 2,\n",
    "    'GAL': 3,\n",
    "    'SFG': 5\n",
    "}\n",
    "for i in range(128):\n",
    "    src = shuffle_indices[i]\n",
    "    cl = mock_sel_dict['class'][id_arr_to_plot[np.where(shuffle_indices == src)]][0]\n",
    "    mock_class[src] = class_dict[cl]"
   ]
  },
  {
   "cell_type": "code",
   "execution_count": null,
   "metadata": {},
   "outputs": [],
   "source": [
    "is_real = np.ones(len(sgl)).astype(bool)\n",
    "is_real[shuffle_indices[:128]] = False"
   ]
  },
  {
   "cell_type": "code",
   "execution_count": null,
   "metadata": {},
   "outputs": [],
   "source": [
    "is_real_sgl = sgl[2] == 'r'"
   ]
  },
  {
   "cell_type": "code",
   "execution_count": null,
   "metadata": {},
   "outputs": [],
   "source": [
    "# print(f'Mock or real guess: {sum(is_real_sgl == is_real)}/{len(sgl)}')\n",
    "\n",
    "# Confussion matrix\n",
    "cf_mat = np.zeros((3, 4))\n",
    "for reality in range(3):\n",
    "    for guess in range(4):\n",
    "        cf_mat[reality, guess] = sum((sgl[1] == guess + 1) & (mock_class == reality + 1))\n",
    "\n",
    "fig, ax = plt.subplots()\n",
    "\n",
    "sns.heatmap(cf_mat, ax=ax, annot=True, cbar=False)\n",
    "\n",
    "ax.set_ylabel('REAL class', fontsize=18)\n",
    "ax.set_xlabel('SID\\'s VI class', fontsize=18)\n",
    "\n",
    "ax.set_yticklabels(['LAE_QSO', 'CONT_QSO', 'GAL'])\n",
    "ax.set_xticklabels(['LAE_QSO', 'CONT_QSO', 'GAL', 'IDK'])\n",
    "\n",
    "plt.show()"
   ]
  }
 ],
 "metadata": {
  "kernelspec": {
   "display_name": "base",
   "language": "python",
   "name": "python3"
  },
  "language_info": {
   "codemirror_mode": {
    "name": "ipython",
    "version": 3
   },
   "file_extension": ".py",
   "mimetype": "text/x-python",
   "name": "python",
   "nbconvert_exporter": "python",
   "pygments_lexer": "ipython3",
   "version": "3.9.15"
  },
  "orig_nbformat": 4,
  "vscode": {
   "interpreter": {
    "hash": "ade4bca3e0042e0da78fecdb82351169c0f2ccedb06a0d7cf7342df8f7e47af7"
   }
  }
 },
 "nbformat": 4,
 "nbformat_minor": 2
}
