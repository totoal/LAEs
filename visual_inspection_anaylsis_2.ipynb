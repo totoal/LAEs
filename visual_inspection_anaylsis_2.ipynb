{
 "cells": [
  {
   "cell_type": "code",
   "execution_count": null,
   "metadata": {},
   "outputs": [],
   "source": [
    "import pandas as pd\n",
    "import numpy as np\n",
    "import matplotlib.pyplot as plt\n",
    "import pickle\n",
    "import seaborn as sns"
   ]
  },
  {
   "cell_type": "code",
   "execution_count": null,
   "metadata": {},
   "outputs": [],
   "source": [
    "# load visual inspection\n",
    "dirname = '/home/alberto/almacen/Selected_LAEs/obs_mock_vi/'\n",
    "\n",
    "# Sid\n",
    "vi_path_name = f'{dirname}/ALTEROS_VI_250.txt'\n",
    "data = pd.read_csv(vi_path_name, sep=' ', header=None)\n",
    "is_real_sgl = data[2] == 'r'\n",
    "sgl = {\n",
    "    'class': data[1],\n",
    "    'mock_real': is_real_sgl\n",
    "}\n",
    "\n",
    "# Daniele\n",
    "vi_path_name = f'{dirname}/20230222_classification_dani_first.txt'\n",
    "data = pd.read_csv(vi_path_name, sep=' ', header=None)\n",
    "ds = {\n",
    "    'class': data[1]\n",
    "}\n",
    "\n",
    "# Pablo\n",
    "vi_path_name = f'{dirname}/visual_inspection_cat20230222_pablo.csv'\n",
    "data = pd.read_csv(vi_path_name)\n",
    "is_real_pam = data['Real/Mock'] == 'r'\n",
    "pam = {\n",
    "    'class': data['CLASS'],\n",
    "    'mock_real': is_real_pam\n",
    "}\n",
    "\n",
    "# AlbertoFS\n",
    "vi_path_name = f'{dirname}/afs_class.csv'\n",
    "data = pd.read_csv(vi_path_name)\n",
    "is_real_afs = data['Mock?'] == 'r'\n",
    "afs = {\n",
    "    'class': data['Key'],\n",
    "    'mock_real': is_real_pam\n",
    "}\n",
    "\n",
    "# AlbertoFS\n",
    "vi_path_name = f'{dirname}/att_class.csv'\n",
    "data = pd.read_csv(vi_path_name, header=None)\n",
    "att = {\n",
    "    'class': data[1],\n",
    "}\n",
    "\n",
    "N_cand = len(is_real_pam)\n",
    "\n",
    "# 4 out of 5\n",
    "all_class = {'class': np.ones(N_cand) * 4}\n",
    "person_list = [sgl, ds, afs, att, pam]\n",
    "for cl in range(1, 4):\n",
    "    this_cl_count = np.zeros(N_cand)\n",
    "    idk_count = np.zeros(N_cand)\n",
    "    for person in person_list:\n",
    "        this_cl_count = this_cl_count + (person['class'] == cl)\n",
    "        idk_count = idk_count + (person['class'] == 4)\n",
    "\n",
    "    mask_vi_confidence = (this_cl_count >= 3) & (this_cl_count + idk_count == 5)\n",
    "    all_class['class'][mask_vi_confidence] = cl"
   ]
  },
  {
   "cell_type": "code",
   "execution_count": null,
   "metadata": {},
   "outputs": [],
   "source": [
    "# Load real values\n",
    "id_arr_to_plot = np.load(f'{dirname}/id_arr_to_plot.npy')\n",
    "shuffle_indices = np.load(f'{dirname}/shuffle_indices.npy')\n",
    "with open(f'{dirname}/mock_sel_dict.pkl', 'rb') as f:\n",
    "    mock_sel_dict = pickle.load(f)\n",
    "\n",
    "mock_class = np.ones(N_cand).astype(int) * -1 # -1 means real source\n",
    "class_dict = {\n",
    "    'LAE_QSO': 1,\n",
    "    'CONT_QSO': 2,\n",
    "    'GAL': 3,\n",
    "    'SFG': 5\n",
    "}\n",
    "for i in range(128):\n",
    "    src = shuffle_indices[i]\n",
    "    cl = mock_sel_dict['class'][id_arr_to_plot[np.where(shuffle_indices == src)]][0]\n",
    "    mock_class[src] = class_dict[cl]\n",
    "\n",
    "sum(mock_class == 1)"
   ]
  },
  {
   "cell_type": "code",
   "execution_count": null,
   "metadata": {},
   "outputs": [],
   "source": [
    "selection = pd.read_csv('csv/selection.csv')\n",
    "starprob_sel = selection['starprob'].to_numpy()\n",
    "starprob = np.ones(N_cand) * -1\n",
    "starprob[shuffle_indices[128:]] = starprob_sel\n",
    "\n",
    "zspec_sel = selection['SDSS_zspec'].to_numpy()\n",
    "zspec = np.ones(N_cand) * -1\n",
    "zspec[shuffle_indices[128:]] = zspec_sel\n",
    "\n",
    "src_sel = selection['src'].to_numpy()\n",
    "src = np.ones(N_cand) * -1\n",
    "src[shuffle_indices[128:]] = src_sel"
   ]
  },
  {
   "cell_type": "code",
   "execution_count": null,
   "metadata": {},
   "outputs": [],
   "source": [
    "is_real = np.ones(N_cand).astype(bool)\n",
    "is_real[shuffle_indices[:128]] = False"
   ]
  },
  {
   "cell_type": "code",
   "execution_count": null,
   "metadata": {},
   "outputs": [],
   "source": [
    "def plot_conf_mat_vi(class_dict, name):\n",
    "    if 'mock_real' in class_dict.keys():\n",
    "        print(f'Mock or real guess: {sum(class_dict[\"mock_real\"] == is_real)}/{N_cand}')\n",
    "\n",
    "    # Confussion matrix\n",
    "    cf_mat = np.zeros((3, 4))\n",
    "    for reality in range(3):\n",
    "        for guess in range(4):\n",
    "            cf_mat[reality, guess] = sum((class_dict['class'] == guess + 1)\n",
    "                                        & (mock_class == reality + 1))\n",
    "\n",
    "    fig, ax = plt.subplots()\n",
    "\n",
    "    sns.heatmap(cf_mat, ax=ax, annot=True, cbar=False)\n",
    "\n",
    "    ax.set_ylabel('REAL class', fontsize=18)\n",
    "    ax.set_xlabel(f'{name}\\'s VI class', fontsize=18)\n",
    "\n",
    "    ax.set_yticklabels(['LAE_QSO', 'CONT_QSO', 'GAL'])\n",
    "    ax.set_xticklabels(['LAE_QSO', 'CONT_QSO', 'GAL', 'IDK'])\n",
    "\n",
    "    plt.show()\n",
    "\n",
    "plot_conf_mat_vi(sgl, 'Sid')\n",
    "plot_conf_mat_vi(pam, 'Pablo')\n",
    "plot_conf_mat_vi(ds, 'Daniele')\n",
    "plot_conf_mat_vi(afs, 'AlbertoFS')\n",
    "plot_conf_mat_vi(att, 'AlbertoTT')\n",
    "plot_conf_mat_vi(all_class, 'All')"
   ]
  },
  {
   "cell_type": "code",
   "execution_count": null,
   "metadata": {},
   "outputs": [],
   "source": [
    "print('REAL OBS. DATA')\n",
    "mask_real = mock_class == -1\n",
    "print(f'QSO LAEs : {sum(mask_real & (all_class[\"class\"] == 1))}')\n",
    "print(f'QSO Cont.: {sum(mask_real & (all_class[\"class\"] == 2))}')\n",
    "print(f'Gal Cont.: {sum(mask_real & (all_class[\"class\"] == 3))}')\n",
    "print(f'No class : {sum(mask_real & (all_class[\"class\"] == 4))}')"
   ]
  },
  {
   "cell_type": "code",
   "execution_count": null,
   "metadata": {},
   "outputs": [],
   "source": [
    "36 + 10 + 15"
   ]
  },
  {
   "cell_type": "code",
   "execution_count": null,
   "metadata": {},
   "outputs": [],
   "source": [
    "fig, ax = plt.subplots()\n",
    "\n",
    "bins = np.linspace(-0.1, 1, 30)\n",
    "ax.hist(starprob[all_class['class'] == 3], bins,\n",
    "        histtype='step', lw=2, label='CLASS=GAL')\n",
    "ax.hist(starprob[all_class['class'] == 2], bins + 0.02,\n",
    "        histtype='step', lw=2, label='CLASS=QSO_CONT')\n",
    "ax.hist(starprob[all_class['class'] == 4], bins + 0.01,\n",
    "        histtype='step', lw=2, label='CLASS=IDK')\n",
    "ax.legend(loc=9)\n",
    "ax.set_xlabel('starprob')\n",
    "\n",
    "plt.show()"
   ]
  },
  {
   "cell_type": "code",
   "execution_count": null,
   "metadata": {},
   "outputs": [],
   "source": [
    "print(list(src[mask_real & (all_class['class'] == 3)].astype(int)))\n",
    "\n",
    "## count removed sources\n",
    "print()\n",
    "print(f'QSOs: {sum((mask_real & (all_class[\"class\"] == 2)) | ((zspec > 0) & (zspec < 1.9)))}')\n",
    "print(f'GALs: {sum((mask_real & (all_class[\"class\"] == 3)) | (mask_real & (starprob < 0.1)))}')\n",
    "print(f'No class, no LAE: {sum(mask_real & (all_class[\"class\"] == 4) & np.isnan(zspec) & (starprob >= 0.1))}')\n",
    "\n",
    "all_class_Arr = all_class['class']\n",
    "all_class_Arr[((zspec > 0) & (zspec < 1.9))] = 2\n",
    "all_class_Arr[starprob <= 0.1] = 3\n",
    "\n",
    "# save VI class\n",
    "a = all_class_Arr[shuffle_indices][128:]\n",
    "np.save('npy/class_vi_all.npy', a)"
   ]
  }
 ],
 "metadata": {
  "kernelspec": {
   "display_name": "base",
   "language": "python",
   "name": "python3"
  },
  "language_info": {
   "codemirror_mode": {
    "name": "ipython",
    "version": 3
   },
   "file_extension": ".py",
   "mimetype": "text/x-python",
   "name": "python",
   "nbconvert_exporter": "python",
   "pygments_lexer": "ipython3",
   "version": "3.10.11"
  },
  "orig_nbformat": 4,
  "vscode": {
   "interpreter": {
    "hash": "ade4bca3e0042e0da78fecdb82351169c0f2ccedb06a0d7cf7342df8f7e47af7"
   }
  }
 },
 "nbformat": 4,
 "nbformat_minor": 2
}
