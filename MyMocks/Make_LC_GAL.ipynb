{
 "cells": [
  {
   "cell_type": "code",
   "execution_count": null,
   "metadata": {},
   "outputs": [],
   "source": [
    "import numpy as np\n",
    "import pandas as pd\n",
    "\n",
    "from my_utilities import *\n",
    "from Make_QSO_altered_2 import add_errors"
   ]
  },
  {
   "cell_type": "code",
   "execution_count": null,
   "metadata": {},
   "outputs": [],
   "source": [
    "from astropy.cosmology import FlatLambdaCDM\n",
    "import astropy.units as u\n",
    "\n",
    "Hubble_h = 0.73\n",
    "Omega_M = 0.25\n",
    "Omega_Lambda = 0.75\n",
    "cosmo = FlatLambdaCDM(H0=Hubble_h*100, Om0=Omega_M)"
   ]
  },
  {
   "cell_type": "code",
   "execution_count": null,
   "metadata": {},
   "outputs": [],
   "source": [
    "lc = np.load('/home/alberto/almacen/David_lightcone/LightCone_512_15sep2022.npy')"
   ]
  },
  {
   "cell_type": "code",
   "execution_count": null,
   "metadata": {},
   "outputs": [],
   "source": [
    "def M_to_m(M, redshift, x, y, z):\n",
    "    '''\n",
    "    Computes the apparent magnitude from the absolute magnitude\n",
    "    Inputs:\n",
    "    M: Absolute magnitude\n",
    "    redshift: Redshift of the source\n",
    "    x, y, z: Coordinates in the Lightcone (pc)\n",
    "    '''\n",
    "    # Luminosity distance:\n",
    "    dL = cosmo.luminosity_distance(redshift).to(u.pc).value.reshape(-1, 1)\n",
    "\n",
    "    return M + 5 * np.log10(dL) - 5"
   ]
  },
  {
   "cell_type": "code",
   "execution_count": null,
   "metadata": {},
   "outputs": [],
   "source": [
    "w_central = central_wavelength()"
   ]
  },
  {
   "cell_type": "code",
   "execution_count": null,
   "metadata": {},
   "outputs": [],
   "source": [
    "M = lc['ObsMagDustLine']\n",
    "M_noline = lc['ObsMagDustNoLine']\n",
    "XX, YY, ZZ = lc['pos'].T\n",
    "z = lc['redshift']\n",
    "Rdisk = lc['Rdisk']\n",
    "Rbulge = lc['Rbulge']\n",
    "Mdisk = lc['DiskMass']\n",
    "Mbulge = lc['BulgeMass']\n",
    "OII_flux = lc['FluxDust_OII3729']\n",
    "pm_mag = M_to_m(M, z, XX, YY, ZZ).T\n",
    "pm_flx = mag_to_flux(pm_mag, w_central.reshape(-1, 1))\n",
    "pm_mag_noline = M_to_m(M_noline, z, XX, YY, ZZ).T\n",
    "pm_flx_noline = mag_to_flux(pm_mag_noline, w_central.reshape(-1, 1))"
   ]
  },
  {
   "cell_type": "code",
   "execution_count": null,
   "metadata": {},
   "outputs": [],
   "source": [
    "import matplotlib.pyplot as plt\n",
    "print(np.sum(pm_mag[-2] < 24))\n",
    "plt.hist(pm_mag[-2], np.linspace(15, 27, 50))\n",
    "plt.show()"
   ]
  },
  {
   "cell_type": "code",
   "execution_count": null,
   "metadata": {},
   "outputs": [],
   "source": [
    "for survey_name in ['minijpasAEGIS001']:\n",
    "    # pm_flx_noline, pm_err = add_errors(pm_flx_noline, apply_err=False, survey_name='minijpas')\n",
    "\n",
    "    tcurves = np.load('../npy/tcurves.npy', allow_pickle=True).item()\n",
    "    ftags = tcurves['tag']\n",
    "    hdr = (ftags + [s + '_e' for s in ftags] + ['z', 'Rdisk', 'Rbulge', 'Mdisk', 'Mbulge'])\n",
    "\n",
    "    data = np.vstack([pm_flx_noline, pm_flx, z, Rdisk, Rbulge, Mdisk, Mbulge]).T\n",
    "\n",
    "    filename = f'/home/alberto/almacen/Source_cats/GAL_LC_{survey_name}_noline_0.csv'\n",
    "    pd.DataFrame(data=data).to_csv(filename, header=hdr)"
   ]
  }
 ],
 "metadata": {
  "kernelspec": {
   "display_name": "Python 3.9.12 ('base')",
   "language": "python",
   "name": "python3"
  },
  "language_info": {
   "codemirror_mode": {
    "name": "ipython",
    "version": 3
   },
   "file_extension": ".py",
   "mimetype": "text/x-python",
   "name": "python",
   "nbconvert_exporter": "python",
   "pygments_lexer": "ipython3",
   "version": "3.9.13"
  },
  "orig_nbformat": 4,
  "vscode": {
   "interpreter": {
    "hash": "ade4bca3e0042e0da78fecdb82351169c0f2ccedb06a0d7cf7342df8f7e47af7"
   }
  }
 },
 "nbformat": 4,
 "nbformat_minor": 2
}
