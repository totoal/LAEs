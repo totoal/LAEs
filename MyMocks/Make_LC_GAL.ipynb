{
 "cells": [
  {
   "cell_type": "code",
   "execution_count": null,
   "metadata": {},
   "outputs": [],
   "source": [
    "import numpy as np\n",
    "import pandas as pd\n",
    "\n",
    "from my_utilities import *\n",
    "from Make_QSO_altered_2 import add_errors\n",
    "\n",
    "import matplotlib.pyplot as plt"
   ]
  },
  {
   "cell_type": "code",
   "execution_count": null,
   "metadata": {},
   "outputs": [],
   "source": [
    "from astropy.cosmology import FlatLambdaCDM\n",
    "import astropy.units as u\n",
    "\n",
    "Hubble_h = 0.73\n",
    "Omega_M = 0.25\n",
    "Omega_Lambda = 0.75\n",
    "cosmo = FlatLambdaCDM(H0=Hubble_h*100, Om0=Omega_M)"
   ]
  },
  {
   "cell_type": "code",
   "execution_count": null,
   "metadata": {},
   "outputs": [],
   "source": [
    "lc = np.load('/home/alberto/almacen/David_lightcone/LightCone_512_15sep2022.npy')"
   ]
  },
  {
   "cell_type": "code",
   "execution_count": null,
   "metadata": {},
   "outputs": [],
   "source": [
    "def M_to_m(M, redshift, x, y, z):\n",
    "    '''\n",
    "    Computes the apparent magnitude from the absolute magnitude\n",
    "    Inputs:\n",
    "    M: Absolute magnitude\n",
    "    redshift: Redshift of the source\n",
    "    x, y, z: Coordinates in the Lightcone (pc)\n",
    "    '''\n",
    "    # Luminosity distance:\n",
    "    dL = cosmo.luminosity_distance(redshift).to(u.pc).value.reshape(-1, 1)\n",
    "\n",
    "    return M + 5 * np.log10(dL) - 5"
   ]
  },
  {
   "cell_type": "code",
   "execution_count": null,
   "metadata": {},
   "outputs": [],
   "source": [
    "w_central = central_wavelength()"
   ]
  },
  {
   "cell_type": "code",
   "execution_count": null,
   "metadata": {},
   "outputs": [],
   "source": [
    "def M_Arr_to_pm_flx(M_Arr, z, XX, YY, ZZ):\n",
    "    m = M_to_m(M_Arr, z, XX, YY, ZZ).T\n",
    "    flx = mag_to_flux(m, w_central.reshape(-1, 1))\n",
    "    return flx"
   ]
  },
  {
   "cell_type": "code",
   "execution_count": null,
   "metadata": {},
   "outputs": [],
   "source": [
    "xx, yy, zz = lc['pos'].T\n",
    "z = lc['redshift']\n",
    "Rdisk = lc['Rdisk']\n",
    "Rbulge = lc['Rbulge']\n",
    "Mdisk = lc['DiskMass']\n",
    "Mbulge = lc['BulgeMass']\n",
    "\n",
    "OII_flx_dust = (lc['FluxDust_OII3727'] + lc['FluxDust_OII3729'])\n",
    "OII_flx_nodust = (lc['Flux_OII3727'] + lc['Flux_OII3729'])\n",
    "\n",
    "OII_flx_correction = OII_flx_nodust / OII_flx_dust\n",
    "OII_flx_correction[~np.isfinite(OII_flx_correction)] = 1.\n",
    "\n",
    "pm_flx_lc = M_Arr_to_pm_flx(lc['ObsMagDustLine'], z, xx, yy, zz)\n",
    "pm_flx_c = M_Arr_to_pm_flx(lc['ObsMagDustNoLine'], z, xx, yy, zz)\n",
    "pm_flx_l = pm_flx_lc - pm_flx_c"
   ]
  },
  {
   "cell_type": "code",
   "execution_count": null,
   "metadata": {},
   "outputs": [],
   "source": [
    "# Mask OII lines\n",
    "w_0_Mat = np.ones_like(pm_flx_lc) * w_central.reshape(-1, 1) / (1 + z)\n",
    "w_0_OII = (3727.092 + 3729.875) * 0.5\n",
    "dw = 145\n",
    "mask_OII = np.abs(w_0_Mat - w_0_OII) < dw\n",
    "OII_flx_corr_Mat = np.ones_like(mask_OII) * OII_flx_correction\n",
    "OII_flx_corr_Mat[~mask_OII] = 1."
   ]
  },
  {
   "cell_type": "code",
   "execution_count": null,
   "metadata": {},
   "outputs": [],
   "source": [
    "pm_flx_lc = pm_flx_c + (pm_flx_l * OII_flx_corr_Mat)"
   ]
  },
  {
   "cell_type": "code",
   "execution_count": null,
   "metadata": {},
   "outputs": [],
   "source": [
    "print(np.sum(pm_mag_linecont[-2] < 24))\n",
    "\n",
    "fig, ax = plt.subplots(figsize=(6, 3))\n",
    "\n",
    "ax.hist(pm_mag_linecont[-2], np.linspace(15, 27, 50), histtype='stepfilled',\n",
    "        linewidth=1.5, edgecolor='k', facecolor='lightgray')\n",
    "\n",
    "ax.set_xlim(15, 26)\n",
    "ax.set_yscale('log')\n",
    "\n",
    "ax.set_ylabel('N of objects', fontsize=15)\n",
    "ax.set_xlabel('r [magAB]', fontsize=15)\n",
    "\n",
    "fig.savefig('/home/alberto/Desktop/LC_r_dist.pdf', bbox_inches='tight', facecolor='w')\n",
    "plt.show()\n",
    "\n",
    "fig, ax = plt.subplots(figsize=(6, 3))\n",
    "\n",
    "ax.hist(z, np.linspace(0, 5, 50), histtype='stepfilled',\n",
    "        linewidth=1.5, edgecolor='k', facecolor='lightgray')\n",
    "\n",
    "# ax.set_xlim(15, 26)\n",
    "# ax.set_yscale('log')\n",
    "\n",
    "ax.set_ylabel('N of objects', fontsize=15)\n",
    "ax.set_xlabel('redshift', fontsize=15)\n",
    "\n",
    "fig.savefig('/home/alberto/Desktop/LC_z_dist.pdf', bbox_inches='tight', facecolor='w')\n",
    "plt.show()"
   ]
  },
  {
   "cell_type": "code",
   "execution_count": null,
   "metadata": {},
   "outputs": [],
   "source": [
    "# pm_flx_noline, pm_err = add_errors(pm_flx_noline, apply_err=False, survey_name='minijpas')\n",
    "\n",
    "tcurves = np.load('../npy/tcurves.npy', allow_pickle=True).item()\n",
    "ftags = tcurves['tag']\n",
    "hdr = (ftags + [s + '_e' for s in ftags] + ['z', 'Rdisk', 'Rbulge', 'Mdisk', 'Mbulge'])\n",
    "\n",
    "data = np.vstack([pm_flx_lc, pm_flx_lc * 0., z, Rdisk, Rbulge, Mdisk, Mbulge]).T\n",
    "\n",
    "filename = f'/home/alberto/almacen/Source_cats/GAL_LC_lines_0.csv'\n",
    "pd.DataFrame(data=data).to_csv(filename, header=hdr)"
   ]
  }
 ],
 "metadata": {
  "kernelspec": {
   "display_name": "Python 3.9.12 ('base')",
   "language": "python",
   "name": "python3"
  },
  "language_info": {
   "codemirror_mode": {
    "name": "ipython",
    "version": 3
   },
   "file_extension": ".py",
   "mimetype": "text/x-python",
   "name": "python",
   "nbconvert_exporter": "python",
   "pygments_lexer": "ipython3",
   "version": "3.9.13"
  },
  "orig_nbformat": 4,
  "vscode": {
   "interpreter": {
    "hash": "ade4bca3e0042e0da78fecdb82351169c0f2ccedb06a0d7cf7342df8f7e47af7"
   }
  }
 },
 "nbformat": 4,
 "nbformat_minor": 2
}
