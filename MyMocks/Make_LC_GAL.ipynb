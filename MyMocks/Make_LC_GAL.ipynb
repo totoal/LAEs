{
 "cells": [
  {
   "cell_type": "code",
   "execution_count": 1,
   "metadata": {},
   "outputs": [],
   "source": [
    "import numpy as np\n",
    "import pandas as pd\n",
    "\n",
    "from my_utilities import *\n",
    "from Make_QSO_altered_2 import add_errors"
   ]
  },
  {
   "cell_type": "code",
   "execution_count": 2,
   "metadata": {},
   "outputs": [],
   "source": [
    "from astropy.cosmology import FlatLambdaCDM\n",
    "import astropy.units as u\n",
    "\n",
    "Hubble_h = 0.73\n",
    "Omega_M = 0.25\n",
    "Omega_Lambda = 0.75\n",
    "cosmo = FlatLambdaCDM(H0=Hubble_h*100, Om0=Omega_M)"
   ]
  },
  {
   "cell_type": "code",
   "execution_count": 3,
   "metadata": {},
   "outputs": [],
   "source": [
    "lc = np.load('/home/alberto/almacen/David_lightcone/LightCone_512_15sep2022.npy')"
   ]
  },
  {
   "cell_type": "code",
   "execution_count": 4,
   "metadata": {},
   "outputs": [],
   "source": [
    "def M_to_m(M, redshift, x, y, z):\n",
    "    '''\n",
    "    Computes the apparent magnitude from the absolute magnitude\n",
    "    Inputs:\n",
    "    M: Absolute magnitude\n",
    "    redshift: Redshift of the source\n",
    "    x, y, z: Coordinates in the Lightcone (pc)\n",
    "    '''\n",
    "    # Luminosity distance:\n",
    "    dL = cosmo.luminosity_distance(redshift).to(u.pc).value.reshape(-1, 1)\n",
    "\n",
    "    return M + 5 * np.log10(dL) - 5"
   ]
  },
  {
   "cell_type": "code",
   "execution_count": 5,
   "metadata": {},
   "outputs": [],
   "source": [
    "w_central = central_wavelength()"
   ]
  },
  {
   "cell_type": "code",
   "execution_count": 6,
   "metadata": {},
   "outputs": [],
   "source": [
    "M = lc['ObsMagDustLine']\n",
    "XX, YY, ZZ = lc['pos'].T\n",
    "z = lc['redshift']\n",
    "Rdisk = lc['Rdisk']\n",
    "Rbulge = lc['Rbulge']\n",
    "Mdisk = lc['DiskMass']\n",
    "Mbulge = lc['BulgeMass']\n",
    "OII_flux = lc['FluxDust_OII3729']\n",
    "pm_mag = M_to_m(M, z, XX, YY, ZZ).T\n",
    "pm_flx = mag_to_flux(pm_mag, w_central.reshape(-1, 1))"
   ]
  },
  {
   "cell_type": "code",
   "execution_count": 7,
   "metadata": {},
   "outputs": [
    {
     "ename": "ValueError",
     "evalue": "could not convert string to float: 's'",
     "output_type": "error",
     "traceback": [
      "\u001b[0;31m---------------------------------------------------------------------------\u001b[0m",
      "\u001b[0;31mValueError\u001b[0m                                Traceback (most recent call last)",
      "\u001b[1;32m/home/alberto/cosmos/LAEs/MyMocks/Make_LC_GAL.ipynb Cell 7\u001b[0m in \u001b[0;36m<cell line: 1>\u001b[0;34m()\u001b[0m\n\u001b[1;32m      <a href='vscode-notebook-cell:/home/alberto/cosmos/LAEs/MyMocks/Make_LC_GAL.ipynb#W6sZmlsZQ%3D%3D?line=0'>1</a>\u001b[0m \u001b[39mfor\u001b[39;00m survey_name \u001b[39min\u001b[39;00m [\u001b[39m'\u001b[39m\u001b[39mminijpas\u001b[39m\u001b[39m'\u001b[39m, \u001b[39m'\u001b[39m\u001b[39mjnep\u001b[39m\u001b[39m'\u001b[39m]:\n\u001b[0;32m----> <a href='vscode-notebook-cell:/home/alberto/cosmos/LAEs/MyMocks/Make_LC_GAL.ipynb#W6sZmlsZQ%3D%3D?line=1'>2</a>\u001b[0m     pm_flx, pm_err \u001b[39m=\u001b[39m add_errors(pm_flx, apply_err\u001b[39m=\u001b[39;49m\u001b[39mFalse\u001b[39;49;00m, survey_name\u001b[39m=\u001b[39;49msurvey_name)\n\u001b[1;32m      <a href='vscode-notebook-cell:/home/alberto/cosmos/LAEs/MyMocks/Make_LC_GAL.ipynb#W6sZmlsZQ%3D%3D?line=3'>4</a>\u001b[0m     tcurves \u001b[39m=\u001b[39m np\u001b[39m.\u001b[39mload(\u001b[39m'\u001b[39m\u001b[39m../npy/tcurves.npy\u001b[39m\u001b[39m'\u001b[39m, allow_pickle\u001b[39m=\u001b[39m\u001b[39mTrue\u001b[39;00m)\u001b[39m.\u001b[39mitem()\n\u001b[1;32m      <a href='vscode-notebook-cell:/home/alberto/cosmos/LAEs/MyMocks/Make_LC_GAL.ipynb#W6sZmlsZQ%3D%3D?line=4'>5</a>\u001b[0m     ftags \u001b[39m=\u001b[39m tcurves[\u001b[39m'\u001b[39m\u001b[39mtag\u001b[39m\u001b[39m'\u001b[39m]\n",
      "File \u001b[0;32m~/cosmos/LAEs/MyMocks/Make_QSO_altered_2.py:89\u001b[0m, in \u001b[0;36madd_errors\u001b[0;34m(pm_SEDs, apply_err, survey_name)\u001b[0m\n\u001b[1;32m     85\u001b[0m N_src_i \u001b[39m=\u001b[39m N_sources \u001b[39m/\u001b[39m\u001b[39m/\u001b[39m \u001b[39m4\u001b[39m\n\u001b[1;32m     87\u001b[0m tile_id_Arr \u001b[39m=\u001b[39m [\u001b[39m2241\u001b[39m, \u001b[39m2243\u001b[39m, \u001b[39m2406\u001b[39m, \u001b[39m2470\u001b[39m]\n\u001b[0;32m---> 89\u001b[0m i \u001b[39m=\u001b[39m \u001b[39mfloat\u001b[39;49m(survey_name[\u001b[39m-\u001b[39;49m\u001b[39m1\u001b[39;49m])\n\u001b[1;32m     91\u001b[0m detec_lim_i \u001b[39m=\u001b[39m detec_lim[:, i]\u001b[39m.\u001b[39mreshape(\u001b[39m-\u001b[39m\u001b[39m1\u001b[39m, \u001b[39m1\u001b[39m)\n\u001b[1;32m     93\u001b[0m \u001b[39mif\u001b[39;00m i \u001b[39m==\u001b[39m \u001b[39m1\u001b[39m:\n",
      "\u001b[0;31mValueError\u001b[0m: could not convert string to float: 's'"
     ]
    }
   ],
   "source": [
    "for survey_name in ['minijpas', 'jnep']:\n",
    "    pm_flx, pm_err = add_errors(pm_flx, apply_err=False, survey_name=survey_name)\n",
    "\n",
    "    tcurves = np.load('../npy/tcurves.npy', allow_pickle=True).item()\n",
    "    ftags = tcurves['tag']\n",
    "    hdr = (ftags + [s + '_e' for s in ftags] + ['z', 'Rdisk', 'Rbulge', 'Mdisk', 'Mbulge'])\n",
    "\n",
    "    data = np.vstack([pm_flx, pm_err, z, Rdisk, Rbulge, Mdisk, Mbulge]).T\n",
    "\n",
    "    filename = f'/home/alberto/almacen/Source_cats/GAL_LC_{survey_name}_0.csv'\n",
    "    pd.DataFrame(data=data).to_csv(filename, header=hdr)"
   ]
  }
 ],
 "metadata": {
  "kernelspec": {
   "display_name": "Python 3.9.12 ('base')",
   "language": "python",
   "name": "python3"
  },
  "language_info": {
   "codemirror_mode": {
    "name": "ipython",
    "version": 3
   },
   "file_extension": ".py",
   "mimetype": "text/x-python",
   "name": "python",
   "nbconvert_exporter": "python",
   "pygments_lexer": "ipython3",
   "version": "3.9.13"
  },
  "orig_nbformat": 4,
  "vscode": {
   "interpreter": {
    "hash": "ade4bca3e0042e0da78fecdb82351169c0f2ccedb06a0d7cf7342df8f7e47af7"
   }
  }
 },
 "nbformat": 4,
 "nbformat_minor": 2
}
