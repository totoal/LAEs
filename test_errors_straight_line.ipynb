{
 "cells": [
  {
   "cell_type": "code",
   "execution_count": null,
   "source": [
    "import numpy as np\n",
    "import matplotlib.pyplot as plt\n",
    "from my_functions import *"
   ],
   "outputs": [],
   "metadata": {}
  },
  {
   "cell_type": "code",
   "execution_count": null,
   "source": [
    "N_sources = 3000\n",
    "\n",
    "m_Arr = (np.random.rand(N_sources) * (5e-22 + 5e-22) - 5e-22).reshape(-1, 1)\n",
    "b_Arr = (np.random.rand(N_sources) * (1e-20 - 1e-22) + 1e-22).reshape(-1, 1)"
   ],
   "outputs": [],
   "metadata": {}
  },
  {
   "cell_type": "code",
   "execution_count": null,
   "source": [
    "cat = {\n",
    "    'w': np.linspace(3500, 9300, 60),\n",
    "    'phot': (\n",
    "        np.ones((N_sources, 60)) * np.linspace(3500, 9300, 60) * m_Arr + b_Arr\n",
    "    )\n",
    "}\n",
    "cat['phot_w_err'] = cat['phot'] * (1 + np.random.randn(N_sources, 60) * 0.2)"
   ],
   "outputs": [],
   "metadata": {}
  },
  {
   "cell_type": "code",
   "execution_count": null,
   "source": [
    "fig, ax = plt.subplots(figsize=(12, 9))\n",
    "\n",
    "ax.errorbar(cat['w'], cat['phot_w_err'][33], yerr=0.2*cat['phot_w_err'][33],\n",
    "        linestyle='none', fmt='.')\n",
    "ax.plot(cat['w'], cat['phot'][33], linestyle='dashed', zorder=-1)"
   ],
   "outputs": [],
   "metadata": {}
  },
  {
   "cell_type": "code",
   "execution_count": null,
   "source": [],
   "outputs": [],
   "metadata": {}
  }
 ],
 "metadata": {
  "orig_nbformat": 4,
  "language_info": {
   "name": "python",
   "version": "3.9.7",
   "mimetype": "text/x-python",
   "codemirror_mode": {
    "name": "ipython",
    "version": 3
   },
   "pygments_lexer": "ipython3",
   "nbconvert_exporter": "python",
   "file_extension": ".py"
  },
  "kernelspec": {
   "name": "python3",
   "display_name": "Python 3.9.7 64-bit ('py39': conda)"
  },
  "interpreter": {
   "hash": "7575b0615c19929a6803b70fb96802dc113bd8069c0dbfa1f636b20d364f1413"
  }
 },
 "nbformat": 4,
 "nbformat_minor": 2
}