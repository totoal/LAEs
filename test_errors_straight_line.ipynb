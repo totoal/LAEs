{
 "cells": [
  {
   "cell_type": "code",
   "execution_count": 15,
   "source": [
    "import numpy as np\n",
    "import matplotlib.pyplot as plt\n",
    "from my_functions import *"
   ],
   "outputs": [],
   "metadata": {}
  },
  {
   "cell_type": "code",
   "execution_count": 16,
   "source": [
    "N_sources = 3000\n",
    "\n",
    "m_Arr = (np.random.rand(N_sources) * 1e-17).reshape(-1, 1)\n",
    "b_Arr = (np.random.rand(N_sources) * (1e-16 - 1e-18) + 1e-18).reshape(-1, 1)"
   ],
   "outputs": [],
   "metadata": {}
  },
  {
   "cell_type": "code",
   "execution_count": 17,
   "source": [
    "errors = np.load('npy/errors5Sigma.npy')[:,1]"
   ],
   "outputs": [],
   "metadata": {}
  },
  {
   "cell_type": "code",
   "execution_count": 18,
   "source": [
    "cat = {\n",
    "    'SEDs': np.ones((N_sources, 10000)) * np.linspace(3000, 10000, 10000) * m_Arr + b_Arr\n",
    "}"
   ],
   "outputs": [],
   "metadata": {}
  }
 ],
 "metadata": {
  "orig_nbformat": 4,
  "language_info": {
   "name": "python",
   "version": "3.9.7",
   "mimetype": "text/x-python",
   "codemirror_mode": {
    "name": "ipython",
    "version": 3
   },
   "pygments_lexer": "ipython3",
   "nbconvert_exporter": "python",
   "file_extension": ".py"
  },
  "kernelspec": {
   "name": "python3",
   "display_name": "Python 3.9.7 64-bit ('py39': conda)"
  },
  "interpreter": {
   "hash": "7575b0615c19929a6803b70fb96802dc113bd8069c0dbfa1f636b20d364f1413"
  }
 },
 "nbformat": 4,
 "nbformat_minor": 2
}