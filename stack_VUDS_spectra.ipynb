{
 "cells": [
  {
   "cell_type": "code",
   "execution_count": null,
   "metadata": {},
   "outputs": [],
   "source": [
    "import numpy as np\n",
    "\n",
    "import matplotlib.pyplot as plt\n",
    "\n",
    "import h5py\n",
    "import deepdish as dd\n",
    "import pickle"
   ]
  },
  {
   "cell_type": "code",
   "execution_count": null,
   "metadata": {},
   "outputs": [],
   "source": [
    "w_lya = 1215.67"
   ]
  },
  {
   "cell_type": "code",
   "execution_count": null,
   "metadata": {},
   "outputs": [],
   "source": [
    "# LOAD VUDS\n",
    "\n",
    "filename = '/home/alberto/almacen/VUDS_and_VVDS/vuds/cesam_vuds_dr1.h5'\n",
    "\n",
    "with h5py.File(filename, \"r\") as f:\n",
    "    # List all groups\n",
    "    print(\"Keys: %s\" % f.keys())\n",
    "    a_group_key = list(f.keys())[0]\n",
    "\n",
    "    # Get the data\n",
    "    spec_f = np.array(f['spectra'])\n",
    "    spec_w = np.array(f['wavelen'])\n",
    "    z_Arr = np.array(f['zspec'])\n",
    "    L_Arr = np.array(f['lyalum'])\n",
    "    EW_Arr = np.array(f['lya_ew'])\n",
    "    g_Arr = np.array(f['gJAVA_flux'])[:, 0]\n",
    "\n",
    "mask = (L_Arr > 0) & (z_Arr > 1.9) & (z_Arr < 5)\n",
    "\n",
    "spec_f = spec_f[mask]\n",
    "z_Arr = z_Arr[mask]\n",
    "spec_w = np.ones(spec_f.shape) * spec_w\n",
    "\n",
    "# LOAD VVDS\n",
    "\n",
    "filename = '/home/alberto/almacen/VUDS_and_VVDS/vvds/lyalpha_spec.h5'\n",
    "\n",
    "vvds = dd.io.load(filename)\n",
    "\n",
    "# Get the data and concatenate with VUDS\n",
    "spec_f = np.vstack([spec_f, np.array(vvds['fluxes'][8:, :, 0])])\n",
    "spec_w = np.vstack([spec_w, np.array(vvds['w'])[8:]])\n",
    "z_Arr = np.concatenate([z_Arr, np.array(vvds['zspec'])[8:]])"
   ]
  },
  {
   "cell_type": "code",
   "execution_count": null,
   "metadata": {},
   "outputs": [],
   "source": [
    "len(np.where(mask)[0]) + 30"
   ]
  },
  {
   "cell_type": "code",
   "execution_count": null,
   "metadata": {},
   "outputs": [],
   "source": [
    "# Offset between each source and desired redshift\n",
    "spec_w_corrected = spec_w / (1 + z_Arr).reshape(-1, 1)\n",
    "\n",
    "w_resolution = 0.1\n",
    "w_start = spec_w_corrected.min()\n",
    "w_stop = spec_w_corrected.max()\n",
    "print(f'w interval : ({w_start:0.1f}, {w_stop:0.1f})')\n",
    "stack_w = np.arange(w_start, w_stop, w_resolution)\n",
    "\n",
    "# Normalize the rest-frame spectrum\n",
    "norm_band = [1250, 2750]\n",
    "norm_band_idx = (stack_w > norm_band[0]) & (stack_w < norm_band[1])\n",
    "\n",
    "to_stack_f = np.zeros((len(spec_f), len(stack_w)))\n",
    "for src in range(len(spec_f)):\n",
    "    to_stack_f[src] = np.interp(\n",
    "        stack_w, spec_w_corrected[src], spec_f[src], right=0., left=0.\n",
    "    )\n",
    "    norm = np.sum(to_stack_f[src][norm_band_idx] *\n",
    "                  w_resolution) / (norm_band[1] - norm_band[0])\n",
    "    to_stack_f[src] /= norm\n",
    "\n",
    "# Sum all the fluxes and divide by how many times the flux is not zero in that w bin\n",
    "w_weights = np.ones(to_stack_f.shape)\n",
    "w_weights[to_stack_f == 0.] = 0\n",
    "mask_w = (w_weights > 0)\n",
    "\n",
    "stack_f = np.zeros(to_stack_f.shape[1])\n",
    "stack_minus = np.zeros(to_stack_f.shape[1])\n",
    "stack_plus = np.zeros(to_stack_f.shape[1])\n",
    "for w_bin in range(to_stack_f.shape[1]):\n",
    "    mask = (mask_w[:, w_bin] > 0)\n",
    "    stack_f[w_bin], stack_minus[w_bin], stack_plus[w_bin] =\\\n",
    "        np.percentile(to_stack_f[:, w_bin][mask], [50, 16, 84])"
   ]
  },
  {
   "cell_type": "code",
   "execution_count": null,
   "metadata": {},
   "outputs": [],
   "source": [
    "# # Save it\n",
    "# fw_dict = {\n",
    "#     'wavelength': stack_w,\n",
    "#     'normalized_flux': stack_f\n",
    "# }\n",
    "\n",
    "# pathname = '/home/alberto/cosmos/LAEs/MyMocks/TAU_PROJECT/FIT_STACK_SPECTRUM_LAE/VUDS_stack_files'\n",
    "# filename = 'Stack_flux_w_dict.pkl'\n",
    "# with open(f'{pathname}/{filename}', 'wb') as f:\n",
    "#     pickle.dump(fw_dict, f)"
   ]
  },
  {
   "cell_type": "code",
   "execution_count": null,
   "metadata": {},
   "outputs": [],
   "source": [
    "fig, ax = plt.subplots(figsize=(15, 6))\n",
    "\n",
    "ax.plot(stack_w, stack_f)\n",
    "\n",
    "ax.set_ylim((3e-1, 3))\n",
    "ax.set_xlim(800, 3100)\n",
    "ax.set_yscale('log')\n",
    "\n",
    "# plt.savefig('/home/alberto/Desktop/stack', bbox_inches='tight', facecolor='white')\n",
    "plt.show()"
   ]
  },
  {
   "cell_type": "code",
   "execution_count": null,
   "metadata": {},
   "outputs": [],
   "source": [
    "fig, ax = plt.subplots(figsize=(5, 3))\n",
    "\n",
    "for src in np.random.choice(range(len(to_stack_f)), 1):\n",
    "    print(EW_Arr[src])\n",
    "    print(np.log10(L_Arr[src]))\n",
    "    # ax.plot(stack_w, to_stack_f[src], alpha=0.4, c='dimgray')\n",
    "\n",
    "ax.plot(stack_w, stack_f, c='red', label='Stacked spectrum')\n",
    "ax.fill_between(stack_w, stack_plus, stack_minus, color='r',\n",
    "                alpha=0.3, edgecolor='none')\n",
    "\n",
    "# ax.axvline(1500)\n",
    "# ax.axvline(2000)\n",
    "\n",
    "ax.legend(fontsize=11)\n",
    "\n",
    "ax.set_ylim((-2, 6))\n",
    "ax.set_xlim((700, 3100))\n",
    "\n",
    "ax.set_xlabel('$\\lambda_0\\ (\\AA)$', fontsize=12)\n",
    "ax.set_ylabel('$f_\\lambda$ (A. U.)', fontsize=12)\n",
    "\n",
    "plt.savefig('/home/alberto/Desktop/stack.png', bbox_inches='tight', facecolor='white')\n",
    "plt.show()"
   ]
  }
 ],
 "metadata": {
  "interpreter": {
   "hash": "ade4bca3e0042e0da78fecdb82351169c0f2ccedb06a0d7cf7342df8f7e47af7"
  },
  "kernelspec": {
   "display_name": "Python 3.9.12 ('base')",
   "language": "python",
   "name": "python3"
  },
  "language_info": {
   "codemirror_mode": {
    "name": "ipython",
    "version": 3
   },
   "file_extension": ".py",
   "mimetype": "text/x-python",
   "name": "python",
   "nbconvert_exporter": "python",
   "pygments_lexer": "ipython3",
   "version": "3.9.13"
  },
  "orig_nbformat": 4
 },
 "nbformat": 4,
 "nbformat_minor": 2
}
