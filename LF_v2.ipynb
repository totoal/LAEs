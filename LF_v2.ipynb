{
 "cells": [
  {
   "cell_type": "code",
   "execution_count": null,
   "id": "343c7e02",
   "metadata": {},
   "outputs": [],
   "source": [
    "import numpy as np\n",
    "import matplotlib.pyplot as plt\n",
    "from my_functions import *\n",
    "import csv"
   ]
  },
  {
   "cell_type": "code",
   "execution_count": null,
   "id": "af40f400",
   "metadata": {},
   "outputs": [],
   "source": [
    "## Function that loads from a csv file the DualABMag minijpas catalog with associated photoz,\n",
    "## odds, and GAIA apparent move data.\n",
    "def load_cat_photoz_gaia(filename):\n",
    "    with open(filename, mode='r') as csvfile:\n",
    "        rdlns = csv.reader(csvfile, delimiter=',')\n",
    "        next(rdlns, None)\n",
    "        next(rdlns, None)\n",
    "        \n",
    "        number = []\n",
    "        mag = []\n",
    "        mag_err = []\n",
    "        flags = []\n",
    "        mflags = []\n",
    "        photoz = []\n",
    "        odds = []\n",
    "        parallax = []\n",
    "        parallax_err = []\n",
    "        pmra = []\n",
    "        pmra_err = []\n",
    "        pmdec = []\n",
    "        pmdec_err = []\n",
    "        \n",
    "        for line in rdlns:\n",
    "            number.append(line[0])\n",
    "            mag.append(line[1].split())\n",
    "            mag_err.append(line[2].split())\n",
    "            flags.append(line[3].split())\n",
    "            mflags.append(line[4].split())\n",
    "            photoz.append(line[5])\n",
    "            odds.append(line[6])\n",
    "            parallax.append(line[7])\n",
    "            parallax_err.append(line[8])\n",
    "            pmra.append(line[9])\n",
    "            pmra_err.append(line[10])\n",
    "            pmdec.append(line[11])\n",
    "            pmdec_err.append(line[12])\n",
    "            \n",
    "    columns = [\n",
    "        number, mag, mag_err,\n",
    "        flags, mflags, photoz,\n",
    "        odds, parallax, parallax_err,\n",
    "        pmra, pmra_err, pmdec,\n",
    "        pmdec_err\n",
    "    ]\n",
    "    cat_keys = [\n",
    "        'number', 'mag', 'mag_err', 'flags',\n",
    "        'mflags', 'photoz', 'odds', 'parallax',\n",
    "        'parallax_err', 'pmra', 'pmra_err',\n",
    "        'pmdec', 'pmdec_err'\n",
    "    ]\n",
    "    cat_types = [\n",
    "        int, float, float, int,\n",
    "        int, float, float, float,\n",
    "        float, float, float, float, float\n",
    "    ]\n",
    "    cat = {}\n",
    "    \n",
    "    for col,key in zip(columns, cat_keys):\n",
    "        cat[key] = np.array(col)\n",
    "    # Substitute empty values by NumPy NaN\n",
    "    for k,t in zip(cat.keys(), cat_types):\n",
    "        cat[k][np.where(cat[k] == '')] = np.nan\n",
    "        cat[k] = cat[k].astype(t)\n",
    "    \n",
    "    return cat"
   ]
  },
  {
   "cell_type": "code",
   "execution_count": null,
   "id": "f5c91bac",
   "metadata": {},
   "outputs": [],
   "source": [
    "## Function to compute the probability of a reliable excess for nb_ind and bb_ind\n",
    "def p_lya_bbnb(bb_ind, nb_ind, catalog):\n",
    "    bb_m_zero = cat['mag'][:, bb_ind]\n",
    "    nb_m_zero = cat['mag'][:, nb_ind]\n",
    "    odds = cat['odds']\n",
    "    \n",
    "    # Mask sources with negative flux values (i.e. m = 99)\n",
    "    mask_neg_flux = (bb_m_zero < 90) & (nb_m_zero < 90)\n",
    "    print('mask_neg_flux: {}'.format(len(np.where(~mask_neg_flux)[0])))\n",
    "    # Mask sources with too high photoz odds\n",
    "    mask_pz_odds = (odds < 0.98)\n",
    "    print('mask_pz_odds:  {}'.format(len(np.where(~mask_pz_odds)[0])))\n",
    "    # Mask sources with proper motion according to Gaia (sigma > 3)\n",
    "    parallax_relerr = np.abs(cat['parallax_err']) / cat['parallax']\n",
    "    pmra_relerr = np.abs(cat['pmra_err']) / cat['pmra']\n",
    "    pmdec_relerr = np.abs(cat['pmdec_err']) / cat['pmdec']\n",
    "    mask_pmotion = (\n",
    "          (np.sqrt(parallax_relerr**2 + pmra_relerr**2 + pmdec_relerr**2) > np.sqrt(27))\n",
    "        | ( np.isnan(parallax_relerr) | np.isnan(pmra_relerr) | np.isnan(pmdec_relerr) )\n",
    "    )\n",
    "    print('mask_pmotion:  {}'.format(len(np.where(~mask_pmotion)[0])))\n",
    "    \n",
    "    bb_m = bb_m_zero[mask_neg_flux & mask_pz_odds & mask_pmotion]\n",
    "    nb_m = nb_m_zero[mask_neg_flux & mask_pz_odds & mask_pmotion]\n",
    "    print('\\nN sources: {}'.format(bb_m.shape[0]))"
   ]
  },
  {
   "cell_type": "code",
   "execution_count": null,
   "id": "a6ae1494",
   "metadata": {},
   "outputs": [],
   "source": [
    "## Load the catalog\n",
    "filename = 'csv/minijpas.magAB_photoz_gaia.csv'\n",
    "cat = load_cat_photoz_gaia(filename)"
   ]
  },
  {
   "cell_type": "code",
   "execution_count": null,
   "id": "3693d557",
   "metadata": {},
   "outputs": [],
   "source": [
    "p_lya_bbnb(-3, 13, cat)"
   ]
  },
  {
   "cell_type": "code",
   "execution_count": null,
   "id": "c5f0e1f4",
   "metadata": {},
   "outputs": [],
   "source": [
    "cat['pmdec_err']"
   ]
  },
  {
   "cell_type": "code",
   "execution_count": null,
   "id": "3c312098",
   "metadata": {},
   "outputs": [],
   "source": []
  }
 ],
 "metadata": {
  "kernelspec": {
   "display_name": "Python 3",
   "language": "python",
   "name": "python3"
  },
  "language_info": {
   "codemirror_mode": {
    "name": "ipython",
    "version": 3
   },
   "file_extension": ".py",
   "mimetype": "text/x-python",
   "name": "python",
   "nbconvert_exporter": "python",
   "pygments_lexer": "ipython3",
   "version": "3.8.10"
  }
 },
 "nbformat": 4,
 "nbformat_minor": 5
}
