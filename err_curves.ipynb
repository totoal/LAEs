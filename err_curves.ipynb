{
 "cells": [
  {
   "cell_type": "code",
   "execution_count": null,
   "metadata": {},
   "outputs": [],
   "source": [
    "import numpy as np\n",
    "from my_functions import *\n",
    "import matplotlib.pyplot as plt\n",
    "import pandas as pd\n",
    "import glob"
   ]
  },
  {
   "cell_type": "code",
   "execution_count": null,
   "metadata": {},
   "outputs": [],
   "source": [
    "split_converter = lambda s: s.split()\n",
    "sum_flags = lambda s: np.sum(np.array(s.split()).astype(float))\n",
    "tile_name = lambda s: s[:8]\n",
    "\n",
    "cat = pd.read_csv('csv/minijpas.MagAB_aper3_photoz_gaia_4.csv', sep=',', header=1,\n",
    "    converters={2: split_converter, 3: split_converter, 4: sum_flags,\n",
    "    5: sum_flags, 21: tile_name})\n",
    "\n",
    "cat = cat[np.array([len(x) for x in cat['MAG_APER_3_0']]) != 0]\n",
    "cat = cat[np.array(cat['FLAGS']) + np.array(cat['MASK_FLAGS']) == 0] "
   ]
  },
  {
   "cell_type": "code",
   "execution_count": null,
   "metadata": {},
   "outputs": [],
   "source": [
    "w_central = central_wavelength().reshape(-1, 1)"
   ]
  },
  {
   "cell_type": "code",
   "execution_count": null,
   "metadata": {},
   "outputs": [],
   "source": [
    "# # Load QSO catalog\n",
    "# filename = ('/home/alberto/cosmos/JPAS_mocks_sep2021/'\n",
    "#     'JPAS_mocks_classification_19nov_model11/Magnitudes_model_11/Qso_jpas_mock_mag_train.cat')\n",
    "\n",
    "# my_filter_order = np.arange(60)\n",
    "# my_filter_order[[-4, -3, -2, -1]] = np.array([1, 12, 28, 43])\n",
    "# my_filter_order[1:-4] += 1\n",
    "# my_filter_order[12:-4] += 1\n",
    "# my_filter_order[28:-4] += 1\n",
    "# my_filter_order[43:-4] += 1\n",
    "\n",
    "# qso_flx = pd.read_csv(\n",
    "#     filename, sep=' ', usecols=range(2, 2 + 60)\n",
    "# ).to_numpy().T[my_filter_order]\n",
    "# qso_err = pd.read_csv(\n",
    "#     filename, sep=' ', usecols=range(2 + 60, 2 + 60 + 60)\n",
    "# ).to_numpy().T[my_filter_order]\n",
    "# qso_zspec = pd.read_csv(filename, sep=' ', usecols=[127]).to_numpy().reshape(-1, )\n",
    "\n",
    "# # Randomly sample sources corresponding to 200 deg2\n",
    "# idx = np.arange(100_000)"
   ]
  },
  {
   "cell_type": "code",
   "execution_count": null,
   "metadata": {},
   "outputs": [],
   "source": [
    "# Load my QSO catalog\n",
    "\n",
    "filename = '/home/alberto/almacen/Source_cats/QSO_100000_v4/data.csv'\n",
    "\n",
    "data = pd.read_csv(filename)\n",
    "qso_flx = data.to_numpy()[:, 1 : 60 + 1].T\n",
    "qso_err = np.abs(data.to_numpy()[:, 60 + 1 : 120 + 1].T)\n",
    "\n",
    "qso_err = -flux_to_mag(qso_flx + qso_err, w_central) + flux_to_mag(qso_flx, w_central)\n",
    "qso_flx = flux_to_mag(qso_flx, w_central)\n",
    "nanmag = np.isnan(qso_flx)\n",
    "qso_flx[nanmag] = 99.\n",
    "qso_err[nanmag] = 99.\n"
   ]
  },
  {
   "cell_type": "code",
   "execution_count": null,
   "metadata": {},
   "outputs": [],
   "source": [
    "## Load SF catalog\n",
    "\n",
    "filename = '/home/alberto/almacen/Source_cats/LAE_10deg_z2-4_v4/'\n",
    "files = glob.glob(filename +'data*')\n",
    "files.sort()\n",
    "fi = []\n",
    "\n",
    "for name in files:\n",
    "    fi.append(pd.read_csv(name))\n",
    "\n",
    "data = pd.concat(fi, axis=0, ignore_index=True)\n",
    "\n",
    "sf_flx = data.to_numpy()[:, 1 : 60 + 1].T\n",
    "sf_err = np.abs(data.to_numpy()[:, 60 + 1 : 120 + 1].T)\n",
    "\n",
    "sf_err = -flux_to_mag(sf_flx + sf_err, w_central) + flux_to_mag(sf_flx, w_central)\n",
    "sf_flx = flux_to_mag(sf_flx, w_central)\n",
    "nanmag = np.isnan(sf_flx)\n",
    "sf_flx[nanmag] = 99.\n",
    "sf_err[nanmag] = 99."
   ]
  },
  {
   "cell_type": "code",
   "execution_count": null,
   "metadata": {},
   "outputs": [],
   "source": [
    "params_tiles = []\n",
    "for tile in ['AEGIS002']:\n",
    "    flx = np.stack(\n",
    "        cat['MAG_APER_3_0'].to_numpy()[np.where(cat['name'] == tile)[0]]\n",
    "    ).astype(float).T\n",
    "    flx_err = np.stack(\n",
    "        cat['MAG_ERR_APER_3_0'].to_numpy()[np.where(cat['name'] == tile)[0]]\n",
    "    ).astype(float).T"
   ]
  },
  {
   "cell_type": "code",
   "execution_count": null,
   "metadata": {},
   "outputs": [],
   "source": [
    "detec_lim = np.vstack(\n",
    "    (\n",
    "        pd.read_csv('csv/5sigma_depths_NB.csv', header=None),\n",
    "        pd.read_csv('csv/5sigma_depths_BB.csv', header=None)\n",
    "    )\n",
    ")[:, 1]"
   ]
  },
  {
   "cell_type": "code",
   "execution_count": null,
   "metadata": {},
   "outputs": [],
   "source": [
    "fig, ax = plt.subplots(figsize=(8, 6))\n",
    "\n",
    "nb_c = 11\n",
    "mask = (flx[nb_c] < 25)\n",
    "qso_mask = (qso_flx[nb_c] < 25)\n",
    "sf_mask = (sf_flx[nb_c] < 25)\n",
    "ax.scatter(flx[nb_c, mask], flx_err[nb_c, mask], label='miniJPAS', zorder=99, alpha=0.2)\n",
    "ax.scatter(qso_flx[nb_c, qso_mask], qso_err[nb_c, qso_mask], label='QSO mock', alpha=0.2)\n",
    "ax.scatter(sf_flx[nb_c, sf_mask], sf_err[nb_c, sf_mask], label='SF mock')\n",
    "\n",
    "# x_Arr = np.linspace(1e-20, 1e-16, 100)\n",
    "\n",
    "ax.axvline(detec_lim[nb_c], ls='--', color='k')\n",
    "\n",
    "ax.set_xlim((18, 24))\n",
    "ax.set_ylim((0, 1))\n",
    "\n",
    "ax.legend(fontsize=15)\n",
    "\n",
    "ax.set_xlabel('r (magAB)', fontsize=15)\n",
    "ax.set_ylabel('$\\sigma$(r) (magAB)', fontsize=15)\n",
    "ax.set_title(f'NB {nb_c}', fontsize=20)\n",
    "\n",
    "# ax.set_yscale('log')\n",
    "# ax.set_xscale('log')\n",
    "\n",
    "plt.show()"
   ]
  }
 ],
 "metadata": {
  "interpreter": {
   "hash": "7575b0615c19929a6803b70fb96802dc113bd8069c0dbfa1f636b20d364f1413"
  },
  "kernelspec": {
   "display_name": "Python 3.9.7 64-bit ('py39': conda)",
   "name": "python3"
  },
  "language_info": {
   "codemirror_mode": {
    "name": "ipython",
    "version": 3
   },
   "file_extension": ".py",
   "mimetype": "text/x-python",
   "name": "python",
   "nbconvert_exporter": "python",
   "pygments_lexer": "ipython3",
   "version": "3.9.7"
  },
  "orig_nbformat": 4
 },
 "nbformat": 4,
 "nbformat_minor": 2
}
