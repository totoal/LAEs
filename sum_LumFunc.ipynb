{
 "cells": [
  {
   "cell_type": "code",
   "execution_count": null,
   "id": "7e4e9f06",
   "metadata": {},
   "outputs": [],
   "source": [
    "import numpy as np\n",
    "import csv\n",
    "import matplotlib.pyplot as plt\n",
    "from scipy.special import erf\n",
    "from colorplot import load_mags, color_cut, make_colorplot, plot_selection\n",
    "from my_functions import *\n",
    "from LumFunc_miniJPAS import LumFunc_hist, LumFunc"
   ]
  },
  {
   "cell_type": "code",
   "execution_count": null,
   "id": "0399f1cc",
   "metadata": {},
   "outputs": [],
   "source": [
    "cat = load_noflag_cat('pkl/catalogDual_pz.pkl')\n",
    "ftags = load_filter_tags()"
   ]
  },
  {
   "cell_type": "markdown",
   "id": "0837e9d0",
   "metadata": {},
   "source": [
    "### Probabilistic approach\n",
    "Assuming gaussian error (valid up to SNR ~ 5):\n",
    "\n",
    "$P(\\mathrm{BB})=\\mathcal{N}(\\mathrm{BB},\\,\\sigma_\\mathrm{BB}^2)\\\\\n",
    "P(\\mathrm{NB})=\\mathcal{N}(\\mathrm{NB},\\,\\sigma_\\mathrm{NB}^2)$\n",
    "\n",
    "Line excess: $\\mathrm{BB} - \\mathrm{NB}$, then\n",
    "\n",
    "$P(\\mathrm{BB}-\\mathrm{NB})=\\mathcal{N}(\\mathrm{BB}-\\mathrm{NB},\\,\\sigma_\\mathrm{BB}^2+\\sigma_\\mathrm{NB}^2)$\n",
    "\n",
    "The probability of an emission line is:\n",
    "\n",
    "$P(\\mathrm{line})=\\int_{\\mathrm{EW}_0=30\\,\\unicode{x212B}}^{\\infty}\\mathcal{N}(\\mathrm{BB}-\\mathrm{NB},\\,\\sigma_\\mathrm{BB}^2+\\sigma_\\mathrm{NB}^2)\n",
    "=\\frac{1}{2}-\\frac{1}{2}\\cdot\\mathrm{erf}\\left(\\frac{m_{\\mathrm{EW}_0=30\\,\\unicode{x212B}}-(\\mathrm{BB}-\\mathrm{NB})}{\\sqrt{2}(\\sigma_\\mathrm{BB}^2+\\sigma_\\mathrm{NB}^2)}\\right)$"
   ]
  },
  {
   "cell_type": "code",
   "execution_count": null,
   "id": "b7f3514d",
   "metadata": {
    "scrolled": false
   },
   "outputs": [],
   "source": [
    "for nb_ind in [9, 10, 11, 12, 13]:\n",
    "#     nb_ind = 8 # J0480\n",
    "    print(ftags[nb_ind])\n",
    "    bb_ind = -3\n",
    "    nb_m, bb_m, nb_e, bb_e, bbcut, nbcut = load_mags(nb_ind, bb_ind)\n",
    "\n",
    "    mu = bb_m - nb_m\n",
    "    sigma = np.sqrt(bb_e**2 + nb_e**2)\n",
    "    m_ew = color_cut(30, nb_ind) + np.nanmedian(mu)\n",
    "    p_line = 0.5 - 0.5*erf((m_ew - mu) / (np.sqrt(2)*sigma))\n",
    "\n",
    "    make_colorplot(cat, bb_ind, nb_ind, [], 'NB', False, p_line, True)"
   ]
  },
  {
   "cell_type": "code",
   "execution_count": null,
   "id": "72699522",
   "metadata": {
    "scrolled": false
   },
   "outputs": [],
   "source": [
    "for nb_ind in [9, 10, 11, 12, 13]:\n",
    "#     nb_ind = 8 # J0480\n",
    "    print(ftags[nb_ind])\n",
    "    bb_ind = -3\n",
    "    nb_m, bb_m, nb_e, bb_e, bbcut, nbcut = load_mags(nb_ind, bb_ind)\n",
    "    \n",
    "    min_score = 3\n",
    "\n",
    "    mu = bb_m - nb_m\n",
    "    sigma = np.sqrt(bb_e**2 + nb_e**2)\n",
    "    m_ew = color_cut(30, nb_ind) + np.nanmedian(mu)\n",
    "    p_line = 0.5 - 0.5*erf((m_ew - mu) / (np.sqrt(2)*sigma))\n",
    "    selection, = np.where((p_line > erf(min_score/np.sqrt(2))) & (nb_m < nbcut) & (bb_m < bbcut))\n",
    "    print(selection.shape[0])\n",
    "    make_colorplot(cat, bb_ind, nb_ind, selection, 'NB', False)"
   ]
  },
  {
   "cell_type": "code",
   "execution_count": null,
   "id": "cd8a090d",
   "metadata": {
    "scrolled": true
   },
   "outputs": [],
   "source": [
    "filename = 'selected_sources/src'\n",
    "\n",
    "mask_fzero = (cat['MAG'][:,nb_ind] < 90) & (cat['MAG'][:,bb_ind] < 90)\n",
    "masked_mags = cat['MAG'][mask_fzero, :]\n",
    "masked_errs = cat['ERR'][mask_fzero, :]\n",
    "\n",
    "# plot_selection(selection, nb_ind, filename, masked_mags, masked_errs)"
   ]
  },
  {
   "cell_type": "markdown",
   "id": "3431693a",
   "metadata": {},
   "source": [
    "## Cumulative LumFunc"
   ]
  },
  {
   "cell_type": "code",
   "execution_count": null,
   "id": "57d9a403",
   "metadata": {},
   "outputs": [],
   "source": [
    "## Load HETDEX LumFunc data (Zhang 2021)\n",
    "filepath = 'csv/HETDEX_LumFunc.csv'\n",
    "HETDEX_LF = []\n",
    "with open(filepath, mode='r') as csvfile:\n",
    "    rdlns = csv.reader(csvfile, delimiter=',')\n",
    "    for line in rdlns:\n",
    "        HETDEX_LF.append(line)\n",
    "HETDEX_LF = np.array(HETDEX_LF).astype(float)"
   ]
  },
  {
   "cell_type": "code",
   "execution_count": null,
   "id": "1666ccb5",
   "metadata": {},
   "outputs": [],
   "source": [
    "nb_ind_arr = [9,10,11,12,13]\n",
    "hist_arr = []\n",
    "volume_arr = []\n",
    "\n",
    "for nb_ind in nb_ind_arr:\n",
    "#     nb_ind = 11 # J0480\n",
    "    bb_ind = -3\n",
    "    nb_m, bb_m, nb_e, bb_e, bbcut, nbcut = load_mags(nb_ind, bb_ind)\n",
    "\n",
    "    mu = bb_m - nb_m\n",
    "    sigma = np.sqrt(bb_e**2 + nb_e**2)\n",
    "    m_ew = color_cut(30, nb_ind) + np.nanmedian(mu)\n",
    "    \n",
    "    min_score = 3 # sigma\n",
    "\n",
    "    p_line = 0.5 - 0.5*erf((m_ew - mu) / (np.sqrt(2)*sigma))\n",
    "    selection, = np.where((p_line > erf(min_score/np.sqrt(2))) & (nb_m < nbcut) & (bb_m < bbcut))\n",
    "    \n",
    "    w_pivot = central_wavelength(load_tcurves(load_filter_tags()))[nb_ind]\n",
    "    w_pivot_bb = central_wavelength(load_tcurves(load_filter_tags()))[bb_ind]\n",
    "    w_fwhm = nb_fwhm(load_tcurves(load_filter_tags()), nb_ind, True)\n",
    "    f_line = mag_to_flux(nb_m[selection], w_pivot) - mag_to_flux(bb_m[selection], w_pivot_bb)\n",
    "    n_bins = 10\n",
    "\n",
    "    x, hist, volume, bin_width = LumFunc_hist(f_line, w_pivot, w_fwhm, n_bins, 43.5, 44.5)\n",
    "    hist_arr.append(hist)\n",
    "    volume_arr.append(volume)"
   ]
  },
  {
   "cell_type": "code",
   "execution_count": null,
   "id": "a7bf5abf",
   "metadata": {},
   "outputs": [],
   "source": [
    "y = np.sum(hist_arr, axis = 0)/np.sum(volume_arr)/bin_width\n",
    "errors = np.sqrt(np.sum(hist_arr, axis = 0))/np.sum(volume_arr)/bin_width\n",
    "print(np.sum(hist_arr, axis = 0))\n",
    "\n",
    "fig, ax = plt.subplots(figsize=(10,8))\n",
    "\n",
    "ax.plot(HETDEX_LF[:,0], HETDEX_LF[:,1], 's', markersize = 10, label = 'Zhang (2021)')\n",
    "ax.errorbar(HETDEX_LF[:,0], HETDEX_LF[:,1], yerr = HETDEX_LF[:,2] - HETDEX_LF[:,1], fmt = 'none')\n",
    "\n",
    "ax.plot(x, y, '.', markersize=20, c='orange', label = 'My points')\n",
    "ax.errorbar(x, y, yerr = errors, fmt = 'none', c='orange')\n",
    "\n",
    "ax.set_yscale('log')\n",
    "ax.set_ylabel(r'$\\Phi$ [Mpc$^{-3}\\Delta\\log L^{-1}$]', size=15)\n",
    "ax.set_xlabel(r'$\\log_{10}(L_{\\mathrm{Ly}\\alpha}\\,/\\,\\mathrm{erg}\\,\\mathrm{s}^{-1})$', size=15)\n",
    "ax.legend()\n",
    "plt.show()"
   ]
  }
 ],
 "metadata": {
  "kernelspec": {
   "display_name": "Python 3",
   "language": "python",
   "name": "python3"
  },
  "language_info": {
   "codemirror_mode": {
    "name": "ipython",
    "version": 3
   },
   "file_extension": ".py",
   "mimetype": "text/x-python",
   "name": "python",
   "nbconvert_exporter": "python",
   "pygments_lexer": "ipython3",
   "version": "3.8.10"
  }
 },
 "nbformat": 4,
 "nbformat_minor": 5
}
