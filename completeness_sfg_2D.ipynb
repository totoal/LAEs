{
 "cells": [
  {
   "cell_type": "code",
   "execution_count": null,
   "metadata": {},
   "outputs": [],
   "source": [
    "import numpy as np\n",
    "import matplotlib.pyplot as plt\n",
    "import pandas as pd\n",
    "from my_functions import *\n",
    "import seaborn as sns"
   ]
  },
  {
   "cell_type": "code",
   "execution_count": null,
   "metadata": {},
   "outputs": [],
   "source": [
    "w_central = central_wavelength()\n",
    "nb_fwhm_Arr = nb_fwhm(range(60))"
   ]
  },
  {
   "cell_type": "code",
   "execution_count": null,
   "metadata": {},
   "outputs": [],
   "source": [
    "## Load everything\n",
    "filename = 'Source_cats/LAE_20deg_z2-4.5/'\n",
    "\n",
    "pm_flx = np.load(filename + 'pm_flx.npy')\n",
    "pm_flx_noerr = np.load(filename + 'pm_flx_no_line_no_err.npy')\n",
    "\n",
    "mock = {}\n",
    "\n",
    "aux = []\n",
    "with open(filename + 'SEDs.csv') as csv_file:\n",
    "    rdr = csv.reader(csv_file, delimiter=',')\n",
    "    for row in rdr:\n",
    "        aux.append(row)\n",
    "mock['SEDs'] = np.array(aux, dtype=float)\n",
    "aux = []\n",
    "with open(filename + 'SEDs_no_line.csv') as csv_file:\n",
    "    rdr = csv.reader(csv_file, delimiter=',')\n",
    "    for row in rdr:\n",
    "        aux.append(row)\n",
    "mock['SEDs_no_line'] = np.array(aux, dtype=float)\n",
    "\n",
    "utils = np.load(filename + 'utils.npy', allow_pickle=True).item()\n",
    "\n",
    "mock['redshift_Lya_Arr'] = utils['z_Arr']\n",
    "mock['w_Arr'] = utils['w_Arr']\n",
    "mock['EW_Arr'] = utils['EW_Arr']\n",
    "\n",
    "## Somehow, some bright mocks are sneaking in. So, get rid of them.\n",
    "mask_bright = np.where(pm_flx_noerr[-3] <= 1e-17)[0]\n",
    "pm_flx_noerr = pm_flx_noerr[:, mask_bright]\n",
    "pm_flx = pm_flx[:, mask_bright]\n",
    "for key in mock.keys():\n",
    "    if key == 'w_Arr': continue\n",
    "    mock[key] = mock[key][mask_bright]\n",
    "\n",
    "err_fit_params = np.load('npy/err_fit_params_minijpas.npy')\n",
    "m = err_fit_params[:, 0].reshape(-1, 1)\n",
    "b = err_fit_params[:, 1].reshape(-1, 1)\n",
    "pm_err = np.load(filename + 'pm_flx_err.npy')[:, mask_bright]\n",
    "\n",
    "w_central = central_wavelength()"
   ]
  },
  {
   "cell_type": "code",
   "execution_count": null,
   "metadata": {},
   "outputs": [],
   "source": [
    "EW_lya = mock['EW_Arr']\n",
    "\n",
    "zspec = mock['redshift_Lya_Arr']"
   ]
  },
  {
   "cell_type": "code",
   "execution_count": null,
   "metadata": {},
   "outputs": [],
   "source": [
    "w_lya = 1215.67 # A\n",
    "N_sources = pm_flx.shape[1]\n",
    "N_sources"
   ]
  },
  {
   "cell_type": "code",
   "execution_count": null,
   "metadata": {},
   "outputs": [],
   "source": [
    "mag = flux_to_mag(pm_flx, w_central.reshape(-1, 1))\n",
    "mag[np.isnan(mag)] = 99."
   ]
  },
  {
   "cell_type": "code",
   "execution_count": null,
   "metadata": {},
   "outputs": [],
   "source": [
    "# Lya search\n",
    "cont_est_lya, cont_err_lya = estimate_continuum(pm_flx, pm_err)\n",
    "\n",
    "# Other lines\n",
    "cont_est_other, cont_err_other = estimate_continuum(pm_flx, pm_err, IGM_T_correct=False)"
   ]
  },
  {
   "cell_type": "code",
   "execution_count": null,
   "metadata": {},
   "outputs": [],
   "source": [
    "ew0lya_min = 0\n",
    "ew0lya_max = 70\n",
    "ew0lya_step = 8\n",
    "ew0oth_min = 0\n",
    "ew0oth_max = 400\n",
    "ew0oth_step = 11\n",
    "\n",
    "other_select_list = []\n",
    "for ew0min in np.linspace(ew0oth_min, ew0oth_max, ew0oth_step):\n",
    "    print(ew0min)\n",
    "    line_other = is_there_line(pm_flx, pm_err, cont_est_other, cont_err_other, ew0min,\n",
    "        obs=True)\n",
    "    other_lines = identify_lines(line_other, pm_flx, pm_err, first=False)\n",
    "\n",
    "    other_select_list.append(other_lines)\n",
    "\n",
    "lya_select_list = []\n",
    "lya_z_nb = []\n",
    "for ew0min in np.linspace(ew0lya_min, ew0lya_max, ew0lya_step):\n",
    "    print(ew0min)\n",
    "    line = is_there_line(pm_flx, pm_err, cont_est_lya, cont_err_lya, ew0min)\n",
    "    lya_lines, lya_cont_lines = identify_lines(line, pm_flx, pm_err, first=True)\n",
    "    z_nb_Arr = np.ones(N_sources) * -1 \n",
    "    z_nb_Arr[np.where(np.array(lya_lines) != -1)] =\\\n",
    "        z_NB(np.array(lya_cont_lines)[np.where(np.array(lya_lines) != -1)])\n",
    "    \n",
    "    lya_select_list.append(lya_lines)\n",
    "    lya_z_nb.append(z_nb_Arr)"
   ]
  },
  {
   "cell_type": "code",
   "execution_count": null,
   "metadata": {},
   "outputs": [],
   "source": [
    "mag_cut = 23\n",
    "\n",
    "select_grid = np.zeros((ew0lya_step, ew0oth_step))\n",
    "rightz_grid = np.zeros((ew0lya_step, ew0oth_step))\n",
    "\n",
    "target_z = (zspec > 2.5) & (zspec < 3.2)\n",
    "target = (\n",
    "    (mag[-2] < mag_cut) & target_z & (EW_lya / (1 + zspec) > 20)\n",
    ")\n",
    "\n",
    "for i in range(ew0lya_step):\n",
    "    print(i)\n",
    "    for j in range(ew0oth_step):\n",
    "        nice_lya = nice_lya_select(\n",
    "            lya_select_list[i], other_select_list[j], pm_flx, cont_est_other, lya_z_nb[i]\n",
    "        )\n",
    "        nice_z = np.abs(lya_z_nb[i] - zspec) < 0.12\n",
    "        \n",
    "        z_nb_cut = (lya_z_nb[i] > 2.2) & (lya_z_nb[i] < 3.2)\n",
    "\n",
    "        selected = (mag[-2] < mag_cut) & nice_lya & z_nb_cut\n",
    "        select_grid[i, j] = len(np.where(selected)[0])\n",
    "        rightz_grid[i, j] = len(np.where(selected & nice_z)[0])"
   ]
  },
  {
   "cell_type": "code",
   "execution_count": null,
   "metadata": {},
   "outputs": [],
   "source": [
    "plt.hist(EW_lya / (1 + zspec), bins=np.linspace(0, 200, 50), density=True, stacked=True)\n",
    "ew_x = np.linspace(0, 200, 10000)\n",
    "ew_dist = np.exp(-ew_x / 75)\n",
    "ew_norm = simpson(ew_dist, ew_x)\n",
    "plt.plot(ew_x, ew_dist / ew_norm)\n",
    "plt.show()\n",
    "\n",
    "plt.hist(pm_flx_noerr[-2], bins=np.linspace(1e-18, 1e-17, 30), density=True, stacked=True)\n",
    "plt.show()\n",
    "\n",
    "plt.hist(zspec, bins=np.linspace(1, 8, 50))\n",
    "plt.show()"
   ]
  },
  {
   "cell_type": "code",
   "execution_count": null,
   "metadata": {},
   "outputs": [],
   "source": [
    "N_target = len(np.where(target)[0])\n",
    "purity = rightz_grid / select_grid\n",
    "completeness = rightz_grid / N_target"
   ]
  },
  {
   "cell_type": "code",
   "execution_count": null,
   "metadata": {},
   "outputs": [],
   "source": [
    "fig = plt.figure(figsize=(8, 8))\n",
    "\n",
    "width = 0.5\n",
    "height = 0.5\n",
    "spacing = 0.06\n",
    "cbar_width = 0.05\n",
    "\n",
    "# Define axes\n",
    "ax00 = fig.add_axes([0, height + 1.5 * spacing, width, height])\n",
    "ax01 = fig.add_axes([width + spacing, height + 1.5 * spacing, width, height], sharey=ax00)\n",
    "ax10 = fig.add_axes([0, 0, width, height], sharex=ax00)\n",
    "ax11 = fig.add_axes([width + spacing, 0, width, height], sharex=ax01, sharey=ax10)\n",
    "axcbar0 = fig.add_axes([2 * width + 1.5 * spacing, height + 1.5 * spacing, cbar_width, height])\n",
    "axcbar1 = fig.add_axes([2 * width + 1.5 * spacing, 0, cbar_width, height])\n",
    "\n",
    "# Plot stuff in the rectangles\n",
    "vmax = np.max([np.max(rightz_grid), np.max(select_grid)])\n",
    "cmap = 'Spectral'\n",
    "\n",
    "sns.heatmap(rightz_grid, ax=ax00, vmin=0, vmax=vmax, cbar_ax=axcbar0, cmap=cmap)\n",
    "sns.heatmap(select_grid, ax=ax01, vmin=0, vmax=vmax, cbar_ax=axcbar0, cmap=cmap)\n",
    "\n",
    "sns.heatmap(purity, ax=ax10, vmin=0, vmax=1, cbar_ax=axcbar1)\n",
    "sns.heatmap(completeness, ax=ax11, vmin=0, vmax=1, cbar=False)\n",
    "\n",
    "ax00.invert_yaxis()\n",
    "ax10.invert_yaxis()\n",
    "\n",
    "# Axes ticks\n",
    "xticks = range(ew0oth_step)\n",
    "yticks = range(ew0lya_step)\n",
    "xtick_labels = ['{0:0.0f}'.format(n) for n in np.linspace(ew0oth_min, ew0oth_max, ew0oth_step)]\n",
    "ytick_labels = ['{0:0.0f}'.format(n) for n in np.linspace(ew0lya_min, ew0lya_max, ew0lya_step)]\n",
    "\n",
    "ax00.set_yticks(yticks)\n",
    "ax00.set_yticklabels(ytick_labels)\n",
    "ax00.set_xticks(xticks)\n",
    "ax00.set_xticklabels(xtick_labels, rotation='vertical')\n",
    "\n",
    "ax10.set_yticks(yticks)\n",
    "ax10.set_yticklabels(ytick_labels)\n",
    "ax10.set_xticks(xticks)\n",
    "ax10.set_xticklabels(xtick_labels, rotation='vertical')\n",
    "\n",
    "ax11.set_xticks(xticks)\n",
    "ax11.set_xticklabels(xtick_labels, rotation='vertical')\n",
    "ax11.set_yticks(yticks)\n",
    "ax11.set_yticklabels(ytick_labels)\n",
    "\n",
    "ax01.set_xticks(xticks)\n",
    "ax01.set_xticklabels(xtick_labels, rotation='vertical')\n",
    "ax01.set_yticks(yticks)\n",
    "ax01.set_yticklabels(ytick_labels)\n",
    "\n",
    "# Axes labels\n",
    "ylabel = r'Ly$\\alpha$ EW$_0$ ($\\AA$)'\n",
    "xlabel = 'Other lines EW$_\\mathrm{obs}$ ($\\AA$)'\n",
    "ax00.set_ylabel(ylabel, fontsize=12)\n",
    "ax10.set_ylabel(ylabel, fontsize=12)\n",
    "ax10.set_xlabel(xlabel, fontsize=12)\n",
    "ax11.set_xlabel(xlabel, fontsize=12)\n",
    "\n",
    "# Set titles\n",
    "ax00.set_title('Selected w/ correct z', fontsize=15)\n",
    "ax01.set_title('All selected', fontsize=15)\n",
    "ax10.set_title('Purity', fontsize=15)\n",
    "ax11.set_title('Completeness', fontsize=15)\n",
    "\n",
    "plt.savefig('output/puri-comp_magcut-' + str(mag_cut) + '.pdf', dpi=600,\n",
    "    bbox_inches='tight')\n",
    "plt.show()\n",
    "\n",
    "print('N_target = {}'.format(N_target))"
   ]
  },
  {
   "cell_type": "code",
   "execution_count": null,
   "metadata": {},
   "outputs": [],
   "source": [
    "fig, ax = plt.subplots(figsize=(7, 6))\n",
    "\n",
    "combined = (completeness + purity) / 2\n",
    "\n",
    "sns.heatmap(combined, ax=ax)\n",
    "\n",
    "xticks = range(ew0oth_step)\n",
    "yticks = range(ew0lya_step)\n",
    "xtick_labels = ['{0:0.0f}'.format(n) for n in np.linspace(ew0oth_min, ew0oth_max, ew0oth_step)]\n",
    "ytick_labels = ['{0:0.0f}'.format(n) for n in np.linspace(ew0lya_min, ew0lya_max, ew0lya_step)]\n",
    "\n",
    "ax.set_xticks(xticks)\n",
    "ax.set_yticks(yticks)\n",
    "ax.set_xticklabels(xtick_labels)\n",
    "ax.set_yticklabels(ytick_labels)\n",
    "\n",
    "ax.invert_yaxis()\n",
    "\n",
    "ax.set_title(r'(Purity + Completeness) / 2', fontsize=15)\n",
    "\n",
    "plt.savefig('output/puri_plus_comp_magcut-' + str(mag_cut) + '.pdf', dpi=600,\n",
    "    bbox_inches='tight')\n",
    "plt.show()"
   ]
  },
  {
   "cell_type": "code",
   "execution_count": null,
   "metadata": {},
   "outputs": [],
   "source": [
    "max_combined = np.unravel_index(np.argmax(combined), rightz_grid.shape)\n",
    "print(purity[max_combined])\n",
    "print(completeness[max_combined])\n",
    "print(max_combined)"
   ]
  },
  {
   "cell_type": "code",
   "execution_count": null,
   "metadata": {},
   "outputs": [],
   "source": [
    "select_grid"
   ]
  }
 ],
 "metadata": {
  "interpreter": {
   "hash": "f9f85f796d01129d0dd105a088854619f454435301f6ffec2fea96ecbd9be4ac"
  },
  "kernelspec": {
   "display_name": "Python 3.9.5 64-bit",
   "language": "python",
   "name": "python3"
  },
  "language_info": {
   "codemirror_mode": {
    "name": "ipython",
    "version": 3
   },
   "file_extension": ".py",
   "mimetype": "text/x-python",
   "name": "python",
   "nbconvert_exporter": "python",
   "pygments_lexer": "ipython3",
   "version": "3.9.7"
  },
  "orig_nbformat": 4
 },
 "nbformat": 4,
 "nbformat_minor": 2
}
