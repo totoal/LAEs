{
 "cells": [
  {
   "cell_type": "code",
   "execution_count": null,
   "source": [
    "import numpy as np\n",
    "import matplotlib.pyplot as plt\n",
    "from my_functions import *\n",
    "from scipy.integrate import simpson\n",
    "from scipy.stats import median_abs_deviation"
   ],
   "outputs": [],
   "metadata": {}
  },
  {
   "cell_type": "code",
   "execution_count": null,
   "source": [
    "## Load everything\n",
    "pm_data = np.load('npy/pm_eLAE_15deg_uniform.npy')\n",
    "pm_data_noerr = np.load('npy/pm_LAE_15deg_uniform.npy')\n",
    "f_name = 'Source_cats/Source_cat_LAE_15deg_uniform.npy'\n",
    "mock = np.load(f_name, allow_pickle=True).item()\n",
    "\n",
    "errors = np.load('npy/median_errors.npy')\n",
    "\n",
    "pm_err = (np.ones(pm_data.shape).T * errors).T\n",
    "\n",
    "filters_tags = load_filter_tags()\n",
    "tcurves = load_tcurves(filters_tags)\n",
    "w_central = np.array(central_wavelength(tcurves))\n",
    "\n",
    "bb_fwhm = [\n",
    "    nb_fwhm(tcurves, -4, True),\n",
    "    nb_fwhm(tcurves, -3, True),\n",
    "    nb_fwhm(tcurves, -2, True),\n",
    "    nb_fwhm(tcurves, -1, True)\n",
    "]"
   ],
   "outputs": [],
   "metadata": {}
  },
  {
   "cell_type": "code",
   "execution_count": null,
   "source": [
    "# EW diff\n",
    "w_lya = 1215.67\n",
    "\n",
    "for N_nb in range(1, 11):\n",
    "    fig, ax = plt.subplots(figsize=(12, 9))\n",
    "    EW_ret_Arr = np.ones(mock['EW_Arr'].shape) * -999.\n",
    "    for nb_c in [13]:\n",
    "        fwhm = nb_fwhm(tcurves, nb_c, True)\n",
    "        cont_est, cont_err = stack_estimation(\n",
    "            pm_data, pm_err, nb_c, N_nb, w_central\n",
    "        )\n",
    "\n",
    "        EW_ret = (pm_data[nb_c] - cont_est) * fwhm / cont_est\\\n",
    "            / (w_central[nb_c] / w_lya)\n",
    "        line = (\n",
    "            (pm_data[nb_c] - cont_est > 3 * (pm_err[nb_c]**2 + cont_err**2)**0.5)\n",
    "            & (EW_ret > 10)\n",
    "        )\n",
    "        EW_ret_Arr[line] = EW_ret[line]\n",
    "\n",
    "    mask999 = np.where(EW_ret_Arr != -999.)\n",
    "\n",
    "    ax.plot(\n",
    "        mock['EW_Arr'][mask999], EW_ret_Arr[mask999],\n",
    "        marker='.', markersize=12, linestyle='', alpha=0.7\n",
    "        )\n",
    "    ax.plot(\n",
    "        np.linspace(0, 300, 300), np.linspace(0, 300, 300), linestyle='--'\n",
    "        )\n",
    "    ax.text(\n",
    "        25, 250, 'bias = {0:0.2f} \\nsigma = {1:0.2f}'.format(\n",
    "            np.median(\n",
    "                EW_ret_Arr[mask999] - mock['EW_Arr'][mask999],\n",
    "                ),\n",
    "            median_abs_deviation(\n",
    "                EW_ret_Arr[mask999] - mock['EW_Arr'][mask999],\n",
    "                ),\n",
    "            ),\n",
    "        fontsize=15\n",
    "    )\n",
    "\n",
    "    ax.set_ylim((0, 300))\n",
    "    ax.set_xlim((0, 300))\n",
    "    ax.set_xlabel('Real EW$_0$ ($\\AA$)', fontsize=15)\n",
    "    ax.set_ylabel('Retrieved EW$_0$ ($\\AA$)', fontsize=15)\n",
    "    ax.set_title('N_nb = {}'.format(N_nb), fontsize=20)\n",
    "    plt.show()"
   ],
   "outputs": [],
   "metadata": {}
  }
 ],
 "metadata": {
  "orig_nbformat": 4,
  "language_info": {
   "name": "python",
   "version": "3.9.7",
   "mimetype": "text/x-python",
   "codemirror_mode": {
    "name": "ipython",
    "version": 3
   },
   "pygments_lexer": "ipython3",
   "nbconvert_exporter": "python",
   "file_extension": ".py"
  },
  "kernelspec": {
   "name": "python3",
   "display_name": "Python 3.9.7 64-bit ('py39': conda)"
  },
  "interpreter": {
   "hash": "7575b0615c19929a6803b70fb96802dc113bd8069c0dbfa1f636b20d364f1413"
  }
 },
 "nbformat": 4,
 "nbformat_minor": 2
}