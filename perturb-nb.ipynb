{
 "cells": [
  {
   "cell_type": "code",
   "execution_count": null,
   "id": "green-ratio",
   "metadata": {},
   "outputs": [],
   "source": [
    "import matplotlib.pyplot as plt\n",
    "import numpy as np\n",
    "from colorplot import *\n",
    "from perturbed_phot import *\n",
    "%matplotlib notebook"
   ]
  },
  {
   "cell_type": "code",
   "execution_count": null,
   "id": "successful-friendly",
   "metadata": {},
   "outputs": [],
   "source": [
    "cat = load_noflag_cat('pkl/catalogDual_pz.pkl')\n",
    "\n",
    "nb_ind = 11 # J0480\n",
    "bb_ind = -3 # g\n",
    "mask_fzero = (cat['MAG'][:, nb_ind] < 90) & (cat['MAG'][:, bb_ind] < 90)\n",
    "\n",
    "nb_m = cat['MAG'][mask_fzero, nb_ind]\n",
    "bb_m = cat['MAG'][mask_fzero, bb_ind]\n",
    "nb_e = cat['ERR'][mask_fzero, nb_ind]\n",
    "bb_e = cat['ERR'][mask_fzero, bb_ind]\n",
    "\n",
    "masked_mags = cat['MAG'][mask_fzero, :]\n",
    "masked_errs = cat['ERR'][mask_fzero, :]"
   ]
  },
  {
   "cell_type": "code",
   "execution_count": null,
   "id": "distant-workstation",
   "metadata": {},
   "outputs": [],
   "source": [
    "#Define binning\n",
    "m_min = 14\n",
    "m_max = 26\n",
    "m_bin_n = 75\n",
    "x_e = np.linspace(m_min, m_max, m_bin_n)\n",
    "\n",
    "bbcut = x_e[np.nanargmin(np.abs(m_err_bin(bb_m, bb_e, x_e, bb_m) - 0.24))]\n",
    "nbcut = x_e[np.nanargmin(np.abs(m_err_bin(nb_m, nb_e, x_e, nb_m) - 0.24))]"
   ]
  },
  {
   "cell_type": "code",
   "execution_count": null,
   "id": "chemical-decade",
   "metadata": {
    "scrolled": false
   },
   "outputs": [],
   "source": [
    "n_iter = 1000\n",
    "tolerance = 0.8\n",
    "\n",
    "option_curve = (True, False, False)\n",
    "option_pbp   = (False, True, False)\n",
    "option_no_er = (False, False, True)\n",
    "\n",
    "\n",
    "sel_hist = perturbed_phot.perturb_phot(\n",
    "                                        nb_m, nb_e, bb_m, bb_e, 30,\n",
    "                                        nb_ind, n_iter, bbcut, nbcut,\n",
    "                                        *option_curve\n",
    "                                      )\n",
    "selection, = np.where(sel_hist*1./n_iter > tolerance)\n",
    "make_colorplot(cat, -3, nb_ind, selection, 'NB', False)"
   ]
  },
  {
   "cell_type": "code",
   "execution_count": null,
   "id": "everyday-table",
   "metadata": {},
   "outputs": [],
   "source": [
    "# filename = 'selected_sources/candidate'\n",
    "# plot_selection(selection, nb_ind, filename, masked_mags, masked_errs, 'NB')"
   ]
  }
 ],
 "metadata": {
  "kernelspec": {
   "display_name": "Python 3",
   "language": "python",
   "name": "python3"
  },
  "language_info": {
   "codemirror_mode": {
    "name": "ipython",
    "version": 3
   },
   "file_extension": ".py",
   "mimetype": "text/x-python",
   "name": "python",
   "nbconvert_exporter": "python",
   "pygments_lexer": "ipython3",
   "version": "3.8.5"
  }
 },
 "nbformat": 4,
 "nbformat_minor": 5
}
