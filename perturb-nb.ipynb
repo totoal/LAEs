{
 "cells": [
  {
   "cell_type": "code",
   "execution_count": null,
   "id": "green-ratio",
   "metadata": {},
   "outputs": [],
   "source": [
    "import matplotlib.pyplot as plt\n",
    "import numpy as np\n",
    "from colorplot import *\n",
    "from perturbed_phot import *\n",
    "from my_functions import *\n",
    "from LumFunc_miniJPAS import LumFunc\n",
    "#%matplotlib notebook"
   ]
  },
  {
   "cell_type": "code",
   "execution_count": null,
   "id": "cardiac-newton",
   "metadata": {},
   "outputs": [],
   "source": [
    "# Options for the selection\n",
    "option_curve    = (True, False, False)\n",
    "option_no_curve = (False, False, False)\n",
    "option_pbp      = (False, True, False)\n",
    "option_no_er    = (False, False, True)"
   ]
  },
  {
   "cell_type": "code",
   "execution_count": null,
   "id": "ec86d9ed",
   "metadata": {},
   "outputs": [],
   "source": [
    "cat = load_noflag_cat('pkl/catalogDual_pz.pkl')"
   ]
  },
  {
   "cell_type": "code",
   "execution_count": null,
   "id": "successful-friendly",
   "metadata": {},
   "outputs": [],
   "source": [
    "def make_selection(nb_ind):\n",
    "    #nb_ind = 11 # J0480\n",
    "    bb_ind = -3 # g\n",
    "    mask_fzero = (cat['MAG'][:, nb_ind] < 90) & (cat['MAG'][:, bb_ind] < 90)\n",
    "\n",
    "    nb_m = cat['MAG'][mask_fzero, nb_ind]\n",
    "    bb_m = cat['MAG'][mask_fzero, bb_ind]\n",
    "    nb_e = cat['ERR'][mask_fzero, nb_ind]\n",
    "    bb_e = cat['ERR'][mask_fzero, bb_ind]\n",
    "\n",
    "    #Define binning\n",
    "    m_min = 14\n",
    "    m_max = 26\n",
    "    m_bin_n = 75\n",
    "    x_e = np.linspace(m_min, m_max, m_bin_n)\n",
    "\n",
    "    bbcut = x_e[np.nanargmin(np.abs(m_err_bin(bb_m, bb_e, x_e, bb_m) - 0.24))]\n",
    "    nbcut = x_e[np.nanargmin(np.abs(m_err_bin(nb_m, nb_e, x_e, nb_m) - 0.24))]\n",
    "\n",
    "    n_iter = 5000\n",
    "    tolerance = 0.6 # % of times an object is detected\n",
    "\n",
    "    sel_hist = perturbed_phot.perturb_phot(\n",
    "                                            nb_m, nb_e, bb_m, bb_e, 30,\n",
    "                                            nb_ind, n_iter, bbcut, nbcut,\n",
    "                                            *option_no_curve\n",
    "                                          )\n",
    "    selection, = np.where(sel_hist*1./n_iter > tolerance)\n",
    "    print('NB = %s' %str(nb_ind))\n",
    "    make_colorplot(cat, bb_ind, nb_ind, selection, 'NB', False)\n",
    "    print(len(selection))\n",
    "    return selection"
   ]
  },
  {
   "cell_type": "code",
   "execution_count": null,
   "id": "arctic-cincinnati",
   "metadata": {},
   "outputs": [],
   "source": [
    "# filename = 'selected_sources/candidate'\n",
    "# plot_selection(selection, nb_ind, filename, masked_mags, masked_errs, 'NB')"
   ]
  },
  {
   "cell_type": "code",
   "execution_count": null,
   "id": "b359db27",
   "metadata": {},
   "outputs": [],
   "source": [
    "sel_arr = []\n",
    "nb_ind_arr = [9, 10, 11, 12]\n",
    "for nb_ind in nb_ind_arr:\n",
    "    sel_arr.append(make_selection(nb_ind))"
   ]
  },
  {
   "cell_type": "code",
   "execution_count": null,
   "id": "cfe2359a",
   "metadata": {},
   "outputs": [],
   "source": [
    "LF_x = []\n",
    "LF_y = []\n",
    "i = 0\n",
    "for nb_ind in nb_ind_arr:\n",
    "    bb_ind = -3 # g\n",
    "    mask_fzero = (cat['MAG'][:, nb_ind] < 90) & (cat['MAG'][:, bb_ind] < 90)\n",
    "\n",
    "    nb_m = cat['MAG'][mask_fzero, nb_ind]\n",
    "    bb_m = cat['MAG'][mask_fzero, bb_ind]\n",
    "    nb_e = cat['ERR'][mask_fzero, nb_ind]\n",
    "    bb_e = cat['ERR'][mask_fzero, bb_ind]\n",
    "    \n",
    "    selection = sel_arr[i] ; i+=1\n",
    "    w_pivot = central_wavelength(load_tcurves(load_filter_tags()))[nb_ind]\n",
    "    f_line = mag_to_flux(nb_m[selection], w_pivot) - mag_to_flux(bb_m[selection], w_pivot)\n",
    "    w_fwhm = nb_fwhm(load_tcurves(load_filter_tags()), nb_ind, True)\n",
    "    n_bins = 5\n",
    "\n",
    "    x, y = LumFunc(f_line, w_pivot, w_fwhm, n_bins)\n",
    "    LF_x.append(x)\n",
    "    LF_y.append(y)"
   ]
  },
  {
   "cell_type": "code",
   "execution_count": null,
   "id": "6738f69f",
   "metadata": {
    "scrolled": false
   },
   "outputs": [],
   "source": [
    "for i in range(len(nb_ind_arr)):\n",
    "    fig, ax = plt.subplots(figsize=(8,7))\n",
    "    ax.plot(LF_x[i], LF_y[i], '.', markersize = 20)\n",
    "    ax.set_yscale('log')\n",
    "    ax.set_ylabel(r'$\\Phi$ [Mpc$^{-3}\\Delta\\log L^{-1}$]', size=15)\n",
    "    ax.set_xlabel(r'$\\log_{10}(L_{\\mathrm{Ly}\\alpha}\\,/\\,\\mathrm{erg}\\,\\mathrm{s}^{-1})$', size=15)\n",
    "    \n",
    "    print(load_tcurves(load_filter_tags())['tag'][nb_ind_arr[i]])\n",
    "    plt.show()"
   ]
  }
 ],
 "metadata": {
  "kernelspec": {
   "display_name": "Python 3",
   "language": "python",
   "name": "python3"
  },
  "language_info": {
   "codemirror_mode": {
    "name": "ipython",
    "version": 3
   },
   "file_extension": ".py",
   "mimetype": "text/x-python",
   "name": "python",
   "nbconvert_exporter": "python",
   "pygments_lexer": "ipython3",
   "version": "3.8.10"
  }
 },
 "nbformat": 4,
 "nbformat_minor": 5
}
