{
 "cells": [
  {
   "cell_type": "code",
   "execution_count": null,
   "metadata": {},
   "outputs": [],
   "source": [
    "import numpy as np\n",
    "import matplotlib.pyplot as plt\n",
    "import pandas as pd\n",
    "from my_functions import *\n",
    "from astropy.cosmology import Planck18 as cosmo\n",
    "from astropy import units as u"
   ]
  },
  {
   "cell_type": "code",
   "execution_count": null,
   "metadata": {},
   "outputs": [],
   "source": [
    "tcurves = load_tcurves(load_filter_tags())\n",
    "w_central = central_wavelength(tcurves)"
   ]
  },
  {
   "cell_type": "code",
   "execution_count": null,
   "metadata": {},
   "outputs": [],
   "source": [
    "def identify_lines(line_Arr, qso_flx, nb_min):\n",
    "    '''\n",
    "    Returns a list of N lists with the index positions of the lines.\n",
    "\n",
    "    Input: \n",
    "    line_Arr: Bool array of 3sigma detections in sources. Dim N_filters x N_sources\n",
    "    qso_flx:  Flambda data\n",
    "    nb_min\n",
    "    '''\n",
    "    N_fil, N_src = line_Arr.shape\n",
    "    line_list = []\n",
    "\n",
    "    for src in range(N_src):\n",
    "        fil = 0\n",
    "        this_src_lines = []\n",
    "        while fil < N_fil:\n",
    "            this_line = []\n",
    "            while ~line_Arr[fil, src]:\n",
    "                fil += 1\n",
    "                if fil == N_fil - 1: break\n",
    "            if fil == N_fil - 1: break\n",
    "            while line_Arr[fil, src]:\n",
    "                this_line.append(fil)\n",
    "                fil += 1\n",
    "                if fil == N_fil - 1: break\n",
    "            if fil == N_fil - 1: break\n",
    "            this_src_lines.append(\n",
    "                fil + np.argmax(qso_flx[np.array(this_line) + nb_min, src])\\\n",
    "                - len(this_line) + nb_min\n",
    "            )\n",
    "        line_list.append(this_src_lines)\n",
    "    return line_list"
   ]
  },
  {
   "cell_type": "code",
   "execution_count": null,
   "metadata": {},
   "outputs": [],
   "source": [
    "## Load QSO catalog\n",
    "filename = ('/home/alberto/cosmos/JPAS_mocks_sep2021/'\n",
    "    'JPAS_mocks_classification_01sep_model11/Fluxes/Qso_jpas_mock_flam_train.cat')\n",
    "\n",
    "my_filter_order = np.arange(60)\n",
    "my_filter_order[[-4, -3, -2, -1]] = np.array([1, 12, 28, 43])\n",
    "my_filter_order[1:-4] += 1\n",
    "my_filter_order[12:-4] += 1\n",
    "my_filter_order[28:-4] += 1\n",
    "my_filter_order[43:-4] += 1\n",
    "\n",
    "qso_flx = pd.read_csv(\n",
    "    filename, sep=' ', usecols=range(2, 2 + 60)\n",
    ").to_numpy().T[my_filter_order]\n",
    "qso_err = pd.read_csv(\n",
    "    filename, sep=' ', usecols=range(2 + 60, 2 + 60 + 60)\n",
    ").to_numpy().T[my_filter_order]\n",
    "zspec = pd.read_csv(filename, sep=' ', usecols=[127]).to_numpy().reshape(-1, )"
   ]
  },
  {
   "cell_type": "code",
   "execution_count": null,
   "metadata": {},
   "outputs": [],
   "source": [
    "N_sources = qso_flx.shape[1]\n",
    "N_nb = 6\n",
    "ew0min = 30"
   ]
  },
  {
   "cell_type": "code",
   "execution_count": null,
   "metadata": {},
   "outputs": [],
   "source": [
    "nb_c_min = 6\n",
    "nb_c_max = 50\n",
    "line_qso = np.zeros((nb_c_max - nb_c_min, N_sources)).astype(bool)\n",
    "line_qso_ew0 = np.zeros((nb_c_max - nb_c_min, N_sources)).astype(bool)\n",
    "cont_est_Arr = np.zeros((nb_c_max - nb_c_min, N_sources))\n",
    "cont_err_Arr = np.zeros((nb_c_max - nb_c_min, N_sources))\n",
    "i = 0\n",
    "for nb_c in range(nb_c_min, nb_c_max):\n",
    "    z_nb = w_central[nb_c] / 1215.67 - 1\n",
    "    fwhm = nb_fwhm(nb_c, tcurves=tcurves)\n",
    "    cont_est_qso, cont_err_qso = stack_estimation(qso_flx, qso_err, nb_c, N_nb, False)\n",
    "    line_qso[i] = (\n",
    "        qso_flx[nb_c] - cont_est_qso > 3 * (cont_err_qso**2 + qso_err[nb_c]**2) ** 0.5\n",
    "    )\n",
    "    line_qso_ew0[i] = (\n",
    "        (qso_flx[nb_c] - cont_est_qso > 3 * (cont_err_qso**2 + qso_err[nb_c]**2) ** 0.5)\n",
    "        & (qso_flx[nb_c] - cont_est_qso > ew0min * (1 + z_nb) * cont_est_qso / fwhm)\n",
    "    )\n",
    "    cont_est_Arr[i] = cont_est_qso\n",
    "    cont_err_Arr[i] = cont_err_qso\n",
    "    i += 1"
   ]
  },
  {
   "cell_type": "code",
   "execution_count": null,
   "metadata": {},
   "outputs": [],
   "source": [
    "line_list = identify_lines(line_qso, qso_flx, nb_c_min)\n",
    "line_list_ew0 = identify_lines(line_qso_ew0, qso_flx, nb_c_min)"
   ]
  },
  {
   "cell_type": "code",
   "execution_count": null,
   "metadata": {},
   "outputs": [],
   "source": [
    "fwhm_Arr = []\n",
    "for i in range(60):\n",
    "    fwhm_Arr.append(nb_fwhm(i, tcurves=tcurves))"
   ]
  },
  {
   "cell_type": "code",
   "execution_count": null,
   "metadata": {},
   "outputs": [],
   "source": [
    "w_lya = 1215.67\n",
    "w_SiIV = 1397.61\n",
    "w_CIV = 1549.48\n",
    "w_CIII = 1908.73\n",
    "w_MgII = 2799.12"
   ]
  },
  {
   "cell_type": "code",
   "execution_count": null,
   "metadata": {},
   "outputs": [],
   "source": [
    "no_line = 0\n",
    "single_line = 0\n",
    "multiple_lines = 0\n",
    "right_z = 0\n",
    "nice_lya = 0\n",
    "nice_lya_z = 0\n",
    "nice_lya_Arr = []\n",
    "nice_lya_z_Arr = []\n",
    "z_nb_Arr = np.ones(N_sources) * -1\n",
    "first_line_F = np.ones(N_sources) * -1\n",
    "for src in range(N_sources):\n",
    "    try:\n",
    "        l_lya = line_list_ew0[src][0]\n",
    "        w_obs_lya = w_central[l_lya]\n",
    "    except:\n",
    "        no_line += 1\n",
    "        continue # No lines here\n",
    "\n",
    "    z_nb_Arr[src] = w_obs_lya / w_lya - 1\n",
    "    total_line_flux = np.sum(qso_flx[np.array(line_list[src]) - nb_c_min, src])\\\n",
    "        - cont_err_Arr[l_lya - nb_c_min, src] * len(line_list[src])\n",
    "    first_line_F[src] =\\\n",
    "        total_line_flux\\\n",
    "        * fwhm_Arr[l_lya] * len(line_list[src])\\\n",
    "        * 4*np.pi * cosmo.comoving_distance(z_nb_Arr[src]).to(u.cm).value ** 2\n",
    "\n",
    "    if zspec[src] > 2.55:\n",
    "        right_z += 1\n",
    "\n",
    "    if len(line_list[src]) == 1:\n",
    "        single_line += 1\n",
    "        continue # Just one line here\n",
    "\n",
    "    multiple_lines += 1\n",
    "\n",
    "    z_src = w_obs_lya / w_lya - 1\n",
    "\n",
    "    w_obs_SiIV = (1 + z_src) * w_SiIV\n",
    "    w_obs_CIV = (1 + z_src) * w_CIV\n",
    "    w_obs_CIII = (1 + z_src) * w_CIII\n",
    "    w_obs_MgII = (1 + z_src) * w_MgII\n",
    "\n",
    "    is_nice_lya = True\n",
    "    if line_list[src][0] > 27: # Mock zspec max is 4.3\n",
    "        is_nice_lya = False\n",
    "\n",
    "    lya_flx = qso_flx[l_lya, src]\n",
    "\n",
    "    for l in line_list[src][1:]:\n",
    "        w_obs_l = w_central[l]\n",
    "        if ~(   \n",
    "                # Lines are in expected possitions for QSOs\n",
    "                (\n",
    "                (np.abs(w_obs_l - w_obs_SiIV) < 72.)\n",
    "                | (np.abs(w_obs_l - w_obs_CIV) < 72.)\n",
    "                | (np.abs(w_obs_l - w_obs_CIII) < 72.)\n",
    "                | (np.abs(w_obs_l - w_obs_MgII) < 72.)\n",
    "                | (w_obs_l > w_obs_MgII)\n",
    "                )\n",
    "                # The Lya line flux is the highest\n",
    "                & (qso_flx[l, src] - cont_est_Arr[l - nb_c_min, src]\n",
    "                    < lya_flx - cont_est_Arr[l_lya - nb_c_min, src])\n",
    "                # g > r\n",
    "                & (qso_flx[-3, src] > qso_flx[-2, src])\n",
    "                # Line flux in acceptable values\n",
    "                & (43 < np.log10(first_line_F[src]) < 46)\n",
    "            ):\n",
    "            is_nice_lya = False\n",
    "    if is_nice_lya:\n",
    "        nice_lya += 1\n",
    "        nice_lya_Arr.append(src)\n",
    "    if is_nice_lya & (zspec[src] > 2.5):\n",
    "        nice_lya_z += 1\n",
    "        nice_lya_z_Arr.append(src)\n",
    "\n",
    "print('N_sources     = {}'.format(N_sources))\n",
    "print('total_detec   = {}'.format(N_sources - no_line))\n",
    "print('right_z       = {}'.format(right_z))\n",
    "print('single_line   = {}'.format(single_line))\n",
    "print('multiple_line = {}'.format(multiple_lines))\n",
    "print('nice_lya      = {}'.format(nice_lya))\n",
    "print('nice_lya_z    = {}'.format(nice_lya_z))"
   ]
  },
  {
   "cell_type": "code",
   "execution_count": null,
   "metadata": {},
   "outputs": [],
   "source": [
    "for src in np.random.choice(nice_lya_Arr, 10):\n",
    "    fig, ax = plt.subplots(figsize=(10, 8))\n",
    "    ax = plot_JPAS_source(qso_flx[:, src], qso_err[:, src])\n",
    "    ax.plot(w_central[line_list[src]],\n",
    "        cont_est_Arr[np.array(line_list[src]) - nb_c_min, src],\n",
    "        linestyle='', marker='^', markersize=10, c='C6')\n",
    "\n",
    "    plt.show()\n",
    "    print(np.log10(first_line_F[src]))\n",
    "    print('z_spec = {}'.format(zspec[src]))\n",
    "    print('z_nb   = {}'.format(z_nb_Arr[src]))"
   ]
  },
  {
   "cell_type": "code",
   "execution_count": null,
   "metadata": {},
   "outputs": [],
   "source": [
    "j = 0\n",
    "for src in nice_lya_Arr:\n",
    "    if zspec[src] < 2.5: continue\n",
    "    fig, ax = plt.subplots(figsize=(10, 8))\n",
    "    ax = plot_JPAS_source(qso_flx[:, src], qso_err[:, src])\n",
    "    ax.plot(w_central[line_list[src]],\n",
    "        cont_est_Arr[np.array(line_list[src]) - nb_c_min, src],\n",
    "        linestyle='', marker='^', markersize=10, c='C6')\n",
    "\n",
    "    plt.show()\n",
    "    print('z_spec = {}'.format(zspec[src]))\n",
    "\n",
    "    j += 1\n",
    "    if j == 10: break"
   ]
  },
  {
   "cell_type": "code",
   "execution_count": null,
   "metadata": {},
   "outputs": [],
   "source": [
    "len(np.where(zspec > 2.5)[0])"
   ]
  },
  {
   "cell_type": "code",
   "execution_count": null,
   "metadata": {},
   "outputs": [],
   "source": [
    "fig, ax = plt.subplots(figsize=(10, 8))\n",
    "bins = np.linspace(0, 6, 20)\n",
    "ax.hist(zspec, bins=bins, label='All', histtype='step')\n",
    "ax.hist(zspec[np.array(nice_lya_Arr)], bins=bins, label='Correct lines')\n",
    "ax.set_ylabel('N', fontsize=15)\n",
    "ax.set_xlabel(r'$z_{\\mathrm{Ly}\\alpha}$', fontsize=15)\n",
    "ax.legend(fontsize=15)\n",
    "plt.show()"
   ]
  }
 ],
 "metadata": {
  "interpreter": {
   "hash": "46cea94afe1f0d88e229837b28e72c2401fa9cb21844b20e15824a5f97d32088"
  },
  "kernelspec": {
   "display_name": "Python 3.9.7 64-bit ('py39': conda)",
   "name": "python3"
  },
  "language_info": {
   "codemirror_mode": {
    "name": "ipython",
    "version": 3
   },
   "file_extension": ".py",
   "mimetype": "text/x-python",
   "name": "python",
   "nbconvert_exporter": "python",
   "pygments_lexer": "ipython3",
   "version": "3.9.7"
  },
  "orig_nbformat": 4
 },
 "nbformat": 4,
 "nbformat_minor": 2
}
