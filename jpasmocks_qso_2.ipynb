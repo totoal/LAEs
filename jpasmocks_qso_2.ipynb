{
 "cells": [
  {
   "cell_type": "code",
   "execution_count": null,
   "metadata": {},
   "outputs": [],
   "source": [
    "import numpy as np\n",
    "import matplotlib.pyplot as plt\n",
    "import pandas as pd\n",
    "from my_functions import *"
   ]
  },
  {
   "cell_type": "code",
   "execution_count": null,
   "metadata": {},
   "outputs": [],
   "source": [
    "tcurves = load_tcurves(load_filter_tags())\n",
    "w_central = central_wavelength(tcurves)"
   ]
  },
  {
   "cell_type": "code",
   "execution_count": null,
   "metadata": {},
   "outputs": [],
   "source": [
    "def identify_lines(line_Arr, qso_flx, nb_min):\n",
    "    N_fil, N_src = line_Arr.shape\n",
    "    line_list = []\n",
    "\n",
    "    for src in range(N_src):\n",
    "        fil = 0\n",
    "        this_src_lines = []\n",
    "        while fil < N_fil:\n",
    "            this_line = []\n",
    "            while ~line_Arr[fil, src]:\n",
    "                fil += 1\n",
    "                if fil == N_fil: break\n",
    "            if fil == N_fil: break\n",
    "            while line_Arr[fil, src]:\n",
    "                this_line.append(fil)\n",
    "                fil += 1\n",
    "                if fil == N_fil: break\n",
    "            if fil == N_fil: break\n",
    "            this_src_lines.append(\n",
    "                fil + np.argmax(qso_flx[np.array(this_line) + nb_min, src])\\\n",
    "                - len(this_line) + 1 + nb_min\n",
    "            )\n",
    "        line_list.append(this_src_lines)\n",
    "    return line_list"
   ]
  },
  {
   "cell_type": "code",
   "execution_count": null,
   "metadata": {},
   "outputs": [],
   "source": [
    "## Load QSO catalog\n",
    "filename = ('/home/alberto/cosmos/JPAS_mocks_sep2021/'\n",
    "    'JPAS_mocks_classification_01sep_model11/Fluxes/Qso_jpas_mock_flam_train.cat')\n",
    "\n",
    "my_filter_order = np.arange(60)\n",
    "my_filter_order[[-4, -3, -2, -1]] = np.array([1, 12, 28, 43])\n",
    "my_filter_order[1:-4] += 1\n",
    "my_filter_order[12:-4] += 1\n",
    "my_filter_order[28:-4] += 1\n",
    "my_filter_order[43:-4] += 1\n",
    "\n",
    "qso_flx = pd.read_csv(\n",
    "    filename, sep=' ', usecols=range(2, 2 + 60)\n",
    ").to_numpy().T[my_filter_order]\n",
    "qso_err = pd.read_csv(\n",
    "    filename, sep=' ', usecols=range(2 + 60, 2 + 60 + 60)\n",
    ").to_numpy().T[my_filter_order]\n",
    "zspec = pd.read_csv(filename, sep=' ', usecols=[127]).to_numpy().reshape(-1, )"
   ]
  },
  {
   "cell_type": "code",
   "execution_count": null,
   "metadata": {},
   "outputs": [],
   "source": [
    "N_sources = qso_flx.shape[1]\n",
    "N_nb = 6\n",
    "ew0min = 10"
   ]
  },
  {
   "cell_type": "code",
   "execution_count": null,
   "metadata": {},
   "outputs": [],
   "source": [
    "nb_c_min = 6\n",
    "nb_c_max = 50\n",
    "line_qso = np.zeros((nb_c_max - nb_c_min, N_sources)).astype(bool)\n",
    "cont_est_Arr = np.zeros((nb_c_max - nb_c_min, N_sources))\n",
    "cont_err_Arr = np.zeros((nb_c_max - nb_c_min, N_sources))\n",
    "i = 0\n",
    "for nb_c in range(nb_c_min, nb_c_max):\n",
    "    z_nb = w_central[nb_c] / 1215.67 - 1\n",
    "    fwhm = nb_fwhm(nb_c, tcurves=tcurves)\n",
    "    cont_est_qso, cont_err_qso = stack_estimation(qso_flx, qso_err, nb_c, N_nb, False)\n",
    "    line_qso[i] = (\n",
    "        (qso_flx[nb_c] - cont_est_qso > 3 * (cont_err_qso**2 + qso_err[nb_c]**2) ** 0.5)\n",
    "        & (qso_flx[nb_c] - cont_est_qso > ew0min * (1 + z_nb) * cont_est_qso / fwhm)\n",
    "    )\n",
    "    cont_est_Arr[i] = cont_est_qso\n",
    "    cont_err_Arr[i] = cont_err_qso\n",
    "    i += 1"
   ]
  },
  {
   "cell_type": "code",
   "execution_count": null,
   "metadata": {},
   "outputs": [],
   "source": [
    "line_list = identify_lines(line_qso, qso_flx, nb_c_min)"
   ]
  },
  {
   "cell_type": "code",
   "execution_count": null,
   "metadata": {},
   "outputs": [],
   "source": [
    "w_lya = 1215.67\n",
    "w_SiIV = 1397.61\n",
    "w_CIV = 1549.48\n",
    "w_CIII = 1908.73\n",
    "w_MgII = 2799.12"
   ]
  },
  {
   "cell_type": "code",
   "execution_count": null,
   "metadata": {},
   "outputs": [],
   "source": [
    "no_line = 0\n",
    "single_line = 0\n",
    "multiple_lines = 0\n",
    "right_z = 0\n",
    "nice_lya = 0\n",
    "nice_lya_z = 0\n",
    "for src in range(N_sources):\n",
    "    try:\n",
    "        w_obs_lya = w_central[line_list[src][0]]\n",
    "    except:\n",
    "        no_line += 1\n",
    "        continue # No lines here\n",
    "\n",
    "    if zspec[src] > 2.55:\n",
    "        right_z += 1\n",
    "\n",
    "    if len(line_list[src]) == 1:\n",
    "        single_line += 1\n",
    "        continue # Just one line here\n",
    "\n",
    "    multiple_lines += 1\n",
    "\n",
    "    z_src = w_obs_lya / w_lya - 1\n",
    "\n",
    "    w_obs_SiIV = (1 + z_src) * w_SiIV\n",
    "    w_obs_CIV = (1 + z_src) * w_CIV\n",
    "    w_obs_CIII = (1 + z_src) * w_CIII\n",
    "    w_obs_MgII = (1 + z_src) * w_MgII\n",
    "\n",
    "    is_nice_lya = True\n",
    "    if line_list[src][0] > 27: # Mock zspec max is 4.3\n",
    "        is_nice_lya = False\n",
    "\n",
    "    for l in line_list[src][1:]:\n",
    "        w_obs_l = w_central[l]\n",
    "        if ~(\n",
    "            (np.abs(w_obs_l - w_obs_SiIV) < 72.)\n",
    "            | (np.abs(w_obs_l - w_obs_CIV) < 72.)\n",
    "            | (np.abs(w_obs_l - w_obs_CIII) < 72.)\n",
    "            | (np.abs(w_obs_l - w_obs_MgII) < 72.)\n",
    "            | (w_obs_l > w_obs_MgII)\n",
    "        ):\n",
    "            is_nice_lya = False\n",
    "    if is_nice_lya: nice_lya += 1\n",
    "    if is_nice_lya & (zspec[src] > 2.5): nice_lya_z += 1\n",
    "\n",
    "print('N_sources     = {}'.format(N_sources))\n",
    "print('total_detec   = {}'.format(N_sources - no_line))\n",
    "print('right_z       = {}'.format(right_z))\n",
    "print('single_line   = {}'.format(single_line))\n",
    "print('multiple_line = {}'.format(multiple_lines))\n",
    "print('nice_lya      = {}'.format(nice_lya))\n",
    "print('nice_lya_z    = {}'.format(nice_lya_z))"
   ]
  },
  {
   "cell_type": "code",
   "execution_count": null,
   "metadata": {},
   "outputs": [],
   "source": [
    "len(np.where(zspec > 2.5)[0])"
   ]
  },
  {
   "cell_type": "code",
   "execution_count": null,
   "metadata": {},
   "outputs": [],
   "source": [
    "line_list_lens = [len(element) for element in line_list]\n",
    "plt.hist(line_list_lens)"
   ]
  }
 ],
 "metadata": {
  "interpreter": {
   "hash": "46cea94afe1f0d88e229837b28e72c2401fa9cb21844b20e15824a5f97d32088"
  },
  "kernelspec": {
   "display_name": "Python 3.9.7 64-bit ('py39': conda)",
   "name": "python3"
  },
  "language_info": {
   "codemirror_mode": {
    "name": "ipython",
    "version": 3
   },
   "file_extension": ".py",
   "mimetype": "text/x-python",
   "name": "python",
   "nbconvert_exporter": "python",
   "pygments_lexer": "ipython3",
   "version": "3.9.7"
  },
  "orig_nbformat": 4
 },
 "nbformat": 4,
 "nbformat_minor": 2
}
