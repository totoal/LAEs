{
 "cells": [
  {
   "cell_type": "code",
   "execution_count": null,
   "metadata": {},
   "outputs": [],
   "source": [
    "from my_functions import *\n",
    "\n",
    "import numpy as np\n",
    "import pandas as pd"
   ]
  },
  {
   "cell_type": "code",
   "execution_count": null,
   "metadata": {},
   "outputs": [],
   "source": [
    "filter_tags = load_filter_tags()\n",
    "w_central = central_wavelength()\n",
    "fwhm_Arr = nb_fwhm(np.arange(60))\n",
    "w_lya = 1215.67\n",
    "\n",
    "detec_lim_001 = pd.read_csv('csv/depth3arc5s_minijpas_2241.csv',\n",
    "                            sep=',', header=0, usecols=[1]).to_numpy()\n",
    "detec_lim_002 = pd.read_csv('csv/depth3arc5s_minijpas_2243.csv',\n",
    "                            sep=',', header=0, usecols=[1]).to_numpy()\n",
    "detec_lim_003 = pd.read_csv('csv/depth3arc5s_minijpas_2406.csv',\n",
    "                            sep=',', header=0, usecols=[1]).to_numpy()\n",
    "detec_lim_004 = pd.read_csv('csv/depth3arc5s_minijpas_2470.csv',\n",
    "                            sep=',', header=0, usecols=[1]).to_numpy()\n",
    "detec_lim_nep = pd.read_csv('csv/depth3arc5s_jnep_2520.csv',\n",
    "                        sep=',', header=0, usecols=[1]).to_numpy()\n",
    "\n",
    "detec_lim_001 = [f'{el:0.2f}' for el in detec_lim_001.flatten()]\n",
    "detec_lim_002 = [f'{el:0.2f}' for el in detec_lim_002.flatten()]\n",
    "detec_lim_003 = [f'{el:0.2f}' for el in detec_lim_003.flatten()]\n",
    "detec_lim_004 = [f'{el:0.2f}' for el in detec_lim_004.flatten()]\n",
    "detec_lim_nep = [f'{el:0.2f}' for el in detec_lim_nep.flatten()]\n",
    "\n",
    "z_low = (w_central - fwhm_Arr * 0.5) / w_lya - 1\n",
    "z_high = (w_central + fwhm_Arr * 0.5) / w_lya - 1\n",
    "\n",
    "z_str_list = np.array([f'{low:0.2f}-{high:0.2f}' for low, high in zip(z_low, z_high)])"
   ]
  },
  {
   "cell_type": "code",
   "execution_count": null,
   "metadata": {},
   "outputs": [],
   "source": [
    "data = {\n",
    "        'Filter': np.array(filter_tags),\n",
    "        'miniJPAS_AEGIS001_5s_lim': detec_lim_001,\n",
    "        'miniJPAS_AEGIS002_5s_lim': detec_lim_002,\n",
    "        'miniJPAS_AEGIS003_5s_lim': detec_lim_003,\n",
    "        'miniJPAS_AEGIS004_5s_lim': detec_lim_004,\n",
    "        'JNEP_5s_lim': detec_lim_nep,\n",
    "        'z_low-z_high': z_str_list\n",
    "    }\n",
    "\n",
    "table = pd.DataFrame(data)\n",
    "table.to_csv('csv/filter_properties_table.csv')"
   ]
  },
  {
   "cell_type": "code",
   "execution_count": null,
   "metadata": {},
   "outputs": [],
   "source": [
    "table.head()"
   ]
  }
 ],
 "metadata": {
  "interpreter": {
   "hash": "ade4bca3e0042e0da78fecdb82351169c0f2ccedb06a0d7cf7342df8f7e47af7"
  },
  "kernelspec": {
   "display_name": "Python 3.9.12 ('base')",
   "language": "python",
   "name": "python3"
  },
  "language_info": {
   "codemirror_mode": {
    "name": "ipython",
    "version": 3
   },
   "file_extension": ".py",
   "mimetype": "text/x-python",
   "name": "python",
   "nbconvert_exporter": "python",
   "pygments_lexer": "ipython3",
   "version": "3.9.12"
  },
  "orig_nbformat": 4
 },
 "nbformat": 4,
 "nbformat_minor": 2
}
