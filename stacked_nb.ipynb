{
 "cells": [
  {
   "cell_type": "code",
   "execution_count": null,
   "id": "98e7253e",
   "metadata": {},
   "outputs": [],
   "source": [
    "import numpy as np\n",
    "import matplotlib.pyplot as plt\n",
    "from my_functions import *\n",
    "%matplotlib notebook"
   ]
  },
  {
   "cell_type": "code",
   "execution_count": null,
   "id": "02678dcd",
   "metadata": {},
   "outputs": [],
   "source": [
    "pm_data = np.load('npy/pm_eLAE_1deg.npy')\n",
    "f_name = 'Source_cats/Source_cat_LAE_1deg.npy'\n",
    "mock = np.load(f_name, allow_pickle=True).item()\n",
    "errors = np.load('npy/errors5Sigma.npy')[:,1]"
   ]
  },
  {
   "cell_type": "code",
   "execution_count": null,
   "id": "c24a050d",
   "metadata": {},
   "outputs": [],
   "source": [
    "filters_tags = load_filter_tags()\n",
    "tcurves = load_tcurves(filters_tags)\n",
    "w_central = np.array(central_wavelength(tcurves))"
   ]
  },
  {
   "cell_type": "code",
   "execution_count": null,
   "id": "60134bd0",
   "metadata": {},
   "outputs": [],
   "source": [
    "bb_fwhm = [\n",
    "    nb_fwhm(tcurves, -4, True),\n",
    "    nb_fwhm(tcurves, -3, True),\n",
    "    nb_fwhm(tcurves, -2, True),\n",
    "    nb_fwhm(tcurves, -1, True)\n",
    "]"
   ]
  },
  {
   "cell_type": "code",
   "execution_count": null,
   "id": "06e68f11",
   "metadata": {},
   "outputs": [],
   "source": [
    "def stack_estimation(pm_flx, pm_err, nb_c, N_nb):\n",
    "    '''\n",
    "    Returns the weighted average and std of N_nb Narrow Bands\n",
    "    arround the central one.\n",
    "    '''\n",
    "    nb_idx_Arr = np.array([*range(nb_c-N_nb, nb_c), *range(nb_c+1, nb_c+N_nb-1)])\n",
    "    \n",
    "    flx = pm_flx[nb_idx_Arr]\n",
    "    err = pm_err[nb_idx_Arr]\n",
    "    \n",
    "    avg = np.average(flx, axis=0, weights=err)\n",
    "    std = np.average((flx - avg)**2, axis=0, weights=err)**0.5\n",
    "    \n",
    "    return avg, std"
   ]
  },
  {
   "cell_type": "code",
   "execution_count": null,
   "id": "310eb533",
   "metadata": {},
   "outputs": [],
   "source": [
    "nb_c = 12\n",
    "fcont, cont_err = stack_estimation(pm_data, errors, 12, 10)"
   ]
  },
  {
   "cell_type": "code",
   "execution_count": null,
   "id": "625e7bc4",
   "metadata": {
    "scrolled": true
   },
   "outputs": [],
   "source": [
    "plt.close('all')\n",
    "for mock_n in range(15):\n",
    "    pm = pm_data[:,mock_n]\n",
    "    \n",
    "    fig, ax = plt.subplots()\n",
    "    ax.plot( mock['w_Arr'], mock['SEDs'][mock_n], c='orange', lw=2, zorder=-1)\n",
    "    ax.scatter(w_central[:-3], pm[:-3])\n",
    "    ax.errorbar(w_central[:-3], pm[:-3], yerr=errors[:-3], fmt='none')\n",
    "    ax.scatter(w_central[nb_c], pm[nb_c], c='black')\n",
    "\n",
    "    ax.scatter(w_central[-4], pm[-4], c='purple' , marker='s')\n",
    "    ax.scatter(w_central[-3], pm[-3], c='green'  , marker='s')\n",
    "    ax.scatter(w_central[-2], pm[-2], c='red'    , marker='s')\n",
    "    ax.scatter(w_central[-1], pm[-1], c='dimgray', marker='s')\n",
    "\n",
    "    ax.errorbar(w_central[-4], pm[-4], xerr=bb_fwhm[-4]/2, fmt='none', color='purple' , elinewidth=4)\n",
    "    ax.errorbar(w_central[-3], pm[-3], xerr=bb_fwhm[-3]/2, fmt='none', color='green'  , elinewidth=4)\n",
    "    ax.errorbar(w_central[-2], pm[-2], xerr=bb_fwhm[-2]/2, fmt='none', color='red'    , elinewidth=4)\n",
    "    ax.errorbar(w_central[-1], pm[-1], xerr=bb_fwhm[-1]/2, fmt='none', color='dimgray', elinewidth=4)\n",
    "\n",
    "    ax.set_xlabel('$\\lambda\\ (\\AA)$', size=15)\n",
    "    ax.set_ylabel('$f_\\lambda$ (erg cm$^{-2}$ s$^{-1}$ $\\AA^{-1}$)', size=15)\n",
    "\n",
    "    # Fit line\n",
    "    ax.errorbar(w_central[nb_c], fcont[mock_n], yerr=cont_err[mock_n],\n",
    "                c='black', marker='s', markersize=8, markerfacecolor='none')\n",
    "\n",
    "    plt.show()"
   ]
  },
  {
   "cell_type": "code",
   "execution_count": null,
   "id": "3671e472",
   "metadata": {},
   "outputs": [],
   "source": []
  }
 ],
 "metadata": {
  "kernelspec": {
   "display_name": "Python 3",
   "language": "python",
   "name": "python3"
  },
  "language_info": {
   "codemirror_mode": {
    "name": "ipython",
    "version": 3
   },
   "file_extension": ".py",
   "mimetype": "text/x-python",
   "name": "python",
   "nbconvert_exporter": "python",
   "pygments_lexer": "ipython3",
   "version": "3.8.10"
  }
 },
 "nbformat": 4,
 "nbformat_minor": 5
}
