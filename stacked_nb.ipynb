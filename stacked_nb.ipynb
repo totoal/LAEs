{
 "cells": [
  {
   "cell_type": "code",
   "execution_count": 1,
   "id": "98e7253e",
   "metadata": {},
   "outputs": [],
   "source": [
    "import numpy as np\n",
    "import matplotlib.pyplot as plt\n",
    "from my_functions import *\n",
    "%matplotlib notebook\n"
   ]
  },
  {
   "cell_type": "code",
   "execution_count": 2,
   "id": "02678dcd",
   "metadata": {},
   "outputs": [],
   "source": [
    "pm_data = np.load('npy/pm_eLAE_1deg.npy')\n",
    "f_name = 'Source_cats/Source_cat_LAE_1deg.npy'\n",
    "mock = np.load(f_name, allow_pickle=True).item()\n",
    "errors = np.load('npy/errors5Sigma.npy')[:,1]"
   ]
  },
  {
   "cell_type": "code",
   "execution_count": 3,
   "id": "c24a050d",
   "metadata": {},
   "outputs": [],
   "source": [
    "filters_tags = load_filter_tags()\n",
    "tcurves = load_tcurves(filters_tags)\n",
    "w_central = np.array(central_wavelength(tcurves))"
   ]
  },
  {
   "cell_type": "code",
   "execution_count": 4,
   "id": "60134bd0",
   "metadata": {},
   "outputs": [],
   "source": [
    "bb_fwhm = [\n",
    "    nb_fwhm(tcurves, -4, True),\n",
    "    nb_fwhm(tcurves, -3, True),\n",
    "    nb_fwhm(tcurves, -2, True),\n",
    "    nb_fwhm(tcurves, -1, True)\n",
    "]"
   ]
  },
  {
   "cell_type": "code",
   "execution_count": 5,
   "id": "06e68f11",
   "metadata": {},
   "outputs": [],
   "source": [
    "def stack_estimation(pm_flx, pm_err, nb_c, N_nb, w_central, nb_fwhm_Arr, ew0min):\n",
    "    '''\n",
    "    Returns the weighted average and std of N_nb Narrow Bands\n",
    "    arround the central one.\n",
    "    '''\n",
    "    nb_idx_Arr = np.array([*range(nb_c-N_nb, nb_c+N_nb+1)])\n",
    "    \n",
    "    flx = pm_flx[nb_idx_Arr]\n",
    "    err = pm_err[nb_idx_Arr]\n",
    "    \n",
    "    # Remove NB compatible with emission lines\n",
    "    ref_bb = -3\n",
    "    ew0min = 50\n",
    "    \n",
    "    z = 1215.67/w_central[nb_c] - 1\n",
    "    ew = (1 + z) * ew0min\n",
    "\n",
    "    bbnb = flx - pm_flx[ref_bb]\n",
    "    bbnb_err = (err**2 + pm_err[ref_bb]**2)**0.5\n",
    "    outliers = bbnb.T > 3*bbnb_err.T + ew*pm_flx[ref_bb].reshape(-1, 1)\\\n",
    "                                        /np.array(nb_fwhm_Arr)[nb_idx_Arr]\n",
    "    out = np.where(outliers)\n",
    "    out_symmetric = (out[0], N_nb - (out[1]-N_nb))\n",
    "    err[out[1], out[0]] = 999.\n",
    "    err[out_symmetric[1], out_symmetric[0]] = 999.\n",
    "    err[N_nb] = 9999.\n",
    "\n",
    "    \n",
    "    avg = np.average(flx, axis=0, weights=1./err)\n",
    "    std = np.average((flx - avg)**2, axis=0, weights=1./err)**0.5\n",
    "    \n",
    "    return avg, std"
   ]
  },
  {
   "cell_type": "code",
   "execution_count": 6,
   "id": "6a00a60e",
   "metadata": {},
   "outputs": [],
   "source": [
    "# The model function\n",
    "def model_f(x, m, b):\n",
    "    return m*x + b "
   ]
  },
  {
   "cell_type": "code",
   "execution_count": null,
   "id": "310eb533",
   "metadata": {},
   "outputs": [],
   "source": [
    "nb_c = 15\n",
    "N_nb = 10\n",
    "ew0min = 50\n",
    "nb_fwhm_Arr = [nb_fwhm(tcurves, idx, True) for idx in np.arange(len(filters_tags))]\n",
    "err = (np.ones(pm_data.shape).T * errors).T\n",
    "cont_stack, cont_err_stack = stack_estimation(\n",
    "    pm_data, err, nb_c, N_nb, w_central, nb_fwhm_Arr, ew0min\n",
    ")\n",
    "_, cont_fit, cont_err_fit = nbex_cont_estimate(\n",
    "    model_f, pm_data.T, err.T, nb_c, w_central, N_nb, ew0min, nb_fwhm_Arr[10]\n",
    ")"
   ]
  },
  {
   "cell_type": "code",
   "execution_count": null,
   "id": "625e7bc4",
   "metadata": {
    "scrolled": true
   },
   "outputs": [],
   "source": [
    "plt.close('all')\n",
    "for mock_n in range(15):\n",
    "    pm = pm_data[:,mock_n]\n",
    "    \n",
    "    fig, ax = plt.subplots()\n",
    "    ax.plot( mock['w_Arr'], mock['SEDs'][mock_n], c='orange', lw=2, zorder=-1)\n",
    "    ax.scatter(w_central[:-3], pm[:-3])\n",
    "    ax.errorbar(w_central[:-3], pm[:-3], yerr=errors[:-3], fmt='none')\n",
    "#     ax.scatter(w_central[nb_c], pm[nb_c], c='black')\n",
    "\n",
    "    ax.scatter(w_central[-4], pm[-4], c='purple' , marker='s')\n",
    "    ax.scatter(w_central[-3], pm[-3], c='green'  , marker='s')\n",
    "    ax.scatter(w_central[-2], pm[-2], c='red'    , marker='s')\n",
    "    ax.scatter(w_central[-1], pm[-1], c='dimgray', marker='s')\n",
    "\n",
    "    ax.errorbar(w_central[-4], pm[-4],\n",
    "                xerr=bb_fwhm[-4]/2, yerr=errors[-4],\n",
    "                fmt='none', color='purple' , elinewidth=4)\n",
    "    ax.errorbar(w_central[-3], pm[-3], yerr=errors[-3],\n",
    "                xerr=bb_fwhm[-3]/2, fmt='none', color='green'  , elinewidth=4)\n",
    "    ax.errorbar(w_central[-2], pm[-2], yerr=errors[-2],\n",
    "                xerr=bb_fwhm[-2]/2, fmt='none', color='red'    , elinewidth=4)\n",
    "    ax.errorbar(w_central[-1], pm[-1], yerr=errors[-1],\n",
    "                xerr=bb_fwhm[-1]/2, fmt='none', color='dimgray', elinewidth=4)\n",
    "\n",
    "    ax.set_xlabel('$\\lambda\\ (\\AA)$', size=15)\n",
    "    ax.set_ylabel('$f_\\lambda$ (erg cm$^{-2}$ s$^{-1}$ $\\AA^{-1}$)', size=15)\n",
    "\n",
    "    # Fit line\n",
    "    ax.errorbar(w_central[nb_c]+10, cont_stack[mock_n], yerr=cont_err_stack[mock_n],\n",
    "                c='darkorchid', marker='^', markersize=9,\n",
    "                capsize=4, label='Stack NBs', elinewidth=2, capthick=2)\n",
    "    cont_fit_value = cont_fit[mock_n, 1] + cont_fit[mock_n, 0]*w_central[nb_c]\n",
    "    ax.plot(np.linspace(4000,6000,1000),\n",
    "            cont_fit[mock_n, 1] + cont_fit[mock_n, 0]*np.linspace(4000,6000,1000),\n",
    "            c='mediumseagreen', linestyle='dashed')\n",
    "    ax.errorbar(w_central[nb_c], cont_fit_value, yerr=cont_err_fit[mock_n],\n",
    "                c='mediumseagreen', marker='*', markersize=9,\n",
    "                capsize=4, label='Linear fit', elinewidth=2, capthick=2)\n",
    "    \n",
    "    plt.legend()\n",
    "\n",
    "    plt.show()"
   ]
  },
  {
   "cell_type": "code",
   "execution_count": null,
   "id": "572766ac",
   "metadata": {},
   "outputs": [],
   "source": []
  }
 ],
 "metadata": {
  "kernelspec": {
   "display_name": "Python 3",
   "language": "python",
   "name": "python3"
  },
  "language_info": {
   "codemirror_mode": {
    "name": "ipython",
    "version": 3
   },
   "file_extension": ".py",
   "mimetype": "text/x-python",
   "name": "python",
   "nbconvert_exporter": "python",
   "pygments_lexer": "ipython3",
   "version": "3.8.10"
  }
 },
 "nbformat": 4,
 "nbformat_minor": 5
}
