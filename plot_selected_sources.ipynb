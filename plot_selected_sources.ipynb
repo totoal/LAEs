{
 "cells": [
  {
   "cell_type": "code",
   "execution_count": null,
   "metadata": {},
   "outputs": [],
   "source": [
    "import numpy as np\n",
    "import matplotlib.pyplot as plt\n",
    "import pickle"
   ]
  },
  {
   "cell_type": "code",
   "execution_count": null,
   "metadata": {},
   "outputs": [],
   "source": [
    "with open('npy/selection.npy', 'rb') as f:\n",
    "    sel = pickle.load(f)"
   ]
  },
  {
   "cell_type": "code",
   "execution_count": null,
   "metadata": {},
   "outputs": [],
   "source": [
    "sel.keys()"
   ]
  },
  {
   "cell_type": "code",
   "execution_count": null,
   "metadata": {},
   "outputs": [],
   "source": [
    "for tile in [2406, 2241, 2470, 2243, 2520]:\n",
    "    fig, ax = plt.subplots(figsize=(5, 4))\n",
    "\n",
    "    this_tile_mask = (sel['tile_id'] == tile)\n",
    "    X = sel['x_im'][this_tile_mask]\n",
    "    Y = sel['y_im'][this_tile_mask]\n",
    "    nb_Arr = sel['nb_sel'][this_tile_mask]\n",
    "    ax.scatter(X, Y, c=nb_Arr)\n",
    "\n",
    "    ax.set_ylabel('y$_{im}$ (px)', fontsize=15)\n",
    "    ax.set_xlabel('x$_{im}$ (px)', fontsize=15)\n",
    "\n",
    "    plt.show()"
   ]
  }
 ],
 "metadata": {
  "kernelspec": {
   "display_name": "Python 3.9.12 ('base')",
   "language": "python",
   "name": "python3"
  },
  "language_info": {
   "codemirror_mode": {
    "name": "ipython",
    "version": 3
   },
   "file_extension": ".py",
   "mimetype": "text/x-python",
   "name": "python",
   "nbconvert_exporter": "python",
   "pygments_lexer": "ipython3",
   "version": "3.9.12"
  },
  "orig_nbformat": 4,
  "vscode": {
   "interpreter": {
    "hash": "ade4bca3e0042e0da78fecdb82351169c0f2ccedb06a0d7cf7342df8f7e47af7"
   }
  }
 },
 "nbformat": 4,
 "nbformat_minor": 2
}
