{
 "cells": [
  {
   "cell_type": "code",
   "execution_count": null,
   "id": "statistical-margin",
   "metadata": {},
   "outputs": [],
   "source": [
    "#%matplotlib notebook\n",
    "import matplotlib.pyplot as plt\n",
    "import numpy as np\n",
    "import math\n",
    "from pylab import *\n",
    "from scipy.interpolate import interp1d\n",
    "import time\n",
    "from scipy.integrate import simps\n",
    "import csv\n",
    "from my_functions import *"
   ]
  },
  {
   "cell_type": "code",
   "execution_count": null,
   "id": "pediatric-housing",
   "metadata": {},
   "outputs": [],
   "source": [
    "filepath = './JPAS_Transmission_Curves_20170316/minijpas.Filter.csv'\n",
    "filters_tags = []\n",
    "\n",
    "with open(filepath, mode='r') as csvfile:\n",
    "    rdlns = csv.reader(csvfile, delimiter=',')\n",
    "    \n",
    "    next(rdlns, None)\n",
    "    next(rdlns, None)\n",
    "    \n",
    "    for line in rdlns:\n",
    "        filters_tags.append(line[1])\n",
    "        \n",
    "filters_tags[0] = 'J0348'"
   ]
  },
  {
   "cell_type": "code",
   "execution_count": null,
   "id": "yellow-support",
   "metadata": {},
   "outputs": [],
   "source": [
    "filters_w = []\n",
    "filters_trans = []\n",
    "\n",
    "for tag in filters_tags:\n",
    "    \n",
    "    filename = './JPAS_Transmission_Curves_20170316/JPAS_'+tag+'.tab'\n",
    "    f = open(filename, mode='r')\n",
    "    lines = f.readlines()[12:]\n",
    "    w = []\n",
    "    trans = []\n",
    "   \n",
    "    for l in range(len(lines)):\n",
    "        w.append(float(lines[l].split()[0]))\n",
    "        trans.append(float(lines[l].split()[1]))\n",
    "        \n",
    "    filters_w.append(w)\n",
    "    filters_trans.append(trans)\n",
    "    \n",
    "        \n",
    "tcurves = {\n",
    "    \"tag\"  :  filters_tags,\n",
    "    \"w\"    :  filters_w ,\n",
    "    \"t\"    :  filters_trans\n",
    "}"
   ]
  },
  {
   "cell_type": "markdown",
   "id": "dense-belle",
   "metadata": {},
   "source": [
    "Import the mocks"
   ]
  },
  {
   "cell_type": "code",
   "execution_count": null,
   "id": "automotive-hunter",
   "metadata": {},
   "outputs": [],
   "source": [
    "f_name = 'Source_cats/Source_cat_1000b.npy'\n",
    "mock = np.load( f_name, allow_pickle=True ).item()"
   ]
  },
  {
   "cell_type": "code",
   "execution_count": null,
   "id": "cultural-classroom",
   "metadata": {},
   "outputs": [],
   "source": [
    "# Import errors\n",
    "errors = np.load('npy/errors5Sigma.npy')"
   ]
  },
  {
   "cell_type": "code",
   "execution_count": null,
   "id": "labeled-respect",
   "metadata": {},
   "outputs": [],
   "source": [
    "w_central = []\n",
    "\n",
    "for fil in range(0,len(tcurves['tag'])):\n",
    "    w_c = sum(np.array(tcurves['w'][fil])*np.array(tcurves['t'][fil])) \\\n",
    "           / sum(tcurves['t'][fil])\n",
    "    w_central.append(w_c)"
   ]
  },
  {
   "cell_type": "code",
   "execution_count": null,
   "id": "prompt-refund",
   "metadata": {},
   "outputs": [],
   "source": [
    "def photo(mock_number): # Makes the photometry of mock #mock_number\n",
    "    \n",
    "    photo_len = len(tcurves['tag'])\n",
    "    photo = np.zeros(photo_len)      # Initialize pm vector\n",
    "    \n",
    "    for fil in range(0,photo_len):   # For each filter\n",
    "        \n",
    "        w = np.array(tcurves['w'][fil])\n",
    "        t = np.array(tcurves['t'][fil])\n",
    "        \n",
    "        f = interp1d(w, t, fill_value='extrapolate')\n",
    "        w_Arr = mock['w_Arr']\n",
    "        \n",
    "        sed = f(w_Arr)*mock['SEDs'][mock_number]\n",
    "                \n",
    "        sed_int = simps(w_Arr*sed,w_Arr)\n",
    "        t_int   = simps(w*t,w)\n",
    "        \n",
    "        err = np.random.normal()*errors[fil,1]\n",
    "        \n",
    "        photo[fil] = sed_int/t_int + err\n",
    "        \n",
    "    return np.array(photo)"
   ]
  },
  {
   "cell_type": "markdown",
   "id": "talented-appearance",
   "metadata": {},
   "source": [
    "# Photometry"
   ]
  },
  {
   "cell_type": "code",
   "execution_count": null,
   "id": "activated-pension",
   "metadata": {},
   "outputs": [],
   "source": [
    "N_sources = mock['SEDs'].shape[0]\n",
    "N_filters = len(tcurves['tag'])\n",
    "\n",
    "# pm_data = np.zeros(N_filters*N_sources).reshape(-1,N_sources)\n",
    "\n",
    "# t_start = time.time()\n",
    "\n",
    "# for mock_n in range(N_sources):\n",
    "\n",
    "#     #pm = photo(mock_n)\n",
    "    \n",
    "#     pm_data[:,mock_n] = photo(mock_n)\n",
    "    \n",
    "#     print(str(mock_n)+'/'+str(N_sources), end='\\r')\n",
    "\n",
    "# t_end = time.time()\n",
    "\n",
    "# print('Elapsed time: ' + str(t_end-t_start))"
   ]
  },
  {
   "cell_type": "code",
   "execution_count": null,
   "id": "exterior-hundred",
   "metadata": {},
   "outputs": [],
   "source": [
    "# np.save('pm_e' + f_name[23:], pm_data)"
   ]
  },
  {
   "cell_type": "code",
   "execution_count": null,
   "id": "julian-baker",
   "metadata": {},
   "outputs": [],
   "source": [
    "bb_fwhm = [\n",
    "    nb_fwhm(tcurves, -4, True),\n",
    "    nb_fwhm(tcurves, -3, True),\n",
    "    nb_fwhm(tcurves, -2, True),\n",
    "    nb_fwhm(tcurves, -1, True)\n",
    "]"
   ]
  },
  {
   "cell_type": "code",
   "execution_count": null,
   "id": "close-duplicate",
   "metadata": {
    "scrolled": true
   },
   "outputs": [],
   "source": [
    "for mock_n in range(60):\n",
    "    \n",
    "    if mock['LAE'][mock_n] == True:\n",
    "        continue\n",
    "\n",
    "    pm = photo(mock_n)\n",
    "    \n",
    "    plt.figure(figsize=(7,6))\n",
    "    plt.plot( mock['w_Arr'], mock['SEDs'][mock_n], c='orange', lw=2, zorder=-1)\n",
    "    plt.scatter(w_central[:-3], pm[:-3])\n",
    "    plt.errorbar(w_central[:-3], pm[:-3], yerr=errors[:-3, 1], fmt='none')\n",
    "    \n",
    "    plt.scatter(w_central[-4], pm[-4], c='purple' , marker='s')\n",
    "    plt.scatter(w_central[-3], pm[-3], c='green'  , marker='s')\n",
    "    plt.scatter(w_central[-2], pm[-2], c='red'    , marker='s')\n",
    "    plt.scatter(w_central[-1], pm[-1], c='dimgray', marker='s')\n",
    "    \n",
    "    plt.errorbar(w_central[-4], pm[-4], xerr=bb_fwhm[-4]/2, fmt='none', color='purple' , elinewidth=4)\n",
    "    plt.errorbar(w_central[-3], pm[-3], xerr=bb_fwhm[-3]/2, fmt='none', color='green'  , elinewidth=4)\n",
    "    plt.errorbar(w_central[-2], pm[-2], xerr=bb_fwhm[-2]/2, fmt='none', color='red'    , elinewidth=4)\n",
    "    plt.errorbar(w_central[-1], pm[-1], xerr=bb_fwhm[-1]/2, fmt='none', color='dimgray', elinewidth=4)\n",
    "    \n",
    "    #plt.yscale('log')\n",
    "    \n",
    "    plt.xlabel('$\\lambda\\ (\\AA)$', size=15)\n",
    "    plt.ylabel('$f_\\lambda$ (erg cm$^{-2}$ s$^{-1}$ $\\AA^{-1}$)', size=15)    \n",
    "    \n",
    "    plt.show()\n",
    "    \n",
    "    print('N = '+str(mock_n))\n",
    "    print('LAE = ' + str(mock['LAE'][mock_n]))"
   ]
  },
  {
   "cell_type": "code",
   "execution_count": null,
   "id": "pleasant-details",
   "metadata": {
    "scrolled": false
   },
   "outputs": [],
   "source": [
    "fig, axs = plt.subplots(2, 3, figsize=(15, 9), sharex=True)\n",
    "\n",
    "k=0\n",
    "ns = [0, 11, 5, 1, 8, 12]\n",
    "for i in [0, 1]:\n",
    "    for j in [0, 1, 2]:\n",
    "        pm = photo(ns[k])\n",
    "\n",
    "        axs[i, j].plot( mock['w_Arr'], mock['SEDs'][ns[k]], c='orange', lw=2, zorder=-1)\n",
    "        axs[i, j].scatter(w_central[:-3], pm[:-3])\n",
    "        axs[i, j].errorbar(w_central[:-3], pm[:-3], yerr=errors[:-3, 1], fmt='none')\n",
    "\n",
    "        axs[i, j].scatter(w_central[-4], pm[-4], c='purple' , marker='s')\n",
    "        axs[i, j].scatter(w_central[-3], pm[-3], c='green'  , marker='s')\n",
    "        axs[i, j].scatter(w_central[-2], pm[-2], c='red'    , marker='s')\n",
    "        axs[i, j].scatter(w_central[-1], pm[-1], c='dimgray', marker='s')\n",
    "\n",
    "        axs[i, j].errorbar(w_central[-4], pm[-4], xerr=bb_fwhm[-4]/2, fmt='none', color='purple' , elinewidth=4)\n",
    "        axs[i, j].errorbar(w_central[-3], pm[-3], xerr=bb_fwhm[-3]/2, fmt='none', color='green'  , elinewidth=4)\n",
    "        axs[i, j].errorbar(w_central[-2], pm[-2], xerr=bb_fwhm[-2]/2, fmt='none', color='red'    , elinewidth=4)\n",
    "        axs[i, j].errorbar(w_central[-1], pm[-1], xerr=bb_fwhm[-1]/2, fmt='none', color='dimgray', elinewidth=4)\n",
    "        plt.yscale('log')\n",
    "        k += 1\n",
    "\n",
    "# plt.setp(axs[0,0], ylim=(-1e-18, 3e-18))\n",
    "# plt.setp(axs[0,1], ylim=(-1e-18, 3e-18))\n",
    "# plt.setp(axs[0,2], ylim=(-1e-18, 3e-18))\n",
    "# plt.setp(axs[1,0], ylim=(-1e-18, 3e-18))\n",
    "# plt.setp(axs[1,1], ylim=(-1e-18, 3e-18))\n",
    "# plt.setp(axs[1,2], ylim=(-1e-18, 3e-18))\n",
    "plt.show()"
   ]
  },
  {
   "cell_type": "code",
   "execution_count": null,
   "id": "varying-routine",
   "metadata": {},
   "outputs": [],
   "source": []
  }
 ],
 "metadata": {
  "kernelspec": {
   "display_name": "Python 3",
   "language": "python",
   "name": "python3"
  },
  "language_info": {
   "codemirror_mode": {
    "name": "ipython",
    "version": 3
   },
   "file_extension": ".py",
   "mimetype": "text/x-python",
   "name": "python",
   "nbconvert_exporter": "python",
   "pygments_lexer": "ipython3",
   "version": "3.8.10"
  }
 },
 "nbformat": 4,
 "nbformat_minor": 5
}
