{
 "cells": [
  {
   "cell_type": "code",
   "execution_count": null,
   "source": [
    "import numpy as np\n",
    "import matplotlib.pyplot as plt\n",
    "from my_functions import *\n",
    "from time import time\n",
    "from scipy.special import erf"
   ],
   "outputs": [],
   "metadata": {}
  },
  {
   "cell_type": "code",
   "execution_count": null,
   "source": [
    "## Load everything\n",
    "pm_data = np.load('npy/pm_eLAE_1deg.npy')\n",
    "pm_data_noerr = np.load('npy/pm_LAE_1deg.npy')\n",
    "f_name = 'Source_cats/Source_cat_LAE_1deg.npy'\n",
    "mock = np.load(f_name, allow_pickle=True).item()\n",
    "\n",
    "errors = np.load('npy/errors5Sigma.npy')[:,1]*4\n",
    "\n",
    "filters_tags = load_filter_tags()\n",
    "tcurves = load_tcurves(filters_tags)\n",
    "w_central = np.array(central_wavelength(tcurves))\n",
    "\n",
    "bb_fwhm = [\n",
    "    nb_fwhm(tcurves, -4, True),\n",
    "    nb_fwhm(tcurves, -3, True),\n",
    "    nb_fwhm(tcurves, -2, True),\n",
    "    nb_fwhm(tcurves, -1, True)\n",
    "]"
   ],
   "outputs": [],
   "metadata": {}
  },
  {
   "cell_type": "code",
   "execution_count": null,
   "source": [
    "nb_c = 26\n",
    "N_nb = 6\n",
    "\n",
    "pm_err = (np.ones(pm_data.shape).T * errors).T\n",
    "cont_est, cont_err = synthetic_BB_estimation(\n",
    "    pm_data, pm_err, nb_c, N_nb, tcurves['t'], tcurves['w'], w_central\n",
    "    )\n",
    "real_cont_value, _ = synthetic_BB_estimation(\n",
    "    pm_data_noerr, pm_err, nb_c, 2, tcurves['t'], tcurves['w'], w_central, False\n",
    "    )"
   ],
   "outputs": [],
   "metadata": {}
  },
  {
   "cell_type": "code",
   "execution_count": null,
   "source": [
    "## Plots\n",
    "for mock_n in np.random.randint(0, pm_data.shape[1], 20):\n",
    "    pm = pm_data[:,mock_n]\n",
    "    \n",
    "    fig, ax = plt.subplots(figsize = (12, 8))\n",
    "    ax.plot(mock['w_Arr'], mock['SEDs_no_line'][mock_n], c='orange', lw=2, zorder=-1)\n",
    "    ax.errorbar(w_central[:-3], pm[:-3], yerr=errors[:-3], c='gray', fmt='.')\n",
    "    ax.scatter(w_central[nb_c], real_cont_value[mock_n], c='black')\n",
    "\n",
    "    ax.scatter(w_central[-4], pm[-4], c='purple' , marker='s')\n",
    "    ax.scatter(w_central[-3], pm[-3], c='green'  , marker='s')\n",
    "    ax.scatter(w_central[-2], pm[-2], c='red'    , marker='s')\n",
    "    ax.scatter(w_central[-1], pm[-1], c='dimgray', marker='s')\n",
    "\n",
    "    ax.errorbar(w_central[-4], pm[-4],\n",
    "                xerr=bb_fwhm[-4]/2, yerr=errors[-4],\n",
    "                fmt='none', color='purple' , elinewidth=4)\n",
    "    ax.errorbar(w_central[-3], pm[-3], yerr=errors[-3],\n",
    "                xerr=bb_fwhm[-3]/2, fmt='none', color='green'  , elinewidth=4)\n",
    "    ax.errorbar(w_central[-2], pm[-2], yerr=errors[-2],\n",
    "                xerr=bb_fwhm[-2]/2, fmt='none', color='red'    , elinewidth=4)\n",
    "    ax.errorbar(w_central[-1], pm[-1], yerr=errors[-1],\n",
    "                xerr=bb_fwhm[-1]/2, fmt='none', color='dimgray', elinewidth=4)\n",
    "\n",
    "    ax.set_xlabel('$\\lambda\\ (\\AA)$', size=15)\n",
    "    ax.set_ylabel('$f_\\lambda$ (erg cm$^{-2}$ s$^{-1}$ $\\AA^{-1}$)', size=15)\n",
    "\n",
    "    # Fit line\n",
    "    ax.errorbar(w_central[nb_c]+10, cont_est[mock_n], yerr=cont_err[mock_n],\n",
    "                c='violet', marker='^', markersize=9,\n",
    "                capsize=4, label='Stack NBs', elinewidth=2, capthick=2)\n",
    "    \n",
    "    plt.legend()\n",
    "\n",
    "    plt.show()\n",
    "    print(mock['EW_Arr'][mock_n])"
   ],
   "outputs": [],
   "metadata": {}
  },
  {
   "cell_type": "code",
   "execution_count": null,
   "source": [
    "for N_nb in np.arange(1, 11):\n",
    "    nb_c = 26\n",
    "\n",
    "    pm_err = (np.ones(pm_data.shape).T * errors).T\n",
    "    cont_est, cont_err = synthetic_BB_estimation(\n",
    "        pm_data, pm_err, nb_c, N_nb, tcurves['t'], tcurves['w'], w_central\n",
    "        )\n",
    "    real_cont_value, _ = synthetic_BB_estimation(\n",
    "        pm_data_noerr, pm_err, nb_c, 2, tcurves['t'], tcurves['w'], w_central, False\n",
    "        )\n",
    "    \n",
    "    diff = np.abs((cont_est - real_cont_value) / real_cont_value)\n",
    "    print('N = {} | Mean abs diff: {}'.format(N_nb, np.average(diff)))"
   ],
   "outputs": [],
   "metadata": {}
  },
  {
   "cell_type": "code",
   "execution_count": null,
   "source": [
    "for N_nb in np.arange(1, 11):\n",
    "    nb_c = 11\n",
    "\n",
    "    pm_err = (np.ones(pm_data.shape).T * errors).T\n",
    "    cont_est, cont_err = synthetic_BB_estimation(\n",
    "        pm_data, pm_err, nb_c, N_nb, tcurves['t'], tcurves['w'], w_central\n",
    "        )\n",
    "    real_cont_value, _ = synthetic_BB_estimation(\n",
    "        pm_data_noerr, pm_err, nb_c, 2, tcurves['t'], tcurves['w'], w_central, False\n",
    "        )\n",
    "\n",
    "    #### ERROR TESTING ####\n",
    "\n",
    "    N_points = 20\n",
    "    sigma_min = 0.01\n",
    "    sigma_max = 4\n",
    "\n",
    "    sigma_Arr = np.linspace(sigma_min, sigma_max, N_points)\n",
    "    sigma_hist = np.zeros(N_points)\n",
    "\n",
    "    for i in range(N_points):\n",
    "        sigma_hist[i] = len(\n",
    "            np.where(\n",
    "                np.abs(cont_est - real_cont_value) < sigma_Arr[i] * cont_err\n",
    "            )[0]\n",
    "        )\n",
    "\n",
    "    N_sources = pm_data.shape[1]\n",
    "\n",
    "    # Plot the error test\n",
    "    fig, ax =  plt.subplots(figsize = (10,10))\n",
    "\n",
    "    ax.plot(erf(sigma_Arr / 2**0.5), sigma_hist/N_sources, marker='.', linestyle='none')\n",
    "    ax.plot(erf(sigma_Arr / 2**0.5), erf(sigma_Arr / 2**0.5), linestyle='dashed')\n",
    "    ax.plot(erf(sigma_Arr / 2**0.5), np.abs(sigma_hist/N_sources - erf(sigma_Arr / 2**0.5)),\n",
    "    linestyle='dashed', color='dimgray')\n",
    "    \n",
    "\n",
    "    ax.set_ylabel('N / N_sources', fontsize=15)\n",
    "    ax.set_xlabel('$\\sigma$', fontsize=15)\n",
    "\n",
    "    ax.set_title('N = {}'.format(N_nb), fontsize=15)\n",
    "\n",
    "    plt.show()"
   ],
   "outputs": [],
   "metadata": {}
  },
  {
   "cell_type": "code",
   "execution_count": null,
   "source": [],
   "outputs": [],
   "metadata": {}
  }
 ],
 "metadata": {
  "orig_nbformat": 4,
  "language_info": {
   "name": "python",
   "version": "3.9.7",
   "mimetype": "text/x-python",
   "codemirror_mode": {
    "name": "ipython",
    "version": 3
   },
   "pygments_lexer": "ipython3",
   "nbconvert_exporter": "python",
   "file_extension": ".py"
  },
  "kernelspec": {
   "name": "python3",
   "display_name": "Python 3.9.7 64-bit ('py39': conda)"
  },
  "interpreter": {
   "hash": "7575b0615c19929a6803b70fb96802dc113bd8069c0dbfa1f636b20d364f1413"
  }
 },
 "nbformat": 4,
 "nbformat_minor": 2
}