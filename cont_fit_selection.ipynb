{
 "cells": [
  {
   "cell_type": "code",
   "execution_count": null,
   "id": "0cc363ee",
   "metadata": {},
   "outputs": [],
   "source": [
    "import numpy as np\n",
    "import matplotlib.pyplot as plt\n",
    "from my_functions import *"
   ]
  },
  {
   "cell_type": "code",
   "execution_count": null,
   "id": "1b879ced",
   "metadata": {},
   "outputs": [],
   "source": [
    "## Load the catalog\n",
    "cat = load_cat_photoz_gaia('csv/minijpas.flambda_photoz_gaia.csv')"
   ]
  },
  {
   "cell_type": "code",
   "execution_count": null,
   "id": "4f0ec5d1",
   "metadata": {},
   "outputs": [],
   "source": [
    "tcurves = load_tcurves(load_filter_tags())"
   ]
  },
  {
   "cell_type": "code",
   "execution_count": null,
   "id": "de1faba0",
   "metadata": {},
   "outputs": [],
   "source": [
    "# Define the array of the filters we are going to use // gSDSS band\n",
    "nb_ind_arr = [8, 9, 10, 11, 12, 13, 14, 15]\n",
    "bb_ind = -3"
   ]
  },
  {
   "cell_type": "code",
   "execution_count": null,
   "id": "1df2d003",
   "metadata": {},
   "outputs": [],
   "source": [
    "# Function to drop sources\n",
    "def make_masks(cat, nb_ind):\n",
    "    # Mask sources with high photoz odds\n",
    "    mask_pz_odds = cat['odds'] < 0.98\n",
    "    # Mask sources with proper motion according to Gaia (sigma > 3)\n",
    "    parallax_sn = np.abs(cat['parallax'] / cat['parallax_err'])\n",
    "    pmra_sn = np.abs(cat['pmra'] / cat['pmra_err'])\n",
    "    pmdec_sn = np.abs(cat['pmdec'] / cat['pmdec_err'])\n",
    "    mask_pmotion = (\n",
    "        (np.sqrt(parallax_sn**2 + pmra_sn**2 + pmdec_sn**2) < 27.**0.5)\n",
    "        | ( np.isnan(parallax_sn) | np.isnan(pmra_sn) | np.isnan(pmdec_sn) )\n",
    "    )\n",
    "    # Mask sources with SNR < 5 in the selected NB\n",
    "    mask_snr = cat['flx_err'][:,nb_ind] < 0.2\n",
    "    \n",
    "    mask_total = mask_pz_odds & mask_pmotion & mask_snr\n",
    "    return mask_total"
   ]
  },
  {
   "cell_type": "code",
   "execution_count": null,
   "id": "f8d80c31",
   "metadata": {},
   "outputs": [],
   "source": [
    "nb_ind = 13\n",
    "mask = make_masks(cat, nb_ind)\n",
    "pm_flx = cat['flx'][mask] * 1e-19\n",
    "pm_err = cat['flx_err'][mask] * pm_flx\n",
    "fwhm_nb = nb_fwhm(tcurves, nb_ind, True)\n",
    "w_central = np.array(central_wavelength(load_tcurves(load_filter_tags())))\n",
    "N_nb = 9 # Number of nb on each side of the central one\n",
    "line, cf = nbex_cont_estimate(pm_flx, pm_err, nb_ind, w_central, N_nb, 50, fwhm_nb)"
   ]
  },
  {
   "cell_type": "code",
   "execution_count": null,
   "id": "26e9873f",
   "metadata": {},
   "outputs": [],
   "source": [
    "len(np.where(line)[0])"
   ]
  },
  {
   "cell_type": "code",
   "execution_count": null,
   "id": "81454331",
   "metadata": {},
   "outputs": [],
   "source": [
    "bb_fwhm = [\n",
    "    nb_fwhm(tcurves, -4, True),\n",
    "    nb_fwhm(tcurves, -3, True),\n",
    "    nb_fwhm(tcurves, -2, True),\n",
    "    nb_fwhm(tcurves, -1, True)\n",
    "]"
   ]
  },
  {
   "cell_type": "code",
   "execution_count": null,
   "id": "031c2204",
   "metadata": {
    "scrolled": true
   },
   "outputs": [],
   "source": [
    "for i in range(len(line)):\n",
    "    if ~line[i]: continue\n",
    "        \n",
    "    pm = pm_flx[i]\n",
    "    errors = pm_err[i]\n",
    "    cont_fit = cf[i]\n",
    "    \n",
    "    fig, ax = plt.subplots(figsize=(12,9))\n",
    "    ax.scatter(w_central[:-3], pm[:-3])\n",
    "    ax.errorbar(w_central[:-3], pm[:-3], yerr=errors[:-3], fmt='none')\n",
    "    ax.scatter(w_central[nb_ind], pm[nb_ind], c='black')\n",
    "\n",
    "    ax.scatter(w_central[-4], pm[-4], c='purple' , marker='s')\n",
    "    ax.scatter(w_central[-3], pm[-3], c='green'  , marker='s')\n",
    "    ax.scatter(w_central[-2], pm[-2], c='red'    , marker='s')\n",
    "    ax.scatter(w_central[-1], pm[-1], c='dimgray', marker='s')\n",
    "\n",
    "    ax.errorbar(w_central[-4], pm[-4], xerr=bb_fwhm[-4]/2, yerr = errors[-4],\n",
    "                fmt='none', color='purple', elinewidth=4)\n",
    "    ax.errorbar(w_central[-3], pm[-3], xerr=bb_fwhm[-3]/2, yerr = errors[-3],\n",
    "                fmt='none', color='green', elinewidth=4)\n",
    "    ax.errorbar(w_central[-2], pm[-2], xerr=bb_fwhm[-2]/2, yerr = errors[-2],\n",
    "                fmt='none', color='red', elinewidth=4)\n",
    "    ax.errorbar(w_central[-1], pm[-1], xerr=bb_fwhm[-1]/2, yerr = errors[-1],\n",
    "                fmt='none', color='dimgray', elinewidth=4)\n",
    "\n",
    "    ax.set_xlabel('$\\lambda\\ (\\AA)$', size=15)\n",
    "    ax.set_ylabel('$f_\\lambda$ (erg cm$^{-2}$ s$^{-1}$ $\\AA^{-1}$)', size=15)\n",
    "\n",
    "    # Fit line\n",
    "    w_fit_min = w_central[nb_ind - N_nb]\n",
    "    w_fit_max = w_central[nb_ind + N_nb]\n",
    "    x_fit = np.linspace(w_fit_min, w_fit_max, 1000)\n",
    "    y_fit = cont_fit[1] + cont_fit[0]*x_fit\n",
    "    ax.plot(x_fit,y_fit, c='orange', linestyle='dashed', linewidth=3)\n",
    "    \n",
    "    print(cat['number'][mask][i])\n",
    "    \n",
    "    plt.show()"
   ]
  },
  {
   "cell_type": "code",
   "execution_count": null,
   "id": "3095e97a",
   "metadata": {},
   "outputs": [],
   "source": []
  }
 ],
 "metadata": {
  "kernelspec": {
   "display_name": "Python 3",
   "language": "python",
   "name": "python3"
  },
  "language_info": {
   "codemirror_mode": {
    "name": "ipython",
    "version": 3
   },
   "file_extension": ".py",
   "mimetype": "text/x-python",
   "name": "python",
   "nbconvert_exporter": "python",
   "pygments_lexer": "ipython3",
   "version": "3.8.10"
  }
 },
 "nbformat": 4,
 "nbformat_minor": 5
}
