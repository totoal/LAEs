{
 "cells": [
  {
   "cell_type": "code",
   "execution_count": null,
   "id": "0cc363ee",
   "metadata": {},
   "outputs": [],
   "source": [
    "import numpy as np\n",
    "import matplotlib.pyplot as plt\n",
    "from my_functions import *\n",
    "import pickle as pkl\n",
    "from three_filter import three_filter_method\n",
    "from time import time"
   ]
  },
  {
   "cell_type": "code",
   "execution_count": null,
   "id": "1b879ced",
   "metadata": {},
   "outputs": [],
   "source": [
    "## Load the catalog\n",
    "with open('pkl/cat_flambda_photoz_gaia.pkl', 'rb') as file:\n",
    "    cat = pkl.load(file)"
   ]
  },
  {
   "cell_type": "code",
   "execution_count": null,
   "id": "4f0ec5d1",
   "metadata": {},
   "outputs": [],
   "source": [
    "tcurves = load_tcurves(load_filter_tags())"
   ]
  },
  {
   "cell_type": "code",
   "execution_count": null,
   "id": "de1faba0",
   "metadata": {},
   "outputs": [],
   "source": [
    "# Define the array of the filters we are going to use // gSDSS band\n",
    "nb_ind_arr = [8, 9, 10, 11, 12, 13, 14, 15]\n",
    "bb_ind = -3"
   ]
  },
  {
   "cell_type": "code",
   "execution_count": null,
   "id": "1df2d003",
   "metadata": {},
   "outputs": [],
   "source": [
    "# Function to drop sources\n",
    "def make_masks(cat, nb_ind):\n",
    "    # Mask sources with high photoz odds\n",
    "    mask_pz_odds = cat['odds'] < 0.98\n",
    "    # Mask sources with proper motion according to Gaia (sigma > 3)\n",
    "    parallax_sn = np.abs(cat['parallax'] / cat['parallax_err'])\n",
    "    pmra_sn = np.abs(cat['pmra'] / cat['pmra_err'])\n",
    "    pmdec_sn = np.abs(cat['pmdec'] / cat['pmdec_err'])\n",
    "    mask_pmotion = (\n",
    "        (np.sqrt(parallax_sn**2 + pmra_sn**2 + pmdec_sn**2) < 27.**0.5)\n",
    "        | ( np.isnan(parallax_sn) | np.isnan(pmra_sn) | np.isnan(pmdec_sn) )\n",
    "    )\n",
    "    # Mask sources with SNR < 5 in the selected NB\n",
    "    mask_snr = cat['flx_err'][:,nb_ind] < 0.2\n",
    "    # Mask too bright gSDSS\n",
    "    mask_b = cat['flx'][:, -3] > mag_to_flux(15, 4750)\n",
    "    \n",
    "    mask_total = mask_pz_odds & mask_pmotion & mask_snr\n",
    "    return mask_total"
   ]
  },
  {
   "cell_type": "code",
   "execution_count": null,
   "id": "67bbb000",
   "metadata": {},
   "outputs": [],
   "source": [
    "# The model function\n",
    "def model_f(x, m, b):\n",
    "    return m*x + b"
   ]
  },
  {
   "cell_type": "code",
   "execution_count": null,
   "id": "f8d80c31",
   "metadata": {},
   "outputs": [],
   "source": [
    "nb_ind = 11\n",
    "mask = make_masks(cat, nb_ind)\n",
    "pm_flx = cat['flx'][mask] * 1e-19\n",
    "pm_err = cat['flx_err'][mask] * pm_flx\n",
    "filters_tags = load_filter_tags()\n",
    "fwhm_nb = nb_fwhm(tcurves, nb_ind, True)\n",
    "nb_fwhm_Arr = [nb_fwhm(tcurves, idx, True) for idx in np.arange(len(filters_tags))]\n",
    "w_central = np.array(central_wavelength(load_tcurves(load_filter_tags())))\n",
    "N_nb = 6 # Number of nb on each side of the central one\n",
    "ew0min = 50\n",
    "\n",
    "cont_stack, cont_err_stack = stack_estimation(pm_flx.T, pm_err.T, nb_ind, N_nb, w_central, nb_fwhm_Arr, ew0min)\n",
    "_, cf, cont_err_fit = nbex_cont_estimate(model_f, pm_flx, pm_err, nb_ind, w_central, N_nb, ew0min, fwhm_nb)"
   ]
  },
  {
   "cell_type": "code",
   "execution_count": null,
   "id": "1c53c0f3",
   "metadata": {},
   "outputs": [],
   "source": [
    "# 3-filter\n",
    "N_sources = pm_flx.shape[0]\n",
    "A = np.zeros(N_sources)\n",
    "B = np.zeros(N_sources)\n",
    "A_err = np.zeros(N_sources)\n",
    "B_err = np.zeros(N_sources)\n",
    "\n",
    "t0 = time()\n",
    "\n",
    "for i in range(N_sources):\n",
    "    print('{}/{}'.format(i+1, N_sources), end='\\r')\n",
    "    NB = pm_flx[i, nb_ind]\n",
    "    BB_LC = pm_flx[i, -3]\n",
    "    BB_LU = pm_flx[i, -2]\n",
    "    NB_err = pm_err[i, nb_ind]\n",
    "    BB_LC_err = pm_err[i, -3]\n",
    "    BB_LU_err = pm_err[i, -2]\n",
    "    t_NB = np.array(tcurves['t'][nb_ind])\n",
    "    w_NB = np.array(tcurves['w'][nb_ind])\n",
    "    t_LC = np.array(tcurves['t'][-3])\n",
    "    w_LC = np.array(tcurves['w'][-3])\n",
    "    t_LU = np.array(tcurves['t'][-2])\n",
    "    w_LU = np.array(tcurves['w'][-2])\n",
    "    w_EL = np.array(w_central[nb_ind])\n",
    "    _, A[i], B[i], A_err[i], B_err[i] = three_filter_method(\n",
    "        NB, BB_LC, BB_LU,\n",
    "        NB_err, BB_LC_err, BB_LU_err,\n",
    "        t_NB, w_NB,\n",
    "        t_LC, t_LU, w_LC, w_LU,\n",
    "        w_EL\n",
    "    )\n",
    "tf_err = (B_err**2 + A**2 * A_err**2)**0.5\n",
    "t1 = time()\n",
    "print('Elapsed: {} s'.format(t1-t0))"
   ]
  },
  {
   "cell_type": "code",
   "execution_count": null,
   "id": "26e9873f",
   "metadata": {},
   "outputs": [],
   "source": [
    "z = 1215.67 / w_central[nb_ind] - 1\n",
    "ew = ew0min*(1 + z)\n",
    "line = pm_flx[:, nb_ind] - cont_stack - (ew * cont_stack) / fwhm_nb\\\n",
    "            > 3 * (cont_err_stack**2 + pm_err[:, nb_ind]**2)**0.5\n",
    "\n",
    "len(np.where(line)[0])"
   ]
  },
  {
   "cell_type": "code",
   "execution_count": null,
   "id": "81454331",
   "metadata": {},
   "outputs": [],
   "source": [
    "bb_fwhm = [\n",
    "    nb_fwhm(tcurves, -4, True),\n",
    "    nb_fwhm(tcurves, -3, True),\n",
    "    nb_fwhm(tcurves, -2, True),\n",
    "    nb_fwhm(tcurves, -1, True)\n",
    "]"
   ]
  },
  {
   "cell_type": "code",
   "execution_count": null,
   "id": "031c2204",
   "metadata": {
    "scrolled": true
   },
   "outputs": [],
   "source": [
    "j = 0\n",
    "for i in range(len(line)):\n",
    "    if ~line[i]: continue\n",
    "    j += 1\n",
    "    if j > 20: break\n",
    "        \n",
    "    pm = pm_flx[i]\n",
    "    errors = pm_err[i]\n",
    "    cont_fit = cf[i]\n",
    "    fit_err = cont_err_fit[i]\n",
    "    \n",
    "    fig, ax = plt.subplots(figsize=(12,9))\n",
    "    ax.errorbar(w_central[:-3], pm[:-3], yerr=errors[:-3], fmt='.', c='gray')\n",
    "    ax.scatter(w_central[nb_ind], pm[nb_ind], c='black')\n",
    "\n",
    "    ax.scatter(w_central[-4], pm[-4], c='purple' , marker='s')\n",
    "    ax.scatter(w_central[-3], pm[-3], c='green'  , marker='s')\n",
    "    ax.scatter(w_central[-2], pm[-2], c='red'    , marker='s')\n",
    "    ax.scatter(w_central[-1], pm[-1], c='dimgray', marker='s')\n",
    "\n",
    "    ax.errorbar(w_central[-4], pm[-4], xerr=bb_fwhm[-4]/2, yerr = errors[-4],\n",
    "                fmt='none', color='purple', elinewidth=4)\n",
    "    ax.errorbar(w_central[-3], pm[-3], xerr=bb_fwhm[-3]/2, yerr = errors[-3],\n",
    "                fmt='none', color='green', elinewidth=4)\n",
    "    ax.errorbar(w_central[-2], pm[-2], xerr=bb_fwhm[-2]/2, yerr = errors[-2],\n",
    "                fmt='none', color='red', elinewidth=4)\n",
    "    ax.errorbar(w_central[-1], pm[-1], xerr=bb_fwhm[-1]/2, yerr = errors[-1],\n",
    "                fmt='none', color='dimgray', elinewidth=4)\n",
    "\n",
    "    ax.set_xlabel('$\\lambda\\ (\\AA)$', size=15)\n",
    "    ax.set_ylabel('$f_\\lambda$ (erg cm$^{-2}$ s$^{-1}$ $\\AA^{-1}$)', size=15)\n",
    "\n",
    "    # Fit line\n",
    "    ax.errorbar(w_central[nb_ind]+10, cont_stack[i], yerr=cont_err_stack[i],\n",
    "                c='violet', marker='^', markersize=9,\n",
    "                capsize=4, label='Stack NBs', elinewidth=2, capthick=2)\n",
    "    \n",
    "    cont_fit_value = cf[i, 1] + cf[i, 0]*w_central[nb_ind]\n",
    "    ax.plot(np.linspace(4000,6000,1000)+20,\n",
    "            cf[i, 1] + cf[i, 0]*np.linspace(4000,6000,1000),\n",
    "            c='saddlebrown', linestyle='dashed')\n",
    "    ax.errorbar(w_central[nb_ind]+20, cont_fit_value, yerr=cont_err_fit[i],\n",
    "                c='saddlebrown', marker='*', markersize=9,\n",
    "                capsize=4, label='Linear fit', elinewidth=2, capthick=2)\n",
    "    \n",
    "    cont_fit_value_3 = B[i] + A[i]*w_central[nb_ind]\n",
    "    ax.plot(np.linspace(4000,6000,1000)+40,\n",
    "            B[i] + A[i]*np.linspace(4000,6000,1000),\n",
    "            c='slateblue', linestyle='dashed')\n",
    "    ax.errorbar(w_central[nb_ind] + 40, cont_fit_value_3, yerr=tf_err[i],\n",
    "                c='slateblue', marker='*', markersize=9,\n",
    "                capsize=4, label='3-filter', elinewidth=2, capthick=2)\n",
    "    \n",
    "    plt.legend()\n",
    "    \n",
    "    print(cat['number'][mask][i])\n",
    "    \n",
    "    plt.show()"
   ]
  }
 ],
 "metadata": {
  "kernelspec": {
   "display_name": "Python 3",
   "language": "python",
   "name": "python3"
  },
  "language_info": {
   "codemirror_mode": {
    "name": "ipython",
    "version": 3
   },
   "file_extension": ".py",
   "mimetype": "text/x-python",
   "name": "python",
   "nbconvert_exporter": "python",
   "pygments_lexer": "ipython3",
   "version": "3.8.10"
  }
 },
 "nbformat": 4,
 "nbformat_minor": 5
}
